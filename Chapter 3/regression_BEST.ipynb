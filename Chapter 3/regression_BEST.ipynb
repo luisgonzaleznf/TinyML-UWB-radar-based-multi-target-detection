{
 "cells": [
  {
   "cell_type": "code",
   "execution_count": 27,
   "metadata": {
    "scrolled": true
   },
   "outputs": [],
   "source": [
    "import os\n",
    "import numpy as np\n",
    "import json\n",
    "import pandas as pd\n",
    "import ast\n",
    "import scipy\n",
    "import math\n",
    "\n",
    "import matplotlib.pyplot as plt\n",
    "import matplotlib\n",
    "import seaborn as sns\n",
    "\n",
    "from sklearn.model_selection import LeaveOneOut\n",
    "from sklearn.model_selection import KFold\n",
    "\n",
    "import tensorflow as tf\n",
    "from tensorflow.keras.models import load_model, Model\n",
    "\n",
    "gpus = tf.config.experimental.list_physical_devices('GPU')\n",
    "for gpu in gpus:\n",
    "    tf.config.experimental.set_memory_growth(gpu, True)\n",
    "    \n",
    "from os import walk\n",
    "import json\n",
    "\n",
    "cwd = os.getcwd()"
   ]
  },
  {
   "cell_type": "code",
   "execution_count": 2,
   "metadata": {},
   "outputs": [
    {
     "name": "stdout",
     "output_type": "stream",
     "text": [
      "Num GPUs Available:  1\n"
     ]
    }
   ],
   "source": [
    "print(\"Num GPUs Available: \", len(tf.config.list_physical_devices('GPU')))"
   ]
  },
  {
   "cell_type": "markdown",
   "metadata": {},
   "source": [
    "## Dataframe loading"
   ]
  },
  {
   "cell_type": "code",
   "execution_count": 3,
   "metadata": {},
   "outputs": [],
   "source": [
    "#LOAD 516 DATASET FOR FIRST TRAINING AND VALIDATION\n",
    "dataframe_name = \"dataframe516\"\n",
    "pkl_path = f\"./pickle/{dataframe_name}.pkl\"\n",
    "df = pd.read_pickle(pkl_path)"
   ]
  },
  {
   "cell_type": "code",
   "execution_count": 4,
   "metadata": {},
   "outputs": [],
   "source": [
    "#DEFINE FUNCTIONS FOR SELECTING PARTS OF THE DATASET REGARDING DIFFERENT CONFIGURATIONS OF OCCUPANTS\n",
    "\n",
    "#select only data that have on seat1 a children or empty\n",
    "def select_only_children_on_seat1(df):\n",
    "    select_df = df.copy()\n",
    "    select_df = select_df[(select_df[\"seat1\"] == \"toddler\") | (select_df[\"seat1\"] == \"baby\") | (select_df[\"seat1\"] == \"none\")]\n",
    "    return select_df\n",
    "\n",
    "#select only data that have one ore more pets alone in the back seats (OR NONE)\n",
    "def select_only_pet(df):\n",
    "    select_df = df.copy()\n",
    "    select_df = select_df[((select_df[\"seat1\"] == \"pet\") & (select_df[\"seat2\"] == \"none\") & (select_df[\"seat3\"] == \"none\")) \n",
    "                          | ((select_df[\"seat1\"] == \"none\") & (select_df[\"seat2\"] == \"pet\") & (select_df[\"seat3\"] == \"none\")) \n",
    "                          | ((select_df[\"seat1\"] == \"none\") & (select_df[\"seat2\"] == \"none\") & (select_df[\"seat3\"] == \"pet\"))\n",
    "                          | ((select_df[\"seat1\"] == \"pet\") & (select_df[\"seat2\"] == \"pet\") & (select_df[\"seat3\"] == \"none\"))\n",
    "                          | ((select_df[\"seat1\"] == \"none\") & (select_df[\"seat2\"] == \"pet\") & (select_df[\"seat3\"] == \"pet\"))\n",
    "                          | ((select_df[\"seat1\"] == \"pet\") & (select_df[\"seat2\"] == \"none\") & (select_df[\"seat3\"] == \"pet\"))\n",
    "                          | ((select_df[\"seat1\"] == \"pet\") & (select_df[\"seat2\"] == \"pet\") & (select_df[\"seat3\"] == \"pet\"))\n",
    "                          | ((select_df[\"seat1\"] == \"none\") & (select_df[\"seat2\"] == \"none\") & (select_df[\"seat3\"] == \"none\"))]\n",
    "    return select_df\n",
    "\n",
    "#select only data that have only one target, adult or toddler, in the back seats (OR NONE)\n",
    "def select_only_single(df):\n",
    "    select_df = df.copy()\n",
    "    select_df = select_df[((select_df[\"seat1\"] == \"adult\") & (select_df[\"seat2\"] == \"none\") & (select_df[\"seat3\"] == \"none\")) \n",
    "                          | ((select_df[\"seat1\"] == \"none\") & (select_df[\"seat2\"] == \"adult\") & (select_df[\"seat3\"] == \"none\")) \n",
    "                          | ((select_df[\"seat1\"] == \"none\") & (select_df[\"seat3\"] == \"adult\") & (select_df[\"seat2\"] == \"none\"))\n",
    "                          | ((select_df[\"seat1\"] == \"toddler\") & (select_df[\"seat2\"] == \"none\") & (select_df[\"seat3\"] == \"none\")) \n",
    "                          | ((select_df[\"seat1\"] == \"none\") & (select_df[\"seat2\"] == \"toddler\") & (select_df[\"seat3\"] == \"none\")) \n",
    "                          | ((select_df[\"seat1\"] == \"none\") & (select_df[\"seat3\"] == \"toddler\") & (select_df[\"seat2\"] == \"none\"))\n",
    "                          | ((select_df[\"seat1\"] == \"none\") & (select_df[\"seat3\"] == \"none\") & (select_df[\"seat2\"] == \"none\"))]\n",
    "    return select_df\n",
    "\n",
    "#select only data that have only one target, adult or toddler, in the back seats. (NO NONE) (LUIS)\n",
    "def select_only_single_true(df):\n",
    "    select_df = df.copy()\n",
    "    select_df = select_df[((select_df[\"seat1\"] == \"adult\") & (select_df[\"seat2\"] == \"none\") & (select_df[\"seat3\"] == \"none\")) \n",
    "                          | ((select_df[\"seat1\"] == \"none\") & (select_df[\"seat2\"] == \"adult\") & (select_df[\"seat3\"] == \"none\")) \n",
    "                          | ((select_df[\"seat1\"] == \"none\") & (select_df[\"seat3\"] == \"adult\") & (select_df[\"seat2\"] == \"none\"))\n",
    "                          | ((select_df[\"seat1\"] == \"toddler\") & (select_df[\"seat2\"] == \"none\") & (select_df[\"seat3\"] == \"none\")) \n",
    "                          | ((select_df[\"seat1\"] == \"none\") & (select_df[\"seat2\"] == \"toddler\") & (select_df[\"seat3\"] == \"none\")) \n",
    "                          | ((select_df[\"seat1\"] == \"none\") & (select_df[\"seat3\"] == \"toddler\") & (select_df[\"seat2\"] == \"none\"))]\n",
    "    return select_df\n",
    "\n",
    "#select only data that have one ore more adults alone in the back seats (OR NONE) (LUIS)\n",
    "def select_only_adult(df):\n",
    "    select_df = df.copy()\n",
    "    select_df = select_df[((select_df[\"seat1\"] == \"adult\") & (select_df[\"seat2\"] == \"none\") & (select_df[\"seat3\"] == \"none\")) \n",
    "                          | ((select_df[\"seat1\"] == \"none\") & (select_df[\"seat2\"] == \"adult\") & (select_df[\"seat3\"] == \"none\")) \n",
    "                          | ((select_df[\"seat1\"] == \"none\") & (select_df[\"seat2\"] == \"none\") & (select_df[\"seat3\"] == \"adult\"))\n",
    "                          | ((select_df[\"seat1\"] == \"adult\") & (select_df[\"seat2\"] == \"adult\") & (select_df[\"seat3\"] == \"none\"))\n",
    "                          | ((select_df[\"seat1\"] == \"none\") & (select_df[\"seat2\"] == \"adult\") & (select_df[\"seat3\"] == \"adult\"))\n",
    "                          | ((select_df[\"seat1\"] == \"adult\") & (select_df[\"seat2\"] == \"none\") & (select_df[\"seat3\"] == \"adult\"))\n",
    "                          | ((select_df[\"seat1\"] == \"adult\") & (select_df[\"seat2\"] == \"adult\") & (select_df[\"seat3\"] == \"adult\"))\n",
    "                          | ((select_df[\"seat1\"] == \"none\") & (select_df[\"seat2\"] == \"none\") & (select_df[\"seat3\"] == \"none\"))]\n",
    "    return select_df"
   ]
  },
  {
   "cell_type": "code",
   "execution_count": 5,
   "metadata": {},
   "outputs": [],
   "source": [
    "#DEFINE FUNCTIONS FOR ASSIGNING OCCUPANTS\n",
    "\n",
    "#assign occupations status of seats\n",
    "def assign_occupations(df):\n",
    "    for seat_number in range(1,4):\n",
    "        occ_seat = []\n",
    "        seat = 'seat' + str(seat_number)\n",
    "        for x in df[seat]:\n",
    "            if x != 'none':\n",
    "                occ_seat.append(1)\n",
    "            else:\n",
    "                occ_seat.append(0)\n",
    "        df['class' + str(seat_number)] = occ_seat\n",
    "\n",
    "#DEFINE PRESENCE AS AT LEAST 1 SEAT OCCUPIED\n",
    "def assign_presence(df):\n",
    "    presences = []\n",
    "    for index, row in df.iterrows():\n",
    "        presence = row['class1'] or row['class2'] or row['class3']\n",
    "        presences.append(presence)\n",
    "    df['presence'] = presences\n",
    "\n",
    "#ASSING NUMBER OF OCCUPANTS (LUIS)\n",
    "def assign_occupants(df):\n",
    "    occupants = []\n",
    "    for index, row in df.iterrows():\n",
    "        count = 0\n",
    "        count = row['class1'] + row['class2'] + row['class3']\n",
    "        occupants.append(count)\n",
    "    df['occupants'] = occupants"
   ]
  },
  {
   "cell_type": "code",
   "execution_count": 6,
   "metadata": {},
   "outputs": [
    {
     "data": {
      "text/html": [
       "<div>\n",
       "<style scoped>\n",
       "    .dataframe tbody tr th:only-of-type {\n",
       "        vertical-align: middle;\n",
       "    }\n",
       "\n",
       "    .dataframe tbody tr th {\n",
       "        vertical-align: top;\n",
       "    }\n",
       "\n",
       "    .dataframe thead th {\n",
       "        text-align: right;\n",
       "    }\n",
       "</style>\n",
       "<table border=\"1\" class=\"dataframe\">\n",
       "  <thead>\n",
       "    <tr style=\"text-align: right;\">\n",
       "      <th></th>\n",
       "      <th>Id</th>\n",
       "      <th>deviceSerial</th>\n",
       "      <th>fWversion</th>\n",
       "      <th>batteryLevel</th>\n",
       "      <th>hWversion</th>\n",
       "      <th>rawData</th>\n",
       "      <th>fftData</th>\n",
       "      <th>SW Version</th>\n",
       "      <th>seat1</th>\n",
       "      <th>seat2</th>\n",
       "      <th>...</th>\n",
       "      <th>vehicle</th>\n",
       "      <th>temperature</th>\n",
       "      <th>accX</th>\n",
       "      <th>accY</th>\n",
       "      <th>accZ</th>\n",
       "      <th>createdAt</th>\n",
       "      <th>class1</th>\n",
       "      <th>class2</th>\n",
       "      <th>class3</th>\n",
       "      <th>occupants</th>\n",
       "    </tr>\n",
       "  </thead>\n",
       "  <tbody>\n",
       "    <tr>\n",
       "      <th>0</th>\n",
       "      <td>090cu2xvt8o7Gmx9sMFx</td>\n",
       "      <td>2</td>\n",
       "      <td>1.0</td>\n",
       "      <td>100</td>\n",
       "      <td>1.2</td>\n",
       "      <td>{\"real\":[[0,0,0,0,0,0,0,0,0,0,0,0,0,0,0,0,0,0,...</td>\n",
       "      <td>[[-105.87874280268608, -102.26725079789395, -1...</td>\n",
       "      <td>NaN</td>\n",
       "      <td>none</td>\n",
       "      <td>none</td>\n",
       "      <td>...</td>\n",
       "      <td>FYMCwQblEjJrCt5S9KDV</td>\n",
       "      <td>None</td>\n",
       "      <td>None</td>\n",
       "      <td>None</td>\n",
       "      <td>None</td>\n",
       "      <td>{'_seconds': 1603708000, '_nanoseconds': 54000...</td>\n",
       "      <td>0</td>\n",
       "      <td>0</td>\n",
       "      <td>1</td>\n",
       "      <td>1</td>\n",
       "    </tr>\n",
       "    <tr>\n",
       "      <th>1</th>\n",
       "      <td>0bv8HBSz1AHA8Mhp5qLm</td>\n",
       "      <td>2</td>\n",
       "      <td>1.0</td>\n",
       "      <td>100</td>\n",
       "      <td>1.2</td>\n",
       "      <td>{\"real\":[[0,0,0,0,0,0,0,0,0,0,0,0,0,0,0,0,0,0,...</td>\n",
       "      <td>[[-103.23020764266907, -100.18002761432678, -1...</td>\n",
       "      <td>NaN</td>\n",
       "      <td>toddler</td>\n",
       "      <td>adult</td>\n",
       "      <td>...</td>\n",
       "      <td>4GImmlvjC676xXRyFECn</td>\n",
       "      <td>None</td>\n",
       "      <td>None</td>\n",
       "      <td>None</td>\n",
       "      <td>None</td>\n",
       "      <td>{'_seconds': 1607352646, '_nanoseconds': 12600...</td>\n",
       "      <td>1</td>\n",
       "      <td>1</td>\n",
       "      <td>1</td>\n",
       "      <td>3</td>\n",
       "    </tr>\n",
       "    <tr>\n",
       "      <th>2</th>\n",
       "      <td>19xTU1eBTiK4mBieg8T2</td>\n",
       "      <td>2</td>\n",
       "      <td>1.0</td>\n",
       "      <td>100</td>\n",
       "      <td>1.2</td>\n",
       "      <td>{\"real\":[[0,0,0,0,0,0,0,0,0,0,0,0,0,0,0,0,0,0,...</td>\n",
       "      <td>[[-107.26817809590841, -103.572805055402, -110...</td>\n",
       "      <td>NaN</td>\n",
       "      <td>pet</td>\n",
       "      <td>none</td>\n",
       "      <td>...</td>\n",
       "      <td>4GImmlvjC676xXRyFECn</td>\n",
       "      <td>None</td>\n",
       "      <td>None</td>\n",
       "      <td>None</td>\n",
       "      <td>None</td>\n",
       "      <td>{'_seconds': 1604935813, '_nanoseconds': 52500...</td>\n",
       "      <td>1</td>\n",
       "      <td>0</td>\n",
       "      <td>1</td>\n",
       "      <td>2</td>\n",
       "    </tr>\n",
       "    <tr>\n",
       "      <th>3</th>\n",
       "      <td>1eEVvANdi96NtzXSDT1C</td>\n",
       "      <td>2</td>\n",
       "      <td>1.0</td>\n",
       "      <td>100</td>\n",
       "      <td>1.2</td>\n",
       "      <td>{\"real\":[[0,0,0,0,0,0,0,0,0,0,0,0,0,0,0,0,0,0,...</td>\n",
       "      <td>[[-108.10489947686006, -105.49311958297311, -1...</td>\n",
       "      <td>NaN</td>\n",
       "      <td>none</td>\n",
       "      <td>pet</td>\n",
       "      <td>...</td>\n",
       "      <td>4GImmlvjC676xXRyFECn</td>\n",
       "      <td>None</td>\n",
       "      <td>None</td>\n",
       "      <td>None</td>\n",
       "      <td>None</td>\n",
       "      <td>{'_seconds': 1604936210, '_nanoseconds': 91100...</td>\n",
       "      <td>0</td>\n",
       "      <td>1</td>\n",
       "      <td>0</td>\n",
       "      <td>1</td>\n",
       "    </tr>\n",
       "    <tr>\n",
       "      <th>4</th>\n",
       "      <td>2EttR31aXRBWqx8dRzgq</td>\n",
       "      <td>2</td>\n",
       "      <td>1.0</td>\n",
       "      <td>100</td>\n",
       "      <td>1.2</td>\n",
       "      <td>{\"real\":[[0,0,0,0,0,0,0,0,0,0,0,0,0,0,0,0,0,0,...</td>\n",
       "      <td>[[-117.84473965177918, -105.55119981094282, -1...</td>\n",
       "      <td>NaN</td>\n",
       "      <td>toddler</td>\n",
       "      <td>baby</td>\n",
       "      <td>...</td>\n",
       "      <td>4GImmlvjC676xXRyFECn</td>\n",
       "      <td>None</td>\n",
       "      <td>None</td>\n",
       "      <td>None</td>\n",
       "      <td>None</td>\n",
       "      <td>{'_seconds': 1607771892, '_nanoseconds': 46000...</td>\n",
       "      <td>1</td>\n",
       "      <td>1</td>\n",
       "      <td>0</td>\n",
       "      <td>2</td>\n",
       "    </tr>\n",
       "    <tr>\n",
       "      <th>...</th>\n",
       "      <td>...</td>\n",
       "      <td>...</td>\n",
       "      <td>...</td>\n",
       "      <td>...</td>\n",
       "      <td>...</td>\n",
       "      <td>...</td>\n",
       "      <td>...</td>\n",
       "      <td>...</td>\n",
       "      <td>...</td>\n",
       "      <td>...</td>\n",
       "      <td>...</td>\n",
       "      <td>...</td>\n",
       "      <td>...</td>\n",
       "      <td>...</td>\n",
       "      <td>...</td>\n",
       "      <td>...</td>\n",
       "      <td>...</td>\n",
       "      <td>...</td>\n",
       "      <td>...</td>\n",
       "      <td>...</td>\n",
       "      <td>...</td>\n",
       "    </tr>\n",
       "    <tr>\n",
       "      <th>473</th>\n",
       "      <td>z6yKyTEjlNMoFUpBlCxg</td>\n",
       "      <td>0.8.0.0</td>\n",
       "      <td>None</td>\n",
       "      <td>100</td>\n",
       "      <td>1.0</td>\n",
       "      <td>{\"real\":[[0,0,0,0,0,0,0,0,0,0,0,0,0,0,0,0,0,0,...</td>\n",
       "      <td>[[-74.87174084241651, -70.40210124639611, -77....</td>\n",
       "      <td>NaN</td>\n",
       "      <td>none</td>\n",
       "      <td>none</td>\n",
       "      <td>...</td>\n",
       "      <td>emS4JG4Hp2H8d2Ab4ofV</td>\n",
       "      <td>None</td>\n",
       "      <td>-0.936</td>\n",
       "      <td>-0.072</td>\n",
       "      <td>-0.156</td>\n",
       "      <td>{'_seconds': 1636904824, '_nanoseconds': 43000...</td>\n",
       "      <td>0</td>\n",
       "      <td>0</td>\n",
       "      <td>1</td>\n",
       "      <td>1</td>\n",
       "    </tr>\n",
       "    <tr>\n",
       "      <th>474</th>\n",
       "      <td>zBzfzVgNdiH5EHoPWPjz</td>\n",
       "      <td>0.8.0.0</td>\n",
       "      <td>None</td>\n",
       "      <td>100</td>\n",
       "      <td>1.0</td>\n",
       "      <td>{\"real\":[[0,0,0,0,0,0,0,0,0,0,0,0,0,0,0,0,0,0,...</td>\n",
       "      <td>[[-68.41237424396255, -65.80510348327765, -79....</td>\n",
       "      <td>NaN</td>\n",
       "      <td>baby</td>\n",
       "      <td>none</td>\n",
       "      <td>...</td>\n",
       "      <td>6a9YEoNDIb7J4j5yNXVc</td>\n",
       "      <td>None</td>\n",
       "      <td>-0.676</td>\n",
       "      <td>-0.172</td>\n",
       "      <td>-0.58</td>\n",
       "      <td>{'_seconds': 1636898959, '_nanoseconds': 98800...</td>\n",
       "      <td>1</td>\n",
       "      <td>0</td>\n",
       "      <td>0</td>\n",
       "      <td>1</td>\n",
       "    </tr>\n",
       "    <tr>\n",
       "      <th>475</th>\n",
       "      <td>zHvZrXdGjZB73NoeNGOT</td>\n",
       "      <td>0.8.0.0</td>\n",
       "      <td>None</td>\n",
       "      <td>100</td>\n",
       "      <td>1.0</td>\n",
       "      <td>{\"real\":[[0,0,0,0,0,0,0,0,0,0,0,0,0,0,0,0,0,0,...</td>\n",
       "      <td>[[-86.55813594069244, -77.12291636247366, -78....</td>\n",
       "      <td>NaN</td>\n",
       "      <td>adult</td>\n",
       "      <td>none</td>\n",
       "      <td>...</td>\n",
       "      <td>X1ILHgwtdueiSTYr8XdK</td>\n",
       "      <td>None</td>\n",
       "      <td>-0.896</td>\n",
       "      <td>-0.156</td>\n",
       "      <td>-0.292</td>\n",
       "      <td>{'_seconds': 1636483781, '_nanoseconds': 19300...</td>\n",
       "      <td>1</td>\n",
       "      <td>0</td>\n",
       "      <td>0</td>\n",
       "      <td>1</td>\n",
       "    </tr>\n",
       "    <tr>\n",
       "      <th>476</th>\n",
       "      <td>zII9nav2JaUQCyxzLKy5</td>\n",
       "      <td>0.8.0.0</td>\n",
       "      <td>None</td>\n",
       "      <td>100</td>\n",
       "      <td>1.0</td>\n",
       "      <td>{\"real\":[[0,0,0,0,0,0,0,0,0,0,0,0,0,0,0,0,0,0,...</td>\n",
       "      <td>[[-89.49105064688271, -86.80552730271502, -95....</td>\n",
       "      <td>NaN</td>\n",
       "      <td>none</td>\n",
       "      <td>none</td>\n",
       "      <td>...</td>\n",
       "      <td>HAETRoo2NZj9oKG8JBAB</td>\n",
       "      <td>None</td>\n",
       "      <td>1.06</td>\n",
       "      <td>0.132</td>\n",
       "      <td>0.504</td>\n",
       "      <td>{'_seconds': 1620400379, '_nanoseconds': 62000...</td>\n",
       "      <td>0</td>\n",
       "      <td>0</td>\n",
       "      <td>0</td>\n",
       "      <td>0</td>\n",
       "    </tr>\n",
       "    <tr>\n",
       "      <th>477</th>\n",
       "      <td>zZNHJm0aBsJjAiNuAVoi</td>\n",
       "      <td>0.8.0.0</td>\n",
       "      <td>1</td>\n",
       "      <td>100</td>\n",
       "      <td>1.0</td>\n",
       "      <td>{\"real\":[[0,0,0,0,0,0,0,0,0,0,0,0,0,0,0,0,0,0,...</td>\n",
       "      <td>[[-98.65451677423928, -91.73755589282831, -102...</td>\n",
       "      <td>NaN</td>\n",
       "      <td>none</td>\n",
       "      <td>none</td>\n",
       "      <td>...</td>\n",
       "      <td>4GImmlvjC676xXRyFECn</td>\n",
       "      <td>None</td>\n",
       "      <td>0.648</td>\n",
       "      <td>0.008</td>\n",
       "      <td>-0.688</td>\n",
       "      <td>{'_seconds': 1624128012, '_nanoseconds': 29500...</td>\n",
       "      <td>0</td>\n",
       "      <td>0</td>\n",
       "      <td>0</td>\n",
       "      <td>0</td>\n",
       "    </tr>\n",
       "  </tbody>\n",
       "</table>\n",
       "<p>478 rows × 21 columns</p>\n",
       "</div>"
      ],
      "text/plain": [
       "                       Id deviceSerial fWversion batteryLevel hWversion  \\\n",
       "0    090cu2xvt8o7Gmx9sMFx            2       1.0          100       1.2   \n",
       "1    0bv8HBSz1AHA8Mhp5qLm            2       1.0          100       1.2   \n",
       "2    19xTU1eBTiK4mBieg8T2            2       1.0          100       1.2   \n",
       "3    1eEVvANdi96NtzXSDT1C            2       1.0          100       1.2   \n",
       "4    2EttR31aXRBWqx8dRzgq            2       1.0          100       1.2   \n",
       "..                    ...          ...       ...          ...       ...   \n",
       "473  z6yKyTEjlNMoFUpBlCxg      0.8.0.0      None          100       1.0   \n",
       "474  zBzfzVgNdiH5EHoPWPjz      0.8.0.0      None          100       1.0   \n",
       "475  zHvZrXdGjZB73NoeNGOT      0.8.0.0      None          100       1.0   \n",
       "476  zII9nav2JaUQCyxzLKy5      0.8.0.0      None          100       1.0   \n",
       "477  zZNHJm0aBsJjAiNuAVoi      0.8.0.0         1          100       1.0   \n",
       "\n",
       "                                               rawData  \\\n",
       "0    {\"real\":[[0,0,0,0,0,0,0,0,0,0,0,0,0,0,0,0,0,0,...   \n",
       "1    {\"real\":[[0,0,0,0,0,0,0,0,0,0,0,0,0,0,0,0,0,0,...   \n",
       "2    {\"real\":[[0,0,0,0,0,0,0,0,0,0,0,0,0,0,0,0,0,0,...   \n",
       "3    {\"real\":[[0,0,0,0,0,0,0,0,0,0,0,0,0,0,0,0,0,0,...   \n",
       "4    {\"real\":[[0,0,0,0,0,0,0,0,0,0,0,0,0,0,0,0,0,0,...   \n",
       "..                                                 ...   \n",
       "473  {\"real\":[[0,0,0,0,0,0,0,0,0,0,0,0,0,0,0,0,0,0,...   \n",
       "474  {\"real\":[[0,0,0,0,0,0,0,0,0,0,0,0,0,0,0,0,0,0,...   \n",
       "475  {\"real\":[[0,0,0,0,0,0,0,0,0,0,0,0,0,0,0,0,0,0,...   \n",
       "476  {\"real\":[[0,0,0,0,0,0,0,0,0,0,0,0,0,0,0,0,0,0,...   \n",
       "477  {\"real\":[[0,0,0,0,0,0,0,0,0,0,0,0,0,0,0,0,0,0,...   \n",
       "\n",
       "                                               fftData SW Version    seat1  \\\n",
       "0    [[-105.87874280268608, -102.26725079789395, -1...        NaN     none   \n",
       "1    [[-103.23020764266907, -100.18002761432678, -1...        NaN  toddler   \n",
       "2    [[-107.26817809590841, -103.572805055402, -110...        NaN      pet   \n",
       "3    [[-108.10489947686006, -105.49311958297311, -1...        NaN     none   \n",
       "4    [[-117.84473965177918, -105.55119981094282, -1...        NaN  toddler   \n",
       "..                                                 ...        ...      ...   \n",
       "473  [[-74.87174084241651, -70.40210124639611, -77....        NaN     none   \n",
       "474  [[-68.41237424396255, -65.80510348327765, -79....        NaN     baby   \n",
       "475  [[-86.55813594069244, -77.12291636247366, -78....        NaN    adult   \n",
       "476  [[-89.49105064688271, -86.80552730271502, -95....        NaN     none   \n",
       "477  [[-98.65451677423928, -91.73755589282831, -102...        NaN     none   \n",
       "\n",
       "     seat2  ...               vehicle temperature   accX   accY   accZ  \\\n",
       "0     none  ...  FYMCwQblEjJrCt5S9KDV        None   None   None   None   \n",
       "1    adult  ...  4GImmlvjC676xXRyFECn        None   None   None   None   \n",
       "2     none  ...  4GImmlvjC676xXRyFECn        None   None   None   None   \n",
       "3      pet  ...  4GImmlvjC676xXRyFECn        None   None   None   None   \n",
       "4     baby  ...  4GImmlvjC676xXRyFECn        None   None   None   None   \n",
       "..     ...  ...                   ...         ...    ...    ...    ...   \n",
       "473   none  ...  emS4JG4Hp2H8d2Ab4ofV        None -0.936 -0.072 -0.156   \n",
       "474   none  ...  6a9YEoNDIb7J4j5yNXVc        None -0.676 -0.172  -0.58   \n",
       "475   none  ...  X1ILHgwtdueiSTYr8XdK        None -0.896 -0.156 -0.292   \n",
       "476   none  ...  HAETRoo2NZj9oKG8JBAB        None   1.06  0.132  0.504   \n",
       "477   none  ...  4GImmlvjC676xXRyFECn        None  0.648  0.008 -0.688   \n",
       "\n",
       "                                             createdAt class1  class2  class3  \\\n",
       "0    {'_seconds': 1603708000, '_nanoseconds': 54000...      0       0       1   \n",
       "1    {'_seconds': 1607352646, '_nanoseconds': 12600...      1       1       1   \n",
       "2    {'_seconds': 1604935813, '_nanoseconds': 52500...      1       0       1   \n",
       "3    {'_seconds': 1604936210, '_nanoseconds': 91100...      0       1       0   \n",
       "4    {'_seconds': 1607771892, '_nanoseconds': 46000...      1       1       0   \n",
       "..                                                 ...    ...     ...     ...   \n",
       "473  {'_seconds': 1636904824, '_nanoseconds': 43000...      0       0       1   \n",
       "474  {'_seconds': 1636898959, '_nanoseconds': 98800...      1       0       0   \n",
       "475  {'_seconds': 1636483781, '_nanoseconds': 19300...      1       0       0   \n",
       "476  {'_seconds': 1620400379, '_nanoseconds': 62000...      0       0       0   \n",
       "477  {'_seconds': 1624128012, '_nanoseconds': 29500...      0       0       0   \n",
       "\n",
       "     occupants  \n",
       "0            1  \n",
       "1            3  \n",
       "2            2  \n",
       "3            1  \n",
       "4            2  \n",
       "..         ...  \n",
       "473          1  \n",
       "474          1  \n",
       "475          1  \n",
       "476          0  \n",
       "477          0  \n",
       "\n",
       "[478 rows x 21 columns]"
      ]
     },
     "execution_count": 6,
     "metadata": {},
     "output_type": "execute_result"
    }
   ],
   "source": [
    "#DETERMINE PRESENCE ON OUR DATASET\n",
    "assign_occupations(df)\n",
    "assign_occupants(df)\n",
    "df"
   ]
  },
  {
   "cell_type": "code",
   "execution_count": 7,
   "metadata": {},
   "outputs": [
    {
     "data": {
      "text/html": [
       "<div>\n",
       "<style scoped>\n",
       "    .dataframe tbody tr th:only-of-type {\n",
       "        vertical-align: middle;\n",
       "    }\n",
       "\n",
       "    .dataframe tbody tr th {\n",
       "        vertical-align: top;\n",
       "    }\n",
       "\n",
       "    .dataframe thead th {\n",
       "        text-align: right;\n",
       "    }\n",
       "</style>\n",
       "<table border=\"1\" class=\"dataframe\">\n",
       "  <thead>\n",
       "    <tr style=\"text-align: right;\">\n",
       "      <th></th>\n",
       "      <th>occupants</th>\n",
       "      <th>class1</th>\n",
       "      <th>class2</th>\n",
       "      <th>class3</th>\n",
       "    </tr>\n",
       "  </thead>\n",
       "  <tbody>\n",
       "    <tr>\n",
       "      <th>0</th>\n",
       "      <td>1</td>\n",
       "      <td>0</td>\n",
       "      <td>0</td>\n",
       "      <td>1</td>\n",
       "    </tr>\n",
       "    <tr>\n",
       "      <th>1</th>\n",
       "      <td>3</td>\n",
       "      <td>1</td>\n",
       "      <td>1</td>\n",
       "      <td>1</td>\n",
       "    </tr>\n",
       "    <tr>\n",
       "      <th>2</th>\n",
       "      <td>2</td>\n",
       "      <td>1</td>\n",
       "      <td>0</td>\n",
       "      <td>1</td>\n",
       "    </tr>\n",
       "    <tr>\n",
       "      <th>3</th>\n",
       "      <td>1</td>\n",
       "      <td>0</td>\n",
       "      <td>1</td>\n",
       "      <td>0</td>\n",
       "    </tr>\n",
       "    <tr>\n",
       "      <th>4</th>\n",
       "      <td>2</td>\n",
       "      <td>1</td>\n",
       "      <td>1</td>\n",
       "      <td>0</td>\n",
       "    </tr>\n",
       "    <tr>\n",
       "      <th>...</th>\n",
       "      <td>...</td>\n",
       "      <td>...</td>\n",
       "      <td>...</td>\n",
       "      <td>...</td>\n",
       "    </tr>\n",
       "    <tr>\n",
       "      <th>473</th>\n",
       "      <td>1</td>\n",
       "      <td>0</td>\n",
       "      <td>0</td>\n",
       "      <td>1</td>\n",
       "    </tr>\n",
       "    <tr>\n",
       "      <th>474</th>\n",
       "      <td>1</td>\n",
       "      <td>1</td>\n",
       "      <td>0</td>\n",
       "      <td>0</td>\n",
       "    </tr>\n",
       "    <tr>\n",
       "      <th>475</th>\n",
       "      <td>1</td>\n",
       "      <td>1</td>\n",
       "      <td>0</td>\n",
       "      <td>0</td>\n",
       "    </tr>\n",
       "    <tr>\n",
       "      <th>476</th>\n",
       "      <td>0</td>\n",
       "      <td>0</td>\n",
       "      <td>0</td>\n",
       "      <td>0</td>\n",
       "    </tr>\n",
       "    <tr>\n",
       "      <th>477</th>\n",
       "      <td>0</td>\n",
       "      <td>0</td>\n",
       "      <td>0</td>\n",
       "      <td>0</td>\n",
       "    </tr>\n",
       "  </tbody>\n",
       "</table>\n",
       "<p>478 rows × 4 columns</p>\n",
       "</div>"
      ],
      "text/plain": [
       "     occupants  class1  class2  class3\n",
       "0            1       0       0       1\n",
       "1            3       1       1       1\n",
       "2            2       1       0       1\n",
       "3            1       0       1       0\n",
       "4            2       1       1       0\n",
       "..         ...     ...     ...     ...\n",
       "473          1       0       0       1\n",
       "474          1       1       0       0\n",
       "475          1       1       0       0\n",
       "476          0       0       0       0\n",
       "477          0       0       0       0\n",
       "\n",
       "[478 rows x 4 columns]"
      ]
     },
     "execution_count": 7,
     "metadata": {},
     "output_type": "execute_result"
    }
   ],
   "source": [
    "complete_df = df\n",
    "\n",
    "df_info = complete_df[['occupants', 'class1', 'class2', 'class3']]\n",
    "df_info"
   ]
  },
  {
   "cell_type": "code",
   "execution_count": 8,
   "metadata": {},
   "outputs": [
    {
     "name": "stdout",
     "output_type": "stream",
     "text": [
      "406\n",
      "72\n"
     ]
    }
   ],
   "source": [
    "#SPLIT THE DATASET IN TRAIN AND TEST\n",
    "from sklearn.model_selection import train_test_split\n",
    "\n",
    "train_df, test_df = train_test_split(complete_df, test_size=0.15, random_state = 42, stratify=complete_df.occupants)\n",
    "#LENGHT OF THE TEST DATASET\n",
    "print(len(train_df))\n",
    "print(len(test_df))"
   ]
  },
  {
   "cell_type": "markdown",
   "metadata": {},
   "source": [
    "## Data preprocessing"
   ]
  },
  {
   "cell_type": "code",
   "execution_count": 9,
   "metadata": {},
   "outputs": [
    {
     "name": "stdout",
     "output_type": "stream",
     "text": [
      "-105.31283117083753\n",
      "14.104729991228874\n",
      "(406, 53, 86, 1)\n",
      "0.25862068965517243\n",
      "0.4064039408866995\n",
      "0.22167487684729065\n",
      "0.11330049261083744\n",
      "376    2\n",
      "407    1\n",
      "417    0\n",
      "271    1\n",
      "211    1\n",
      "      ..\n",
      "224    0\n",
      "309    1\n",
      "332    1\n",
      "63     3\n",
      "329    1\n",
      "Name: occupants, Length: 406, dtype: int64\n"
     ]
    }
   ],
   "source": [
    "working_df = train_df\n",
    "#TRAINING WILL BE DONE WITH THE FFTDATA COLUMN\n",
    "train_list = working_df.fftData\n",
    "train_list = np.array(train_list)\n",
    "train_x = []\n",
    "\n",
    "\"\"\" Here is performed the frequency selection part of the preprocessing. \n",
    "    Since the fft spectrum is divided in two spectrum of 128 bits each, for performing frequency selection \n",
    "    we need to select from both the first part and the second one.\n",
    "    only one/fraction of the frequencies are selected.\n",
    "\"\"\"\n",
    "\n",
    "#Select only first third of both images\n",
    "fraction = 3 \n",
    "fraction_data = int(round(128/fraction)) #fraction_data=43 in this case\n",
    "\n",
    "for i in range(len(train_list)):\n",
    "    #print(len(train_list[i]))\n",
    "    #print(len(train_list[i][0]))\n",
    "    \n",
    "    a = np.array(train_list[i])[:, 0 : fraction_data]\n",
    "    b = np.array(train_list[i])[:, 128 : 128 + fraction_data]\n",
    "    c = np.concatenate((a, b), axis=1)\n",
    "    train_x.append(c)\n",
    "train_arr = []\n",
    "for x in range(len(train_x)):\n",
    "    train_arr.append(np.array(train_x[x]))\n",
    "train_list = train_arr \n",
    "\n",
    "\"\"\"\n",
    "zscore normalization part of the preprocessing. correcting the dimension of the network.\n",
    "\"\"\"\n",
    "\n",
    "print(np.mean(train_list))\n",
    "print(np.std(train_list))\n",
    "train_list = scipy.stats.zscore(train_list, axis=None)\n",
    "\n",
    "#max = np.max(train_list)\n",
    "#min = np.min(train_list)\n",
    "#train_list = np.array([[[(x - min) / (max - min) for x in y] for y in z] for z in train_list])\n",
    "\n",
    "\n",
    "train_tensor = tf.convert_to_tensor(train_list)\n",
    "\n",
    "#Third dimension value is 1\n",
    "train_tensor = tf.expand_dims(train_tensor, -1)\n",
    "\n",
    "print(train_tensor.shape)\n",
    "\n",
    "\"\"\"\n",
    "assigning label \n",
    "\"\"\"\n",
    "\n",
    "train_label = working_df[\"occupants\"]\n",
    "\n",
    "#PROPORTIONS OF THE DATASET\n",
    "passengers0 = 0\n",
    "passengers1 = 0\n",
    "passengers2 = 0\n",
    "passengers3 = 0\n",
    "for occupants in working_df[\"occupants\"]:\n",
    "    if occupants == 0:\n",
    "        passengers0+=1\n",
    "    if occupants == 1:\n",
    "        passengers1+=1\n",
    "    if occupants == 2:\n",
    "        passengers2+=1\n",
    "    if occupants == 3:\n",
    "        passengers3+=1\n",
    "balancing0 = passengers0/len(train_df)\n",
    "balancing1 = passengers1/len(train_df)\n",
    "balancing2 = passengers2/len(train_df)\n",
    "balancing3 = passengers3/len(train_df)\n",
    "\n",
    "print(balancing0)\n",
    "print(balancing1)\n",
    "print(balancing2)\n",
    "print(balancing3)\n",
    "\n",
    "#train_label = tf.keras.utils.to_categorical(train_label, 3)\n",
    "\n",
    "\"\"\"Dimensions of the inputs\"\"\"\n",
    "#53*86 images\n",
    "img_h, img_w = 53, fraction_data*2\n",
    "num_classes=3\n",
    "\n",
    "print(train_label)"
   ]
  },
  {
   "cell_type": "code",
   "execution_count": 11,
   "metadata": {},
   "outputs": [
    {
     "name": "stdout",
     "output_type": "stream",
     "text": [
      "-105.05868403226422\n",
      "15.283135488519568\n",
      "(72, 53, 86, 1)\n",
      "[0 2 0 2 0 1 1 1 3 0 2 0 0 3 1 3 2 1 2 1 2 3 3 2 1 0 1 2 1 1 0 2 1 1 1 0 0\n",
      " 1 1 2 0 1 0 2 2 1 1 1 2 2 1 3 1 2 0 1 1 1 0 3 2 1 0 1 1 0 0 3 0 0 1 1]\n"
     ]
    }
   ],
   "source": [
    "\"\"\"\n",
    "Perform the same preprocessing steps of the training set to the test set too.\n",
    "\"\"\"\n",
    "test_labels = np.array(test_df[\"occupants\"])\n",
    "\n",
    "#test_labels = tf.keras.utils.to_categorical(test_labels, 3)\n",
    "\n",
    "test_list = test_df[\"fftData\"]\n",
    "test_list = np.array(test_list)\n",
    "test_x = []\n",
    "\n",
    "fraction = 3 \n",
    "fraction_data = int(round(128/fraction))\n",
    "\n",
    "for i in range(len(test_list)):\n",
    "    \n",
    "    a = np.array(test_list[i])[:, 0 : fraction_data]\n",
    "    b = np.array(test_list[i])[:, 128 : 128 + fraction_data]\n",
    "    c = np.concatenate((a, b), axis=1)\n",
    "    test_x.append(c)\n",
    "test_arr = []\n",
    "for x in range(len(test_x)):\n",
    "    test_arr.append(np.array(test_x[x]))\n",
    "test_list = test_arr \n",
    "\n",
    "\n",
    "print(np.mean(test_list))\n",
    "print(np.std(test_list))\n",
    "test_list = scipy.stats.zscore(test_list, axis=None)\n",
    "\n",
    "#max = np.max(train_list)\n",
    "#min = np.min(train_list)\n",
    "#train_list = np.array([[[(x - min) / (max - min) for x in y] for y in z] for z in train_list])\n",
    "test_tensor = tf.convert_to_tensor(test_list)\n",
    "test_tensor = tf.expand_dims(test_tensor, -1)\n",
    "print(test_tensor.shape)\n",
    "test_images = test_tensor\n",
    "print(test_labels)"
   ]
  },
  {
   "cell_type": "markdown",
   "metadata": {},
   "source": [
    "## Loading pre-trained network"
   ]
  },
  {
   "cell_type": "code",
   "execution_count": 19,
   "metadata": {},
   "outputs": [],
   "source": [
    "folder='4_classes_test_2'\n",
    "model_name='2-7-3-12-0.3-1'\n",
    "fraction=3\n",
    "n_epoch=400\n",
    "\n",
    "mypath=f'models_full_train/experiment_{folder}/{model_name}/model'\n",
    "filenames = next(walk(mypath), (None, None, []))[2]\n",
    "\n",
    "imported_model = load_model(mypath)\n",
    "model = tf.keras.Sequential()\n",
    "\n",
    "for layer in imported_model.layers[:-1]: # go through until last layer\n",
    "    model.add(layer)\n",
    "model.add(tf.keras.layers.Dense(units=1, activation='linear'))\n",
    "for layer in model.layers[:-1]:\n",
    "    layer.trainable = False\n",
    "\n",
    "model.compile(loss='mse', metrics=['mae'])"
   ]
  },
  {
   "cell_type": "markdown",
   "metadata": {},
   "source": [
    "## Defining network architecture"
   ]
  },
  {
   "cell_type": "code",
   "execution_count": 10,
   "metadata": {},
   "outputs": [],
   "source": [
    "# Helper function to run inference on a TFLite model\n",
    "def run_tflite_model(tflite_file, inputs, targets):\n",
    "\n",
    "  # Initialize the interpreter\n",
    "    interpreter = tf.lite.Interpreter(model_path=str(tflite_file))\n",
    "    interpreter.allocate_tensors()\n",
    "\n",
    "    input_details = interpreter.get_input_details()[0]\n",
    "    output_details = interpreter.get_output_details()[0]\n",
    "\n",
    "    predictions = []\n",
    "    test_image = inputs\n",
    "    test_label = targets\n",
    "\n",
    "    # Check if the input type is quantized, then rescale input data to uint8\n",
    "    #print(input_details['dtype'])\n",
    "    if input_details['dtype'] == np.int8:\n",
    "        #print(\"correct\")\n",
    "        input_scale, input_zero_point = input_details[\"quantization\"]\n",
    "        test_image = test_image / input_scale + input_zero_point\n",
    "\n",
    "    test_image = np.expand_dims(test_image, axis=0).astype(input_details[\"dtype\"])\n",
    "    interpreter.set_tensor(input_details[\"index\"], test_image)\n",
    "    interpreter.invoke()\n",
    "    output = interpreter.get_tensor(output_details[\"index\"])[0]\n",
    "    #print(output)\n",
    "    predictions[i] = output.argmax()\n",
    "\n",
    "    return predictions"
   ]
  },
  {
   "cell_type": "code",
   "execution_count": 21,
   "metadata": {
    "scrolled": true
   },
   "outputs": [
    {
     "name": "stdout",
     "output_type": "stream",
     "text": [
      "------------------------------------------------------------------------\n",
      "Training regression model 2-7-3-12-0.3-1 with transfer learning\n",
      "Epoch 1/100\n",
      "13/13 [==============================] - 0s 22ms/step - loss: 0.0495 - mae: 0.3562 - val_loss: 0.2857 - val_mae: 0.3804\n",
      "Epoch 2/100\n",
      "13/13 [==============================] - 0s 7ms/step - loss: 0.0481 - mae: 0.3546 - val_loss: 0.2794 - val_mae: 0.3819\n",
      "Epoch 3/100\n",
      "13/13 [==============================] - 0s 7ms/step - loss: 0.0515 - mae: 0.3699 - val_loss: 0.3002 - val_mae: 0.3837\n",
      "Epoch 4/100\n",
      "13/13 [==============================] - 0s 7ms/step - loss: 0.0488 - mae: 0.3648 - val_loss: 0.2745 - val_mae: 0.3716\n",
      "Epoch 5/100\n",
      "13/13 [==============================] - 0s 7ms/step - loss: 0.0505 - mae: 0.3572 - val_loss: 0.2584 - val_mae: 0.3709\n",
      "Epoch 6/100\n",
      "13/13 [==============================] - 0s 7ms/step - loss: 0.0509 - mae: 0.3641 - val_loss: 0.2618 - val_mae: 0.3819\n",
      "Epoch 7/100\n",
      "13/13 [==============================] - 0s 7ms/step - loss: 0.0527 - mae: 0.3740 - val_loss: 0.2938 - val_mae: 0.3887\n",
      "Epoch 8/100\n",
      "13/13 [==============================] - 0s 7ms/step - loss: 0.0485 - mae: 0.3556 - val_loss: 0.2734 - val_mae: 0.3852\n",
      "Epoch 9/100\n",
      "13/13 [==============================] - 0s 7ms/step - loss: 0.0449 - mae: 0.3355 - val_loss: 0.3190 - val_mae: 0.4001\n",
      "Epoch 10/100\n",
      "13/13 [==============================] - 0s 8ms/step - loss: 0.0495 - mae: 0.3522 - val_loss: 0.2974 - val_mae: 0.3848\n",
      "Epoch 11/100\n",
      "13/13 [==============================] - 0s 7ms/step - loss: 0.0502 - mae: 0.3644 - val_loss: 0.2868 - val_mae: 0.3876\n",
      "Epoch 12/100\n",
      "13/13 [==============================] - 0s 7ms/step - loss: 0.0478 - mae: 0.3574 - val_loss: 0.2652 - val_mae: 0.3798\n",
      "Epoch 13/100\n",
      "13/13 [==============================] - 0s 7ms/step - loss: 0.0447 - mae: 0.3431 - val_loss: 0.2744 - val_mae: 0.3982\n",
      "Epoch 14/100\n",
      "13/13 [==============================] - 0s 7ms/step - loss: 0.0486 - mae: 0.3533 - val_loss: 0.2863 - val_mae: 0.3993\n",
      "Epoch 15/100\n",
      "13/13 [==============================] - 0s 7ms/step - loss: 0.0496 - mae: 0.3635 - val_loss: 0.2709 - val_mae: 0.3846\n",
      "Epoch 16/100\n",
      "13/13 [==============================] - 0s 7ms/step - loss: 0.0463 - mae: 0.3487 - val_loss: 0.3017 - val_mae: 0.3909\n",
      "Epoch 17/100\n",
      "13/13 [==============================] - 0s 7ms/step - loss: 0.0541 - mae: 0.3740 - val_loss: 0.2588 - val_mae: 0.3827\n",
      "Epoch 18/100\n",
      "13/13 [==============================] - 0s 7ms/step - loss: 0.0513 - mae: 0.3673 - val_loss: 0.2725 - val_mae: 0.3759\n",
      "Epoch 19/100\n",
      "13/13 [==============================] - 0s 7ms/step - loss: 0.0480 - mae: 0.3580 - val_loss: 0.2591 - val_mae: 0.3757\n",
      "Epoch 20/100\n",
      "13/13 [==============================] - 0s 7ms/step - loss: 0.0478 - mae: 0.3517 - val_loss: 0.2872 - val_mae: 0.4107\n",
      "Epoch 21/100\n",
      "13/13 [==============================] - 0s 7ms/step - loss: 0.0511 - mae: 0.3681 - val_loss: 0.2760 - val_mae: 0.3764\n",
      "Epoch 22/100\n",
      "13/13 [==============================] - 0s 8ms/step - loss: 0.0479 - mae: 0.3534 - val_loss: 0.2927 - val_mae: 0.3787\n",
      "Epoch 23/100\n",
      "13/13 [==============================] - 0s 7ms/step - loss: 0.0515 - mae: 0.3630 - val_loss: 0.2801 - val_mae: 0.3831\n",
      "Epoch 24/100\n",
      "13/13 [==============================] - 0s 7ms/step - loss: 0.0513 - mae: 0.3715 - val_loss: 0.2763 - val_mae: 0.4104\n",
      "Epoch 25/100\n",
      "13/13 [==============================] - 0s 7ms/step - loss: 0.0497 - mae: 0.3618 - val_loss: 0.2884 - val_mae: 0.3823\n",
      "Epoch 26/100\n",
      "13/13 [==============================] - 0s 8ms/step - loss: 0.0475 - mae: 0.3500 - val_loss: 0.2758 - val_mae: 0.3916\n",
      "Epoch 27/100\n",
      "13/13 [==============================] - 0s 8ms/step - loss: 0.0464 - mae: 0.3462 - val_loss: 0.2948 - val_mae: 0.3879\n",
      "Epoch 28/100\n",
      "13/13 [==============================] - 0s 8ms/step - loss: 0.0473 - mae: 0.3511 - val_loss: 0.2810 - val_mae: 0.3904\n",
      "Epoch 29/100\n",
      "13/13 [==============================] - 0s 7ms/step - loss: 0.0491 - mae: 0.3630 - val_loss: 0.2848 - val_mae: 0.3841\n",
      "Epoch 30/100\n",
      "13/13 [==============================] - 0s 8ms/step - loss: 0.0481 - mae: 0.3541 - val_loss: 0.2851 - val_mae: 0.3866\n",
      "Epoch 31/100\n",
      "13/13 [==============================] - 0s 7ms/step - loss: 0.0483 - mae: 0.3559 - val_loss: 0.2955 - val_mae: 0.3857\n",
      "Epoch 32/100\n",
      "13/13 [==============================] - 0s 7ms/step - loss: 0.0492 - mae: 0.3592 - val_loss: 0.2808 - val_mae: 0.3778\n",
      "Epoch 33/100\n",
      "13/13 [==============================] - 0s 8ms/step - loss: 0.0483 - mae: 0.3535 - val_loss: 0.2942 - val_mae: 0.3835\n",
      "Epoch 34/100\n",
      "13/13 [==============================] - 0s 7ms/step - loss: 0.0493 - mae: 0.3629 - val_loss: 0.2888 - val_mae: 0.3816\n",
      "Epoch 35/100\n",
      "13/13 [==============================] - 0s 8ms/step - loss: 0.0467 - mae: 0.3430 - val_loss: 0.2970 - val_mae: 0.3848\n",
      "Epoch 36/100\n",
      "13/13 [==============================] - 0s 8ms/step - loss: 0.0487 - mae: 0.3582 - val_loss: 0.2752 - val_mae: 0.3801\n",
      "Epoch 37/100\n",
      "13/13 [==============================] - 0s 8ms/step - loss: 0.0477 - mae: 0.3540 - val_loss: 0.2614 - val_mae: 0.3773\n",
      "Epoch 38/100\n",
      "13/13 [==============================] - 0s 7ms/step - loss: 0.0477 - mae: 0.3505 - val_loss: 0.2675 - val_mae: 0.3896\n",
      "Epoch 39/100\n",
      "13/13 [==============================] - 0s 8ms/step - loss: 0.0460 - mae: 0.3424 - val_loss: 0.2772 - val_mae: 0.3747\n",
      "Epoch 40/100\n",
      "13/13 [==============================] - 0s 7ms/step - loss: 0.0470 - mae: 0.3476 - val_loss: 0.2708 - val_mae: 0.3785\n",
      "Epoch 41/100\n",
      "13/13 [==============================] - 0s 8ms/step - loss: 0.0484 - mae: 0.3558 - val_loss: 0.2751 - val_mae: 0.3791\n",
      "Epoch 42/100\n",
      "13/13 [==============================] - 0s 8ms/step - loss: 0.0467 - mae: 0.3508 - val_loss: 0.2707 - val_mae: 0.3735\n",
      "Epoch 43/100\n",
      "13/13 [==============================] - 0s 8ms/step - loss: 0.0493 - mae: 0.3608 - val_loss: 0.3082 - val_mae: 0.3969\n",
      "Epoch 44/100\n",
      "13/13 [==============================] - 0s 8ms/step - loss: 0.0475 - mae: 0.3590 - val_loss: 0.2931 - val_mae: 0.3870\n",
      "Epoch 45/100\n",
      "13/13 [==============================] - 0s 8ms/step - loss: 0.0487 - mae: 0.3493 - val_loss: 0.2651 - val_mae: 0.3830\n",
      "Epoch 46/100\n",
      "13/13 [==============================] - 0s 8ms/step - loss: 0.0496 - mae: 0.3578 - val_loss: 0.2723 - val_mae: 0.3822\n",
      "Epoch 47/100\n",
      "13/13 [==============================] - 0s 8ms/step - loss: 0.0474 - mae: 0.3483 - val_loss: 0.2808 - val_mae: 0.3775\n",
      "Epoch 48/100\n",
      "13/13 [==============================] - 0s 8ms/step - loss: 0.0498 - mae: 0.3678 - val_loss: 0.2799 - val_mae: 0.4063\n",
      "Epoch 49/100\n",
      "13/13 [==============================] - 0s 8ms/step - loss: 0.0461 - mae: 0.3536 - val_loss: 0.2717 - val_mae: 0.3882\n",
      "Epoch 50/100\n",
      "13/13 [==============================] - 0s 8ms/step - loss: 0.0453 - mae: 0.3420 - val_loss: 0.2713 - val_mae: 0.3981\n",
      "Epoch 51/100\n",
      "13/13 [==============================] - 0s 7ms/step - loss: 0.0506 - mae: 0.3664 - val_loss: 0.3279 - val_mae: 0.4050\n",
      "Epoch 52/100\n",
      "13/13 [==============================] - 0s 8ms/step - loss: 0.0499 - mae: 0.3592 - val_loss: 0.2665 - val_mae: 0.3748\n",
      "Epoch 53/100\n",
      "13/13 [==============================] - 0s 8ms/step - loss: 0.0436 - mae: 0.3411 - val_loss: 0.2682 - val_mae: 0.3885\n",
      "Epoch 54/100\n",
      "13/13 [==============================] - 0s 8ms/step - loss: 0.0463 - mae: 0.3516 - val_loss: 0.2666 - val_mae: 0.3841\n",
      "Epoch 55/100\n",
      "13/13 [==============================] - 0s 8ms/step - loss: 0.0473 - mae: 0.3577 - val_loss: 0.2767 - val_mae: 0.3886\n",
      "Epoch 56/100\n",
      "13/13 [==============================] - 0s 8ms/step - loss: 0.0457 - mae: 0.3451 - val_loss: 0.2783 - val_mae: 0.3733\n",
      "Epoch 57/100\n",
      "13/13 [==============================] - 0s 8ms/step - loss: 0.0489 - mae: 0.3599 - val_loss: 0.2698 - val_mae: 0.3892\n",
      "Epoch 58/100\n",
      "13/13 [==============================] - 0s 8ms/step - loss: 0.0491 - mae: 0.3526 - val_loss: 0.2909 - val_mae: 0.3839\n",
      "Epoch 59/100\n",
      "13/13 [==============================] - 0s 8ms/step - loss: 0.0450 - mae: 0.3414 - val_loss: 0.2854 - val_mae: 0.3747\n",
      "Epoch 60/100\n",
      "13/13 [==============================] - 0s 8ms/step - loss: 0.0458 - mae: 0.3486 - val_loss: 0.2711 - val_mae: 0.3800\n",
      "Epoch 61/100\n",
      "13/13 [==============================] - 0s 8ms/step - loss: 0.0471 - mae: 0.3511 - val_loss: 0.2773 - val_mae: 0.3748\n",
      "Epoch 62/100\n"
     ]
    },
    {
     "name": "stdout",
     "output_type": "stream",
     "text": [
      "13/13 [==============================] - 0s 8ms/step - loss: 0.0470 - mae: 0.3513 - val_loss: 0.2652 - val_mae: 0.3718\n",
      "Epoch 63/100\n",
      "13/13 [==============================] - 0s 8ms/step - loss: 0.0466 - mae: 0.3493 - val_loss: 0.2746 - val_mae: 0.3866\n",
      "Epoch 64/100\n",
      "13/13 [==============================] - 0s 8ms/step - loss: 0.0493 - mae: 0.3596 - val_loss: 0.2830 - val_mae: 0.3837\n",
      "Epoch 65/100\n",
      "13/13 [==============================] - 0s 8ms/step - loss: 0.0468 - mae: 0.3574 - val_loss: 0.2709 - val_mae: 0.3723\n",
      "Epoch 66/100\n",
      "13/13 [==============================] - 0s 8ms/step - loss: 0.0465 - mae: 0.3481 - val_loss: 0.2767 - val_mae: 0.3910\n",
      "Epoch 67/100\n",
      "13/13 [==============================] - 0s 8ms/step - loss: 0.0487 - mae: 0.3604 - val_loss: 0.2743 - val_mae: 0.3743\n",
      "Epoch 68/100\n",
      "13/13 [==============================] - 0s 8ms/step - loss: 0.0477 - mae: 0.3490 - val_loss: 0.3019 - val_mae: 0.3843\n",
      "Epoch 69/100\n",
      "13/13 [==============================] - 0s 8ms/step - loss: 0.0504 - mae: 0.3644 - val_loss: 0.2836 - val_mae: 0.3717\n",
      "Epoch 70/100\n",
      "13/13 [==============================] - 0s 8ms/step - loss: 0.0451 - mae: 0.3417 - val_loss: 0.2940 - val_mae: 0.3804\n",
      "Epoch 71/100\n",
      "13/13 [==============================] - 0s 8ms/step - loss: 0.0467 - mae: 0.3527 - val_loss: 0.2595 - val_mae: 0.3848\n",
      "Epoch 72/100\n",
      "13/13 [==============================] - 0s 8ms/step - loss: 0.0448 - mae: 0.3443 - val_loss: 0.2861 - val_mae: 0.3755\n",
      "Epoch 73/100\n",
      "13/13 [==============================] - 0s 8ms/step - loss: 0.0441 - mae: 0.3333 - val_loss: 0.2781 - val_mae: 0.3768\n",
      "Epoch 74/100\n",
      "13/13 [==============================] - 0s 8ms/step - loss: 0.0455 - mae: 0.3468 - val_loss: 0.2794 - val_mae: 0.3734\n",
      "Epoch 75/100\n",
      "13/13 [==============================] - 0s 8ms/step - loss: 0.0497 - mae: 0.3481 - val_loss: 0.2866 - val_mae: 0.4093\n",
      "Epoch 76/100\n",
      "13/13 [==============================] - 0s 8ms/step - loss: 0.0466 - mae: 0.3490 - val_loss: 0.2688 - val_mae: 0.3811\n",
      "Epoch 77/100\n",
      "13/13 [==============================] - 0s 8ms/step - loss: 0.0508 - mae: 0.3663 - val_loss: 0.2724 - val_mae: 0.3949\n",
      "Epoch 78/100\n",
      "13/13 [==============================] - 0s 8ms/step - loss: 0.0454 - mae: 0.3376 - val_loss: 0.2922 - val_mae: 0.4276\n",
      "Epoch 79/100\n",
      "13/13 [==============================] - 0s 8ms/step - loss: 0.0518 - mae: 0.3733 - val_loss: 0.2997 - val_mae: 0.3820\n",
      "Epoch 80/100\n",
      "13/13 [==============================] - 0s 8ms/step - loss: 0.0465 - mae: 0.3444 - val_loss: 0.2716 - val_mae: 0.3682\n",
      "Epoch 81/100\n",
      "13/13 [==============================] - 0s 8ms/step - loss: 0.0485 - mae: 0.3679 - val_loss: 0.2963 - val_mae: 0.3852\n",
      "Epoch 82/100\n",
      "13/13 [==============================] - 0s 8ms/step - loss: 0.0502 - mae: 0.3573 - val_loss: 0.2791 - val_mae: 0.4031\n",
      "Epoch 83/100\n",
      "13/13 [==============================] - 0s 9ms/step - loss: 0.0454 - mae: 0.3537 - val_loss: 0.2755 - val_mae: 0.3967\n",
      "Epoch 84/100\n",
      "13/13 [==============================] - 0s 9ms/step - loss: 0.0467 - mae: 0.3477 - val_loss: 0.2983 - val_mae: 0.3826\n",
      "Epoch 85/100\n",
      "13/13 [==============================] - 0s 11ms/step - loss: 0.0484 - mae: 0.3567 - val_loss: 0.2662 - val_mae: 0.3864\n",
      "Epoch 86/100\n",
      "13/13 [==============================] - 0s 8ms/step - loss: 0.0485 - mae: 0.3593 - val_loss: 0.2723 - val_mae: 0.3844\n",
      "Epoch 87/100\n",
      "13/13 [==============================] - 0s 8ms/step - loss: 0.0458 - mae: 0.3477 - val_loss: 0.2493 - val_mae: 0.3716\n",
      "Epoch 88/100\n",
      "13/13 [==============================] - 0s 8ms/step - loss: 0.0483 - mae: 0.3540 - val_loss: 0.2778 - val_mae: 0.3799\n",
      "Epoch 89/100\n",
      "13/13 [==============================] - 0s 8ms/step - loss: 0.0455 - mae: 0.3411 - val_loss: 0.2898 - val_mae: 0.3788\n",
      "Epoch 90/100\n",
      "13/13 [==============================] - 0s 8ms/step - loss: 0.0487 - mae: 0.3530 - val_loss: 0.2728 - val_mae: 0.3747\n",
      "Epoch 91/100\n",
      "13/13 [==============================] - 0s 8ms/step - loss: 0.0477 - mae: 0.3548 - val_loss: 0.2847 - val_mae: 0.3846\n",
      "Epoch 92/100\n",
      "13/13 [==============================] - 0s 8ms/step - loss: 0.0449 - mae: 0.3426 - val_loss: 0.2690 - val_mae: 0.3885\n",
      "Epoch 93/100\n",
      "13/13 [==============================] - 0s 8ms/step - loss: 0.0447 - mae: 0.3412 - val_loss: 0.2664 - val_mae: 0.3709\n",
      "Epoch 94/100\n",
      "13/13 [==============================] - 0s 8ms/step - loss: 0.0462 - mae: 0.3476 - val_loss: 0.2804 - val_mae: 0.3703\n",
      "Epoch 95/100\n",
      "13/13 [==============================] - 0s 8ms/step - loss: 0.0474 - mae: 0.3566 - val_loss: 0.2678 - val_mae: 0.3680\n",
      "Epoch 96/100\n",
      "13/13 [==============================] - 0s 8ms/step - loss: 0.0478 - mae: 0.3576 - val_loss: 0.2760 - val_mae: 0.3685\n",
      "Epoch 97/100\n",
      "13/13 [==============================] - 0s 8ms/step - loss: 0.0458 - mae: 0.3438 - val_loss: 0.2887 - val_mae: 0.3802\n",
      "Epoch 98/100\n",
      "13/13 [==============================] - 0s 8ms/step - loss: 0.0491 - mae: 0.3573 - val_loss: 0.2814 - val_mae: 0.3801\n",
      "Epoch 99/100\n",
      "13/13 [==============================] - 0s 8ms/step - loss: 0.0465 - mae: 0.3496 - val_loss: 0.2675 - val_mae: 0.3782\n",
      "Epoch 100/100\n",
      "13/13 [==============================] - 0s 8ms/step - loss: 0.0495 - mae: 0.3612 - val_loss: 0.2764 - val_mae: 0.3781\n",
      "dict_keys(['loss', 'mae', 'val_loss', 'val_mae'])\n",
      "3/3 [==============================] - 0s 3ms/step\n"
     ]
    },
    {
     "name": "stderr",
     "output_type": "stream",
     "text": [
      "WARNING:absl:Found untraced functions such as _jit_compiled_convolution_op, _jit_compiled_convolution_op, _jit_compiled_convolution_op, _jit_compiled_convolution_op, _jit_compiled_convolution_op while saving (showing 5 of 6). These functions will not be directly callable after loading.\n"
     ]
    },
    {
     "name": "stdout",
     "output_type": "stream",
     "text": [
      "INFO:tensorflow:Assets written to: models/experiment_regression_test_12/fraction_3/n_epoch_100/2-7-3-12-0.3-1/fold_1\\assets\n"
     ]
    },
    {
     "name": "stderr",
     "output_type": "stream",
     "text": [
      "INFO:tensorflow:Assets written to: models/experiment_regression_test_12/fraction_3/n_epoch_100/2-7-3-12-0.3-1/fold_1\\assets\n"
     ]
    },
    {
     "name": "stdout",
     "output_type": "stream",
     "text": [
      "Model: \"sequential\"\n",
      "_________________________________________________________________\n",
      " Layer (type)                Output Shape              Param #   \n",
      "=================================================================\n",
      " max_pooling2d (MaxPooling2D  (None, 26, 43, 1)        0         \n",
      " )                                                               \n",
      "                                                                 \n",
      " conv2d (Conv2D)             (None, 26, 43, 12)        600       \n",
      "                                                                 \n",
      " conv2d_1 (Conv2D)           (None, 26, 43, 12)        7068      \n",
      "                                                                 \n",
      " max_pooling2d_1 (MaxPooling  (None, 13, 21, 12)       0         \n",
      " 2D)                                                             \n",
      "                                                                 \n",
      " conv2d_2 (Conv2D)           (None, 13, 21, 12)        7068      \n",
      "                                                                 \n",
      " conv2d_3 (Conv2D)           (None, 13, 21, 12)        7068      \n",
      "                                                                 \n",
      " max_pooling2d_2 (MaxPooling  (None, 6, 10, 12)        0         \n",
      " 2D)                                                             \n",
      "                                                                 \n",
      " conv2d_4 (Conv2D)           (None, 6, 10, 12)         7068      \n",
      "                                                                 \n",
      " conv2d_5 (Conv2D)           (None, 6, 10, 12)         7068      \n",
      "                                                                 \n",
      " max_pooling2d_3 (MaxPooling  (None, 3, 5, 12)         0         \n",
      " 2D)                                                             \n",
      "                                                                 \n",
      " flatten (Flatten)           (None, 180)               0         \n",
      "                                                                 \n",
      " dropout (Dropout)           (None, 180)               0         \n",
      "                                                                 \n",
      " dense (Dense)               (None, 1)                 181       \n",
      "                                                                 \n",
      "=================================================================\n",
      "Total params: 36,121\n",
      "Trainable params: 181\n",
      "Non-trainable params: 35,940\n",
      "_________________________________________________________________\n",
      "None\n"
     ]
    },
    {
     "name": "stderr",
     "output_type": "stream",
     "text": [
      "C:\\Users\\luisg\\miniconda3\\lib\\site-packages\\numpy\\core\\fromnumeric.py:3440: RuntimeWarning: Mean of empty slice.\n",
      "  return _methods._mean(a, axis=axis, dtype=dtype,\n",
      "C:\\Users\\luisg\\miniconda3\\lib\\site-packages\\numpy\\core\\_methods.py:189: RuntimeWarning: invalid value encountered in double_scalars\n",
      "  ret = ret.dtype.type(ret / rcount)\n"
     ]
    }
   ],
   "source": [
    "print('------------------------------------------------------------------------')\n",
    "print(f'Training regression model {model_name} with transfer learning')\n",
    "experiment = \"regression_test_12\" #¡¡¡¡¡CHANGE FOLDER!!!!!!\n",
    "\n",
    "inputs = np.array(train_tensor)\n",
    "targets = train_label\n",
    "\n",
    "mae_per_fold = []\n",
    "loss_per_fold = []\n",
    "train_mae_per_fold = []\n",
    "\n",
    "acc_per_fold_quant = []\n",
    "train_acc_per_fold_quant = []\n",
    "\n",
    "fold_no = 1\n",
    "Y_pred_list = []\n",
    "Y_true_list = []\n",
    "\n",
    "#--------------------------------STATIC PARAMETERS------------------------------------------\n",
    "\n",
    "# Optimization params\n",
    "# -------------------\n",
    "\n",
    "# Loss\n",
    "loss = 'mean_squared_error'\n",
    "\n",
    "# learning rate\n",
    "lr = 0.3e-4\n",
    "\n",
    "optimizer = tf.keras.optimizers.Adam(learning_rate=lr)\n",
    "# -------------------\n",
    "\n",
    "# Validation metrics\n",
    "# ------------------\n",
    "\n",
    "metrics = ['mae','accuracy']\n",
    "\n",
    "batch_size = 32\n",
    "\n",
    "n_epoch = 100\n",
    "\n",
    "\n",
    "#------------------------------------CALLBACKS----------------------------------------\n",
    "callbacks = []\n",
    "\n",
    "# Early Stopping\n",
    "# --------------\n",
    "early_stop = False\n",
    "if early_stop:\n",
    "    es_callback = tf.keras.callbacks.EarlyStopping(monitor='val_loss', patience=100, restore_best_weights=False,)\n",
    "    callbacks.append(es_callback)\n",
    "\n",
    "\n",
    "class_weights={0: balancing0, 1: balancing1, 2: balancing2, 3: balancing3}\n",
    "history = model.fit(inputs, targets,\n",
    "            class_weight=class_weights,\n",
    "            batch_size=batch_size,\n",
    "            epochs=n_epoch,\n",
    "            validation_data=(test_images, test_labels),\n",
    "            callbacks = callbacks,\n",
    "            verbose=1)\n",
    "print(history.history.keys())\n",
    "mae_per_fold.append(history.history['val_mae'])\n",
    "loss_per_fold.append(history.history['val_loss'])\n",
    "train_mae_per_fold.append(history.history['mae'])\n",
    "\n",
    "Y_prediction = model.predict(test_images)\n",
    "Y_prediction_int=[]\n",
    "for item in Y_prediction:\n",
    "    a = round(item[0])\n",
    "    Y_prediction_int.append(a)\n",
    "\n",
    "accuracy = 0.0\n",
    "for i in range(len(Y_prediction_int)):\n",
    "    if Y_prediction_int[i]==test_labels[i]:\n",
    "        accuracy += 1\n",
    "accuracy = accuracy / len(Y_prediction)\n",
    "#-------------------------------SAVE MODEL-----------------------------------------\n",
    "\n",
    "MODELS_DIR = f'models/experiment_{experiment}/fraction_{fraction}/n_epoch_{n_epoch}/{model_name}/'\n",
    "try:\n",
    "    if not os.path.exists(MODELS_DIR):\n",
    "        os.makedirs(MODELS_DIR)\n",
    "except e:\n",
    "    if e.errno != errno.EEXIST:\n",
    "        raise   \n",
    "    # time.sleep might help here\n",
    "    pass\n",
    "\n",
    "MODEL_TF = MODELS_DIR + f'fold_{fold_no}'\n",
    "model.save(MODEL_TF)\n",
    "# Increase fold number\n",
    "\n",
    "print(model.summary())\n",
    "\n",
    "#---------------------------SAVE RESULTS TO JSON---------------------------------------\n",
    "row = {'model': model_name,\n",
    "       'train_mae' : np.mean(train_mae_per_fold, axis=0).tolist(),\n",
    "       'valid_mae' : np.mean(mae_per_fold, axis=0).tolist(),\n",
    "       'Y_true' : Y_prediction_int, \n",
    "       'Y_pred' : test_labels.tolist(),\n",
    "       'valid_accuracy' : accuracy,\n",
    "       'train_acc_quant':  np.mean(train_acc_per_fold_quant), \n",
    "       'valid_acc_quant':  np.mean(acc_per_fold_quant)\n",
    "}\n",
    "JSON_DIR = f'json_child/experiment_{experiment}/fraction_{fraction}/n_epoch_{n_epoch}'\n",
    "if not os.path.exists(JSON_DIR):\n",
    "    os.makedirs(JSON_DIR)\n",
    "try:\n",
    "    with open(f'{JSON_DIR}/{model_name}.json', 'w') as f:\n",
    "        json.dump(row, f)\n",
    "except Exception as e:\n",
    "    print(e)\n",
    "\n",
    "\n",
    "#--------------------------PLOT ACCURACIES CURVES ------------------------------\n",
    "plt.clf()\n",
    "plt.plot(np.mean(train_mae_per_fold, axis=0))\n",
    "plt.plot(np.mean(mae_per_fold, axis=0))\n",
    "plt.savefig(f'{JSON_DIR}/{model_name}.png')\n",
    "plt.close()"
   ]
  },
  {
   "cell_type": "code",
   "execution_count": 22,
   "metadata": {},
   "outputs": [
    {
     "name": "stdout",
     "output_type": "stream",
     "text": [
      "[0, 1, 0, 2, 0, 1, 1, 1, 2, 0, 2, 1, 0, 2, 1, 1, 2, 0, 1, 1, 1, 2, 2, 2, 1, 0, 1, 2, 0, 1, 1, 2, 1, 1, 1, 0, 0, 1, 2, 1, 0, 1, 0, 2, 2, 1, 1, 1, 2, 2, 1, 2, 1, 1, 0, 1, 1, 1, 0, 2, 2, 1, 0, 1, 1, 0, 1, 1, 0, 0, 1, 1]\n",
      "[0, 2, 0, 2, 0, 1, 1, 1, 3, 0, 2, 0, 0, 3, 1, 3, 2, 1, 2, 1, 2, 3, 3, 2, 1, 0, 1, 2, 1, 1, 0, 2, 1, 1, 1, 0, 0, 1, 1, 2, 0, 1, 0, 2, 2, 1, 1, 1, 2, 2, 1, 3, 1, 2, 0, 1, 1, 1, 0, 3, 2, 1, 0, 1, 1, 0, 0, 3, 0, 0, 1, 1]\n",
      "accuracy = 0.7361111111111112\n",
      "[[16  3  0  0]\n",
      " [ 2 26  1  0]\n",
      " [ 0  5 11  0]\n",
      " [ 0  2  6  0]]\n"
     ]
    }
   ],
   "source": [
    "Y_prediction_int=[]\n",
    "for item in Y_prediction:\n",
    "    a = round(item[0])\n",
    "    Y_prediction_int.append(a)\n",
    "print(Y_prediction_int)\n",
    "print(test_labels.tolist())\n",
    "\n",
    "from sklearn.metrics import confusion_matrix\n",
    "conf = confusion_matrix(test_labels, Y_prediction_int)\n",
    "accuracy = 0.0\n",
    "for i in range(len(Y_prediction_int)):\n",
    "    if Y_prediction_int[i]==test_labels[i]:\n",
    "        accuracy += 1\n",
    "accuracy = accuracy / len(Y_prediction)\n",
    "print(f\"accuracy = {accuracy}\")\n",
    "print(conf)"
   ]
  },
  {
   "cell_type": "code",
   "execution_count": 26,
   "metadata": {},
   "outputs": [
    {
     "name": "stdout",
     "output_type": "stream",
     "text": [
      "[0, 1, 0, 2, 0, 1, 1, 1, 2, 0, 2, 1, 0, 2, 1, 1, 2, 0, 1, 1, 1, 2, 2, 2, 1, 0, 1, 2, 0, 1, 1, 2, 1, 1, 1, 0, 0, 1, 2, 1, 0, 1, 0, 2, 2, 1, 1, 1, 2, 2, 1, 2, 1, 1, 0, 1, 1, 1, 0, 2, 2, 1, 0, 1, 1, 0, 1, 1, 0, 0, 1, 1]\n",
      "[0, 2, 0, 2, 0, 1, 1, 1, 2, 0, 2, 0, 0, 2, 1, 2, 2, 1, 2, 1, 2, 2, 2, 2, 1, 0, 1, 2, 1, 1, 0, 2, 1, 1, 1, 0, 0, 1, 1, 2, 0, 1, 0, 2, 2, 1, 1, 1, 2, 2, 1, 2, 1, 2, 0, 1, 1, 1, 0, 2, 2, 1, 0, 1, 1, 0, 0, 2, 0, 0, 1, 1]\n",
      "accuracy = 0.8194444444444444\n",
      "[[16  3  0]\n",
      " [ 2 26  1]\n",
      " [ 0  7 17]]\n"
     ]
    }
   ],
   "source": [
    "for i in range(len(test_labels)):\n",
    "    if test_labels[i] == 3:\n",
    "        test_labels[i] = 2\n",
    "for i in range(len(Y_prediction_int)):\n",
    "    if Y_prediction_int[i] == 3:\n",
    "        Y_prediction_int[i] = 2\n",
    "            \n",
    "print(Y_prediction_int)\n",
    "print(test_labels.tolist())\n",
    "\n",
    "from sklearn.metrics import confusion_matrix\n",
    "conf = confusion_matrix(test_labels, Y_prediction_int)\n",
    "accuracy = 0.0\n",
    "for i in range(len(Y_prediction_int)):\n",
    "    if Y_prediction_int[i]==test_labels[i]:\n",
    "        accuracy += 1\n",
    "accuracy = accuracy / len(Y_prediction)\n",
    "print(f\"accuracy = {accuracy}\")\n",
    "print(conf)"
   ]
  },
  {
   "cell_type": "markdown",
   "metadata": {},
   "source": [
    "## Training with the full dataset (n_epoch 100)"
   ]
  },
  {
   "cell_type": "code",
   "execution_count": 30,
   "metadata": {},
   "outputs": [],
   "source": [
    "accuracies4=[]\n",
    "accuracies3=[]\n",
    "def train_random_states(amount):\n",
    "    for i in range(amount):\n",
    "        print('----------------------------------------------------------------------------')\n",
    "        print(f'RND STATE NUMBER = {i}')\n",
    "        print('----------------------------------------------------------------------------')\n",
    "        \"\"\"SPLIT THE DATASET\"\"\"\n",
    "        from sklearn.model_selection import train_test_split\n",
    "\n",
    "        train_df, test_df = train_test_split(df, test_size=0.15, random_state = i)\n",
    "        \n",
    "        \"\"\"DATA PREPROCESSING\"\"\"\n",
    "        working_df = train_df\n",
    "        #TRAINING WILL BE DONE WITH THE FFTDATA COLUMN\n",
    "        train_list = working_df.fftData\n",
    "        train_list = np.array(train_list)\n",
    "        train_x = []\n",
    "\n",
    "        \"\"\" Here is performed the frequency selection part of the preprocessing. \n",
    "            Since the fft spectrum is divided in two spectrum of 128 bits each, for performing frequency selection \n",
    "            we need to select from both the first part and the second one.\n",
    "            only one/fraction of the frequencies are selected.\n",
    "        \"\"\"\n",
    "\n",
    "        #Select only first third of both images\n",
    "        fraction = 3 \n",
    "        fraction_data = int(round(128/fraction)) #fraction_data=43 in this case\n",
    "\n",
    "        for i in range(len(train_list)):\n",
    "            #print(len(train_list[i]))\n",
    "            #print(len(train_list[i][0]))\n",
    "\n",
    "            a = np.array(train_list[i])[:, 0 : fraction_data]\n",
    "            b = np.array(train_list[i])[:, 128 : 128 + fraction_data]\n",
    "            c = np.concatenate((a, b), axis=1)\n",
    "            train_x.append(c)\n",
    "        train_arr = []\n",
    "        for x in range(len(train_x)):\n",
    "            train_arr.append(np.array(train_x[x]))\n",
    "        train_list = train_arr \n",
    "\n",
    "        \"\"\"\n",
    "        zscore normalization part of the preprocessing. correcting the dimension of the network.\n",
    "        \"\"\"\n",
    "\n",
    "        print(np.mean(train_list))\n",
    "        print(np.std(train_list))\n",
    "        train_list = scipy.stats.zscore(train_list, axis=None)\n",
    "\n",
    "        #max = np.max(train_list)\n",
    "        #min = np.min(train_list)\n",
    "        #train_list = np.array([[[(x - min) / (max - min) for x in y] for y in z] for z in train_list])\n",
    "\n",
    "\n",
    "        train_tensor = tf.convert_to_tensor(train_list)\n",
    "\n",
    "        #Third dimension value is 1\n",
    "        train_tensor = tf.expand_dims(train_tensor, -1)\n",
    "\n",
    "        print(train_tensor.shape)\n",
    "\n",
    "        \"\"\"\n",
    "        assigning label \n",
    "        \"\"\"\n",
    "\n",
    "        train_label = working_df[\"occupants\"]\n",
    "\n",
    "        #PROPORTIONS OF THE DATASET\n",
    "        passengers0 = 0\n",
    "        passengers1 = 0\n",
    "        passengers2 = 0\n",
    "        passengers3 = 0\n",
    "        for occupants in working_df[\"occupants\"]:\n",
    "            if occupants == 0:\n",
    "                passengers0+=1\n",
    "            if occupants == 1:\n",
    "                passengers1+=1\n",
    "            if occupants == 2:\n",
    "                passengers2+=1\n",
    "            if occupants == 3:\n",
    "                passengers3+=1\n",
    "        balancing0 = passengers0/len(train_df)\n",
    "        balancing1 = passengers1/len(train_df)\n",
    "        balancing2 = passengers2/len(train_df)\n",
    "        balancing3 = passengers3/len(train_df)\n",
    "\n",
    "        print(balancing0)\n",
    "        print(balancing1)\n",
    "        print(balancing2)\n",
    "        print(balancing3)\n",
    "\n",
    "        #train_label = tf.keras.utils.to_categorical(train_label, 3)\n",
    "\n",
    "        \"\"\"Dimensions of the inputs\"\"\"\n",
    "        #53*86 images\n",
    "        img_h, img_w = 53, fraction_data*2\n",
    "        num_classes=3\n",
    "\n",
    "        print(train_label)\n",
    "        \n",
    "        \"\"\"\n",
    "        Perform the same preprocessing steps of the training set to the test set too.\n",
    "        \"\"\"\n",
    "        test_labels = np.array(test_df[\"occupants\"])\n",
    "\n",
    "        #test_labels = tf.keras.utils.to_categorical(test_labels, 3)\n",
    "\n",
    "        test_list = test_df[\"fftData\"]\n",
    "        test_list = np.array(test_list)\n",
    "        test_x = []\n",
    "\n",
    "        fraction = 3 \n",
    "        fraction_data = int(round(128/fraction))\n",
    "\n",
    "        for i in range(len(test_list)):\n",
    "\n",
    "            a = np.array(test_list[i])[:, 0 : fraction_data]\n",
    "            b = np.array(test_list[i])[:, 128 : 128 + fraction_data]\n",
    "            c = np.concatenate((a, b), axis=1)\n",
    "            test_x.append(c)\n",
    "        test_arr = []\n",
    "        for x in range(len(test_x)):\n",
    "            test_arr.append(np.array(test_x[x]))\n",
    "        test_list = test_arr \n",
    "\n",
    "\n",
    "        print(np.mean(test_list))\n",
    "        print(np.std(test_list))\n",
    "        test_list = scipy.stats.zscore(test_list, axis=None)\n",
    "\n",
    "        #max = np.max(train_list)\n",
    "        #min = np.min(train_list)\n",
    "        #train_list = np.array([[[(x - min) / (max - min) for x in y] for y in z] for z in train_list])\n",
    "        test_tensor = tf.convert_to_tensor(test_list)\n",
    "        test_tensor = tf.expand_dims(test_tensor, -1)\n",
    "        print(test_tensor.shape)\n",
    "        test_images = test_tensor\n",
    "        print(test_labels)\n",
    "        \n",
    "        \"\"\"NETWORK DESIGN\"\"\"\n",
    "        folder='4_classes_test_2'\n",
    "        model_name='2-7-3-12-0.3-1'\n",
    "        fraction=3\n",
    "\n",
    "        mypath=f'models_full_train/experiment_{folder}/{model_name}/model'\n",
    "        filenames = next(walk(mypath), (None, None, []))[2]\n",
    "\n",
    "        imported_model = load_model(mypath)\n",
    "        model = tf.keras.Sequential()\n",
    "\n",
    "        for layer in imported_model.layers[:-1]: # go through until last layer\n",
    "            model.add(layer)\n",
    "        model.add(tf.keras.layers.Dense(units=1, activation='linear'))\n",
    "        for layer in model.layers[:-1]:\n",
    "            layer.trainable = False\n",
    "\n",
    "        model.compile(loss='mse', metrics=['mae'])\n",
    "        \n",
    "        print('------------------------------------------------------------------------')\n",
    "        print(f'Training regression model {model_name} with transfer learning')\n",
    "        experiment = f\"regression_test_12_{i}\" #¡¡¡¡¡CHANGE FOLDER!!!!!!\n",
    "\n",
    "        inputs = np.array(train_tensor)\n",
    "        targets = train_label\n",
    "\n",
    "        mae_per_fold = []\n",
    "        loss_per_fold = []\n",
    "        train_mae_per_fold = []\n",
    "\n",
    "        acc_per_fold_quant = []\n",
    "        train_acc_per_fold_quant = []\n",
    "\n",
    "        fold_no = 1\n",
    "        Y_pred_list = []\n",
    "        Y_true_list = []\n",
    "\n",
    "        #--------------------------------STATIC PARAMETERS------------------------------------------\n",
    "\n",
    "        # Optimization params\n",
    "        # -------------------\n",
    "\n",
    "        # Loss\n",
    "        loss = 'mean_squared_error'\n",
    "\n",
    "        # learning rate\n",
    "        lr = 0.3e-4\n",
    "\n",
    "        optimizer = tf.keras.optimizers.Adam(learning_rate=lr)\n",
    "        # -------------------\n",
    "\n",
    "        # Validation metrics\n",
    "        # ------------------\n",
    "\n",
    "        metrics = ['mae','accuracy']\n",
    "\n",
    "        batch_size = 32\n",
    "\n",
    "        n_epoch = 100\n",
    "\n",
    "\n",
    "        #------------------------------------CALLBACKS----------------------------------------\n",
    "        callbacks = []\n",
    "\n",
    "        # Early Stopping\n",
    "        # --------------\n",
    "        early_stop = False\n",
    "        if early_stop:\n",
    "            es_callback = tf.keras.callbacks.EarlyStopping(monitor='val_loss', patience=100, restore_best_weights=False,)\n",
    "            callbacks.append(es_callback)\n",
    "\n",
    "\n",
    "        class_weights={0: balancing0, 1: balancing1, 2: balancing2, 3: balancing3}\n",
    "        history = model.fit(inputs, targets,\n",
    "                    class_weight=class_weights,\n",
    "                    batch_size=batch_size,\n",
    "                    epochs=n_epoch,\n",
    "                    validation_data=(test_images, test_labels),\n",
    "                    callbacks = callbacks,\n",
    "                    verbose=False)\n",
    "        print(history.history.keys())\n",
    "        mae_per_fold.append(history.history['val_mae'])\n",
    "        loss_per_fold.append(history.history['val_loss'])\n",
    "        train_mae_per_fold.append(history.history['mae'])\n",
    "\n",
    "        Y_prediction = model.predict(test_images)\n",
    "        Y_prediction_int=[]\n",
    "        for item in Y_prediction:\n",
    "            a = round(item[0])\n",
    "            Y_prediction_int.append(a)\n",
    "\n",
    "        accuracy4 = 0.0\n",
    "        for i in range(len(Y_prediction_int)):\n",
    "            if Y_prediction_int[i]==test_labels[i]:\n",
    "                accuracy4 += 1\n",
    "        accuracy4 = accuracy4 / len(Y_prediction)\n",
    "        \n",
    "        Y_true = test_labels\n",
    "        for i in range(len(Y_true)):\n",
    "            if Y_true[i] == 3:\n",
    "                Y_true[i] = 2\n",
    "        for i in range(len(Y_prediction_int)):\n",
    "            if Y_prediction_int[i] == 3:\n",
    "                Y_prediction_int[i] = 2\n",
    "                \n",
    "        accuracy3 = 0.0\n",
    "        for i in range(len(Y_prediction_int)):\n",
    "            if Y_prediction_int[i]==Y_true[i]:\n",
    "                accuracy3 += 1\n",
    "        accuracy3 = accuracy3 / len(Y_prediction)\n",
    "        print(f\"accuracy4 = {accuracy4}\")\n",
    "        print(f\"accuracy3 = {accuracy3}\")\n",
    "        #-------------------------------SAVE MODEL-----------------------------------------\n",
    "\n",
    "        MODELS_DIR = f'models/experiment_{experiment}/fraction_{fraction}/n_epoch_{n_epoch}/{model_name}/'\n",
    "        try:\n",
    "            if not os.path.exists(MODELS_DIR):\n",
    "                os.makedirs(MODELS_DIR)\n",
    "        except e:\n",
    "            if e.errno != errno.EEXIST:\n",
    "                raise   \n",
    "            # time.sleep might help here\n",
    "            pass\n",
    "\n",
    "        MODEL_TF = MODELS_DIR + f'fold_{fold_no}'\n",
    "        model.save(MODEL_TF)\n",
    "        \n",
    "        accuracies4.append(accuracy4)\n",
    "        accuracies3.append(accuracy3)\n",
    "        \n",
    "    row = {'accuracies4' : accuracies4,\n",
    "          'accuracies3' : accuracies3}\n",
    "    JSON_DIR = f'json_child/experiment_regression_BEST/fraction_{fraction}/n_epoch_{n_epoch}'\n",
    "    if not os.path.exists(JSON_DIR):\n",
    "        os.makedirs(JSON_DIR)\n",
    "    try:\n",
    "        with open(f'{JSON_DIR}/accuracies.json', 'w') as f:\n",
    "            json.dump(row, f)\n",
    "    except Exception as e:\n",
    "        print(e)"
   ]
  },
  {
   "cell_type": "code",
   "execution_count": 31,
   "metadata": {
    "scrolled": true
   },
   "outputs": [
    {
     "name": "stdout",
     "output_type": "stream",
     "text": [
      "----------------------------------------------------------------------------\n",
      "RND STATE NUMBER = 0\n",
      "----------------------------------------------------------------------------\n",
      "-105.18000980291477\n",
      "14.2873404928517\n",
      "(406, 53, 86, 1)\n",
      "0.2660098522167488\n",
      "0.4039408866995074\n",
      "0.21428571428571427\n",
      "0.11576354679802955\n",
      "440    2\n",
      "230    1\n",
      "245    1\n",
      "160    2\n",
      "402    2\n",
      "      ..\n",
      "323    1\n",
      "192    1\n",
      "117    2\n",
      "47     2\n",
      "172    0\n",
      "Name: occupants, Length: 406, dtype: int64\n",
      "-105.80764896805057\n",
      "14.284908322435399\n",
      "(72, 53, 86, 1)\n",
      "[3 2 0 0 2 1 1 2 2 3 1 2 0 2 1 0 2 3 0 1 1 2 2 2 1 0 1 1 1 2 1 2 0 2 1 3 1\n",
      " 0 0 2 2 3 1 1 1 3 0 1 0 1 1 0 1 3 1 1 0 1 1 0 2 1 2 1 1 1 1 2 0 1 0 2]\n",
      "------------------------------------------------------------------------\n",
      "Training regression model 2-7-3-12-0.3-1 with transfer learning\n",
      "dict_keys(['loss', 'mae', 'val_loss', 'val_mae'])\n",
      "WARNING:tensorflow:5 out of the last 13 calls to <function Model.make_predict_function.<locals>.predict_function at 0x000002632C37F280> triggered tf.function retracing. Tracing is expensive and the excessive number of tracings could be due to (1) creating @tf.function repeatedly in a loop, (2) passing tensors with different shapes, (3) passing Python objects instead of tensors. For (1), please define your @tf.function outside of the loop. For (2), @tf.function has reduce_retracing=True option that can avoid unnecessary retracing. For (3), please refer to https://www.tensorflow.org/guide/function#controlling_retracing and https://www.tensorflow.org/api_docs/python/tf/function for  more details.\n"
     ]
    },
    {
     "name": "stderr",
     "output_type": "stream",
     "text": [
      "WARNING:tensorflow:5 out of the last 13 calls to <function Model.make_predict_function.<locals>.predict_function at 0x000002632C37F280> triggered tf.function retracing. Tracing is expensive and the excessive number of tracings could be due to (1) creating @tf.function repeatedly in a loop, (2) passing tensors with different shapes, (3) passing Python objects instead of tensors. For (1), please define your @tf.function outside of the loop. For (2), @tf.function has reduce_retracing=True option that can avoid unnecessary retracing. For (3), please refer to https://www.tensorflow.org/guide/function#controlling_retracing and https://www.tensorflow.org/api_docs/python/tf/function for  more details.\n"
     ]
    },
    {
     "name": "stdout",
     "output_type": "stream",
     "text": [
      "3/3 [==============================] - 0s 4ms/step\n",
      "accuracy4 = 0.8055555555555556\n",
      "accuracy3 = 0.8194444444444444\n"
     ]
    },
    {
     "name": "stderr",
     "output_type": "stream",
     "text": [
      "WARNING:absl:Found untraced functions such as _jit_compiled_convolution_op, _jit_compiled_convolution_op, _jit_compiled_convolution_op, _jit_compiled_convolution_op, _jit_compiled_convolution_op while saving (showing 5 of 6). These functions will not be directly callable after loading.\n"
     ]
    },
    {
     "name": "stdout",
     "output_type": "stream",
     "text": [
      "INFO:tensorflow:Assets written to: models/experiment_regression_test_12_71/fraction_3/n_epoch_100/2-7-3-12-0.3-1/fold_1\\assets\n"
     ]
    },
    {
     "name": "stderr",
     "output_type": "stream",
     "text": [
      "INFO:tensorflow:Assets written to: models/experiment_regression_test_12_71/fraction_3/n_epoch_100/2-7-3-12-0.3-1/fold_1\\assets\n"
     ]
    },
    {
     "name": "stdout",
     "output_type": "stream",
     "text": [
      "----------------------------------------------------------------------------\n",
      "RND STATE NUMBER = 1\n",
      "----------------------------------------------------------------------------\n",
      "-105.30627770275844\n",
      "14.19675883911384\n",
      "(406, 53, 86, 1)\n",
      "0.2561576354679803\n",
      "0.39408866995073893\n",
      "0.2315270935960591\n",
      "0.11822660098522167\n",
      "403    1\n",
      "466    1\n",
      "132    3\n",
      "270    1\n",
      "146    1\n",
      "      ..\n",
      "255    0\n",
      "72     3\n",
      "396    2\n",
      "235    0\n",
      "37     2\n",
      "Name: occupants, Length: 406, dtype: int64\n",
      "-105.09563831059897\n",
      "14.795425608084532\n",
      "(72, 53, 86, 1)\n",
      "[1 0 3 0 1 1 2 3 1 3 1 1 1 1 1 0 1 0 2 0 2 0 1 1 2 1 0 1 2 3 1 1 1 0 1 1 0\n",
      " 0 1 0 1 1 3 3 2 1 1 0 2 0 0 0 2 0 0 1 1 1 1 2 1 0 1 1 1 2 1 2 0 2 0 1]\n",
      "------------------------------------------------------------------------\n",
      "Training regression model 2-7-3-12-0.3-1 with transfer learning\n",
      "dict_keys(['loss', 'mae', 'val_loss', 'val_mae'])\n",
      "3/3 [==============================] - 0s 3ms/step\n",
      "accuracy4 = 0.7916666666666666\n",
      "accuracy3 = 0.8611111111111112\n"
     ]
    },
    {
     "name": "stderr",
     "output_type": "stream",
     "text": [
      "WARNING:absl:Found untraced functions such as _jit_compiled_convolution_op, _jit_compiled_convolution_op, _jit_compiled_convolution_op, _jit_compiled_convolution_op, _jit_compiled_convolution_op while saving (showing 5 of 6). These functions will not be directly callable after loading.\n"
     ]
    },
    {
     "name": "stdout",
     "output_type": "stream",
     "text": [
      "INFO:tensorflow:Assets written to: models/experiment_regression_test_12_71/fraction_3/n_epoch_100/2-7-3-12-0.3-1/fold_1\\assets\n"
     ]
    },
    {
     "name": "stderr",
     "output_type": "stream",
     "text": [
      "INFO:tensorflow:Assets written to: models/experiment_regression_test_12_71/fraction_3/n_epoch_100/2-7-3-12-0.3-1/fold_1\\assets\n"
     ]
    },
    {
     "name": "stdout",
     "output_type": "stream",
     "text": [
      "----------------------------------------------------------------------------\n",
      "RND STATE NUMBER = 2\n",
      "----------------------------------------------------------------------------\n",
      "-105.33041514606805\n",
      "14.218898681508648\n",
      "(406, 53, 86, 1)\n",
      "0.24630541871921183\n",
      "0.4088669950738916\n",
      "0.2315270935960591\n",
      "0.11330049261083744\n",
      "14     2\n",
      "301    2\n",
      "369    1\n",
      "203    0\n",
      "12     2\n",
      "      ..\n",
      "299    0\n",
      "22     3\n",
      "72     3\n",
      "15     3\n",
      "168    1\n",
      "Name: occupants, Length: 406, dtype: int64\n",
      "-104.9595299497142\n",
      "14.672352948867985\n",
      "(72, 53, 86, 1)\n",
      "[1 1 0 1 1 0 0 0 2 0 0 3 0 0 1 1 1 0 0 1 1 3 0 0 0 2 1 2 1 1 1 1 2 1 2 3 1\n",
      " 2 1 0 1 1 2 1 0 0 0 0 1 0 0 3 1 3 0 0 1 1 1 1 3 0 2 1 2 3 2 1 0 2 2 3]\n",
      "------------------------------------------------------------------------\n",
      "Training regression model 2-7-3-12-0.3-1 with transfer learning\n",
      "dict_keys(['loss', 'mae', 'val_loss', 'val_mae'])\n",
      "3/3 [==============================] - 0s 4ms/step\n",
      "accuracy4 = 0.8055555555555556\n",
      "accuracy3 = 0.8888888888888888\n"
     ]
    },
    {
     "name": "stderr",
     "output_type": "stream",
     "text": [
      "WARNING:absl:Found untraced functions such as _jit_compiled_convolution_op, _jit_compiled_convolution_op, _jit_compiled_convolution_op, _jit_compiled_convolution_op, _jit_compiled_convolution_op while saving (showing 5 of 6). These functions will not be directly callable after loading.\n"
     ]
    },
    {
     "name": "stdout",
     "output_type": "stream",
     "text": [
      "INFO:tensorflow:Assets written to: models/experiment_regression_test_12_71/fraction_3/n_epoch_100/2-7-3-12-0.3-1/fold_1\\assets\n"
     ]
    },
    {
     "name": "stderr",
     "output_type": "stream",
     "text": [
      "INFO:tensorflow:Assets written to: models/experiment_regression_test_12_71/fraction_3/n_epoch_100/2-7-3-12-0.3-1/fold_1\\assets\n"
     ]
    },
    {
     "name": "stdout",
     "output_type": "stream",
     "text": [
      "----------------------------------------------------------------------------\n",
      "RND STATE NUMBER = 3\n",
      "----------------------------------------------------------------------------\n",
      "-105.3595316285224\n",
      "14.368294204123693\n",
      "(406, 53, 86, 1)\n",
      "0.2536945812807882\n",
      "0.4211822660098522\n",
      "0.20689655172413793\n",
      "0.11822660098522167\n",
      "159    1\n",
      "177    0\n",
      "170    1\n",
      "189    0\n",
      "370    1\n",
      "      ..\n",
      "440    2\n",
      "131    0\n",
      "249    0\n",
      "152    1\n",
      "362    1\n",
      "Name: occupants, Length: 406, dtype: int64\n",
      "-104.79534534031882\n",
      "13.821789240821177\n",
      "(72, 53, 86, 1)\n",
      "[2 2 3 0 0 2 1 0 0 2 1 2 0 0 2 0 0 2 1 2 2 2 1 1 0 1 1 2 2 1 2 2 1 2 0 2 2\n",
      " 1 1 1 2 0 1 0 1 1 0 0 1 3 0 3 2 3 3 0 0 1 1 3 1 1 2 0 0 0 2 1 1 0 1 2]\n",
      "------------------------------------------------------------------------\n",
      "Training regression model 2-7-3-12-0.3-1 with transfer learning\n",
      "dict_keys(['loss', 'mae', 'val_loss', 'val_mae'])\n",
      "3/3 [==============================] - 0s 4ms/step\n",
      "accuracy4 = 0.7916666666666666\n",
      "accuracy3 = 0.875\n"
     ]
    },
    {
     "name": "stderr",
     "output_type": "stream",
     "text": [
      "WARNING:absl:Found untraced functions such as _jit_compiled_convolution_op, _jit_compiled_convolution_op, _jit_compiled_convolution_op, _jit_compiled_convolution_op, _jit_compiled_convolution_op while saving (showing 5 of 6). These functions will not be directly callable after loading.\n"
     ]
    },
    {
     "name": "stdout",
     "output_type": "stream",
     "text": [
      "INFO:tensorflow:Assets written to: models/experiment_regression_test_12_71/fraction_3/n_epoch_100/2-7-3-12-0.3-1/fold_1\\assets\n"
     ]
    },
    {
     "name": "stderr",
     "output_type": "stream",
     "text": [
      "INFO:tensorflow:Assets written to: models/experiment_regression_test_12_71/fraction_3/n_epoch_100/2-7-3-12-0.3-1/fold_1\\assets\n"
     ]
    },
    {
     "name": "stdout",
     "output_type": "stream",
     "text": [
      "----------------------------------------------------------------------------\n",
      "RND STATE NUMBER = 4\n",
      "----------------------------------------------------------------------------\n",
      "-105.16175265051322\n",
      "14.307559188477946\n",
      "(406, 53, 86, 1)\n",
      "0.26108374384236455\n",
      "0.4039408866995074\n",
      "0.22660098522167488\n",
      "0.10837438423645321\n",
      "419    0\n",
      "203    0\n",
      "228    1\n",
      "61     2\n",
      "285    0\n",
      "      ..\n",
      "385    2\n",
      "197    0\n",
      "439    1\n",
      "174    1\n",
      "122    1\n",
      "Name: occupants, Length: 406, dtype: int64\n",
      "-105.91059902187042\n",
      "14.165336707560495\n",
      "(72, 53, 86, 1)\n",
      "[0 1 2 3 1 1 3 2 1 3 1 3 2 0 1 1 1 1 0 0 3 1 0 2 2 1 3 1 1 3 0 1 2 0 0 2 1\n",
      " 3 1 1 2 1 1 1 0 0 1 0 1 0 1 1 1 0 2 2 1 0 1 0 0 3 2 0 2 1 2 1 3 2 1 0]\n",
      "------------------------------------------------------------------------\n",
      "Training regression model 2-7-3-12-0.3-1 with transfer learning\n",
      "dict_keys(['loss', 'mae', 'val_loss', 'val_mae'])\n",
      "3/3 [==============================] - 0s 4ms/step\n",
      "accuracy4 = 0.7083333333333334\n",
      "accuracy3 = 0.8194444444444444\n"
     ]
    },
    {
     "name": "stderr",
     "output_type": "stream",
     "text": [
      "WARNING:absl:Found untraced functions such as _jit_compiled_convolution_op, _jit_compiled_convolution_op, _jit_compiled_convolution_op, _jit_compiled_convolution_op, _jit_compiled_convolution_op while saving (showing 5 of 6). These functions will not be directly callable after loading.\n"
     ]
    },
    {
     "name": "stdout",
     "output_type": "stream",
     "text": [
      "INFO:tensorflow:Assets written to: models/experiment_regression_test_12_71/fraction_3/n_epoch_100/2-7-3-12-0.3-1/fold_1\\assets\n"
     ]
    },
    {
     "name": "stderr",
     "output_type": "stream",
     "text": [
      "INFO:tensorflow:Assets written to: models/experiment_regression_test_12_71/fraction_3/n_epoch_100/2-7-3-12-0.3-1/fold_1\\assets\n"
     ]
    },
    {
     "name": "stdout",
     "output_type": "stream",
     "text": [
      "----------------------------------------------------------------------------\n",
      "RND STATE NUMBER = 5\n",
      "----------------------------------------------------------------------------\n",
      "-105.13078369910245\n",
      "14.284040640616656\n",
      "(406, 53, 86, 1)\n",
      "0.26354679802955666\n",
      "0.4014778325123153\n",
      "0.22660098522167488\n",
      "0.10837438423645321\n",
      "336    0\n",
      "376    2\n",
      "138    2\n",
      "306    1\n",
      "33     2\n",
      "      ..\n",
      "400    1\n",
      "118    2\n",
      "189    0\n",
      "206    1\n",
      "355    1\n",
      "Name: occupants, Length: 406, dtype: int64\n",
      "-106.0852294978813\n",
      "14.28814514817273\n",
      "(72, 53, 86, 1)\n",
      "[0 3 1 3 1 0 3 1 0 1 2 1 0 0 2 2 3 0 0 2 1 0 2 1 1 2 2 0 1 3 1 2 0 1 2 1 0\n",
      " 2 1 1 1 1 2 3 1 1 3 0 2 1 1 2 1 1 0 1 3 1 0 1 3 1 1 0 1 1 3 1 0 1 2 0]\n",
      "------------------------------------------------------------------------\n",
      "Training regression model 2-7-3-12-0.3-1 with transfer learning\n",
      "dict_keys(['loss', 'mae', 'val_loss', 'val_mae'])\n",
      "3/3 [==============================] - 0s 4ms/step\n",
      "accuracy4 = 0.7361111111111112\n",
      "accuracy3 = 0.8194444444444444\n"
     ]
    },
    {
     "name": "stderr",
     "output_type": "stream",
     "text": [
      "WARNING:absl:Found untraced functions such as _jit_compiled_convolution_op, _jit_compiled_convolution_op, _jit_compiled_convolution_op, _jit_compiled_convolution_op, _jit_compiled_convolution_op while saving (showing 5 of 6). These functions will not be directly callable after loading.\n"
     ]
    },
    {
     "name": "stdout",
     "output_type": "stream",
     "text": [
      "INFO:tensorflow:Assets written to: models/experiment_regression_test_12_71/fraction_3/n_epoch_100/2-7-3-12-0.3-1/fold_1\\assets\n"
     ]
    },
    {
     "name": "stderr",
     "output_type": "stream",
     "text": [
      "INFO:tensorflow:Assets written to: models/experiment_regression_test_12_71/fraction_3/n_epoch_100/2-7-3-12-0.3-1/fold_1\\assets\n"
     ]
    },
    {
     "name": "stdout",
     "output_type": "stream",
     "text": [
      "----------------------------------------------------------------------------\n",
      "RND STATE NUMBER = 6\n",
      "----------------------------------------------------------------------------\n",
      "-105.19225707627642\n",
      "14.343557626351364\n",
      "(406, 53, 86, 1)\n",
      "0.26354679802955666\n",
      "0.39408866995073893\n",
      "0.22167487684729065\n",
      "0.1206896551724138\n",
      "449    1\n",
      "434    1\n",
      "253    1\n",
      "69     3\n",
      "351    1\n",
      "      ..\n",
      "106    1\n",
      "468    0\n",
      "227    1\n",
      "201    1\n",
      "394    0\n",
      "Name: occupants, Length: 406, dtype: int64\n",
      "-105.73858795437299\n",
      "13.966517981384024\n",
      "(72, 53, 86, 1)\n",
      "[1 1 0 2 1 0 0 0 1 1 3 3 0 2 2 1 1 1 1 1 0 2 1 2 1 0 2 1 2 1 3 2 2 1 1 0 1\n",
      " 2 1 1 1 2 1 0 0 1 0 3 1 1 0 2 1 1 0 3 1 0 2 0 2 2 1 1 1 1 1 1 1 0 0 2]\n",
      "------------------------------------------------------------------------\n",
      "Training regression model 2-7-3-12-0.3-1 with transfer learning\n",
      "dict_keys(['loss', 'mae', 'val_loss', 'val_mae'])\n",
      "3/3 [==============================] - 0s 4ms/step\n",
      "accuracy4 = 0.8333333333333334\n",
      "accuracy3 = 0.875\n"
     ]
    },
    {
     "name": "stderr",
     "output_type": "stream",
     "text": [
      "WARNING:absl:Found untraced functions such as _jit_compiled_convolution_op, _jit_compiled_convolution_op, _jit_compiled_convolution_op, _jit_compiled_convolution_op, _jit_compiled_convolution_op while saving (showing 5 of 6). These functions will not be directly callable after loading.\n"
     ]
    },
    {
     "name": "stdout",
     "output_type": "stream",
     "text": [
      "INFO:tensorflow:Assets written to: models/experiment_regression_test_12_71/fraction_3/n_epoch_100/2-7-3-12-0.3-1/fold_1\\assets\n"
     ]
    },
    {
     "name": "stderr",
     "output_type": "stream",
     "text": [
      "INFO:tensorflow:Assets written to: models/experiment_regression_test_12_71/fraction_3/n_epoch_100/2-7-3-12-0.3-1/fold_1\\assets\n"
     ]
    },
    {
     "name": "stdout",
     "output_type": "stream",
     "text": [
      "----------------------------------------------------------------------------\n",
      "RND STATE NUMBER = 7\n",
      "----------------------------------------------------------------------------\n",
      "-105.25358477457378\n",
      "14.282063946559974\n",
      "(406, 53, 86, 1)\n",
      "0.2660098522167488\n",
      "0.39655172413793105\n",
      "0.22167487684729065\n",
      "0.11576354679802955\n",
      "253    1\n",
      "443    0\n",
      "213    0\n",
      "440    2\n",
      "347    2\n",
      "      ..\n",
      "211    1\n",
      "67     3\n",
      "25     2\n",
      "196    1\n",
      "175    0\n",
      "Name: occupants, Length: 406, dtype: int64\n",
      "-105.39276787786295\n",
      "14.325738928559357\n",
      "(72, 53, 86, 1)\n",
      "[2 1 2 1 3 2 1 2 1 0 3 1 2 1 2 2 3 0 0 1 1 1 1 2 0 1 0 1 0 1 1 1 0 1 1 1 3\n",
      " 0 0 1 2 1 1 3 1 1 1 2 0 1 0 1 2 2 3 1 0 1 2 0 0 1 1 2 3 0 2 1 0 1 1 2]\n",
      "------------------------------------------------------------------------\n",
      "Training regression model 2-7-3-12-0.3-1 with transfer learning\n",
      "dict_keys(['loss', 'mae', 'val_loss', 'val_mae'])\n",
      "3/3 [==============================] - 0s 4ms/step\n",
      "accuracy4 = 0.7777777777777778\n",
      "accuracy3 = 0.8611111111111112\n"
     ]
    },
    {
     "name": "stderr",
     "output_type": "stream",
     "text": [
      "WARNING:absl:Found untraced functions such as _jit_compiled_convolution_op, _jit_compiled_convolution_op, _jit_compiled_convolution_op, _jit_compiled_convolution_op, _jit_compiled_convolution_op while saving (showing 5 of 6). These functions will not be directly callable after loading.\n"
     ]
    },
    {
     "name": "stdout",
     "output_type": "stream",
     "text": [
      "INFO:tensorflow:Assets written to: models/experiment_regression_test_12_71/fraction_3/n_epoch_100/2-7-3-12-0.3-1/fold_1\\assets\n"
     ]
    },
    {
     "name": "stderr",
     "output_type": "stream",
     "text": [
      "INFO:tensorflow:Assets written to: models/experiment_regression_test_12_71/fraction_3/n_epoch_100/2-7-3-12-0.3-1/fold_1\\assets\n"
     ]
    },
    {
     "name": "stdout",
     "output_type": "stream",
     "text": [
      "----------------------------------------------------------------------------\n",
      "RND STATE NUMBER = 8\n",
      "----------------------------------------------------------------------------\n",
      "-105.14495844460083\n",
      "14.393334521122636\n",
      "(406, 53, 86, 1)\n",
      "0.2660098522167488\n",
      "0.4014778325123153\n",
      "0.229064039408867\n",
      "0.10344827586206896\n",
      "59     3\n",
      "350    1\n",
      "185    1\n",
      "295    2\n",
      "4      2\n",
      "      ..\n",
      "136    2\n",
      "133    3\n",
      "361    2\n",
      "340    2\n",
      "451    1\n",
      "Name: occupants, Length: 406, dtype: int64\n",
      "-106.00529968298801\n",
      "13.660980725273314\n",
      "(72, 53, 86, 1)\n",
      "[1 1 3 1 0 2 3 1 1 0 1 1 1 1 0 3 2 0 0 1 0 0 3 2 1 1 1 3 0 1 2 1 0 1 1 3 3\n",
      " 2 1 2 1 2 1 3 1 2 1 1 0 0 1 2 0 2 0 1 0 2 3 3 1 1 0 2 1 3 1 0 1 1 3 2]\n",
      "------------------------------------------------------------------------\n",
      "Training regression model 2-7-3-12-0.3-1 with transfer learning\n",
      "dict_keys(['loss', 'mae', 'val_loss', 'val_mae'])\n",
      "3/3 [==============================] - 0s 3ms/step\n",
      "accuracy4 = 0.7638888888888888\n",
      "accuracy3 = 0.8611111111111112\n"
     ]
    },
    {
     "name": "stderr",
     "output_type": "stream",
     "text": [
      "WARNING:absl:Found untraced functions such as _jit_compiled_convolution_op, _jit_compiled_convolution_op, _jit_compiled_convolution_op, _jit_compiled_convolution_op, _jit_compiled_convolution_op while saving (showing 5 of 6). These functions will not be directly callable after loading.\n"
     ]
    },
    {
     "name": "stdout",
     "output_type": "stream",
     "text": [
      "INFO:tensorflow:Assets written to: models/experiment_regression_test_12_71/fraction_3/n_epoch_100/2-7-3-12-0.3-1/fold_1\\assets\n"
     ]
    },
    {
     "name": "stderr",
     "output_type": "stream",
     "text": [
      "INFO:tensorflow:Assets written to: models/experiment_regression_test_12_71/fraction_3/n_epoch_100/2-7-3-12-0.3-1/fold_1\\assets\n"
     ]
    },
    {
     "name": "stdout",
     "output_type": "stream",
     "text": [
      "----------------------------------------------------------------------------\n",
      "RND STATE NUMBER = 9\n",
      "----------------------------------------------------------------------------\n",
      "-105.0820575757803\n",
      "14.28553967373971\n",
      "(406, 53, 86, 1)\n",
      "0.2536945812807882\n",
      "0.4014778325123153\n",
      "0.21921182266009853\n",
      "0.12561576354679804\n",
      "345    1\n",
      "375    0\n",
      "80     3\n",
      "196    1\n",
      "282    2\n",
      "      ..\n",
      "56     1\n",
      "438    0\n",
      "126    3\n",
      "348    1\n",
      "382    0\n",
      "Name: occupants, Length: 406, dtype: int64\n",
      "-106.35999069328125\n",
      "14.258198533008281\n",
      "(72, 53, 86, 1)\n",
      "[1 0 0 0 0 2 2 2 1 1 3 1 1 1 2 1 1 2 1 1 1 1 2 0 0 2 1 2 2 1 1 1 0 0 0 2 1\n",
      " 1 2 1 0 1 1 1 2 1 1 2 0 2 0 2 1 0 1 0 2 1 0 1 0 0 3 1 0 2 1 0 0 1 0 3]\n",
      "------------------------------------------------------------------------\n",
      "Training regression model 2-7-3-12-0.3-1 with transfer learning\n",
      "dict_keys(['loss', 'mae', 'val_loss', 'val_mae'])\n",
      "3/3 [==============================] - 0s 3ms/step\n",
      "accuracy4 = 0.8055555555555556\n",
      "accuracy3 = 0.8194444444444444\n"
     ]
    },
    {
     "name": "stderr",
     "output_type": "stream",
     "text": [
      "WARNING:absl:Found untraced functions such as _jit_compiled_convolution_op, _jit_compiled_convolution_op, _jit_compiled_convolution_op, _jit_compiled_convolution_op, _jit_compiled_convolution_op while saving (showing 5 of 6). These functions will not be directly callable after loading.\n"
     ]
    },
    {
     "name": "stdout",
     "output_type": "stream",
     "text": [
      "INFO:tensorflow:Assets written to: models/experiment_regression_test_12_71/fraction_3/n_epoch_100/2-7-3-12-0.3-1/fold_1\\assets\n"
     ]
    },
    {
     "name": "stderr",
     "output_type": "stream",
     "text": [
      "INFO:tensorflow:Assets written to: models/experiment_regression_test_12_71/fraction_3/n_epoch_100/2-7-3-12-0.3-1/fold_1\\assets\n"
     ]
    },
    {
     "name": "stdout",
     "output_type": "stream",
     "text": [
      "----------------------------------------------------------------------------\n",
      "RND STATE NUMBER = 10\n",
      "----------------------------------------------------------------------------\n",
      "-105.1863291356315\n",
      "14.331531090911533\n",
      "(406, 53, 86, 1)\n",
      "0.2561576354679803\n",
      "0.39901477832512317\n",
      "0.2315270935960591\n",
      "0.11330049261083744\n",
      "10     2\n",
      "264    1\n",
      "151    0\n",
      "164    2\n",
      "329    1\n",
      "      ..\n",
      "369    1\n",
      "320    0\n",
      "15     3\n",
      "125    2\n",
      "265    1\n",
      "Name: occupants, Length: 406, dtype: int64\n",
      "-105.77201495300956\n",
      "14.03461516888005\n",
      "(72, 53, 86, 1)\n",
      "[2 1 0 1 3 1 2 1 2 0 1 0 1 1 1 1 1 1 1 0 2 0 1 0 2 3 1 0 3 0 1 3 1 2 2 0 2\n",
      " 0 1 0 0 1 3 1 1 2 0 1 0 0 1 3 1 0 2 1 0 2 3 0 1 1 1 1 0 1 1 1 0 3 1 2]\n",
      "------------------------------------------------------------------------\n",
      "Training regression model 2-7-3-12-0.3-1 with transfer learning\n",
      "dict_keys(['loss', 'mae', 'val_loss', 'val_mae'])\n",
      "3/3 [==============================] - 0s 4ms/step\n",
      "accuracy4 = 0.7916666666666666\n",
      "accuracy3 = 0.8472222222222222\n"
     ]
    },
    {
     "name": "stderr",
     "output_type": "stream",
     "text": [
      "WARNING:absl:Found untraced functions such as _jit_compiled_convolution_op, _jit_compiled_convolution_op, _jit_compiled_convolution_op, _jit_compiled_convolution_op, _jit_compiled_convolution_op while saving (showing 5 of 6). These functions will not be directly callable after loading.\n"
     ]
    },
    {
     "name": "stdout",
     "output_type": "stream",
     "text": [
      "INFO:tensorflow:Assets written to: models/experiment_regression_test_12_71/fraction_3/n_epoch_100/2-7-3-12-0.3-1/fold_1\\assets\n"
     ]
    },
    {
     "name": "stderr",
     "output_type": "stream",
     "text": [
      "INFO:tensorflow:Assets written to: models/experiment_regression_test_12_71/fraction_3/n_epoch_100/2-7-3-12-0.3-1/fold_1\\assets\n"
     ]
    },
    {
     "name": "stdout",
     "output_type": "stream",
     "text": [
      "----------------------------------------------------------------------------\n",
      "RND STATE NUMBER = 11\n",
      "----------------------------------------------------------------------------\n",
      "-105.26588475216813\n",
      "14.321195134888676\n",
      "(406, 53, 86, 1)\n",
      "0.25862068965517243\n",
      "0.39655172413793105\n",
      "0.22167487684729065\n",
      "0.12315270935960591\n",
      "218    0\n",
      "351    1\n",
      "398    0\n",
      "403    1\n",
      "369    1\n",
      "      ..\n",
      "337    1\n",
      "91     1\n",
      "80     3\n",
      "191    1\n",
      "409    1\n",
      "Name: occupants, Length: 406, dtype: int64\n",
      "-105.32340967087217\n",
      "14.10421732418096\n",
      "(72, 53, 86, 1)\n",
      "[2 1 0 0 1 0 2 1 0 1 3 1 2 1 1 1 0 1 1 1 3 1 0 2 1 1 0 0 1 3 1 1 2 3 1 1 1\n",
      " 2 0 0 1 0 2 1 0 1 2 1 2 0 1 1 2 0 0 1 1 1 2 2 0 0 2 0 1 2 2 1 0 1 2 1]\n",
      "------------------------------------------------------------------------\n",
      "Training regression model 2-7-3-12-0.3-1 with transfer learning\n",
      "dict_keys(['loss', 'mae', 'val_loss', 'val_mae'])\n",
      "3/3 [==============================] - 0s 4ms/step\n",
      "accuracy4 = 0.8472222222222222\n",
      "accuracy3 = 0.8888888888888888\n"
     ]
    },
    {
     "name": "stderr",
     "output_type": "stream",
     "text": [
      "WARNING:absl:Found untraced functions such as _jit_compiled_convolution_op, _jit_compiled_convolution_op, _jit_compiled_convolution_op, _jit_compiled_convolution_op, _jit_compiled_convolution_op while saving (showing 5 of 6). These functions will not be directly callable after loading.\n"
     ]
    },
    {
     "name": "stdout",
     "output_type": "stream",
     "text": [
      "INFO:tensorflow:Assets written to: models/experiment_regression_test_12_71/fraction_3/n_epoch_100/2-7-3-12-0.3-1/fold_1\\assets\n"
     ]
    },
    {
     "name": "stderr",
     "output_type": "stream",
     "text": [
      "INFO:tensorflow:Assets written to: models/experiment_regression_test_12_71/fraction_3/n_epoch_100/2-7-3-12-0.3-1/fold_1\\assets\n"
     ]
    },
    {
     "name": "stdout",
     "output_type": "stream",
     "text": [
      "----------------------------------------------------------------------------\n",
      "RND STATE NUMBER = 12\n",
      "----------------------------------------------------------------------------\n",
      "-105.11584779449103\n",
      "14.317767523848572\n",
      "(406, 53, 86, 1)\n",
      "0.270935960591133\n",
      "0.3916256157635468\n",
      "0.22413793103448276\n",
      "0.11330049261083744\n",
      "385    2\n",
      "255    0\n",
      "314    2\n",
      "268    0\n",
      "470    3\n",
      "      ..\n",
      "241    1\n",
      "253    1\n",
      "390    1\n",
      "155    0\n",
      "331    1\n",
      "Name: occupants, Length: 406, dtype: int64\n",
      "-106.16945140444018\n",
      "14.09050803688582\n",
      "(72, 53, 86, 1)\n",
      "[2 1 1 2 1 1 0 1 1 1 0 0 1 1 2 0 3 1 3 2 3 0 2 1 0 1 1 1 2 1 1 2 3 1 3 2 1\n",
      " 1 1 0 1 1 1 1 1 0 1 1 2 2 1 0 1 1 2 3 3 0 0 1 2 1 2 2 0 2 0 1 3 1 0 1]\n",
      "------------------------------------------------------------------------\n",
      "Training regression model 2-7-3-12-0.3-1 with transfer learning\n",
      "dict_keys(['loss', 'mae', 'val_loss', 'val_mae'])\n",
      "3/3 [==============================] - 0s 3ms/step\n",
      "accuracy4 = 0.7916666666666666\n",
      "accuracy3 = 0.8472222222222222\n"
     ]
    },
    {
     "name": "stderr",
     "output_type": "stream",
     "text": [
      "WARNING:absl:Found untraced functions such as _jit_compiled_convolution_op, _jit_compiled_convolution_op, _jit_compiled_convolution_op, _jit_compiled_convolution_op, _jit_compiled_convolution_op while saving (showing 5 of 6). These functions will not be directly callable after loading.\n"
     ]
    },
    {
     "name": "stdout",
     "output_type": "stream",
     "text": [
      "INFO:tensorflow:Assets written to: models/experiment_regression_test_12_71/fraction_3/n_epoch_100/2-7-3-12-0.3-1/fold_1\\assets\n"
     ]
    },
    {
     "name": "stderr",
     "output_type": "stream",
     "text": [
      "INFO:tensorflow:Assets written to: models/experiment_regression_test_12_71/fraction_3/n_epoch_100/2-7-3-12-0.3-1/fold_1\\assets\n"
     ]
    },
    {
     "name": "stdout",
     "output_type": "stream",
     "text": [
      "----------------------------------------------------------------------------\n",
      "RND STATE NUMBER = 13\n",
      "----------------------------------------------------------------------------\n",
      "-105.11066118975579\n",
      "14.351076738000412\n",
      "(406, 53, 86, 1)\n",
      "0.2684729064039409\n",
      "0.3916256157635468\n",
      "0.229064039408867\n",
      "0.11083743842364532\n",
      "157    1\n",
      "30     2\n",
      "69     3\n",
      "408    1\n",
      "336    0\n",
      "      ..\n",
      "230    1\n",
      "16     1\n",
      "74     2\n",
      "176    1\n",
      "338    2\n",
      "Name: occupants, Length: 406, dtype: int64\n",
      "-106.19869809225328\n",
      "13.895862659478029\n",
      "(72, 53, 86, 1)\n",
      "[1 2 1 3 0 1 1 0 3 1 1 0 1 1 2 3 2 1 3 3 1 1 1 3 1 0 2 1 0 2 1 2 1 1 0 3 2\n",
      " 1 2 2 1 1 2 1 0 2 1 2 1 1 1 1 0 1 0 0 1 0 0 1 1 0 0 1 0 1 1 3 3 1 2 1]\n",
      "------------------------------------------------------------------------\n",
      "Training regression model 2-7-3-12-0.3-1 with transfer learning\n",
      "dict_keys(['loss', 'mae', 'val_loss', 'val_mae'])\n",
      "3/3 [==============================] - 0s 4ms/step\n",
      "accuracy4 = 0.7361111111111112\n",
      "accuracy3 = 0.8333333333333334\n"
     ]
    },
    {
     "name": "stderr",
     "output_type": "stream",
     "text": [
      "WARNING:absl:Found untraced functions such as _jit_compiled_convolution_op, _jit_compiled_convolution_op, _jit_compiled_convolution_op, _jit_compiled_convolution_op, _jit_compiled_convolution_op while saving (showing 5 of 6). These functions will not be directly callable after loading.\n"
     ]
    },
    {
     "name": "stdout",
     "output_type": "stream",
     "text": [
      "INFO:tensorflow:Assets written to: models/experiment_regression_test_12_71/fraction_3/n_epoch_100/2-7-3-12-0.3-1/fold_1\\assets\n"
     ]
    },
    {
     "name": "stderr",
     "output_type": "stream",
     "text": [
      "INFO:tensorflow:Assets written to: models/experiment_regression_test_12_71/fraction_3/n_epoch_100/2-7-3-12-0.3-1/fold_1\\assets\n"
     ]
    },
    {
     "name": "stdout",
     "output_type": "stream",
     "text": [
      "----------------------------------------------------------------------------\n",
      "RND STATE NUMBER = 14\n",
      "----------------------------------------------------------------------------\n",
      "-105.3749139659847\n",
      "14.344321980236723\n",
      "(406, 53, 86, 1)\n",
      "0.26108374384236455\n",
      "0.41625615763546797\n",
      "0.20689655172413793\n",
      "0.11576354679802955\n",
      "347    2\n",
      "189    0\n",
      "287    1\n",
      "117    2\n",
      "160    2\n",
      "      ..\n",
      "327    0\n",
      "406    0\n",
      "268    0\n",
      "344    1\n",
      "107    2\n",
      "Name: occupants, Length: 406, dtype: int64\n",
      "-104.70860604851794\n",
      "13.95766465152831\n",
      "(72, 53, 86, 1)\n",
      "[2 2 0 3 2 2 2 1 0 1 0 1 1 1 1 0 2 2 1 0 0 1 1 1 0 2 1 2 0 1 0 1 2 0 0 0 1\n",
      " 0 3 2 3 1 1 3 1 0 1 0 1 2 2 3 2 2 1 2 0 2 2 2 0 1 3 3 2 2 0 1 1 1 1 2]\n",
      "------------------------------------------------------------------------\n",
      "Training regression model 2-7-3-12-0.3-1 with transfer learning\n",
      "dict_keys(['loss', 'mae', 'val_loss', 'val_mae'])\n",
      "3/3 [==============================] - 0s 4ms/step\n",
      "accuracy4 = 0.75\n",
      "accuracy3 = 0.8333333333333334\n"
     ]
    },
    {
     "name": "stderr",
     "output_type": "stream",
     "text": [
      "WARNING:absl:Found untraced functions such as _jit_compiled_convolution_op, _jit_compiled_convolution_op, _jit_compiled_convolution_op, _jit_compiled_convolution_op, _jit_compiled_convolution_op while saving (showing 5 of 6). These functions will not be directly callable after loading.\n"
     ]
    },
    {
     "name": "stdout",
     "output_type": "stream",
     "text": [
      "INFO:tensorflow:Assets written to: models/experiment_regression_test_12_71/fraction_3/n_epoch_100/2-7-3-12-0.3-1/fold_1\\assets\n"
     ]
    },
    {
     "name": "stderr",
     "output_type": "stream",
     "text": [
      "INFO:tensorflow:Assets written to: models/experiment_regression_test_12_71/fraction_3/n_epoch_100/2-7-3-12-0.3-1/fold_1\\assets\n"
     ]
    },
    {
     "name": "stdout",
     "output_type": "stream",
     "text": [
      "----------------------------------------------------------------------------\n",
      "RND STATE NUMBER = 15\n",
      "----------------------------------------------------------------------------\n",
      "-105.15936934591352\n",
      "14.314608105159294\n",
      "(406, 53, 86, 1)\n",
      "0.2512315270935961\n",
      "0.4187192118226601\n",
      "0.21428571428571427\n",
      "0.11576354679802955\n",
      "477    0\n",
      "73     3\n",
      "341    1\n",
      "428    1\n",
      "149    0\n",
      "      ..\n",
      "375    0\n",
      "133    3\n",
      "396    2\n",
      "245    1\n",
      "456    1\n",
      "Name: occupants, Length: 406, dtype: int64\n",
      "-105.92403821169668\n",
      "14.12440257340646\n",
      "(72, 53, 86, 1)\n",
      "[1 1 1 1 0 2 1 0 2 0 0 1 3 0 1 0 0 1 0 2 3 2 0 2 1 1 1 2 2 3 3 3 0 0 0 1 1\n",
      " 2 2 3 2 2 0 2 1 0 1 1 1 2 2 0 0 1 1 1 0 2 0 1 3 2 0 1 0 2 2 0 2 0 1 1]\n",
      "------------------------------------------------------------------------\n",
      "Training regression model 2-7-3-12-0.3-1 with transfer learning\n",
      "dict_keys(['loss', 'mae', 'val_loss', 'val_mae'])\n",
      "3/3 [==============================] - 0s 4ms/step\n",
      "accuracy4 = 0.75\n",
      "accuracy3 = 0.7916666666666666\n"
     ]
    },
    {
     "name": "stderr",
     "output_type": "stream",
     "text": [
      "WARNING:absl:Found untraced functions such as _jit_compiled_convolution_op, _jit_compiled_convolution_op, _jit_compiled_convolution_op, _jit_compiled_convolution_op, _jit_compiled_convolution_op while saving (showing 5 of 6). These functions will not be directly callable after loading.\n"
     ]
    },
    {
     "name": "stdout",
     "output_type": "stream",
     "text": [
      "INFO:tensorflow:Assets written to: models/experiment_regression_test_12_71/fraction_3/n_epoch_100/2-7-3-12-0.3-1/fold_1\\assets\n"
     ]
    },
    {
     "name": "stderr",
     "output_type": "stream",
     "text": [
      "INFO:tensorflow:Assets written to: models/experiment_regression_test_12_71/fraction_3/n_epoch_100/2-7-3-12-0.3-1/fold_1\\assets\n"
     ]
    },
    {
     "name": "stdout",
     "output_type": "stream",
     "text": [
      "----------------------------------------------------------------------------\n",
      "RND STATE NUMBER = 16\n",
      "----------------------------------------------------------------------------\n",
      "-105.17522725826238\n",
      "14.400600706852792\n",
      "(406, 53, 86, 1)\n",
      "0.26108374384236455\n",
      "0.4187192118226601\n",
      "0.2019704433497537\n",
      "0.11822660098522167\n",
      "434    1\n",
      "426    2\n",
      "304    0\n",
      "70     2\n",
      "374    1\n",
      "      ..\n",
      "321    1\n",
      "69     3\n",
      "121    2\n",
      "238    1\n",
      "169    1\n",
      "Name: occupants, Length: 406, dtype: int64\n",
      "-105.8346172059519\n",
      "13.627252319898634\n",
      "(72, 53, 86, 1)\n",
      "[2 0 1 1 3 3 2 1 0 0 1 1 0 2 3 2 2 1 2 1 1 0 0 1 1 0 0 2 0 1 1 1 2 1 1 2 2\n",
      " 2 1 1 0 1 2 2 2 1 3 0 0 1 2 0 2 2 0 2 0 2 3 1 2 0 0 2 3 1 1 2 1 0 2 2]\n",
      "------------------------------------------------------------------------\n",
      "Training regression model 2-7-3-12-0.3-1 with transfer learning\n",
      "dict_keys(['loss', 'mae', 'val_loss', 'val_mae'])\n",
      "3/3 [==============================] - 0s 4ms/step\n",
      "accuracy4 = 0.7777777777777778\n",
      "accuracy3 = 0.875\n"
     ]
    },
    {
     "name": "stderr",
     "output_type": "stream",
     "text": [
      "WARNING:absl:Found untraced functions such as _jit_compiled_convolution_op, _jit_compiled_convolution_op, _jit_compiled_convolution_op, _jit_compiled_convolution_op, _jit_compiled_convolution_op while saving (showing 5 of 6). These functions will not be directly callable after loading.\n"
     ]
    },
    {
     "name": "stdout",
     "output_type": "stream",
     "text": [
      "INFO:tensorflow:Assets written to: models/experiment_regression_test_12_71/fraction_3/n_epoch_100/2-7-3-12-0.3-1/fold_1\\assets\n"
     ]
    },
    {
     "name": "stderr",
     "output_type": "stream",
     "text": [
      "INFO:tensorflow:Assets written to: models/experiment_regression_test_12_71/fraction_3/n_epoch_100/2-7-3-12-0.3-1/fold_1\\assets\n"
     ]
    },
    {
     "name": "stdout",
     "output_type": "stream",
     "text": [
      "----------------------------------------------------------------------------\n",
      "RND STATE NUMBER = 17\n",
      "----------------------------------------------------------------------------\n",
      "-105.18605412194394\n",
      "14.237257155227946\n",
      "(406, 53, 86, 1)\n",
      "0.2561576354679803\n",
      "0.4088669950738916\n",
      "0.22167487684729065\n",
      "0.11330049261083744\n",
      "287    1\n",
      "453    1\n",
      "333    2\n",
      "412    1\n",
      "435    1\n",
      "      ..\n",
      "406    0\n",
      "390    1\n",
      "143    1\n",
      "241    1\n",
      "111    2\n",
      "Name: occupants, Length: 406, dtype: int64\n",
      "-105.77356572463617\n",
      "14.565568252097401\n",
      "(72, 53, 86, 1)\n",
      "[2 1 2 3 3 0 2 1 0 1 0 1 0 0 1 1 0 1 3 1 0 1 1 2 1 0 1 3 0 0 1 0 1 1 2 0 2\n",
      " 3 0 0 2 0 1 2 0 1 2 3 1 1 1 2 3 2 1 1 2 1 0 0 1 1 3 1 2 0 2 2 1 1 0 2]\n",
      "------------------------------------------------------------------------\n",
      "Training regression model 2-7-3-12-0.3-1 with transfer learning\n",
      "dict_keys(['loss', 'mae', 'val_loss', 'val_mae'])\n",
      "3/3 [==============================] - 0s 3ms/step\n",
      "accuracy4 = 0.7916666666666666\n",
      "accuracy3 = 0.8888888888888888\n"
     ]
    },
    {
     "name": "stderr",
     "output_type": "stream",
     "text": [
      "WARNING:absl:Found untraced functions such as _jit_compiled_convolution_op, _jit_compiled_convolution_op, _jit_compiled_convolution_op, _jit_compiled_convolution_op, _jit_compiled_convolution_op while saving (showing 5 of 6). These functions will not be directly callable after loading.\n"
     ]
    },
    {
     "name": "stdout",
     "output_type": "stream",
     "text": [
      "INFO:tensorflow:Assets written to: models/experiment_regression_test_12_71/fraction_3/n_epoch_100/2-7-3-12-0.3-1/fold_1\\assets\n"
     ]
    },
    {
     "name": "stderr",
     "output_type": "stream",
     "text": [
      "INFO:tensorflow:Assets written to: models/experiment_regression_test_12_71/fraction_3/n_epoch_100/2-7-3-12-0.3-1/fold_1\\assets\n"
     ]
    },
    {
     "name": "stdout",
     "output_type": "stream",
     "text": [
      "----------------------------------------------------------------------------\n",
      "RND STATE NUMBER = 18\n",
      "----------------------------------------------------------------------------\n",
      "-105.27383607453983\n",
      "14.324610307624866\n",
      "(406, 53, 86, 1)\n",
      "0.2512315270935961\n",
      "0.41379310344827586\n",
      "0.21182266009852216\n",
      "0.12315270935960591\n",
      "148    0\n",
      "69     3\n",
      "441    1\n",
      "332    1\n",
      "468    0\n",
      "      ..\n",
      "190    1\n",
      "325    1\n",
      "120    3\n",
      "275    1\n",
      "298    0\n",
      "Name: occupants, Length: 406, dtype: int64\n",
      "-105.27857304749809\n",
      "14.084746477418694\n",
      "(72, 53, 86, 1)\n",
      "[0 1 0 0 1 0 0 2 1 1 1 1 2 1 2 1 0 3 2 0 2 1 1 0 1 2 1 3 0 0 2 2 0 2 1 1 2\n",
      " 0 2 1 0 3 0 0 2 1 1 1 1 1 1 1 0 3 2 1 1 0 2 0 1 2 2 0 0 0 2 0 2 2 2 1]\n",
      "------------------------------------------------------------------------\n",
      "Training regression model 2-7-3-12-0.3-1 with transfer learning\n",
      "dict_keys(['loss', 'mae', 'val_loss', 'val_mae'])\n",
      "3/3 [==============================] - 0s 5ms/step\n",
      "accuracy4 = 0.8472222222222222\n",
      "accuracy3 = 0.9166666666666666\n"
     ]
    },
    {
     "name": "stderr",
     "output_type": "stream",
     "text": [
      "WARNING:absl:Found untraced functions such as _jit_compiled_convolution_op, _jit_compiled_convolution_op, _jit_compiled_convolution_op, _jit_compiled_convolution_op, _jit_compiled_convolution_op while saving (showing 5 of 6). These functions will not be directly callable after loading.\n"
     ]
    },
    {
     "name": "stdout",
     "output_type": "stream",
     "text": [
      "INFO:tensorflow:Assets written to: models/experiment_regression_test_12_71/fraction_3/n_epoch_100/2-7-3-12-0.3-1/fold_1\\assets\n"
     ]
    },
    {
     "name": "stderr",
     "output_type": "stream",
     "text": [
      "INFO:tensorflow:Assets written to: models/experiment_regression_test_12_71/fraction_3/n_epoch_100/2-7-3-12-0.3-1/fold_1\\assets\n"
     ]
    },
    {
     "name": "stdout",
     "output_type": "stream",
     "text": [
      "----------------------------------------------------------------------------\n",
      "RND STATE NUMBER = 19\n",
      "----------------------------------------------------------------------------\n",
      "-105.25873196004304\n",
      "14.312064462006092\n",
      "(406, 53, 86, 1)\n",
      "0.25862068965517243\n",
      "0.4187192118226601\n",
      "0.20935960591133004\n",
      "0.11330049261083744\n",
      "79     3\n",
      "417    0\n",
      "252    1\n",
      "41     2\n",
      "96     1\n",
      "      ..\n",
      "424    0\n",
      "354    1\n",
      "245    1\n",
      "110    1\n",
      "93     3\n",
      "Name: occupants, Length: 406, dtype: int64\n",
      "-105.36374347091105\n",
      "14.1561515587361\n",
      "(72, 53, 86, 1)\n",
      "[1 0 1 0 0 0 2 1 2 1 0 0 1 0 2 2 1 0 3 0 1 0 2 2 3 2 1 3 1 0 1 1 3 2 2 2 0\n",
      " 3 1 1 2 2 2 0 1 1 3 2 1 1 0 2 1 1 0 2 2 0 0 3 1 1 1 0 2 1 3 2 1 0 2 2]\n",
      "------------------------------------------------------------------------\n",
      "Training regression model 2-7-3-12-0.3-1 with transfer learning\n",
      "dict_keys(['loss', 'mae', 'val_loss', 'val_mae'])\n",
      "3/3 [==============================] - 0s 4ms/step\n",
      "accuracy4 = 0.7222222222222222\n",
      "accuracy3 = 0.8194444444444444\n"
     ]
    },
    {
     "name": "stderr",
     "output_type": "stream",
     "text": [
      "WARNING:absl:Found untraced functions such as _jit_compiled_convolution_op, _jit_compiled_convolution_op, _jit_compiled_convolution_op, _jit_compiled_convolution_op, _jit_compiled_convolution_op while saving (showing 5 of 6). These functions will not be directly callable after loading.\n"
     ]
    },
    {
     "name": "stdout",
     "output_type": "stream",
     "text": [
      "INFO:tensorflow:Assets written to: models/experiment_regression_test_12_71/fraction_3/n_epoch_100/2-7-3-12-0.3-1/fold_1\\assets\n"
     ]
    },
    {
     "name": "stderr",
     "output_type": "stream",
     "text": [
      "INFO:tensorflow:Assets written to: models/experiment_regression_test_12_71/fraction_3/n_epoch_100/2-7-3-12-0.3-1/fold_1\\assets\n"
     ]
    },
    {
     "name": "stdout",
     "output_type": "stream",
     "text": [
      "----------------------------------------------------------------------------\n",
      "RND STATE NUMBER = 20\n",
      "----------------------------------------------------------------------------\n",
      "-105.5600291722606\n",
      "14.225293296095959\n",
      "(406, 53, 86, 1)\n",
      "0.25862068965517243\n",
      "0.4211822660098522\n",
      "0.21182266009852216\n",
      "0.10837438423645321\n",
      "306    1\n",
      "169    1\n",
      "91     1\n",
      "9      3\n",
      "341    1\n",
      "      ..\n",
      "412    1\n",
      "223    1\n",
      "271    1\n",
      "474    1\n",
      "355    1\n",
      "Name: occupants, Length: 406, dtype: int64\n",
      "-103.66476196868429\n",
      "14.536785889278022\n",
      "(72, 53, 86, 1)\n",
      "[2 2 0 1 2 1 2 0 1 1 0 0 2 2 1 0 2 2 2 0 1 2 2 2 1 1 2 0 0 0 2 2 1 1 2 0 0\n",
      " 1 3 1 3 1 2 3 2 3 0 1 1 3 0 0 1 2 3 0 3 1 0 0 2 0 3 1 3 1 1 1 1 0 1 3]\n",
      "------------------------------------------------------------------------\n",
      "Training regression model 2-7-3-12-0.3-1 with transfer learning\n",
      "dict_keys(['loss', 'mae', 'val_loss', 'val_mae'])\n",
      "3/3 [==============================] - 0s 4ms/step\n",
      "accuracy4 = 0.6666666666666666\n",
      "accuracy3 = 0.75\n"
     ]
    },
    {
     "name": "stderr",
     "output_type": "stream",
     "text": [
      "WARNING:absl:Found untraced functions such as _jit_compiled_convolution_op, _jit_compiled_convolution_op, _jit_compiled_convolution_op, _jit_compiled_convolution_op, _jit_compiled_convolution_op while saving (showing 5 of 6). These functions will not be directly callable after loading.\n"
     ]
    },
    {
     "name": "stdout",
     "output_type": "stream",
     "text": [
      "INFO:tensorflow:Assets written to: models/experiment_regression_test_12_71/fraction_3/n_epoch_100/2-7-3-12-0.3-1/fold_1\\assets\n"
     ]
    },
    {
     "name": "stderr",
     "output_type": "stream",
     "text": [
      "INFO:tensorflow:Assets written to: models/experiment_regression_test_12_71/fraction_3/n_epoch_100/2-7-3-12-0.3-1/fold_1\\assets\n"
     ]
    },
    {
     "name": "stdout",
     "output_type": "stream",
     "text": [
      "----------------------------------------------------------------------------\n",
      "RND STATE NUMBER = 21\n",
      "----------------------------------------------------------------------------\n",
      "-105.33095425761144\n",
      "14.233973478190203\n",
      "(406, 53, 86, 1)\n",
      "0.2733990147783251\n",
      "0.41133004926108374\n",
      "0.19950738916256158\n",
      "0.11576354679802955\n",
      "392    0\n",
      "464    1\n",
      "140    3\n",
      "96     1\n",
      "311    1\n",
      "      ..\n",
      "48     3\n",
      "260    1\n",
      "312    1\n",
      "207    0\n",
      "457    0\n",
      "Name: occupants, Length: 406, dtype: int64\n",
      "-104.95648995962277\n",
      "14.58962082639537\n",
      "(72, 53, 86, 1)\n",
      "[1 0 2 3 1 0 2 1 3 2 2 2 1 1 2 1 1 1 0 2 2 1 0 1 2 1 2 2 1 0 1 1 2 2 1 1 1\n",
      " 0 2 0 0 2 1 2 2 0 2 2 3 1 2 0 2 3 1 2 3 2 0 1 1 3 2 2 1 0 1 0 3 1 1 1]\n",
      "------------------------------------------------------------------------\n",
      "Training regression model 2-7-3-12-0.3-1 with transfer learning\n",
      "dict_keys(['loss', 'mae', 'val_loss', 'val_mae'])\n",
      "3/3 [==============================] - 0s 4ms/step\n",
      "accuracy4 = 0.7916666666666666\n",
      "accuracy3 = 0.8611111111111112\n"
     ]
    },
    {
     "name": "stderr",
     "output_type": "stream",
     "text": [
      "WARNING:absl:Found untraced functions such as _jit_compiled_convolution_op, _jit_compiled_convolution_op, _jit_compiled_convolution_op, _jit_compiled_convolution_op, _jit_compiled_convolution_op while saving (showing 5 of 6). These functions will not be directly callable after loading.\n"
     ]
    },
    {
     "name": "stdout",
     "output_type": "stream",
     "text": [
      "INFO:tensorflow:Assets written to: models/experiment_regression_test_12_71/fraction_3/n_epoch_100/2-7-3-12-0.3-1/fold_1\\assets\n"
     ]
    },
    {
     "name": "stderr",
     "output_type": "stream",
     "text": [
      "INFO:tensorflow:Assets written to: models/experiment_regression_test_12_71/fraction_3/n_epoch_100/2-7-3-12-0.3-1/fold_1\\assets\n"
     ]
    },
    {
     "name": "stdout",
     "output_type": "stream",
     "text": [
      "----------------------------------------------------------------------------\n",
      "RND STATE NUMBER = 22\n",
      "----------------------------------------------------------------------------\n",
      "-105.08542989659516\n",
      "14.245841612748105\n",
      "(406, 53, 86, 1)\n",
      "0.2561576354679803\n",
      "0.4064039408866995\n",
      "0.22660098522167488\n",
      "0.11083743842364532\n",
      "442    0\n",
      "157    1\n",
      "370    1\n",
      "453    1\n",
      "101    2\n",
      "      ..\n",
      "356    0\n",
      "448    0\n",
      "300    0\n",
      "132    3\n",
      "373    1\n",
      "Name: occupants, Length: 406, dtype: int64\n",
      "-106.34097455090884\n",
      "14.48210055181652\n",
      "(72, 53, 86, 1)\n",
      "[1 1 2 0 1 2 0 0 1 2 1 0 1 1 1 0 2 1 0 2 1 3 3 0 1 1 0 0 3 1 1 2 1 1 1 1 0\n",
      " 2 2 1 2 0 0 2 2 0 1 1 0 3 2 1 1 0 3 0 3 1 3 0 2 0 1 3 0 0 1 1 1 3 1 2]\n",
      "------------------------------------------------------------------------\n",
      "Training regression model 2-7-3-12-0.3-1 with transfer learning\n",
      "dict_keys(['loss', 'mae', 'val_loss', 'val_mae'])\n",
      "3/3 [==============================] - 0s 4ms/step\n",
      "accuracy4 = 0.7638888888888888\n",
      "accuracy3 = 0.875\n"
     ]
    },
    {
     "name": "stderr",
     "output_type": "stream",
     "text": [
      "WARNING:absl:Found untraced functions such as _jit_compiled_convolution_op, _jit_compiled_convolution_op, _jit_compiled_convolution_op, _jit_compiled_convolution_op, _jit_compiled_convolution_op while saving (showing 5 of 6). These functions will not be directly callable after loading.\n"
     ]
    },
    {
     "name": "stdout",
     "output_type": "stream",
     "text": [
      "INFO:tensorflow:Assets written to: models/experiment_regression_test_12_71/fraction_3/n_epoch_100/2-7-3-12-0.3-1/fold_1\\assets\n"
     ]
    },
    {
     "name": "stderr",
     "output_type": "stream",
     "text": [
      "INFO:tensorflow:Assets written to: models/experiment_regression_test_12_71/fraction_3/n_epoch_100/2-7-3-12-0.3-1/fold_1\\assets\n"
     ]
    },
    {
     "name": "stdout",
     "output_type": "stream",
     "text": [
      "----------------------------------------------------------------------------\n",
      "RND STATE NUMBER = 23\n",
      "----------------------------------------------------------------------------\n",
      "-105.03558962132763\n",
      "14.294893012489409\n",
      "(406, 53, 86, 1)\n",
      "0.24630541871921183\n",
      "0.4039408866995074\n",
      "0.2315270935960591\n",
      "0.11822660098522167\n",
      "115    2\n",
      "139    3\n",
      "425    1\n",
      "18     2\n",
      "222    0\n",
      "      ..\n",
      "438    0\n",
      "457    0\n",
      "40     2\n",
      "230    1\n",
      "83     2\n",
      "Name: occupants, Length: 406, dtype: int64\n",
      "-106.62201832533411\n",
      "14.178796908190703\n",
      "(72, 53, 86, 1)\n",
      "[1 1 1 1 1 1 1 1 2 3 2 1 3 2 0 2 1 0 0 2 1 0 3 0 1 1 1 2 0 1 0 1 1 1 2 0 1\n",
      " 1 1 2 0 0 0 3 0 2 0 1 0 1 3 1 1 0 1 1 0 0 1 2 0 0 0 0 2 0 1 0 2 0 3 1]\n",
      "------------------------------------------------------------------------\n",
      "Training regression model 2-7-3-12-0.3-1 with transfer learning\n",
      "dict_keys(['loss', 'mae', 'val_loss', 'val_mae'])\n",
      "3/3 [==============================] - 0s 3ms/step\n",
      "accuracy4 = 0.7777777777777778\n",
      "accuracy3 = 0.8333333333333334\n"
     ]
    },
    {
     "name": "stderr",
     "output_type": "stream",
     "text": [
      "WARNING:absl:Found untraced functions such as _jit_compiled_convolution_op, _jit_compiled_convolution_op, _jit_compiled_convolution_op, _jit_compiled_convolution_op, _jit_compiled_convolution_op while saving (showing 5 of 6). These functions will not be directly callable after loading.\n"
     ]
    },
    {
     "name": "stdout",
     "output_type": "stream",
     "text": [
      "INFO:tensorflow:Assets written to: models/experiment_regression_test_12_71/fraction_3/n_epoch_100/2-7-3-12-0.3-1/fold_1\\assets\n"
     ]
    },
    {
     "name": "stderr",
     "output_type": "stream",
     "text": [
      "INFO:tensorflow:Assets written to: models/experiment_regression_test_12_71/fraction_3/n_epoch_100/2-7-3-12-0.3-1/fold_1\\assets\n"
     ]
    },
    {
     "name": "stdout",
     "output_type": "stream",
     "text": [
      "----------------------------------------------------------------------------\n",
      "RND STATE NUMBER = 24\n",
      "----------------------------------------------------------------------------\n",
      "-105.45914260780621\n",
      "14.282079355486399\n",
      "(406, 53, 86, 1)\n",
      "0.2561576354679803\n",
      "0.41379310344827586\n",
      "0.21428571428571427\n",
      "0.11576354679802955\n",
      "285    0\n",
      "135    3\n",
      "251    0\n",
      "104    3\n",
      "152    1\n",
      "      ..\n",
      "401    1\n",
      "343    1\n",
      "192    1\n",
      "387    1\n",
      "418    0\n",
      "Name: occupants, Length: 406, dtype: int64\n",
      "-104.23365009602429\n",
      "14.281636929324044\n",
      "(72, 53, 86, 1)\n",
      "[2 1 1 1 1 1 0 2 0 0 3 2 0 0 1 3 2 0 1 0 2 2 0 3 3 1 2 2 1 2 1 1 1 0 1 1 1\n",
      " 0 2 1 1 3 2 1 0 3 0 0 2 1 1 2 2 2 0 0 2 2 0 1 1 0 1 1 1 1 0 0 2 2 3 0]\n",
      "------------------------------------------------------------------------\n",
      "Training regression model 2-7-3-12-0.3-1 with transfer learning\n",
      "dict_keys(['loss', 'mae', 'val_loss', 'val_mae'])\n",
      "3/3 [==============================] - 0s 4ms/step\n",
      "accuracy4 = 0.7361111111111112\n",
      "accuracy3 = 0.8333333333333334\n"
     ]
    },
    {
     "name": "stderr",
     "output_type": "stream",
     "text": [
      "WARNING:absl:Found untraced functions such as _jit_compiled_convolution_op, _jit_compiled_convolution_op, _jit_compiled_convolution_op, _jit_compiled_convolution_op, _jit_compiled_convolution_op while saving (showing 5 of 6). These functions will not be directly callable after loading.\n"
     ]
    },
    {
     "name": "stdout",
     "output_type": "stream",
     "text": [
      "INFO:tensorflow:Assets written to: models/experiment_regression_test_12_71/fraction_3/n_epoch_100/2-7-3-12-0.3-1/fold_1\\assets\n"
     ]
    },
    {
     "name": "stderr",
     "output_type": "stream",
     "text": [
      "INFO:tensorflow:Assets written to: models/experiment_regression_test_12_71/fraction_3/n_epoch_100/2-7-3-12-0.3-1/fold_1\\assets\n"
     ]
    },
    {
     "name": "stdout",
     "output_type": "stream",
     "text": [
      "----------------------------------------------------------------------------\n",
      "RND STATE NUMBER = 25\n",
      "----------------------------------------------------------------------------\n",
      "-105.22354152291268\n",
      "14.267237556597392\n",
      "(406, 53, 86, 1)\n",
      "0.24876847290640394\n",
      "0.4211822660098522\n",
      "0.2044334975369458\n",
      "0.12561576354679804\n",
      "155    0\n",
      "278    1\n",
      "104    3\n",
      "368    0\n",
      "3      1\n",
      "      ..\n",
      "317    0\n",
      "143    1\n",
      "474    1\n",
      "318    1\n",
      "132    3\n",
      "Name: occupants, Length: 406, dtype: int64\n",
      "-105.56217843584022\n",
      "14.405995083117773\n",
      "(72, 53, 86, 1)\n",
      "[2 1 1 1 0 0 1 0 0 2 1 2 2 2 1 2 2 2 2 2 0 1 0 1 2 1 2 0 0 0 2 1 0 3 1 1 2\n",
      " 0 0 1 2 2 0 0 2 2 2 0 1 3 2 3 1 1 0 0 0 2 0 0 2 1 0 0 1 1 1 2 0 1 1 1]\n",
      "------------------------------------------------------------------------\n",
      "Training regression model 2-7-3-12-0.3-1 with transfer learning\n",
      "dict_keys(['loss', 'mae', 'val_loss', 'val_mae'])\n",
      "3/3 [==============================] - 0s 3ms/step\n",
      "accuracy4 = 0.7916666666666666\n",
      "accuracy3 = 0.8194444444444444\n"
     ]
    },
    {
     "name": "stderr",
     "output_type": "stream",
     "text": [
      "WARNING:absl:Found untraced functions such as _jit_compiled_convolution_op, _jit_compiled_convolution_op, _jit_compiled_convolution_op, _jit_compiled_convolution_op, _jit_compiled_convolution_op while saving (showing 5 of 6). These functions will not be directly callable after loading.\n"
     ]
    },
    {
     "name": "stdout",
     "output_type": "stream",
     "text": [
      "INFO:tensorflow:Assets written to: models/experiment_regression_test_12_71/fraction_3/n_epoch_100/2-7-3-12-0.3-1/fold_1\\assets\n"
     ]
    },
    {
     "name": "stderr",
     "output_type": "stream",
     "text": [
      "INFO:tensorflow:Assets written to: models/experiment_regression_test_12_71/fraction_3/n_epoch_100/2-7-3-12-0.3-1/fold_1\\assets\n"
     ]
    },
    {
     "name": "stdout",
     "output_type": "stream",
     "text": [
      "----------------------------------------------------------------------------\n",
      "RND STATE NUMBER = 26\n",
      "----------------------------------------------------------------------------\n",
      "-105.43896383709665\n",
      "14.366211284667195\n",
      "(406, 53, 86, 1)\n",
      "0.25862068965517243\n",
      "0.41625615763546797\n",
      "0.21674876847290642\n",
      "0.10837438423645321\n",
      "59     3\n",
      "455    1\n",
      "438    0\n",
      "372    0\n",
      "153    1\n",
      "      ..\n",
      "449    1\n",
      "432    0\n",
      "262    1\n",
      "318    1\n",
      "309    1\n",
      "Name: occupants, Length: 406, dtype: int64\n",
      "-104.34743594196976\n",
      "13.807162805503326\n",
      "(72, 53, 86, 1)\n",
      "[1 0 1 0 0 2 1 1 1 0 1 1 3 0 0 2 2 1 1 2 0 2 0 1 2 0 3 0 1 1 2 2 2 0 2 3 2\n",
      " 1 0 0 1 1 1 3 0 3 1 2 3 0 2 2 1 3 1 2 2 1 2 3 1 1 0 3 2 1 3 0 1 1 0 0]\n",
      "------------------------------------------------------------------------\n",
      "Training regression model 2-7-3-12-0.3-1 with transfer learning\n",
      "dict_keys(['loss', 'mae', 'val_loss', 'val_mae'])\n",
      "3/3 [==============================] - 0s 4ms/step\n",
      "accuracy4 = 0.7777777777777778\n",
      "accuracy3 = 0.875\n"
     ]
    },
    {
     "name": "stderr",
     "output_type": "stream",
     "text": [
      "WARNING:absl:Found untraced functions such as _jit_compiled_convolution_op, _jit_compiled_convolution_op, _jit_compiled_convolution_op, _jit_compiled_convolution_op, _jit_compiled_convolution_op while saving (showing 5 of 6). These functions will not be directly callable after loading.\n"
     ]
    },
    {
     "name": "stdout",
     "output_type": "stream",
     "text": [
      "INFO:tensorflow:Assets written to: models/experiment_regression_test_12_71/fraction_3/n_epoch_100/2-7-3-12-0.3-1/fold_1\\assets\n"
     ]
    },
    {
     "name": "stderr",
     "output_type": "stream",
     "text": [
      "INFO:tensorflow:Assets written to: models/experiment_regression_test_12_71/fraction_3/n_epoch_100/2-7-3-12-0.3-1/fold_1\\assets\n"
     ]
    },
    {
     "name": "stdout",
     "output_type": "stream",
     "text": [
      "----------------------------------------------------------------------------\n",
      "RND STATE NUMBER = 27\n",
      "----------------------------------------------------------------------------\n",
      "-105.40346936631377\n",
      "14.217134308166495\n",
      "(406, 53, 86, 1)\n",
      "0.26108374384236455\n",
      "0.39901477832512317\n",
      "0.22660098522167488\n",
      "0.11330049261083744\n",
      "228    1\n",
      "247    1\n",
      "231    1\n",
      "393    0\n",
      "183    1\n",
      "      ..\n",
      "312    1\n",
      "31     3\n",
      "328    0\n",
      "184    2\n",
      "19     3\n",
      "Name: occupants, Length: 406, dtype: int64\n",
      "-104.54758531888424\n",
      "14.664770476812464\n",
      "(72, 53, 86, 1)\n",
      "[1 1 3 1 1 1 2 1 0 2 0 0 0 1 2 1 1 1 2 0 1 0 2 2 1 1 0 1 0 0 1 1 1 1 2 0 2\n",
      " 0 2 2 1 3 3 2 3 0 0 0 0 1 3 1 3 0 3 2 1 3 1 1 1 2 1 0 1 1 1 1 1 2 0 1]\n",
      "------------------------------------------------------------------------\n",
      "Training regression model 2-7-3-12-0.3-1 with transfer learning\n",
      "dict_keys(['loss', 'mae', 'val_loss', 'val_mae'])\n",
      "3/3 [==============================] - 0s 4ms/step\n",
      "accuracy4 = 0.7916666666666666\n",
      "accuracy3 = 0.8611111111111112\n"
     ]
    },
    {
     "name": "stderr",
     "output_type": "stream",
     "text": [
      "WARNING:absl:Found untraced functions such as _jit_compiled_convolution_op, _jit_compiled_convolution_op, _jit_compiled_convolution_op, _jit_compiled_convolution_op, _jit_compiled_convolution_op while saving (showing 5 of 6). These functions will not be directly callable after loading.\n"
     ]
    },
    {
     "name": "stdout",
     "output_type": "stream",
     "text": [
      "INFO:tensorflow:Assets written to: models/experiment_regression_test_12_71/fraction_3/n_epoch_100/2-7-3-12-0.3-1/fold_1\\assets\n"
     ]
    },
    {
     "name": "stderr",
     "output_type": "stream",
     "text": [
      "INFO:tensorflow:Assets written to: models/experiment_regression_test_12_71/fraction_3/n_epoch_100/2-7-3-12-0.3-1/fold_1\\assets\n"
     ]
    },
    {
     "name": "stdout",
     "output_type": "stream",
     "text": [
      "----------------------------------------------------------------------------\n",
      "RND STATE NUMBER = 28\n",
      "----------------------------------------------------------------------------\n",
      "-105.42088219520595\n",
      "14.360486771740744\n",
      "(406, 53, 86, 1)\n",
      "0.270935960591133\n",
      "0.41379310344827586\n",
      "0.21182266009852216\n",
      "0.10344827586206896\n",
      "6      2\n",
      "127    2\n",
      "86     3\n",
      "158    1\n",
      "267    1\n",
      "      ..\n",
      "259    1\n",
      "32     2\n",
      "278    1\n",
      "5      3\n",
      "257    2\n",
      "Name: occupants, Length: 406, dtype: int64\n",
      "-104.44939631151973\n",
      "13.84829899682117\n",
      "(72, 53, 86, 1)\n",
      "[3 1 3 0 2 3 2 2 1 1 1 1 2 2 3 0 2 0 0 3 1 1 1 2 0 2 0 2 2 0 1 1 1 2 3 1 3\n",
      " 2 3 2 1 0 1 2 3 1 2 0 1 0 0 1 2 2 0 2 3 1 1 3 2 2 3 1 0 1 1 1 1 1 1 0]\n",
      "------------------------------------------------------------------------\n",
      "Training regression model 2-7-3-12-0.3-1 with transfer learning\n",
      "dict_keys(['loss', 'mae', 'val_loss', 'val_mae'])\n",
      "3/3 [==============================] - 0s 3ms/step\n",
      "accuracy4 = 0.7222222222222222\n",
      "accuracy3 = 0.8472222222222222\n"
     ]
    },
    {
     "name": "stderr",
     "output_type": "stream",
     "text": [
      "WARNING:absl:Found untraced functions such as _jit_compiled_convolution_op, _jit_compiled_convolution_op, _jit_compiled_convolution_op, _jit_compiled_convolution_op, _jit_compiled_convolution_op while saving (showing 5 of 6). These functions will not be directly callable after loading.\n"
     ]
    },
    {
     "name": "stdout",
     "output_type": "stream",
     "text": [
      "INFO:tensorflow:Assets written to: models/experiment_regression_test_12_71/fraction_3/n_epoch_100/2-7-3-12-0.3-1/fold_1\\assets\n"
     ]
    },
    {
     "name": "stderr",
     "output_type": "stream",
     "text": [
      "INFO:tensorflow:Assets written to: models/experiment_regression_test_12_71/fraction_3/n_epoch_100/2-7-3-12-0.3-1/fold_1\\assets\n"
     ]
    },
    {
     "name": "stdout",
     "output_type": "stream",
     "text": [
      "----------------------------------------------------------------------------\n",
      "RND STATE NUMBER = 29\n",
      "----------------------------------------------------------------------------\n",
      "-104.8048788186047\n",
      "14.410136454494005\n",
      "(406, 53, 86, 1)\n",
      "0.2438423645320197\n",
      "0.4187192118226601\n",
      "0.21428571428571427\n",
      "0.12315270935960591\n",
      "165    0\n",
      "56     1\n",
      "419    0\n",
      "283    0\n",
      "255    0\n",
      "      ..\n",
      "296    0\n",
      "34     3\n",
      "236    1\n",
      "371    1\n",
      "469    1\n",
      "Name: occupants, Length: 406, dtype: int64\n",
      "-107.92297090735401\n",
      "13.276449240378252\n",
      "(72, 53, 86, 1)\n",
      "[0 0 1 1 1 1 3 1 0 0 0 0 0 2 3 2 2 2 0 2 2 1 1 3 0 0 1 2 1 1 1 0 0 0 0 2 2\n",
      " 0 3 0 1 2 1 0 2 1 1 0 1 2 2 2 2 0 1 1 2 0 2 0 2 1 1 1 0 0 0 0 1 1 1 2]\n",
      "------------------------------------------------------------------------\n",
      "Training regression model 2-7-3-12-0.3-1 with transfer learning\n",
      "dict_keys(['loss', 'mae', 'val_loss', 'val_mae'])\n",
      "3/3 [==============================] - 0s 4ms/step\n",
      "accuracy4 = 0.8055555555555556\n",
      "accuracy3 = 0.8472222222222222\n"
     ]
    },
    {
     "name": "stderr",
     "output_type": "stream",
     "text": [
      "WARNING:absl:Found untraced functions such as _jit_compiled_convolution_op, _jit_compiled_convolution_op, _jit_compiled_convolution_op, _jit_compiled_convolution_op, _jit_compiled_convolution_op while saving (showing 5 of 6). These functions will not be directly callable after loading.\n"
     ]
    },
    {
     "name": "stdout",
     "output_type": "stream",
     "text": [
      "INFO:tensorflow:Assets written to: models/experiment_regression_test_12_71/fraction_3/n_epoch_100/2-7-3-12-0.3-1/fold_1\\assets\n"
     ]
    },
    {
     "name": "stderr",
     "output_type": "stream",
     "text": [
      "INFO:tensorflow:Assets written to: models/experiment_regression_test_12_71/fraction_3/n_epoch_100/2-7-3-12-0.3-1/fold_1\\assets\n"
     ]
    },
    {
     "name": "stdout",
     "output_type": "stream",
     "text": [
      "----------------------------------------------------------------------------\n",
      "RND STATE NUMBER = 30\n",
      "----------------------------------------------------------------------------\n",
      "-105.24072259693203\n",
      "14.317095468028816\n",
      "(406, 53, 86, 1)\n",
      "0.2512315270935961\n",
      "0.41379310344827586\n",
      "0.22413793103448276\n",
      "0.11083743842364532\n",
      "180    0\n",
      "276    1\n",
      "378    2\n",
      "132    3\n",
      "154    1\n",
      "      ..\n",
      "140    3\n",
      "301    2\n",
      "429    1\n",
      "421    1\n",
      "293    1\n",
      "Name: occupants, Length: 406, dtype: int64\n",
      "-105.46529626845368\n",
      "14.126251020315769\n",
      "(72, 53, 86, 1)\n",
      "[0 2 1 2 0 1 3 2 3 0 0 1 1 0 3 1 0 3 2 0 0 2 1 1 0 1 1 0 0 1 1 2 0 0 0 1 0\n",
      " 3 0 1 1 3 3 2 1 0 2 1 1 1 0 1 1 1 2 2 0 1 2 2 1 2 3 0 2 0 1 3 2 1 0 1]\n",
      "------------------------------------------------------------------------\n",
      "Training regression model 2-7-3-12-0.3-1 with transfer learning\n",
      "dict_keys(['loss', 'mae', 'val_loss', 'val_mae'])\n",
      "3/3 [==============================] - 0s 4ms/step\n",
      "accuracy4 = 0.6944444444444444\n",
      "accuracy3 = 0.7916666666666666\n"
     ]
    },
    {
     "name": "stderr",
     "output_type": "stream",
     "text": [
      "WARNING:absl:Found untraced functions such as _jit_compiled_convolution_op, _jit_compiled_convolution_op, _jit_compiled_convolution_op, _jit_compiled_convolution_op, _jit_compiled_convolution_op while saving (showing 5 of 6). These functions will not be directly callable after loading.\n"
     ]
    },
    {
     "name": "stdout",
     "output_type": "stream",
     "text": [
      "INFO:tensorflow:Assets written to: models/experiment_regression_test_12_71/fraction_3/n_epoch_100/2-7-3-12-0.3-1/fold_1\\assets\n"
     ]
    },
    {
     "name": "stderr",
     "output_type": "stream",
     "text": [
      "INFO:tensorflow:Assets written to: models/experiment_regression_test_12_71/fraction_3/n_epoch_100/2-7-3-12-0.3-1/fold_1\\assets\n"
     ]
    },
    {
     "name": "stdout",
     "output_type": "stream",
     "text": [
      "----------------------------------------------------------------------------\n",
      "RND STATE NUMBER = 31\n",
      "----------------------------------------------------------------------------\n",
      "-105.1933162460467\n",
      "14.426411055881916\n",
      "(406, 53, 86, 1)\n",
      "0.2512315270935961\n",
      "0.41133004926108374\n",
      "0.22167487684729065\n",
      "0.11576354679802955\n",
      "69     3\n",
      "429    1\n",
      "390    1\n",
      "126    3\n",
      "34     3\n",
      "      ..\n",
      "98     1\n",
      "382    0\n",
      "16     1\n",
      "87     2\n",
      "210    1\n",
      "Name: occupants, Length: 406, dtype: int64\n",
      "-105.73261541372344\n",
      "13.476970809805007\n",
      "(72, 53, 86, 1)\n",
      "[2 1 3 1 1 1 1 0 3 0 2 1 0 2 1 2 2 1 2 0 3 0 3 2 0 2 1 3 2 0 0 0 2 1 0 0 0\n",
      " 0 2 1 1 1 1 2 2 1 1 1 2 0 0 0 2 1 3 0 1 1 0 3 1 1 0 1 0 1 1 1 0 1 0 2]\n",
      "------------------------------------------------------------------------\n",
      "Training regression model 2-7-3-12-0.3-1 with transfer learning\n",
      "dict_keys(['loss', 'mae', 'val_loss', 'val_mae'])\n",
      "3/3 [==============================] - 0s 4ms/step\n",
      "accuracy4 = 0.7361111111111112\n",
      "accuracy3 = 0.7916666666666666\n"
     ]
    },
    {
     "name": "stderr",
     "output_type": "stream",
     "text": [
      "WARNING:absl:Found untraced functions such as _jit_compiled_convolution_op, _jit_compiled_convolution_op, _jit_compiled_convolution_op, _jit_compiled_convolution_op, _jit_compiled_convolution_op while saving (showing 5 of 6). These functions will not be directly callable after loading.\n"
     ]
    },
    {
     "name": "stdout",
     "output_type": "stream",
     "text": [
      "INFO:tensorflow:Assets written to: models/experiment_regression_test_12_71/fraction_3/n_epoch_100/2-7-3-12-0.3-1/fold_1\\assets\n"
     ]
    },
    {
     "name": "stderr",
     "output_type": "stream",
     "text": [
      "INFO:tensorflow:Assets written to: models/experiment_regression_test_12_71/fraction_3/n_epoch_100/2-7-3-12-0.3-1/fold_1\\assets\n"
     ]
    },
    {
     "name": "stdout",
     "output_type": "stream",
     "text": [
      "----------------------------------------------------------------------------\n",
      "RND STATE NUMBER = 32\n",
      "----------------------------------------------------------------------------\n",
      "-105.1841504525818\n",
      "14.338829963588298\n",
      "(406, 53, 86, 1)\n",
      "0.26108374384236455\n",
      "0.4014778325123153\n",
      "0.229064039408867\n",
      "0.10837438423645321\n",
      "339    1\n",
      "170    1\n",
      "70     2\n",
      "107    2\n",
      "113    2\n",
      "      ..\n",
      "380    1\n",
      "310    0\n",
      "389    0\n",
      "43     3\n",
      "215    1\n",
      "Name: occupants, Length: 406, dtype: int64\n",
      "-105.78430030465076\n",
      "13.991992468076804\n",
      "(72, 53, 86, 1)\n",
      "[0 0 3 1 1 0 0 0 1 2 1 0 1 3 1 2 3 3 0 3 1 3 0 1 2 2 1 1 0 2 0 1 3 1 1 3 1\n",
      " 0 0 1 1 1 2 1 2 1 1 1 1 1 0 0 2 3 1 2 0 0 1 2 3 0 1 1 2 1 2 1 2 0 1 1]\n",
      "------------------------------------------------------------------------\n",
      "Training regression model 2-7-3-12-0.3-1 with transfer learning\n",
      "dict_keys(['loss', 'mae', 'val_loss', 'val_mae'])\n",
      "3/3 [==============================] - 0s 3ms/step\n",
      "accuracy4 = 0.7916666666666666\n",
      "accuracy3 = 0.875\n"
     ]
    },
    {
     "name": "stderr",
     "output_type": "stream",
     "text": [
      "WARNING:absl:Found untraced functions such as _jit_compiled_convolution_op, _jit_compiled_convolution_op, _jit_compiled_convolution_op, _jit_compiled_convolution_op, _jit_compiled_convolution_op while saving (showing 5 of 6). These functions will not be directly callable after loading.\n"
     ]
    },
    {
     "name": "stdout",
     "output_type": "stream",
     "text": [
      "INFO:tensorflow:Assets written to: models/experiment_regression_test_12_71/fraction_3/n_epoch_100/2-7-3-12-0.3-1/fold_1\\assets\n"
     ]
    },
    {
     "name": "stderr",
     "output_type": "stream",
     "text": [
      "INFO:tensorflow:Assets written to: models/experiment_regression_test_12_71/fraction_3/n_epoch_100/2-7-3-12-0.3-1/fold_1\\assets\n"
     ]
    },
    {
     "name": "stdout",
     "output_type": "stream",
     "text": [
      "----------------------------------------------------------------------------\n",
      "RND STATE NUMBER = 33\n",
      "----------------------------------------------------------------------------\n",
      "-105.08819752461844\n",
      "14.25165461552857\n",
      "(406, 53, 86, 1)\n",
      "0.2512315270935961\n",
      "0.39901477832512317\n",
      "0.23645320197044334\n",
      "0.11330049261083744\n",
      "110    1\n",
      "258    0\n",
      "140    3\n",
      "297    0\n",
      "367    1\n",
      "      ..\n",
      "146    1\n",
      "66     3\n",
      "216    1\n",
      "391    1\n",
      "20     2\n",
      "Name: occupants, Length: 406, dtype: int64\n",
      "-106.32536820399952\n",
      "14.451159906923843\n",
      "(72, 53, 86, 1)\n",
      "[1 0 0 0 1 1 2 1 3 1 0 0 1 1 1 0 0 0 1 0 1 2 3 3 1 0 3 0 3 0 2 1 1 2 1 1 1\n",
      " 0 1 1 0 0 3 3 0 1 1 0 1 1 2 1 2 0 1 1 0 1 0 2 1 0 2 1 3 1 2 1 0 1 1 2]\n",
      "------------------------------------------------------------------------\n",
      "Training regression model 2-7-3-12-0.3-1 with transfer learning\n",
      "dict_keys(['loss', 'mae', 'val_loss', 'val_mae'])\n",
      "3/3 [==============================] - 0s 3ms/step\n",
      "accuracy4 = 0.7777777777777778\n",
      "accuracy3 = 0.8611111111111112\n"
     ]
    },
    {
     "name": "stderr",
     "output_type": "stream",
     "text": [
      "WARNING:absl:Found untraced functions such as _jit_compiled_convolution_op, _jit_compiled_convolution_op, _jit_compiled_convolution_op, _jit_compiled_convolution_op, _jit_compiled_convolution_op while saving (showing 5 of 6). These functions will not be directly callable after loading.\n"
     ]
    },
    {
     "name": "stdout",
     "output_type": "stream",
     "text": [
      "INFO:tensorflow:Assets written to: models/experiment_regression_test_12_71/fraction_3/n_epoch_100/2-7-3-12-0.3-1/fold_1\\assets\n"
     ]
    },
    {
     "name": "stderr",
     "output_type": "stream",
     "text": [
      "INFO:tensorflow:Assets written to: models/experiment_regression_test_12_71/fraction_3/n_epoch_100/2-7-3-12-0.3-1/fold_1\\assets\n"
     ]
    },
    {
     "name": "stdout",
     "output_type": "stream",
     "text": [
      "----------------------------------------------------------------------------\n",
      "RND STATE NUMBER = 34\n",
      "----------------------------------------------------------------------------\n",
      "-105.09668243269917\n",
      "14.334864216201066\n",
      "(406, 53, 86, 1)\n",
      "0.2660098522167488\n",
      "0.39655172413793105\n",
      "0.22660098522167488\n",
      "0.11083743842364532\n",
      "414    2\n",
      "401    1\n",
      "403    1\n",
      "159    1\n",
      "251    0\n",
      "      ..\n",
      "85     2\n",
      "246    2\n",
      "361    2\n",
      "122    1\n",
      "417    0\n",
      "Name: occupants, Length: 406, dtype: int64\n",
      "-106.27752275009954\n",
      "13.983513212826866\n",
      "(72, 53, 86, 1)\n",
      "[2 0 1 0 0 0 3 0 1 2 1 1 1 1 2 1 0 0 3 1 0 0 0 1 2 2 1 1 1 1 2 3 3 0 1 1 3\n",
      " 2 2 1 1 3 0 1 2 1 1 0 1 1 1 1 1 1 2 1 1 1 3 2 2 1 2 0 3 0 1 0 3 1 1 2]\n",
      "------------------------------------------------------------------------\n",
      "Training regression model 2-7-3-12-0.3-1 with transfer learning\n",
      "dict_keys(['loss', 'mae', 'val_loss', 'val_mae'])\n",
      "3/3 [==============================] - 0s 4ms/step\n",
      "accuracy4 = 0.75\n",
      "accuracy3 = 0.8472222222222222\n"
     ]
    },
    {
     "name": "stderr",
     "output_type": "stream",
     "text": [
      "WARNING:absl:Found untraced functions such as _jit_compiled_convolution_op, _jit_compiled_convolution_op, _jit_compiled_convolution_op, _jit_compiled_convolution_op, _jit_compiled_convolution_op while saving (showing 5 of 6). These functions will not be directly callable after loading.\n"
     ]
    },
    {
     "name": "stdout",
     "output_type": "stream",
     "text": [
      "INFO:tensorflow:Assets written to: models/experiment_regression_test_12_71/fraction_3/n_epoch_100/2-7-3-12-0.3-1/fold_1\\assets\n"
     ]
    },
    {
     "name": "stderr",
     "output_type": "stream",
     "text": [
      "INFO:tensorflow:Assets written to: models/experiment_regression_test_12_71/fraction_3/n_epoch_100/2-7-3-12-0.3-1/fold_1\\assets\n"
     ]
    },
    {
     "name": "stdout",
     "output_type": "stream",
     "text": [
      "----------------------------------------------------------------------------\n",
      "RND STATE NUMBER = 35\n",
      "----------------------------------------------------------------------------\n",
      "-105.08830592040451\n",
      "14.345927257890233\n",
      "(406, 53, 86, 1)\n",
      "0.2561576354679803\n",
      "0.4064039408866995\n",
      "0.21921182266009853\n",
      "0.11822660098522167\n",
      "212    1\n",
      "10     2\n",
      "36     1\n",
      "127    2\n",
      "87     2\n",
      "      ..\n",
      "447    2\n",
      "33     2\n",
      "439    1\n",
      "271    1\n",
      "201    1\n",
      "Name: occupants, Length: 406, dtype: int64\n",
      "-106.32475697220586\n",
      "13.915288769636094\n",
      "(72, 53, 86, 1)\n",
      "[1 2 1 2 1 1 0 0 2 2 0 1 0 1 1 3 1 1 1 2 0 3 2 1 3 0 1 0 2 1 1 1 1 1 1 1 1\n",
      " 2 2 0 1 2 1 1 2 0 0 0 0 2 0 1 0 1 3 3 2 0 1 3 1 2 2 0 0 0 1 2 2 1 0 0]\n",
      "------------------------------------------------------------------------\n",
      "Training regression model 2-7-3-12-0.3-1 with transfer learning\n",
      "dict_keys(['loss', 'mae', 'val_loss', 'val_mae'])\n",
      "3/3 [==============================] - 0s 4ms/step\n",
      "accuracy4 = 0.7777777777777778\n",
      "accuracy3 = 0.8611111111111112\n"
     ]
    },
    {
     "name": "stderr",
     "output_type": "stream",
     "text": [
      "WARNING:absl:Found untraced functions such as _jit_compiled_convolution_op, _jit_compiled_convolution_op, _jit_compiled_convolution_op, _jit_compiled_convolution_op, _jit_compiled_convolution_op while saving (showing 5 of 6). These functions will not be directly callable after loading.\n"
     ]
    },
    {
     "name": "stdout",
     "output_type": "stream",
     "text": [
      "INFO:tensorflow:Assets written to: models/experiment_regression_test_12_71/fraction_3/n_epoch_100/2-7-3-12-0.3-1/fold_1\\assets\n"
     ]
    },
    {
     "name": "stderr",
     "output_type": "stream",
     "text": [
      "INFO:tensorflow:Assets written to: models/experiment_regression_test_12_71/fraction_3/n_epoch_100/2-7-3-12-0.3-1/fold_1\\assets\n"
     ]
    },
    {
     "name": "stdout",
     "output_type": "stream",
     "text": [
      "----------------------------------------------------------------------------\n",
      "RND STATE NUMBER = 36\n",
      "----------------------------------------------------------------------------\n",
      "-105.31093204329933\n",
      "14.262385537597158\n",
      "(406, 53, 86, 1)\n",
      "0.2536945812807882\n",
      "0.42857142857142855\n",
      "0.21182266009852216\n",
      "0.10591133004926108\n",
      "209    0\n",
      "55     2\n",
      "379    0\n",
      "66     3\n",
      "178    2\n",
      "      ..\n",
      "161    0\n",
      "424    0\n",
      "414    2\n",
      "98     1\n",
      "133    3\n",
      "Name: occupants, Length: 406, dtype: int64\n",
      "-105.06939300143765\n",
      "14.434719017908012\n",
      "(72, 53, 86, 1)\n",
      "[1 1 0 1 2 2 2 0 2 2 0 1 0 0 1 3 3 2 2 2 1 0 3 3 2 1 0 2 1 1 3 3 1 1 2 1 0\n",
      " 1 1 0 2 0 1 0 0 0 2 0 3 1 3 0 1 0 1 3 0 0 2 2 1 0 1 0 0 3 2 2 2 2 2 3]\n",
      "------------------------------------------------------------------------\n",
      "Training regression model 2-7-3-12-0.3-1 with transfer learning\n",
      "dict_keys(['loss', 'mae', 'val_loss', 'val_mae'])\n",
      "3/3 [==============================] - 0s 4ms/step\n",
      "accuracy4 = 0.7222222222222222\n",
      "accuracy3 = 0.8333333333333334\n"
     ]
    },
    {
     "name": "stderr",
     "output_type": "stream",
     "text": [
      "WARNING:absl:Found untraced functions such as _jit_compiled_convolution_op, _jit_compiled_convolution_op, _jit_compiled_convolution_op, _jit_compiled_convolution_op, _jit_compiled_convolution_op while saving (showing 5 of 6). These functions will not be directly callable after loading.\n"
     ]
    },
    {
     "name": "stdout",
     "output_type": "stream",
     "text": [
      "INFO:tensorflow:Assets written to: models/experiment_regression_test_12_71/fraction_3/n_epoch_100/2-7-3-12-0.3-1/fold_1\\assets\n"
     ]
    },
    {
     "name": "stderr",
     "output_type": "stream",
     "text": [
      "INFO:tensorflow:Assets written to: models/experiment_regression_test_12_71/fraction_3/n_epoch_100/2-7-3-12-0.3-1/fold_1\\assets\n"
     ]
    },
    {
     "name": "stdout",
     "output_type": "stream",
     "text": [
      "----------------------------------------------------------------------------\n",
      "RND STATE NUMBER = 37\n",
      "----------------------------------------------------------------------------\n",
      "-105.18144500857873\n",
      "14.383091641949148\n",
      "(406, 53, 86, 1)\n",
      "0.2536945812807882\n",
      "0.4088669950738916\n",
      "0.21921182266009853\n",
      "0.11822660098522167\n",
      "257    2\n",
      "324    2\n",
      "272    1\n",
      "229    0\n",
      "237    2\n",
      "      ..\n",
      "437    2\n",
      "251    0\n",
      "332    1\n",
      "363    1\n",
      "399    1\n",
      "Name: occupants, Length: 406, dtype: int64\n",
      "-105.79955600277907\n",
      "13.732758592830137\n",
      "(72, 53, 86, 1)\n",
      "[2 1 1 1 2 0 1 1 1 1 1 1 0 3 2 2 1 0 0 2 0 0 1 1 2 2 0 0 1 0 1 1 1 1 1 3 2\n",
      " 1 2 2 2 0 0 0 3 2 1 2 3 3 0 1 2 3 0 0 2 0 1 0 0 2 1 2 1 1 1 1 0 0 0 1]\n",
      "------------------------------------------------------------------------\n",
      "Training regression model 2-7-3-12-0.3-1 with transfer learning\n",
      "dict_keys(['loss', 'mae', 'val_loss', 'val_mae'])\n",
      "3/3 [==============================] - 0s 4ms/step\n",
      "accuracy4 = 0.7916666666666666\n",
      "accuracy3 = 0.8888888888888888\n"
     ]
    },
    {
     "name": "stderr",
     "output_type": "stream",
     "text": [
      "WARNING:absl:Found untraced functions such as _jit_compiled_convolution_op, _jit_compiled_convolution_op, _jit_compiled_convolution_op, _jit_compiled_convolution_op, _jit_compiled_convolution_op while saving (showing 5 of 6). These functions will not be directly callable after loading.\n"
     ]
    },
    {
     "name": "stdout",
     "output_type": "stream",
     "text": [
      "INFO:tensorflow:Assets written to: models/experiment_regression_test_12_71/fraction_3/n_epoch_100/2-7-3-12-0.3-1/fold_1\\assets\n"
     ]
    },
    {
     "name": "stderr",
     "output_type": "stream",
     "text": [
      "INFO:tensorflow:Assets written to: models/experiment_regression_test_12_71/fraction_3/n_epoch_100/2-7-3-12-0.3-1/fold_1\\assets\n"
     ]
    },
    {
     "name": "stdout",
     "output_type": "stream",
     "text": [
      "----------------------------------------------------------------------------\n",
      "RND STATE NUMBER = 38\n",
      "----------------------------------------------------------------------------\n",
      "-105.28396895665342\n",
      "14.253697615178199\n",
      "(406, 53, 86, 1)\n",
      "0.2660098522167488\n",
      "0.39901477832512317\n",
      "0.22413793103448276\n",
      "0.11083743842364532\n",
      "47     2\n",
      "35     3\n",
      "334    1\n",
      "9      3\n",
      "178    2\n",
      "      ..\n",
      "316    1\n",
      "467    0\n",
      "53     1\n",
      "331    1\n",
      "417    0\n",
      "Name: occupants, Length: 406, dtype: int64\n",
      "-105.22143485113551\n",
      "14.484624759349025\n",
      "(72, 53, 86, 1)\n",
      "[3 1 2 1 3 0 1 1 1 3 0 1 2 0 2 2 1 2 2 1 0 1 3 1 1 1 1 3 1 2 2 1 1 1 1 1 2\n",
      " 1 1 3 1 1 1 0 3 1 1 1 0 0 3 0 2 0 0 0 3 0 2 2 1 0 2 1 0 2 1 2 1 1 0 0]\n",
      "------------------------------------------------------------------------\n",
      "Training regression model 2-7-3-12-0.3-1 with transfer learning\n",
      "dict_keys(['loss', 'mae', 'val_loss', 'val_mae'])\n",
      "3/3 [==============================] - 0s 4ms/step\n",
      "accuracy4 = 0.7222222222222222\n",
      "accuracy3 = 0.8333333333333334\n"
     ]
    },
    {
     "name": "stderr",
     "output_type": "stream",
     "text": [
      "WARNING:absl:Found untraced functions such as _jit_compiled_convolution_op, _jit_compiled_convolution_op, _jit_compiled_convolution_op, _jit_compiled_convolution_op, _jit_compiled_convolution_op while saving (showing 5 of 6). These functions will not be directly callable after loading.\n"
     ]
    },
    {
     "name": "stdout",
     "output_type": "stream",
     "text": [
      "INFO:tensorflow:Assets written to: models/experiment_regression_test_12_71/fraction_3/n_epoch_100/2-7-3-12-0.3-1/fold_1\\assets\n"
     ]
    },
    {
     "name": "stderr",
     "output_type": "stream",
     "text": [
      "INFO:tensorflow:Assets written to: models/experiment_regression_test_12_71/fraction_3/n_epoch_100/2-7-3-12-0.3-1/fold_1\\assets\n"
     ]
    },
    {
     "name": "stdout",
     "output_type": "stream",
     "text": [
      "----------------------------------------------------------------------------\n",
      "RND STATE NUMBER = 39\n",
      "----------------------------------------------------------------------------\n",
      "-105.61050803857393\n",
      "14.160289104620443\n",
      "(406, 53, 86, 1)\n",
      "0.2536945812807882\n",
      "0.41625615763546797\n",
      "0.21674876847290642\n",
      "0.11330049261083744\n",
      "3      1\n",
      "228    1\n",
      "389    0\n",
      "449    1\n",
      "347    2\n",
      "      ..\n",
      "404    0\n",
      "64     3\n",
      "41     2\n",
      "105    2\n",
      "393    0\n",
      "Name: occupants, Length: 406, dtype: int64\n",
      "-103.38011725030628\n",
      "14.850877838448387\n",
      "(72, 53, 86, 1)\n",
      "[1 1 2 0 1 1 3 2 1 0 2 1 2 3 1 2 1 0 1 3 3 2 1 0 0 1 0 2 1 0 1 1 2 2 1 0 0\n",
      " 1 0 0 2 0 1 0 1 2 3 0 3 0 2 3 1 3 0 2 1 1 1 1 2 0 0 2 1 2 0 1 0 0 2 2]\n",
      "------------------------------------------------------------------------\n",
      "Training regression model 2-7-3-12-0.3-1 with transfer learning\n",
      "dict_keys(['loss', 'mae', 'val_loss', 'val_mae'])\n",
      "3/3 [==============================] - 0s 3ms/step\n",
      "accuracy4 = 0.6388888888888888\n",
      "accuracy3 = 0.7083333333333334\n"
     ]
    },
    {
     "name": "stderr",
     "output_type": "stream",
     "text": [
      "WARNING:absl:Found untraced functions such as _jit_compiled_convolution_op, _jit_compiled_convolution_op, _jit_compiled_convolution_op, _jit_compiled_convolution_op, _jit_compiled_convolution_op while saving (showing 5 of 6). These functions will not be directly callable after loading.\n"
     ]
    },
    {
     "name": "stdout",
     "output_type": "stream",
     "text": [
      "INFO:tensorflow:Assets written to: models/experiment_regression_test_12_71/fraction_3/n_epoch_100/2-7-3-12-0.3-1/fold_1\\assets\n"
     ]
    },
    {
     "name": "stderr",
     "output_type": "stream",
     "text": [
      "INFO:tensorflow:Assets written to: models/experiment_regression_test_12_71/fraction_3/n_epoch_100/2-7-3-12-0.3-1/fold_1\\assets\n"
     ]
    }
   ],
   "source": [
    "train_random_states(40)"
   ]
  },
  {
   "cell_type": "markdown",
   "metadata": {},
   "source": [
    "## Training with the full dataset (n_epoch 200)"
   ]
  },
  {
   "cell_type": "code",
   "execution_count": 32,
   "metadata": {},
   "outputs": [],
   "source": [
    "accuracies4=[]\n",
    "accuracies3=[]\n",
    "def train_random_states(amount):\n",
    "    for i in range(amount):\n",
    "        print('----------------------------------------------------------------------------')\n",
    "        print(f'RND STATE NUMBER = {i}')\n",
    "        print('----------------------------------------------------------------------------')\n",
    "        \"\"\"SPLIT THE DATASET\"\"\"\n",
    "        from sklearn.model_selection import train_test_split\n",
    "\n",
    "        train_df, test_df = train_test_split(df, test_size=0.15, random_state = i)\n",
    "        \n",
    "        \"\"\"DATA PREPROCESSING\"\"\"\n",
    "        working_df = train_df\n",
    "        #TRAINING WILL BE DONE WITH THE FFTDATA COLUMN\n",
    "        train_list = working_df.fftData\n",
    "        train_list = np.array(train_list)\n",
    "        train_x = []\n",
    "\n",
    "        \"\"\" Here is performed the frequency selection part of the preprocessing. \n",
    "            Since the fft spectrum is divided in two spectrum of 128 bits each, for performing frequency selection \n",
    "            we need to select from both the first part and the second one.\n",
    "            only one/fraction of the frequencies are selected.\n",
    "        \"\"\"\n",
    "\n",
    "        #Select only first third of both images\n",
    "        fraction = 3 \n",
    "        fraction_data = int(round(128/fraction)) #fraction_data=43 in this case\n",
    "\n",
    "        for i in range(len(train_list)):\n",
    "            #print(len(train_list[i]))\n",
    "            #print(len(train_list[i][0]))\n",
    "\n",
    "            a = np.array(train_list[i])[:, 0 : fraction_data]\n",
    "            b = np.array(train_list[i])[:, 128 : 128 + fraction_data]\n",
    "            c = np.concatenate((a, b), axis=1)\n",
    "            train_x.append(c)\n",
    "        train_arr = []\n",
    "        for x in range(len(train_x)):\n",
    "            train_arr.append(np.array(train_x[x]))\n",
    "        train_list = train_arr \n",
    "\n",
    "        \"\"\"\n",
    "        zscore normalization part of the preprocessing. correcting the dimension of the network.\n",
    "        \"\"\"\n",
    "\n",
    "        print(np.mean(train_list))\n",
    "        print(np.std(train_list))\n",
    "        train_list = scipy.stats.zscore(train_list, axis=None)\n",
    "\n",
    "        #max = np.max(train_list)\n",
    "        #min = np.min(train_list)\n",
    "        #train_list = np.array([[[(x - min) / (max - min) for x in y] for y in z] for z in train_list])\n",
    "\n",
    "\n",
    "        train_tensor = tf.convert_to_tensor(train_list)\n",
    "\n",
    "        #Third dimension value is 1\n",
    "        train_tensor = tf.expand_dims(train_tensor, -1)\n",
    "\n",
    "        print(train_tensor.shape)\n",
    "\n",
    "        \"\"\"\n",
    "        assigning label \n",
    "        \"\"\"\n",
    "\n",
    "        train_label = working_df[\"occupants\"]\n",
    "\n",
    "        #PROPORTIONS OF THE DATASET\n",
    "        passengers0 = 0\n",
    "        passengers1 = 0\n",
    "        passengers2 = 0\n",
    "        passengers3 = 0\n",
    "        for occupants in working_df[\"occupants\"]:\n",
    "            if occupants == 0:\n",
    "                passengers0+=1\n",
    "            if occupants == 1:\n",
    "                passengers1+=1\n",
    "            if occupants == 2:\n",
    "                passengers2+=1\n",
    "            if occupants == 3:\n",
    "                passengers3+=1\n",
    "        balancing0 = passengers0/len(train_df)\n",
    "        balancing1 = passengers1/len(train_df)\n",
    "        balancing2 = passengers2/len(train_df)\n",
    "        balancing3 = passengers3/len(train_df)\n",
    "\n",
    "        print(balancing0)\n",
    "        print(balancing1)\n",
    "        print(balancing2)\n",
    "        print(balancing3)\n",
    "\n",
    "        #train_label = tf.keras.utils.to_categorical(train_label, 3)\n",
    "\n",
    "        \"\"\"Dimensions of the inputs\"\"\"\n",
    "        #53*86 images\n",
    "        img_h, img_w = 53, fraction_data*2\n",
    "        num_classes=3\n",
    "\n",
    "        print(train_label)\n",
    "        \n",
    "        \"\"\"\n",
    "        Perform the same preprocessing steps of the training set to the test set too.\n",
    "        \"\"\"\n",
    "        test_labels = np.array(test_df[\"occupants\"])\n",
    "\n",
    "        #test_labels = tf.keras.utils.to_categorical(test_labels, 3)\n",
    "\n",
    "        test_list = test_df[\"fftData\"]\n",
    "        test_list = np.array(test_list)\n",
    "        test_x = []\n",
    "\n",
    "        fraction = 3 \n",
    "        fraction_data = int(round(128/fraction))\n",
    "\n",
    "        for i in range(len(test_list)):\n",
    "\n",
    "            a = np.array(test_list[i])[:, 0 : fraction_data]\n",
    "            b = np.array(test_list[i])[:, 128 : 128 + fraction_data]\n",
    "            c = np.concatenate((a, b), axis=1)\n",
    "            test_x.append(c)\n",
    "        test_arr = []\n",
    "        for x in range(len(test_x)):\n",
    "            test_arr.append(np.array(test_x[x]))\n",
    "        test_list = test_arr \n",
    "\n",
    "\n",
    "        print(np.mean(test_list))\n",
    "        print(np.std(test_list))\n",
    "        test_list = scipy.stats.zscore(test_list, axis=None)\n",
    "\n",
    "        #max = np.max(train_list)\n",
    "        #min = np.min(train_list)\n",
    "        #train_list = np.array([[[(x - min) / (max - min) for x in y] for y in z] for z in train_list])\n",
    "        test_tensor = tf.convert_to_tensor(test_list)\n",
    "        test_tensor = tf.expand_dims(test_tensor, -1)\n",
    "        print(test_tensor.shape)\n",
    "        test_images = test_tensor\n",
    "        print(test_labels)\n",
    "        \n",
    "        \"\"\"NETWORK DESIGN\"\"\"\n",
    "        folder='4_classes_test_2'\n",
    "        model_name='2-7-3-12-0.3-1'\n",
    "        fraction=3\n",
    "\n",
    "        mypath=f'models_full_train/experiment_{folder}/{model_name}/model'\n",
    "        filenames = next(walk(mypath), (None, None, []))[2]\n",
    "\n",
    "        imported_model = load_model(mypath)\n",
    "        model = tf.keras.Sequential()\n",
    "\n",
    "        for layer in imported_model.layers[:-1]: # go through until last layer\n",
    "            model.add(layer)\n",
    "        model.add(tf.keras.layers.Dense(units=1, activation='linear'))\n",
    "        for layer in model.layers[:-1]:\n",
    "            layer.trainable = False\n",
    "\n",
    "        model.compile(loss='mse', metrics=['mae'])\n",
    "        \n",
    "        print('------------------------------------------------------------------------')\n",
    "        print(f'Training regression model {model_name} with transfer learning')\n",
    "        experiment = f\"regression_test_12_{i}\" #¡¡¡¡¡CHANGE FOLDER!!!!!!\n",
    "\n",
    "        inputs = np.array(train_tensor)\n",
    "        targets = train_label\n",
    "\n",
    "        mae_per_fold = []\n",
    "        loss_per_fold = []\n",
    "        train_mae_per_fold = []\n",
    "\n",
    "        acc_per_fold_quant = []\n",
    "        train_acc_per_fold_quant = []\n",
    "\n",
    "        fold_no = 1\n",
    "        Y_pred_list = []\n",
    "        Y_true_list = []\n",
    "\n",
    "        #--------------------------------STATIC PARAMETERS------------------------------------------\n",
    "\n",
    "        # Optimization params\n",
    "        # -------------------\n",
    "\n",
    "        # Loss\n",
    "        loss = 'mean_squared_error'\n",
    "\n",
    "        # learning rate\n",
    "        lr = 0.3e-4\n",
    "\n",
    "        optimizer = tf.keras.optimizers.Adam(learning_rate=lr)\n",
    "        # -------------------\n",
    "\n",
    "        # Validation metrics\n",
    "        # ------------------\n",
    "\n",
    "        metrics = ['mae','accuracy']\n",
    "\n",
    "        batch_size = 32\n",
    "\n",
    "        n_epoch = 200\n",
    "\n",
    "\n",
    "        #------------------------------------CALLBACKS----------------------------------------\n",
    "        callbacks = []\n",
    "\n",
    "        # Early Stopping\n",
    "        # --------------\n",
    "        early_stop = False\n",
    "        if early_stop:\n",
    "            es_callback = tf.keras.callbacks.EarlyStopping(monitor='val_loss', patience=100, restore_best_weights=False,)\n",
    "            callbacks.append(es_callback)\n",
    "\n",
    "\n",
    "        class_weights={0: balancing0, 1: balancing1, 2: balancing2, 3: balancing3}\n",
    "        history = model.fit(inputs, targets,\n",
    "                    class_weight=class_weights,\n",
    "                    batch_size=batch_size,\n",
    "                    epochs=n_epoch,\n",
    "                    validation_data=(test_images, test_labels),\n",
    "                    callbacks = callbacks,\n",
    "                    verbose=False)\n",
    "        print(history.history.keys())\n",
    "        mae_per_fold.append(history.history['val_mae'])\n",
    "        loss_per_fold.append(history.history['val_loss'])\n",
    "        train_mae_per_fold.append(history.history['mae'])\n",
    "\n",
    "        Y_prediction = model.predict(test_images)\n",
    "        Y_prediction_int=[]\n",
    "        for item in Y_prediction:\n",
    "            a = round(item[0])\n",
    "            Y_prediction_int.append(a)\n",
    "\n",
    "        accuracy4 = 0.0\n",
    "        for i in range(len(Y_prediction_int)):\n",
    "            if Y_prediction_int[i]==test_labels[i]:\n",
    "                accuracy4 += 1\n",
    "        accuracy4 = accuracy4 / len(Y_prediction)\n",
    "        \n",
    "        Y_true = test_labels\n",
    "        for i in range(len(Y_true)):\n",
    "            if Y_true[i] == 3:\n",
    "                Y_true[i] = 2\n",
    "        for i in range(len(Y_prediction_int)):\n",
    "            if Y_prediction_int[i] == 3:\n",
    "                Y_prediction_int[i] = 2\n",
    "                \n",
    "        accuracy3 = 0.0\n",
    "        for i in range(len(Y_prediction_int)):\n",
    "            if Y_prediction_int[i]==Y_true[i]:\n",
    "                accuracy3 += 1\n",
    "        accuracy3 = accuracy3 / len(Y_prediction)\n",
    "        print(f\"accuracy4 = {accuracy4}\")\n",
    "        print(f\"accuracy3 = {accuracy3}\")\n",
    "        #-------------------------------SAVE MODEL-----------------------------------------\n",
    "\n",
    "        MODELS_DIR = f'models/experiment_{experiment}/fraction_{fraction}/n_epoch_{n_epoch}/{model_name}/'\n",
    "        try:\n",
    "            if not os.path.exists(MODELS_DIR):\n",
    "                os.makedirs(MODELS_DIR)\n",
    "        except e:\n",
    "            if e.errno != errno.EEXIST:\n",
    "                raise   \n",
    "            # time.sleep might help here\n",
    "            pass\n",
    "\n",
    "        MODEL_TF = MODELS_DIR + f'fold_{fold_no}'\n",
    "        model.save(MODEL_TF)\n",
    "        \n",
    "        accuracies4.append(accuracy4)\n",
    "        accuracies3.append(accuracy3)\n",
    "        \n",
    "    row = {'accuracies4' : accuracies4,\n",
    "          'accuracies3' : accuracies3}\n",
    "    JSON_DIR = f'json_child/experiment_regression_BEST/fraction_{fraction}/n_epoch_{n_epoch}'\n",
    "    if not os.path.exists(JSON_DIR):\n",
    "        os.makedirs(JSON_DIR)\n",
    "    try:\n",
    "        with open(f'{JSON_DIR}/accuracies.json', 'w') as f:\n",
    "            json.dump(row, f)\n",
    "    except Exception as e:\n",
    "        print(e)"
   ]
  },
  {
   "cell_type": "code",
   "execution_count": 33,
   "metadata": {
    "scrolled": true
   },
   "outputs": [
    {
     "name": "stdout",
     "output_type": "stream",
     "text": [
      "----------------------------------------------------------------------------\n",
      "RND STATE NUMBER = 0\n",
      "----------------------------------------------------------------------------\n",
      "-105.18000980291477\n",
      "14.2873404928517\n",
      "(406, 53, 86, 1)\n",
      "0.2660098522167488\n",
      "0.4039408866995074\n",
      "0.21428571428571427\n",
      "0.11576354679802955\n",
      "440    2\n",
      "230    1\n",
      "245    1\n",
      "160    2\n",
      "402    2\n",
      "      ..\n",
      "323    1\n",
      "192    1\n",
      "117    2\n",
      "47     2\n",
      "172    0\n",
      "Name: occupants, Length: 406, dtype: int64\n",
      "-105.80764896805057\n",
      "14.284908322435399\n",
      "(72, 53, 86, 1)\n",
      "[3 2 0 0 2 1 1 2 2 3 1 2 0 2 1 0 2 3 0 1 1 2 2 2 1 0 1 1 1 2 1 2 0 2 1 3 1\n",
      " 0 0 2 2 3 1 1 1 3 0 1 0 1 1 0 1 3 1 1 0 1 1 0 2 1 2 1 1 1 1 2 0 1 0 2]\n",
      "------------------------------------------------------------------------\n",
      "Training regression model 2-7-3-12-0.3-1 with transfer learning\n",
      "dict_keys(['loss', 'mae', 'val_loss', 'val_mae'])\n",
      "3/3 [==============================] - 0s 4ms/step\n",
      "accuracy4 = 0.8472222222222222\n",
      "accuracy3 = 0.8611111111111112\n"
     ]
    },
    {
     "name": "stderr",
     "output_type": "stream",
     "text": [
      "WARNING:absl:Found untraced functions such as _jit_compiled_convolution_op, _jit_compiled_convolution_op, _jit_compiled_convolution_op, _jit_compiled_convolution_op, _jit_compiled_convolution_op while saving (showing 5 of 6). These functions will not be directly callable after loading.\n"
     ]
    },
    {
     "name": "stdout",
     "output_type": "stream",
     "text": [
      "INFO:tensorflow:Assets written to: models/experiment_regression_test_12_71/fraction_3/n_epoch_200/2-7-3-12-0.3-1/fold_1\\assets\n"
     ]
    },
    {
     "name": "stderr",
     "output_type": "stream",
     "text": [
      "INFO:tensorflow:Assets written to: models/experiment_regression_test_12_71/fraction_3/n_epoch_200/2-7-3-12-0.3-1/fold_1\\assets\n"
     ]
    },
    {
     "name": "stdout",
     "output_type": "stream",
     "text": [
      "----------------------------------------------------------------------------\n",
      "RND STATE NUMBER = 1\n",
      "----------------------------------------------------------------------------\n",
      "-105.30627770275844\n",
      "14.19675883911384\n",
      "(406, 53, 86, 1)\n",
      "0.2561576354679803\n",
      "0.39408866995073893\n",
      "0.2315270935960591\n",
      "0.11822660098522167\n",
      "403    1\n",
      "466    1\n",
      "132    3\n",
      "270    1\n",
      "146    1\n",
      "      ..\n",
      "255    0\n",
      "72     3\n",
      "396    2\n",
      "235    0\n",
      "37     2\n",
      "Name: occupants, Length: 406, dtype: int64\n",
      "-105.09563831059897\n",
      "14.795425608084532\n",
      "(72, 53, 86, 1)\n",
      "[1 0 3 0 1 1 2 3 1 3 1 1 1 1 1 0 1 0 2 0 2 0 1 1 2 1 0 1 2 3 1 1 1 0 1 1 0\n",
      " 0 1 0 1 1 3 3 2 1 1 0 2 0 0 0 2 0 0 1 1 1 1 2 1 0 1 1 1 2 1 2 0 2 0 1]\n",
      "------------------------------------------------------------------------\n",
      "Training regression model 2-7-3-12-0.3-1 with transfer learning\n",
      "dict_keys(['loss', 'mae', 'val_loss', 'val_mae'])\n",
      "3/3 [==============================] - 0s 3ms/step\n",
      "accuracy4 = 0.8055555555555556\n",
      "accuracy3 = 0.875\n"
     ]
    },
    {
     "name": "stderr",
     "output_type": "stream",
     "text": [
      "WARNING:absl:Found untraced functions such as _jit_compiled_convolution_op, _jit_compiled_convolution_op, _jit_compiled_convolution_op, _jit_compiled_convolution_op, _jit_compiled_convolution_op while saving (showing 5 of 6). These functions will not be directly callable after loading.\n"
     ]
    },
    {
     "name": "stdout",
     "output_type": "stream",
     "text": [
      "INFO:tensorflow:Assets written to: models/experiment_regression_test_12_71/fraction_3/n_epoch_200/2-7-3-12-0.3-1/fold_1\\assets\n"
     ]
    },
    {
     "name": "stderr",
     "output_type": "stream",
     "text": [
      "INFO:tensorflow:Assets written to: models/experiment_regression_test_12_71/fraction_3/n_epoch_200/2-7-3-12-0.3-1/fold_1\\assets\n"
     ]
    },
    {
     "name": "stdout",
     "output_type": "stream",
     "text": [
      "----------------------------------------------------------------------------\n",
      "RND STATE NUMBER = 2\n",
      "----------------------------------------------------------------------------\n",
      "-105.33041514606805\n",
      "14.218898681508648\n",
      "(406, 53, 86, 1)\n",
      "0.24630541871921183\n",
      "0.4088669950738916\n",
      "0.2315270935960591\n",
      "0.11330049261083744\n",
      "14     2\n",
      "301    2\n",
      "369    1\n",
      "203    0\n",
      "12     2\n",
      "      ..\n",
      "299    0\n",
      "22     3\n",
      "72     3\n",
      "15     3\n",
      "168    1\n",
      "Name: occupants, Length: 406, dtype: int64\n",
      "-104.9595299497142\n",
      "14.672352948867985\n",
      "(72, 53, 86, 1)\n",
      "[1 1 0 1 1 0 0 0 2 0 0 3 0 0 1 1 1 0 0 1 1 3 0 0 0 2 1 2 1 1 1 1 2 1 2 3 1\n",
      " 2 1 0 1 1 2 1 0 0 0 0 1 0 0 3 1 3 0 0 1 1 1 1 3 0 2 1 2 3 2 1 0 2 2 3]\n",
      "------------------------------------------------------------------------\n",
      "Training regression model 2-7-3-12-0.3-1 with transfer learning\n",
      "dict_keys(['loss', 'mae', 'val_loss', 'val_mae'])\n",
      "3/3 [==============================] - 0s 4ms/step\n",
      "accuracy4 = 0.8194444444444444\n",
      "accuracy3 = 0.8888888888888888\n"
     ]
    },
    {
     "name": "stderr",
     "output_type": "stream",
     "text": [
      "WARNING:absl:Found untraced functions such as _jit_compiled_convolution_op, _jit_compiled_convolution_op, _jit_compiled_convolution_op, _jit_compiled_convolution_op, _jit_compiled_convolution_op while saving (showing 5 of 6). These functions will not be directly callable after loading.\n"
     ]
    },
    {
     "name": "stdout",
     "output_type": "stream",
     "text": [
      "INFO:tensorflow:Assets written to: models/experiment_regression_test_12_71/fraction_3/n_epoch_200/2-7-3-12-0.3-1/fold_1\\assets\n"
     ]
    },
    {
     "name": "stderr",
     "output_type": "stream",
     "text": [
      "INFO:tensorflow:Assets written to: models/experiment_regression_test_12_71/fraction_3/n_epoch_200/2-7-3-12-0.3-1/fold_1\\assets\n"
     ]
    },
    {
     "name": "stdout",
     "output_type": "stream",
     "text": [
      "----------------------------------------------------------------------------\n",
      "RND STATE NUMBER = 3\n",
      "----------------------------------------------------------------------------\n",
      "-105.3595316285224\n",
      "14.368294204123693\n",
      "(406, 53, 86, 1)\n",
      "0.2536945812807882\n",
      "0.4211822660098522\n",
      "0.20689655172413793\n",
      "0.11822660098522167\n",
      "159    1\n",
      "177    0\n",
      "170    1\n",
      "189    0\n",
      "370    1\n",
      "      ..\n",
      "440    2\n",
      "131    0\n",
      "249    0\n",
      "152    1\n",
      "362    1\n",
      "Name: occupants, Length: 406, dtype: int64\n",
      "-104.79534534031882\n",
      "13.821789240821177\n",
      "(72, 53, 86, 1)\n",
      "[2 2 3 0 0 2 1 0 0 2 1 2 0 0 2 0 0 2 1 2 2 2 1 1 0 1 1 2 2 1 2 2 1 2 0 2 2\n",
      " 1 1 1 2 0 1 0 1 1 0 0 1 3 0 3 2 3 3 0 0 1 1 3 1 1 2 0 0 0 2 1 1 0 1 2]\n",
      "------------------------------------------------------------------------\n",
      "Training regression model 2-7-3-12-0.3-1 with transfer learning\n",
      "dict_keys(['loss', 'mae', 'val_loss', 'val_mae'])\n",
      "3/3 [==============================] - 0s 4ms/step\n",
      "accuracy4 = 0.8055555555555556\n",
      "accuracy3 = 0.875\n"
     ]
    },
    {
     "name": "stderr",
     "output_type": "stream",
     "text": [
      "WARNING:absl:Found untraced functions such as _jit_compiled_convolution_op, _jit_compiled_convolution_op, _jit_compiled_convolution_op, _jit_compiled_convolution_op, _jit_compiled_convolution_op while saving (showing 5 of 6). These functions will not be directly callable after loading.\n"
     ]
    },
    {
     "name": "stdout",
     "output_type": "stream",
     "text": [
      "INFO:tensorflow:Assets written to: models/experiment_regression_test_12_71/fraction_3/n_epoch_200/2-7-3-12-0.3-1/fold_1\\assets\n"
     ]
    },
    {
     "name": "stderr",
     "output_type": "stream",
     "text": [
      "INFO:tensorflow:Assets written to: models/experiment_regression_test_12_71/fraction_3/n_epoch_200/2-7-3-12-0.3-1/fold_1\\assets\n"
     ]
    },
    {
     "name": "stdout",
     "output_type": "stream",
     "text": [
      "----------------------------------------------------------------------------\n",
      "RND STATE NUMBER = 4\n",
      "----------------------------------------------------------------------------\n",
      "-105.16175265051322\n",
      "14.307559188477946\n",
      "(406, 53, 86, 1)\n",
      "0.26108374384236455\n",
      "0.4039408866995074\n",
      "0.22660098522167488\n",
      "0.10837438423645321\n",
      "419    0\n",
      "203    0\n",
      "228    1\n",
      "61     2\n",
      "285    0\n",
      "      ..\n",
      "385    2\n",
      "197    0\n",
      "439    1\n",
      "174    1\n",
      "122    1\n",
      "Name: occupants, Length: 406, dtype: int64\n",
      "-105.91059902187042\n",
      "14.165336707560495\n",
      "(72, 53, 86, 1)\n",
      "[0 1 2 3 1 1 3 2 1 3 1 3 2 0 1 1 1 1 0 0 3 1 0 2 2 1 3 1 1 3 0 1 2 0 0 2 1\n",
      " 3 1 1 2 1 1 1 0 0 1 0 1 0 1 1 1 0 2 2 1 0 1 0 0 3 2 0 2 1 2 1 3 2 1 0]\n",
      "------------------------------------------------------------------------\n",
      "Training regression model 2-7-3-12-0.3-1 with transfer learning\n",
      "dict_keys(['loss', 'mae', 'val_loss', 'val_mae'])\n",
      "3/3 [==============================] - 0s 4ms/step\n",
      "accuracy4 = 0.7638888888888888\n",
      "accuracy3 = 0.8611111111111112\n"
     ]
    },
    {
     "name": "stderr",
     "output_type": "stream",
     "text": [
      "WARNING:absl:Found untraced functions such as _jit_compiled_convolution_op, _jit_compiled_convolution_op, _jit_compiled_convolution_op, _jit_compiled_convolution_op, _jit_compiled_convolution_op while saving (showing 5 of 6). These functions will not be directly callable after loading.\n"
     ]
    },
    {
     "name": "stdout",
     "output_type": "stream",
     "text": [
      "INFO:tensorflow:Assets written to: models/experiment_regression_test_12_71/fraction_3/n_epoch_200/2-7-3-12-0.3-1/fold_1\\assets\n"
     ]
    },
    {
     "name": "stderr",
     "output_type": "stream",
     "text": [
      "INFO:tensorflow:Assets written to: models/experiment_regression_test_12_71/fraction_3/n_epoch_200/2-7-3-12-0.3-1/fold_1\\assets\n"
     ]
    },
    {
     "name": "stdout",
     "output_type": "stream",
     "text": [
      "----------------------------------------------------------------------------\n",
      "RND STATE NUMBER = 5\n",
      "----------------------------------------------------------------------------\n",
      "-105.13078369910245\n",
      "14.284040640616656\n",
      "(406, 53, 86, 1)\n",
      "0.26354679802955666\n",
      "0.4014778325123153\n",
      "0.22660098522167488\n",
      "0.10837438423645321\n",
      "336    0\n",
      "376    2\n",
      "138    2\n",
      "306    1\n",
      "33     2\n",
      "      ..\n",
      "400    1\n",
      "118    2\n",
      "189    0\n",
      "206    1\n",
      "355    1\n",
      "Name: occupants, Length: 406, dtype: int64\n",
      "-106.0852294978813\n",
      "14.28814514817273\n",
      "(72, 53, 86, 1)\n",
      "[0 3 1 3 1 0 3 1 0 1 2 1 0 0 2 2 3 0 0 2 1 0 2 1 1 2 2 0 1 3 1 2 0 1 2 1 0\n",
      " 2 1 1 1 1 2 3 1 1 3 0 2 1 1 2 1 1 0 1 3 1 0 1 3 1 1 0 1 1 3 1 0 1 2 0]\n",
      "------------------------------------------------------------------------\n",
      "Training regression model 2-7-3-12-0.3-1 with transfer learning\n",
      "dict_keys(['loss', 'mae', 'val_loss', 'val_mae'])\n",
      "3/3 [==============================] - 0s 4ms/step\n",
      "accuracy4 = 0.7222222222222222\n",
      "accuracy3 = 0.8055555555555556\n"
     ]
    },
    {
     "name": "stderr",
     "output_type": "stream",
     "text": [
      "WARNING:absl:Found untraced functions such as _jit_compiled_convolution_op, _jit_compiled_convolution_op, _jit_compiled_convolution_op, _jit_compiled_convolution_op, _jit_compiled_convolution_op while saving (showing 5 of 6). These functions will not be directly callable after loading.\n"
     ]
    },
    {
     "name": "stdout",
     "output_type": "stream",
     "text": [
      "INFO:tensorflow:Assets written to: models/experiment_regression_test_12_71/fraction_3/n_epoch_200/2-7-3-12-0.3-1/fold_1\\assets\n"
     ]
    },
    {
     "name": "stderr",
     "output_type": "stream",
     "text": [
      "INFO:tensorflow:Assets written to: models/experiment_regression_test_12_71/fraction_3/n_epoch_200/2-7-3-12-0.3-1/fold_1\\assets\n"
     ]
    },
    {
     "name": "stdout",
     "output_type": "stream",
     "text": [
      "----------------------------------------------------------------------------\n",
      "RND STATE NUMBER = 6\n",
      "----------------------------------------------------------------------------\n",
      "-105.19225707627642\n",
      "14.343557626351364\n",
      "(406, 53, 86, 1)\n",
      "0.26354679802955666\n",
      "0.39408866995073893\n",
      "0.22167487684729065\n",
      "0.1206896551724138\n",
      "449    1\n",
      "434    1\n",
      "253    1\n",
      "69     3\n",
      "351    1\n",
      "      ..\n",
      "106    1\n",
      "468    0\n",
      "227    1\n",
      "201    1\n",
      "394    0\n",
      "Name: occupants, Length: 406, dtype: int64\n",
      "-105.73858795437299\n",
      "13.966517981384024\n",
      "(72, 53, 86, 1)\n",
      "[1 1 0 2 1 0 0 0 1 1 3 3 0 2 2 1 1 1 1 1 0 2 1 2 1 0 2 1 2 1 3 2 2 1 1 0 1\n",
      " 2 1 1 1 2 1 0 0 1 0 3 1 1 0 2 1 1 0 3 1 0 2 0 2 2 1 1 1 1 1 1 1 0 0 2]\n",
      "------------------------------------------------------------------------\n",
      "Training regression model 2-7-3-12-0.3-1 with transfer learning\n",
      "dict_keys(['loss', 'mae', 'val_loss', 'val_mae'])\n",
      "3/3 [==============================] - 0s 4ms/step\n",
      "accuracy4 = 0.8472222222222222\n",
      "accuracy3 = 0.8888888888888888\n"
     ]
    },
    {
     "name": "stderr",
     "output_type": "stream",
     "text": [
      "WARNING:absl:Found untraced functions such as _jit_compiled_convolution_op, _jit_compiled_convolution_op, _jit_compiled_convolution_op, _jit_compiled_convolution_op, _jit_compiled_convolution_op while saving (showing 5 of 6). These functions will not be directly callable after loading.\n"
     ]
    },
    {
     "name": "stdout",
     "output_type": "stream",
     "text": [
      "INFO:tensorflow:Assets written to: models/experiment_regression_test_12_71/fraction_3/n_epoch_200/2-7-3-12-0.3-1/fold_1\\assets\n"
     ]
    },
    {
     "name": "stderr",
     "output_type": "stream",
     "text": [
      "INFO:tensorflow:Assets written to: models/experiment_regression_test_12_71/fraction_3/n_epoch_200/2-7-3-12-0.3-1/fold_1\\assets\n"
     ]
    },
    {
     "name": "stdout",
     "output_type": "stream",
     "text": [
      "----------------------------------------------------------------------------\n",
      "RND STATE NUMBER = 7\n",
      "----------------------------------------------------------------------------\n",
      "-105.25358477457378\n",
      "14.282063946559974\n",
      "(406, 53, 86, 1)\n",
      "0.2660098522167488\n",
      "0.39655172413793105\n",
      "0.22167487684729065\n",
      "0.11576354679802955\n",
      "253    1\n",
      "443    0\n",
      "213    0\n",
      "440    2\n",
      "347    2\n",
      "      ..\n",
      "211    1\n",
      "67     3\n",
      "25     2\n",
      "196    1\n",
      "175    0\n",
      "Name: occupants, Length: 406, dtype: int64\n",
      "-105.39276787786295\n",
      "14.325738928559357\n",
      "(72, 53, 86, 1)\n",
      "[2 1 2 1 3 2 1 2 1 0 3 1 2 1 2 2 3 0 0 1 1 1 1 2 0 1 0 1 0 1 1 1 0 1 1 1 3\n",
      " 0 0 1 2 1 1 3 1 1 1 2 0 1 0 1 2 2 3 1 0 1 2 0 0 1 1 2 3 0 2 1 0 1 1 2]\n",
      "------------------------------------------------------------------------\n",
      "Training regression model 2-7-3-12-0.3-1 with transfer learning\n",
      "dict_keys(['loss', 'mae', 'val_loss', 'val_mae'])\n",
      "3/3 [==============================] - 0s 3ms/step\n",
      "accuracy4 = 0.7361111111111112\n",
      "accuracy3 = 0.8194444444444444\n"
     ]
    },
    {
     "name": "stderr",
     "output_type": "stream",
     "text": [
      "WARNING:absl:Found untraced functions such as _jit_compiled_convolution_op, _jit_compiled_convolution_op, _jit_compiled_convolution_op, _jit_compiled_convolution_op, _jit_compiled_convolution_op while saving (showing 5 of 6). These functions will not be directly callable after loading.\n"
     ]
    },
    {
     "name": "stdout",
     "output_type": "stream",
     "text": [
      "INFO:tensorflow:Assets written to: models/experiment_regression_test_12_71/fraction_3/n_epoch_200/2-7-3-12-0.3-1/fold_1\\assets\n"
     ]
    },
    {
     "name": "stderr",
     "output_type": "stream",
     "text": [
      "INFO:tensorflow:Assets written to: models/experiment_regression_test_12_71/fraction_3/n_epoch_200/2-7-3-12-0.3-1/fold_1\\assets\n"
     ]
    },
    {
     "name": "stdout",
     "output_type": "stream",
     "text": [
      "----------------------------------------------------------------------------\n",
      "RND STATE NUMBER = 8\n",
      "----------------------------------------------------------------------------\n",
      "-105.14495844460083\n",
      "14.393334521122636\n",
      "(406, 53, 86, 1)\n",
      "0.2660098522167488\n",
      "0.4014778325123153\n",
      "0.229064039408867\n",
      "0.10344827586206896\n",
      "59     3\n",
      "350    1\n",
      "185    1\n",
      "295    2\n",
      "4      2\n",
      "      ..\n",
      "136    2\n",
      "133    3\n",
      "361    2\n",
      "340    2\n",
      "451    1\n",
      "Name: occupants, Length: 406, dtype: int64\n",
      "-106.00529968298801\n",
      "13.660980725273314\n",
      "(72, 53, 86, 1)\n",
      "[1 1 3 1 0 2 3 1 1 0 1 1 1 1 0 3 2 0 0 1 0 0 3 2 1 1 1 3 0 1 2 1 0 1 1 3 3\n",
      " 2 1 2 1 2 1 3 1 2 1 1 0 0 1 2 0 2 0 1 0 2 3 3 1 1 0 2 1 3 1 0 1 1 3 2]\n",
      "------------------------------------------------------------------------\n",
      "Training regression model 2-7-3-12-0.3-1 with transfer learning\n",
      "dict_keys(['loss', 'mae', 'val_loss', 'val_mae'])\n",
      "3/3 [==============================] - 0s 4ms/step\n",
      "accuracy4 = 0.7916666666666666\n",
      "accuracy3 = 0.8888888888888888\n"
     ]
    },
    {
     "name": "stderr",
     "output_type": "stream",
     "text": [
      "WARNING:absl:Found untraced functions such as _jit_compiled_convolution_op, _jit_compiled_convolution_op, _jit_compiled_convolution_op, _jit_compiled_convolution_op, _jit_compiled_convolution_op while saving (showing 5 of 6). These functions will not be directly callable after loading.\n"
     ]
    },
    {
     "name": "stdout",
     "output_type": "stream",
     "text": [
      "INFO:tensorflow:Assets written to: models/experiment_regression_test_12_71/fraction_3/n_epoch_200/2-7-3-12-0.3-1/fold_1\\assets\n"
     ]
    },
    {
     "name": "stderr",
     "output_type": "stream",
     "text": [
      "INFO:tensorflow:Assets written to: models/experiment_regression_test_12_71/fraction_3/n_epoch_200/2-7-3-12-0.3-1/fold_1\\assets\n"
     ]
    },
    {
     "name": "stdout",
     "output_type": "stream",
     "text": [
      "----------------------------------------------------------------------------\n",
      "RND STATE NUMBER = 9\n",
      "----------------------------------------------------------------------------\n",
      "-105.0820575757803\n",
      "14.28553967373971\n",
      "(406, 53, 86, 1)\n",
      "0.2536945812807882\n",
      "0.4014778325123153\n",
      "0.21921182266009853\n",
      "0.12561576354679804\n",
      "345    1\n",
      "375    0\n",
      "80     3\n",
      "196    1\n",
      "282    2\n",
      "      ..\n",
      "56     1\n",
      "438    0\n",
      "126    3\n",
      "348    1\n",
      "382    0\n",
      "Name: occupants, Length: 406, dtype: int64\n",
      "-106.35999069328125\n",
      "14.258198533008281\n",
      "(72, 53, 86, 1)\n",
      "[1 0 0 0 0 2 2 2 1 1 3 1 1 1 2 1 1 2 1 1 1 1 2 0 0 2 1 2 2 1 1 1 0 0 0 2 1\n",
      " 1 2 1 0 1 1 1 2 1 1 2 0 2 0 2 1 0 1 0 2 1 0 1 0 0 3 1 0 2 1 0 0 1 0 3]\n",
      "------------------------------------------------------------------------\n",
      "Training regression model 2-7-3-12-0.3-1 with transfer learning\n",
      "dict_keys(['loss', 'mae', 'val_loss', 'val_mae'])\n",
      "3/3 [==============================] - 0s 4ms/step\n",
      "accuracy4 = 0.75\n",
      "accuracy3 = 0.7777777777777778\n"
     ]
    },
    {
     "name": "stderr",
     "output_type": "stream",
     "text": [
      "WARNING:absl:Found untraced functions such as _jit_compiled_convolution_op, _jit_compiled_convolution_op, _jit_compiled_convolution_op, _jit_compiled_convolution_op, _jit_compiled_convolution_op while saving (showing 5 of 6). These functions will not be directly callable after loading.\n"
     ]
    },
    {
     "name": "stdout",
     "output_type": "stream",
     "text": [
      "INFO:tensorflow:Assets written to: models/experiment_regression_test_12_71/fraction_3/n_epoch_200/2-7-3-12-0.3-1/fold_1\\assets\n"
     ]
    },
    {
     "name": "stderr",
     "output_type": "stream",
     "text": [
      "INFO:tensorflow:Assets written to: models/experiment_regression_test_12_71/fraction_3/n_epoch_200/2-7-3-12-0.3-1/fold_1\\assets\n"
     ]
    },
    {
     "name": "stdout",
     "output_type": "stream",
     "text": [
      "----------------------------------------------------------------------------\n",
      "RND STATE NUMBER = 10\n",
      "----------------------------------------------------------------------------\n",
      "-105.1863291356315\n",
      "14.331531090911533\n",
      "(406, 53, 86, 1)\n",
      "0.2561576354679803\n",
      "0.39901477832512317\n",
      "0.2315270935960591\n",
      "0.11330049261083744\n",
      "10     2\n",
      "264    1\n",
      "151    0\n",
      "164    2\n",
      "329    1\n",
      "      ..\n",
      "369    1\n",
      "320    0\n",
      "15     3\n",
      "125    2\n",
      "265    1\n",
      "Name: occupants, Length: 406, dtype: int64\n",
      "-105.77201495300956\n",
      "14.03461516888005\n",
      "(72, 53, 86, 1)\n",
      "[2 1 0 1 3 1 2 1 2 0 1 0 1 1 1 1 1 1 1 0 2 0 1 0 2 3 1 0 3 0 1 3 1 2 2 0 2\n",
      " 0 1 0 0 1 3 1 1 2 0 1 0 0 1 3 1 0 2 1 0 2 3 0 1 1 1 1 0 1 1 1 0 3 1 2]\n",
      "------------------------------------------------------------------------\n",
      "Training regression model 2-7-3-12-0.3-1 with transfer learning\n",
      "dict_keys(['loss', 'mae', 'val_loss', 'val_mae'])\n",
      "3/3 [==============================] - 0s 4ms/step\n",
      "accuracy4 = 0.8194444444444444\n",
      "accuracy3 = 0.875\n"
     ]
    },
    {
     "name": "stderr",
     "output_type": "stream",
     "text": [
      "WARNING:absl:Found untraced functions such as _jit_compiled_convolution_op, _jit_compiled_convolution_op, _jit_compiled_convolution_op, _jit_compiled_convolution_op, _jit_compiled_convolution_op while saving (showing 5 of 6). These functions will not be directly callable after loading.\n"
     ]
    },
    {
     "name": "stdout",
     "output_type": "stream",
     "text": [
      "INFO:tensorflow:Assets written to: models/experiment_regression_test_12_71/fraction_3/n_epoch_200/2-7-3-12-0.3-1/fold_1\\assets\n"
     ]
    },
    {
     "name": "stderr",
     "output_type": "stream",
     "text": [
      "INFO:tensorflow:Assets written to: models/experiment_regression_test_12_71/fraction_3/n_epoch_200/2-7-3-12-0.3-1/fold_1\\assets\n"
     ]
    },
    {
     "name": "stdout",
     "output_type": "stream",
     "text": [
      "----------------------------------------------------------------------------\n",
      "RND STATE NUMBER = 11\n",
      "----------------------------------------------------------------------------\n",
      "-105.26588475216813\n",
      "14.321195134888676\n",
      "(406, 53, 86, 1)\n",
      "0.25862068965517243\n",
      "0.39655172413793105\n",
      "0.22167487684729065\n",
      "0.12315270935960591\n",
      "218    0\n",
      "351    1\n",
      "398    0\n",
      "403    1\n",
      "369    1\n",
      "      ..\n",
      "337    1\n",
      "91     1\n",
      "80     3\n",
      "191    1\n",
      "409    1\n",
      "Name: occupants, Length: 406, dtype: int64\n",
      "-105.32340967087217\n",
      "14.10421732418096\n",
      "(72, 53, 86, 1)\n",
      "[2 1 0 0 1 0 2 1 0 1 3 1 2 1 1 1 0 1 1 1 3 1 0 2 1 1 0 0 1 3 1 1 2 3 1 1 1\n",
      " 2 0 0 1 0 2 1 0 1 2 1 2 0 1 1 2 0 0 1 1 1 2 2 0 0 2 0 1 2 2 1 0 1 2 1]\n",
      "------------------------------------------------------------------------\n",
      "Training regression model 2-7-3-12-0.3-1 with transfer learning\n",
      "dict_keys(['loss', 'mae', 'val_loss', 'val_mae'])\n",
      "3/3 [==============================] - 0s 3ms/step\n",
      "accuracy4 = 0.8472222222222222\n",
      "accuracy3 = 0.8888888888888888\n"
     ]
    },
    {
     "name": "stderr",
     "output_type": "stream",
     "text": [
      "WARNING:absl:Found untraced functions such as _jit_compiled_convolution_op, _jit_compiled_convolution_op, _jit_compiled_convolution_op, _jit_compiled_convolution_op, _jit_compiled_convolution_op while saving (showing 5 of 6). These functions will not be directly callable after loading.\n"
     ]
    },
    {
     "name": "stdout",
     "output_type": "stream",
     "text": [
      "INFO:tensorflow:Assets written to: models/experiment_regression_test_12_71/fraction_3/n_epoch_200/2-7-3-12-0.3-1/fold_1\\assets\n"
     ]
    },
    {
     "name": "stderr",
     "output_type": "stream",
     "text": [
      "INFO:tensorflow:Assets written to: models/experiment_regression_test_12_71/fraction_3/n_epoch_200/2-7-3-12-0.3-1/fold_1\\assets\n"
     ]
    },
    {
     "name": "stdout",
     "output_type": "stream",
     "text": [
      "----------------------------------------------------------------------------\n",
      "RND STATE NUMBER = 12\n",
      "----------------------------------------------------------------------------\n",
      "-105.11584779449103\n",
      "14.317767523848572\n",
      "(406, 53, 86, 1)\n",
      "0.270935960591133\n",
      "0.3916256157635468\n",
      "0.22413793103448276\n",
      "0.11330049261083744\n",
      "385    2\n",
      "255    0\n",
      "314    2\n",
      "268    0\n",
      "470    3\n",
      "      ..\n",
      "241    1\n",
      "253    1\n",
      "390    1\n",
      "155    0\n",
      "331    1\n",
      "Name: occupants, Length: 406, dtype: int64\n",
      "-106.16945140444018\n",
      "14.09050803688582\n",
      "(72, 53, 86, 1)\n",
      "[2 1 1 2 1 1 0 1 1 1 0 0 1 1 2 0 3 1 3 2 3 0 2 1 0 1 1 1 2 1 1 2 3 1 3 2 1\n",
      " 1 1 0 1 1 1 1 1 0 1 1 2 2 1 0 1 1 2 3 3 0 0 1 2 1 2 2 0 2 0 1 3 1 0 1]\n",
      "------------------------------------------------------------------------\n",
      "Training regression model 2-7-3-12-0.3-1 with transfer learning\n",
      "dict_keys(['loss', 'mae', 'val_loss', 'val_mae'])\n",
      "3/3 [==============================] - 0s 4ms/step\n",
      "accuracy4 = 0.7777777777777778\n",
      "accuracy3 = 0.8333333333333334\n"
     ]
    },
    {
     "name": "stderr",
     "output_type": "stream",
     "text": [
      "WARNING:absl:Found untraced functions such as _jit_compiled_convolution_op, _jit_compiled_convolution_op, _jit_compiled_convolution_op, _jit_compiled_convolution_op, _jit_compiled_convolution_op while saving (showing 5 of 6). These functions will not be directly callable after loading.\n"
     ]
    },
    {
     "name": "stdout",
     "output_type": "stream",
     "text": [
      "INFO:tensorflow:Assets written to: models/experiment_regression_test_12_71/fraction_3/n_epoch_200/2-7-3-12-0.3-1/fold_1\\assets\n"
     ]
    },
    {
     "name": "stderr",
     "output_type": "stream",
     "text": [
      "INFO:tensorflow:Assets written to: models/experiment_regression_test_12_71/fraction_3/n_epoch_200/2-7-3-12-0.3-1/fold_1\\assets\n"
     ]
    },
    {
     "name": "stdout",
     "output_type": "stream",
     "text": [
      "----------------------------------------------------------------------------\n",
      "RND STATE NUMBER = 13\n",
      "----------------------------------------------------------------------------\n",
      "-105.11066118975579\n",
      "14.351076738000412\n",
      "(406, 53, 86, 1)\n",
      "0.2684729064039409\n",
      "0.3916256157635468\n",
      "0.229064039408867\n",
      "0.11083743842364532\n",
      "157    1\n",
      "30     2\n",
      "69     3\n",
      "408    1\n",
      "336    0\n",
      "      ..\n",
      "230    1\n",
      "16     1\n",
      "74     2\n",
      "176    1\n",
      "338    2\n",
      "Name: occupants, Length: 406, dtype: int64\n",
      "-106.19869809225328\n",
      "13.895862659478029\n",
      "(72, 53, 86, 1)\n",
      "[1 2 1 3 0 1 1 0 3 1 1 0 1 1 2 3 2 1 3 3 1 1 1 3 1 0 2 1 0 2 1 2 1 1 0 3 2\n",
      " 1 2 2 1 1 2 1 0 2 1 2 1 1 1 1 0 1 0 0 1 0 0 1 1 0 0 1 0 1 1 3 3 1 2 1]\n",
      "------------------------------------------------------------------------\n",
      "Training regression model 2-7-3-12-0.3-1 with transfer learning\n",
      "dict_keys(['loss', 'mae', 'val_loss', 'val_mae'])\n",
      "3/3 [==============================] - 0s 3ms/step\n",
      "accuracy4 = 0.7361111111111112\n",
      "accuracy3 = 0.8333333333333334\n"
     ]
    },
    {
     "name": "stderr",
     "output_type": "stream",
     "text": [
      "WARNING:absl:Found untraced functions such as _jit_compiled_convolution_op, _jit_compiled_convolution_op, _jit_compiled_convolution_op, _jit_compiled_convolution_op, _jit_compiled_convolution_op while saving (showing 5 of 6). These functions will not be directly callable after loading.\n"
     ]
    },
    {
     "name": "stdout",
     "output_type": "stream",
     "text": [
      "INFO:tensorflow:Assets written to: models/experiment_regression_test_12_71/fraction_3/n_epoch_200/2-7-3-12-0.3-1/fold_1\\assets\n"
     ]
    },
    {
     "name": "stderr",
     "output_type": "stream",
     "text": [
      "INFO:tensorflow:Assets written to: models/experiment_regression_test_12_71/fraction_3/n_epoch_200/2-7-3-12-0.3-1/fold_1\\assets\n"
     ]
    },
    {
     "name": "stdout",
     "output_type": "stream",
     "text": [
      "----------------------------------------------------------------------------\n",
      "RND STATE NUMBER = 14\n",
      "----------------------------------------------------------------------------\n",
      "-105.3749139659847\n",
      "14.344321980236723\n",
      "(406, 53, 86, 1)\n",
      "0.26108374384236455\n",
      "0.41625615763546797\n",
      "0.20689655172413793\n",
      "0.11576354679802955\n",
      "347    2\n",
      "189    0\n",
      "287    1\n",
      "117    2\n",
      "160    2\n",
      "      ..\n",
      "327    0\n",
      "406    0\n",
      "268    0\n",
      "344    1\n",
      "107    2\n",
      "Name: occupants, Length: 406, dtype: int64\n",
      "-104.70860604851794\n",
      "13.95766465152831\n",
      "(72, 53, 86, 1)\n",
      "[2 2 0 3 2 2 2 1 0 1 0 1 1 1 1 0 2 2 1 0 0 1 1 1 0 2 1 2 0 1 0 1 2 0 0 0 1\n",
      " 0 3 2 3 1 1 3 1 0 1 0 1 2 2 3 2 2 1 2 0 2 2 2 0 1 3 3 2 2 0 1 1 1 1 2]\n",
      "------------------------------------------------------------------------\n",
      "Training regression model 2-7-3-12-0.3-1 with transfer learning\n",
      "dict_keys(['loss', 'mae', 'val_loss', 'val_mae'])\n",
      "3/3 [==============================] - 0s 3ms/step\n",
      "accuracy4 = 0.7777777777777778\n",
      "accuracy3 = 0.875\n"
     ]
    },
    {
     "name": "stderr",
     "output_type": "stream",
     "text": [
      "WARNING:absl:Found untraced functions such as _jit_compiled_convolution_op, _jit_compiled_convolution_op, _jit_compiled_convolution_op, _jit_compiled_convolution_op, _jit_compiled_convolution_op while saving (showing 5 of 6). These functions will not be directly callable after loading.\n"
     ]
    },
    {
     "name": "stdout",
     "output_type": "stream",
     "text": [
      "INFO:tensorflow:Assets written to: models/experiment_regression_test_12_71/fraction_3/n_epoch_200/2-7-3-12-0.3-1/fold_1\\assets\n"
     ]
    },
    {
     "name": "stderr",
     "output_type": "stream",
     "text": [
      "INFO:tensorflow:Assets written to: models/experiment_regression_test_12_71/fraction_3/n_epoch_200/2-7-3-12-0.3-1/fold_1\\assets\n"
     ]
    },
    {
     "name": "stdout",
     "output_type": "stream",
     "text": [
      "----------------------------------------------------------------------------\n",
      "RND STATE NUMBER = 15\n",
      "----------------------------------------------------------------------------\n",
      "-105.15936934591352\n",
      "14.314608105159294\n",
      "(406, 53, 86, 1)\n",
      "0.2512315270935961\n",
      "0.4187192118226601\n",
      "0.21428571428571427\n",
      "0.11576354679802955\n",
      "477    0\n",
      "73     3\n",
      "341    1\n",
      "428    1\n",
      "149    0\n",
      "      ..\n",
      "375    0\n",
      "133    3\n",
      "396    2\n",
      "245    1\n",
      "456    1\n",
      "Name: occupants, Length: 406, dtype: int64\n",
      "-105.92403821169668\n",
      "14.12440257340646\n",
      "(72, 53, 86, 1)\n",
      "[1 1 1 1 0 2 1 0 2 0 0 1 3 0 1 0 0 1 0 2 3 2 0 2 1 1 1 2 2 3 3 3 0 0 0 1 1\n",
      " 2 2 3 2 2 0 2 1 0 1 1 1 2 2 0 0 1 1 1 0 2 0 1 3 2 0 1 0 2 2 0 2 0 1 1]\n",
      "------------------------------------------------------------------------\n",
      "Training regression model 2-7-3-12-0.3-1 with transfer learning\n",
      "dict_keys(['loss', 'mae', 'val_loss', 'val_mae'])\n",
      "3/3 [==============================] - 0s 4ms/step\n",
      "accuracy4 = 0.75\n",
      "accuracy3 = 0.8055555555555556\n"
     ]
    },
    {
     "name": "stderr",
     "output_type": "stream",
     "text": [
      "WARNING:absl:Found untraced functions such as _jit_compiled_convolution_op, _jit_compiled_convolution_op, _jit_compiled_convolution_op, _jit_compiled_convolution_op, _jit_compiled_convolution_op while saving (showing 5 of 6). These functions will not be directly callable after loading.\n"
     ]
    },
    {
     "name": "stdout",
     "output_type": "stream",
     "text": [
      "INFO:tensorflow:Assets written to: models/experiment_regression_test_12_71/fraction_3/n_epoch_200/2-7-3-12-0.3-1/fold_1\\assets\n"
     ]
    },
    {
     "name": "stderr",
     "output_type": "stream",
     "text": [
      "INFO:tensorflow:Assets written to: models/experiment_regression_test_12_71/fraction_3/n_epoch_200/2-7-3-12-0.3-1/fold_1\\assets\n"
     ]
    },
    {
     "name": "stdout",
     "output_type": "stream",
     "text": [
      "----------------------------------------------------------------------------\n",
      "RND STATE NUMBER = 16\n",
      "----------------------------------------------------------------------------\n",
      "-105.17522725826238\n",
      "14.400600706852792\n",
      "(406, 53, 86, 1)\n",
      "0.26108374384236455\n",
      "0.4187192118226601\n",
      "0.2019704433497537\n",
      "0.11822660098522167\n",
      "434    1\n",
      "426    2\n",
      "304    0\n",
      "70     2\n",
      "374    1\n",
      "      ..\n",
      "321    1\n",
      "69     3\n",
      "121    2\n",
      "238    1\n",
      "169    1\n",
      "Name: occupants, Length: 406, dtype: int64\n",
      "-105.8346172059519\n",
      "13.627252319898634\n",
      "(72, 53, 86, 1)\n",
      "[2 0 1 1 3 3 2 1 0 0 1 1 0 2 3 2 2 1 2 1 1 0 0 1 1 0 0 2 0 1 1 1 2 1 1 2 2\n",
      " 2 1 1 0 1 2 2 2 1 3 0 0 1 2 0 2 2 0 2 0 2 3 1 2 0 0 2 3 1 1 2 1 0 2 2]\n",
      "------------------------------------------------------------------------\n",
      "Training regression model 2-7-3-12-0.3-1 with transfer learning\n",
      "dict_keys(['loss', 'mae', 'val_loss', 'val_mae'])\n",
      "3/3 [==============================] - 0s 4ms/step\n",
      "accuracy4 = 0.8055555555555556\n",
      "accuracy3 = 0.9027777777777778\n"
     ]
    },
    {
     "name": "stderr",
     "output_type": "stream",
     "text": [
      "WARNING:absl:Found untraced functions such as _jit_compiled_convolution_op, _jit_compiled_convolution_op, _jit_compiled_convolution_op, _jit_compiled_convolution_op, _jit_compiled_convolution_op while saving (showing 5 of 6). These functions will not be directly callable after loading.\n"
     ]
    },
    {
     "name": "stdout",
     "output_type": "stream",
     "text": [
      "INFO:tensorflow:Assets written to: models/experiment_regression_test_12_71/fraction_3/n_epoch_200/2-7-3-12-0.3-1/fold_1\\assets\n"
     ]
    },
    {
     "name": "stderr",
     "output_type": "stream",
     "text": [
      "INFO:tensorflow:Assets written to: models/experiment_regression_test_12_71/fraction_3/n_epoch_200/2-7-3-12-0.3-1/fold_1\\assets\n"
     ]
    },
    {
     "name": "stdout",
     "output_type": "stream",
     "text": [
      "----------------------------------------------------------------------------\n",
      "RND STATE NUMBER = 17\n",
      "----------------------------------------------------------------------------\n",
      "-105.18605412194394\n",
      "14.237257155227946\n",
      "(406, 53, 86, 1)\n",
      "0.2561576354679803\n",
      "0.4088669950738916\n",
      "0.22167487684729065\n",
      "0.11330049261083744\n",
      "287    1\n",
      "453    1\n",
      "333    2\n",
      "412    1\n",
      "435    1\n",
      "      ..\n",
      "406    0\n",
      "390    1\n",
      "143    1\n",
      "241    1\n",
      "111    2\n",
      "Name: occupants, Length: 406, dtype: int64\n",
      "-105.77356572463617\n",
      "14.565568252097401\n",
      "(72, 53, 86, 1)\n",
      "[2 1 2 3 3 0 2 1 0 1 0 1 0 0 1 1 0 1 3 1 0 1 1 2 1 0 1 3 0 0 1 0 1 1 2 0 2\n",
      " 3 0 0 2 0 1 2 0 1 2 3 1 1 1 2 3 2 1 1 2 1 0 0 1 1 3 1 2 0 2 2 1 1 0 2]\n",
      "------------------------------------------------------------------------\n",
      "Training regression model 2-7-3-12-0.3-1 with transfer learning\n",
      "dict_keys(['loss', 'mae', 'val_loss', 'val_mae'])\n",
      "3/3 [==============================] - 0s 4ms/step\n",
      "accuracy4 = 0.8055555555555556\n",
      "accuracy3 = 0.9027777777777778\n"
     ]
    },
    {
     "name": "stderr",
     "output_type": "stream",
     "text": [
      "WARNING:absl:Found untraced functions such as _jit_compiled_convolution_op, _jit_compiled_convolution_op, _jit_compiled_convolution_op, _jit_compiled_convolution_op, _jit_compiled_convolution_op while saving (showing 5 of 6). These functions will not be directly callable after loading.\n"
     ]
    },
    {
     "name": "stdout",
     "output_type": "stream",
     "text": [
      "INFO:tensorflow:Assets written to: models/experiment_regression_test_12_71/fraction_3/n_epoch_200/2-7-3-12-0.3-1/fold_1\\assets\n"
     ]
    },
    {
     "name": "stderr",
     "output_type": "stream",
     "text": [
      "INFO:tensorflow:Assets written to: models/experiment_regression_test_12_71/fraction_3/n_epoch_200/2-7-3-12-0.3-1/fold_1\\assets\n"
     ]
    },
    {
     "name": "stdout",
     "output_type": "stream",
     "text": [
      "----------------------------------------------------------------------------\n",
      "RND STATE NUMBER = 18\n",
      "----------------------------------------------------------------------------\n",
      "-105.27383607453983\n",
      "14.324610307624866\n",
      "(406, 53, 86, 1)\n",
      "0.2512315270935961\n",
      "0.41379310344827586\n",
      "0.21182266009852216\n",
      "0.12315270935960591\n",
      "148    0\n",
      "69     3\n",
      "441    1\n",
      "332    1\n",
      "468    0\n",
      "      ..\n",
      "190    1\n",
      "325    1\n",
      "120    3\n",
      "275    1\n",
      "298    0\n",
      "Name: occupants, Length: 406, dtype: int64\n",
      "-105.27857304749809\n",
      "14.084746477418694\n",
      "(72, 53, 86, 1)\n",
      "[0 1 0 0 1 0 0 2 1 1 1 1 2 1 2 1 0 3 2 0 2 1 1 0 1 2 1 3 0 0 2 2 0 2 1 1 2\n",
      " 0 2 1 0 3 0 0 2 1 1 1 1 1 1 1 0 3 2 1 1 0 2 0 1 2 2 0 0 0 2 0 2 2 2 1]\n",
      "------------------------------------------------------------------------\n",
      "Training regression model 2-7-3-12-0.3-1 with transfer learning\n",
      "dict_keys(['loss', 'mae', 'val_loss', 'val_mae'])\n",
      "3/3 [==============================] - 0s 3ms/step\n",
      "accuracy4 = 0.8472222222222222\n",
      "accuracy3 = 0.9027777777777778\n"
     ]
    },
    {
     "name": "stderr",
     "output_type": "stream",
     "text": [
      "WARNING:absl:Found untraced functions such as _jit_compiled_convolution_op, _jit_compiled_convolution_op, _jit_compiled_convolution_op, _jit_compiled_convolution_op, _jit_compiled_convolution_op while saving (showing 5 of 6). These functions will not be directly callable after loading.\n"
     ]
    },
    {
     "name": "stdout",
     "output_type": "stream",
     "text": [
      "INFO:tensorflow:Assets written to: models/experiment_regression_test_12_71/fraction_3/n_epoch_200/2-7-3-12-0.3-1/fold_1\\assets\n"
     ]
    },
    {
     "name": "stderr",
     "output_type": "stream",
     "text": [
      "INFO:tensorflow:Assets written to: models/experiment_regression_test_12_71/fraction_3/n_epoch_200/2-7-3-12-0.3-1/fold_1\\assets\n"
     ]
    },
    {
     "name": "stdout",
     "output_type": "stream",
     "text": [
      "----------------------------------------------------------------------------\n",
      "RND STATE NUMBER = 19\n",
      "----------------------------------------------------------------------------\n",
      "-105.25873196004304\n",
      "14.312064462006092\n",
      "(406, 53, 86, 1)\n",
      "0.25862068965517243\n",
      "0.4187192118226601\n",
      "0.20935960591133004\n",
      "0.11330049261083744\n",
      "79     3\n",
      "417    0\n",
      "252    1\n",
      "41     2\n",
      "96     1\n",
      "      ..\n",
      "424    0\n",
      "354    1\n",
      "245    1\n",
      "110    1\n",
      "93     3\n",
      "Name: occupants, Length: 406, dtype: int64\n",
      "-105.36374347091105\n",
      "14.1561515587361\n",
      "(72, 53, 86, 1)\n",
      "[1 0 1 0 0 0 2 1 2 1 0 0 1 0 2 2 1 0 3 0 1 0 2 2 3 2 1 3 1 0 1 1 3 2 2 2 0\n",
      " 3 1 1 2 2 2 0 1 1 3 2 1 1 0 2 1 1 0 2 2 0 0 3 1 1 1 0 2 1 3 2 1 0 2 2]\n",
      "------------------------------------------------------------------------\n",
      "Training regression model 2-7-3-12-0.3-1 with transfer learning\n",
      "dict_keys(['loss', 'mae', 'val_loss', 'val_mae'])\n",
      "3/3 [==============================] - 0s 3ms/step\n",
      "accuracy4 = 0.7222222222222222\n",
      "accuracy3 = 0.8055555555555556\n"
     ]
    },
    {
     "name": "stderr",
     "output_type": "stream",
     "text": [
      "WARNING:absl:Found untraced functions such as _jit_compiled_convolution_op, _jit_compiled_convolution_op, _jit_compiled_convolution_op, _jit_compiled_convolution_op, _jit_compiled_convolution_op while saving (showing 5 of 6). These functions will not be directly callable after loading.\n"
     ]
    },
    {
     "name": "stdout",
     "output_type": "stream",
     "text": [
      "INFO:tensorflow:Assets written to: models/experiment_regression_test_12_71/fraction_3/n_epoch_200/2-7-3-12-0.3-1/fold_1\\assets\n"
     ]
    },
    {
     "name": "stderr",
     "output_type": "stream",
     "text": [
      "INFO:tensorflow:Assets written to: models/experiment_regression_test_12_71/fraction_3/n_epoch_200/2-7-3-12-0.3-1/fold_1\\assets\n"
     ]
    },
    {
     "name": "stdout",
     "output_type": "stream",
     "text": [
      "----------------------------------------------------------------------------\n",
      "RND STATE NUMBER = 20\n",
      "----------------------------------------------------------------------------\n",
      "-105.5600291722606\n",
      "14.225293296095959\n",
      "(406, 53, 86, 1)\n",
      "0.25862068965517243\n",
      "0.4211822660098522\n",
      "0.21182266009852216\n",
      "0.10837438423645321\n",
      "306    1\n",
      "169    1\n",
      "91     1\n",
      "9      3\n",
      "341    1\n",
      "      ..\n",
      "412    1\n",
      "223    1\n",
      "271    1\n",
      "474    1\n",
      "355    1\n",
      "Name: occupants, Length: 406, dtype: int64\n",
      "-103.66476196868429\n",
      "14.536785889278022\n",
      "(72, 53, 86, 1)\n",
      "[2 2 0 1 2 1 2 0 1 1 0 0 2 2 1 0 2 2 2 0 1 2 2 2 1 1 2 0 0 0 2 2 1 1 2 0 0\n",
      " 1 3 1 3 1 2 3 2 3 0 1 1 3 0 0 1 2 3 0 3 1 0 0 2 0 3 1 3 1 1 1 1 0 1 3]\n",
      "------------------------------------------------------------------------\n",
      "Training regression model 2-7-3-12-0.3-1 with transfer learning\n",
      "dict_keys(['loss', 'mae', 'val_loss', 'val_mae'])\n",
      "3/3 [==============================] - 0s 4ms/step\n",
      "accuracy4 = 0.6527777777777778\n",
      "accuracy3 = 0.7361111111111112\n"
     ]
    },
    {
     "name": "stderr",
     "output_type": "stream",
     "text": [
      "WARNING:absl:Found untraced functions such as _jit_compiled_convolution_op, _jit_compiled_convolution_op, _jit_compiled_convolution_op, _jit_compiled_convolution_op, _jit_compiled_convolution_op while saving (showing 5 of 6). These functions will not be directly callable after loading.\n"
     ]
    },
    {
     "name": "stdout",
     "output_type": "stream",
     "text": [
      "INFO:tensorflow:Assets written to: models/experiment_regression_test_12_71/fraction_3/n_epoch_200/2-7-3-12-0.3-1/fold_1\\assets\n"
     ]
    },
    {
     "name": "stderr",
     "output_type": "stream",
     "text": [
      "INFO:tensorflow:Assets written to: models/experiment_regression_test_12_71/fraction_3/n_epoch_200/2-7-3-12-0.3-1/fold_1\\assets\n"
     ]
    },
    {
     "name": "stdout",
     "output_type": "stream",
     "text": [
      "----------------------------------------------------------------------------\n",
      "RND STATE NUMBER = 21\n",
      "----------------------------------------------------------------------------\n",
      "-105.33095425761144\n",
      "14.233973478190203\n",
      "(406, 53, 86, 1)\n",
      "0.2733990147783251\n",
      "0.41133004926108374\n",
      "0.19950738916256158\n",
      "0.11576354679802955\n",
      "392    0\n",
      "464    1\n",
      "140    3\n",
      "96     1\n",
      "311    1\n",
      "      ..\n",
      "48     3\n",
      "260    1\n",
      "312    1\n",
      "207    0\n",
      "457    0\n",
      "Name: occupants, Length: 406, dtype: int64\n",
      "-104.95648995962277\n",
      "14.58962082639537\n",
      "(72, 53, 86, 1)\n",
      "[1 0 2 3 1 0 2 1 3 2 2 2 1 1 2 1 1 1 0 2 2 1 0 1 2 1 2 2 1 0 1 1 2 2 1 1 1\n",
      " 0 2 0 0 2 1 2 2 0 2 2 3 1 2 0 2 3 1 2 3 2 0 1 1 3 2 2 1 0 1 0 3 1 1 1]\n",
      "------------------------------------------------------------------------\n",
      "Training regression model 2-7-3-12-0.3-1 with transfer learning\n",
      "dict_keys(['loss', 'mae', 'val_loss', 'val_mae'])\n",
      "3/3 [==============================] - 0s 4ms/step\n",
      "accuracy4 = 0.8055555555555556\n",
      "accuracy3 = 0.8888888888888888\n"
     ]
    },
    {
     "name": "stderr",
     "output_type": "stream",
     "text": [
      "WARNING:absl:Found untraced functions such as _jit_compiled_convolution_op, _jit_compiled_convolution_op, _jit_compiled_convolution_op, _jit_compiled_convolution_op, _jit_compiled_convolution_op while saving (showing 5 of 6). These functions will not be directly callable after loading.\n"
     ]
    },
    {
     "name": "stdout",
     "output_type": "stream",
     "text": [
      "INFO:tensorflow:Assets written to: models/experiment_regression_test_12_71/fraction_3/n_epoch_200/2-7-3-12-0.3-1/fold_1\\assets\n"
     ]
    },
    {
     "name": "stderr",
     "output_type": "stream",
     "text": [
      "INFO:tensorflow:Assets written to: models/experiment_regression_test_12_71/fraction_3/n_epoch_200/2-7-3-12-0.3-1/fold_1\\assets\n"
     ]
    },
    {
     "name": "stdout",
     "output_type": "stream",
     "text": [
      "----------------------------------------------------------------------------\n",
      "RND STATE NUMBER = 22\n",
      "----------------------------------------------------------------------------\n",
      "-105.08542989659516\n",
      "14.245841612748105\n",
      "(406, 53, 86, 1)\n",
      "0.2561576354679803\n",
      "0.4064039408866995\n",
      "0.22660098522167488\n",
      "0.11083743842364532\n",
      "442    0\n",
      "157    1\n",
      "370    1\n",
      "453    1\n",
      "101    2\n",
      "      ..\n",
      "356    0\n",
      "448    0\n",
      "300    0\n",
      "132    3\n",
      "373    1\n",
      "Name: occupants, Length: 406, dtype: int64\n",
      "-106.34097455090884\n",
      "14.48210055181652\n",
      "(72, 53, 86, 1)\n",
      "[1 1 2 0 1 2 0 0 1 2 1 0 1 1 1 0 2 1 0 2 1 3 3 0 1 1 0 0 3 1 1 2 1 1 1 1 0\n",
      " 2 2 1 2 0 0 2 2 0 1 1 0 3 2 1 1 0 3 0 3 1 3 0 2 0 1 3 0 0 1 1 1 3 1 2]\n",
      "------------------------------------------------------------------------\n",
      "Training regression model 2-7-3-12-0.3-1 with transfer learning\n",
      "dict_keys(['loss', 'mae', 'val_loss', 'val_mae'])\n",
      "3/3 [==============================] - 0s 3ms/step\n",
      "accuracy4 = 0.75\n",
      "accuracy3 = 0.8611111111111112\n"
     ]
    },
    {
     "name": "stderr",
     "output_type": "stream",
     "text": [
      "WARNING:absl:Found untraced functions such as _jit_compiled_convolution_op, _jit_compiled_convolution_op, _jit_compiled_convolution_op, _jit_compiled_convolution_op, _jit_compiled_convolution_op while saving (showing 5 of 6). These functions will not be directly callable after loading.\n"
     ]
    },
    {
     "name": "stdout",
     "output_type": "stream",
     "text": [
      "INFO:tensorflow:Assets written to: models/experiment_regression_test_12_71/fraction_3/n_epoch_200/2-7-3-12-0.3-1/fold_1\\assets\n"
     ]
    },
    {
     "name": "stderr",
     "output_type": "stream",
     "text": [
      "INFO:tensorflow:Assets written to: models/experiment_regression_test_12_71/fraction_3/n_epoch_200/2-7-3-12-0.3-1/fold_1\\assets\n"
     ]
    },
    {
     "name": "stdout",
     "output_type": "stream",
     "text": [
      "----------------------------------------------------------------------------\n",
      "RND STATE NUMBER = 23\n",
      "----------------------------------------------------------------------------\n",
      "-105.03558962132763\n",
      "14.294893012489409\n",
      "(406, 53, 86, 1)\n",
      "0.24630541871921183\n",
      "0.4039408866995074\n",
      "0.2315270935960591\n",
      "0.11822660098522167\n",
      "115    2\n",
      "139    3\n",
      "425    1\n",
      "18     2\n",
      "222    0\n",
      "      ..\n",
      "438    0\n",
      "457    0\n",
      "40     2\n",
      "230    1\n",
      "83     2\n",
      "Name: occupants, Length: 406, dtype: int64\n",
      "-106.62201832533411\n",
      "14.178796908190703\n",
      "(72, 53, 86, 1)\n",
      "[1 1 1 1 1 1 1 1 2 3 2 1 3 2 0 2 1 0 0 2 1 0 3 0 1 1 1 2 0 1 0 1 1 1 2 0 1\n",
      " 1 1 2 0 0 0 3 0 2 0 1 0 1 3 1 1 0 1 1 0 0 1 2 0 0 0 0 2 0 1 0 2 0 3 1]\n",
      "------------------------------------------------------------------------\n",
      "Training regression model 2-7-3-12-0.3-1 with transfer learning\n",
      "dict_keys(['loss', 'mae', 'val_loss', 'val_mae'])\n",
      "3/3 [==============================] - 0s 4ms/step\n",
      "accuracy4 = 0.8055555555555556\n",
      "accuracy3 = 0.8472222222222222\n"
     ]
    },
    {
     "name": "stderr",
     "output_type": "stream",
     "text": [
      "WARNING:absl:Found untraced functions such as _jit_compiled_convolution_op, _jit_compiled_convolution_op, _jit_compiled_convolution_op, _jit_compiled_convolution_op, _jit_compiled_convolution_op while saving (showing 5 of 6). These functions will not be directly callable after loading.\n"
     ]
    },
    {
     "name": "stdout",
     "output_type": "stream",
     "text": [
      "INFO:tensorflow:Assets written to: models/experiment_regression_test_12_71/fraction_3/n_epoch_200/2-7-3-12-0.3-1/fold_1\\assets\n"
     ]
    },
    {
     "name": "stderr",
     "output_type": "stream",
     "text": [
      "INFO:tensorflow:Assets written to: models/experiment_regression_test_12_71/fraction_3/n_epoch_200/2-7-3-12-0.3-1/fold_1\\assets\n"
     ]
    },
    {
     "name": "stdout",
     "output_type": "stream",
     "text": [
      "----------------------------------------------------------------------------\n",
      "RND STATE NUMBER = 24\n",
      "----------------------------------------------------------------------------\n",
      "-105.45914260780621\n",
      "14.282079355486399\n",
      "(406, 53, 86, 1)\n",
      "0.2561576354679803\n",
      "0.41379310344827586\n",
      "0.21428571428571427\n",
      "0.11576354679802955\n",
      "285    0\n",
      "135    3\n",
      "251    0\n",
      "104    3\n",
      "152    1\n",
      "      ..\n",
      "401    1\n",
      "343    1\n",
      "192    1\n",
      "387    1\n",
      "418    0\n",
      "Name: occupants, Length: 406, dtype: int64\n",
      "-104.23365009602429\n",
      "14.281636929324044\n",
      "(72, 53, 86, 1)\n",
      "[2 1 1 1 1 1 0 2 0 0 3 2 0 0 1 3 2 0 1 0 2 2 0 3 3 1 2 2 1 2 1 1 1 0 1 1 1\n",
      " 0 2 1 1 3 2 1 0 3 0 0 2 1 1 2 2 2 0 0 2 2 0 1 1 0 1 1 1 1 0 0 2 2 3 0]\n",
      "------------------------------------------------------------------------\n",
      "Training regression model 2-7-3-12-0.3-1 with transfer learning\n",
      "dict_keys(['loss', 'mae', 'val_loss', 'val_mae'])\n",
      "3/3 [==============================] - 0s 4ms/step\n",
      "accuracy4 = 0.7361111111111112\n",
      "accuracy3 = 0.8194444444444444\n"
     ]
    },
    {
     "name": "stderr",
     "output_type": "stream",
     "text": [
      "WARNING:absl:Found untraced functions such as _jit_compiled_convolution_op, _jit_compiled_convolution_op, _jit_compiled_convolution_op, _jit_compiled_convolution_op, _jit_compiled_convolution_op while saving (showing 5 of 6). These functions will not be directly callable after loading.\n"
     ]
    },
    {
     "name": "stdout",
     "output_type": "stream",
     "text": [
      "INFO:tensorflow:Assets written to: models/experiment_regression_test_12_71/fraction_3/n_epoch_200/2-7-3-12-0.3-1/fold_1\\assets\n"
     ]
    },
    {
     "name": "stderr",
     "output_type": "stream",
     "text": [
      "INFO:tensorflow:Assets written to: models/experiment_regression_test_12_71/fraction_3/n_epoch_200/2-7-3-12-0.3-1/fold_1\\assets\n"
     ]
    },
    {
     "name": "stdout",
     "output_type": "stream",
     "text": [
      "----------------------------------------------------------------------------\n",
      "RND STATE NUMBER = 25\n",
      "----------------------------------------------------------------------------\n",
      "-105.22354152291268\n",
      "14.267237556597392\n",
      "(406, 53, 86, 1)\n",
      "0.24876847290640394\n",
      "0.4211822660098522\n",
      "0.2044334975369458\n",
      "0.12561576354679804\n",
      "155    0\n",
      "278    1\n",
      "104    3\n",
      "368    0\n",
      "3      1\n",
      "      ..\n",
      "317    0\n",
      "143    1\n",
      "474    1\n",
      "318    1\n",
      "132    3\n",
      "Name: occupants, Length: 406, dtype: int64\n",
      "-105.56217843584022\n",
      "14.405995083117773\n",
      "(72, 53, 86, 1)\n",
      "[2 1 1 1 0 0 1 0 0 2 1 2 2 2 1 2 2 2 2 2 0 1 0 1 2 1 2 0 0 0 2 1 0 3 1 1 2\n",
      " 0 0 1 2 2 0 0 2 2 2 0 1 3 2 3 1 1 0 0 0 2 0 0 2 1 0 0 1 1 1 2 0 1 1 1]\n",
      "------------------------------------------------------------------------\n",
      "Training regression model 2-7-3-12-0.3-1 with transfer learning\n",
      "dict_keys(['loss', 'mae', 'val_loss', 'val_mae'])\n",
      "3/3 [==============================] - 0s 3ms/step\n",
      "accuracy4 = 0.8055555555555556\n",
      "accuracy3 = 0.8194444444444444\n"
     ]
    },
    {
     "name": "stderr",
     "output_type": "stream",
     "text": [
      "WARNING:absl:Found untraced functions such as _jit_compiled_convolution_op, _jit_compiled_convolution_op, _jit_compiled_convolution_op, _jit_compiled_convolution_op, _jit_compiled_convolution_op while saving (showing 5 of 6). These functions will not be directly callable after loading.\n"
     ]
    },
    {
     "name": "stdout",
     "output_type": "stream",
     "text": [
      "INFO:tensorflow:Assets written to: models/experiment_regression_test_12_71/fraction_3/n_epoch_200/2-7-3-12-0.3-1/fold_1\\assets\n"
     ]
    },
    {
     "name": "stderr",
     "output_type": "stream",
     "text": [
      "INFO:tensorflow:Assets written to: models/experiment_regression_test_12_71/fraction_3/n_epoch_200/2-7-3-12-0.3-1/fold_1\\assets\n"
     ]
    },
    {
     "name": "stdout",
     "output_type": "stream",
     "text": [
      "----------------------------------------------------------------------------\n",
      "RND STATE NUMBER = 26\n",
      "----------------------------------------------------------------------------\n",
      "-105.43896383709665\n",
      "14.366211284667195\n",
      "(406, 53, 86, 1)\n",
      "0.25862068965517243\n",
      "0.41625615763546797\n",
      "0.21674876847290642\n",
      "0.10837438423645321\n",
      "59     3\n",
      "455    1\n",
      "438    0\n",
      "372    0\n",
      "153    1\n",
      "      ..\n",
      "449    1\n",
      "432    0\n",
      "262    1\n",
      "318    1\n",
      "309    1\n",
      "Name: occupants, Length: 406, dtype: int64\n",
      "-104.34743594196976\n",
      "13.807162805503326\n",
      "(72, 53, 86, 1)\n",
      "[1 0 1 0 0 2 1 1 1 0 1 1 3 0 0 2 2 1 1 2 0 2 0 1 2 0 3 0 1 1 2 2 2 0 2 3 2\n",
      " 1 0 0 1 1 1 3 0 3 1 2 3 0 2 2 1 3 1 2 2 1 2 3 1 1 0 3 2 1 3 0 1 1 0 0]\n",
      "------------------------------------------------------------------------\n",
      "Training regression model 2-7-3-12-0.3-1 with transfer learning\n",
      "dict_keys(['loss', 'mae', 'val_loss', 'val_mae'])\n",
      "3/3 [==============================] - 0s 4ms/step\n",
      "accuracy4 = 0.7777777777777778\n",
      "accuracy3 = 0.875\n"
     ]
    },
    {
     "name": "stderr",
     "output_type": "stream",
     "text": [
      "WARNING:absl:Found untraced functions such as _jit_compiled_convolution_op, _jit_compiled_convolution_op, _jit_compiled_convolution_op, _jit_compiled_convolution_op, _jit_compiled_convolution_op while saving (showing 5 of 6). These functions will not be directly callable after loading.\n"
     ]
    },
    {
     "name": "stdout",
     "output_type": "stream",
     "text": [
      "INFO:tensorflow:Assets written to: models/experiment_regression_test_12_71/fraction_3/n_epoch_200/2-7-3-12-0.3-1/fold_1\\assets\n"
     ]
    },
    {
     "name": "stderr",
     "output_type": "stream",
     "text": [
      "INFO:tensorflow:Assets written to: models/experiment_regression_test_12_71/fraction_3/n_epoch_200/2-7-3-12-0.3-1/fold_1\\assets\n"
     ]
    },
    {
     "name": "stdout",
     "output_type": "stream",
     "text": [
      "----------------------------------------------------------------------------\n",
      "RND STATE NUMBER = 27\n",
      "----------------------------------------------------------------------------\n",
      "-105.40346936631377\n",
      "14.217134308166495\n",
      "(406, 53, 86, 1)\n",
      "0.26108374384236455\n",
      "0.39901477832512317\n",
      "0.22660098522167488\n",
      "0.11330049261083744\n",
      "228    1\n",
      "247    1\n",
      "231    1\n",
      "393    0\n",
      "183    1\n",
      "      ..\n",
      "312    1\n",
      "31     3\n",
      "328    0\n",
      "184    2\n",
      "19     3\n",
      "Name: occupants, Length: 406, dtype: int64\n",
      "-104.54758531888424\n",
      "14.664770476812464\n",
      "(72, 53, 86, 1)\n",
      "[1 1 3 1 1 1 2 1 0 2 0 0 0 1 2 1 1 1 2 0 1 0 2 2 1 1 0 1 0 0 1 1 1 1 2 0 2\n",
      " 0 2 2 1 3 3 2 3 0 0 0 0 1 3 1 3 0 3 2 1 3 1 1 1 2 1 0 1 1 1 1 1 2 0 1]\n",
      "------------------------------------------------------------------------\n",
      "Training regression model 2-7-3-12-0.3-1 with transfer learning\n",
      "dict_keys(['loss', 'mae', 'val_loss', 'val_mae'])\n",
      "3/3 [==============================] - 0s 3ms/step\n",
      "accuracy4 = 0.7777777777777778\n",
      "accuracy3 = 0.8611111111111112\n"
     ]
    },
    {
     "name": "stderr",
     "output_type": "stream",
     "text": [
      "WARNING:absl:Found untraced functions such as _jit_compiled_convolution_op, _jit_compiled_convolution_op, _jit_compiled_convolution_op, _jit_compiled_convolution_op, _jit_compiled_convolution_op while saving (showing 5 of 6). These functions will not be directly callable after loading.\n"
     ]
    },
    {
     "name": "stdout",
     "output_type": "stream",
     "text": [
      "INFO:tensorflow:Assets written to: models/experiment_regression_test_12_71/fraction_3/n_epoch_200/2-7-3-12-0.3-1/fold_1\\assets\n"
     ]
    },
    {
     "name": "stderr",
     "output_type": "stream",
     "text": [
      "INFO:tensorflow:Assets written to: models/experiment_regression_test_12_71/fraction_3/n_epoch_200/2-7-3-12-0.3-1/fold_1\\assets\n"
     ]
    },
    {
     "name": "stdout",
     "output_type": "stream",
     "text": [
      "----------------------------------------------------------------------------\n",
      "RND STATE NUMBER = 28\n",
      "----------------------------------------------------------------------------\n",
      "-105.42088219520595\n",
      "14.360486771740744\n",
      "(406, 53, 86, 1)\n",
      "0.270935960591133\n",
      "0.41379310344827586\n",
      "0.21182266009852216\n",
      "0.10344827586206896\n",
      "6      2\n",
      "127    2\n",
      "86     3\n",
      "158    1\n",
      "267    1\n",
      "      ..\n",
      "259    1\n",
      "32     2\n",
      "278    1\n",
      "5      3\n",
      "257    2\n",
      "Name: occupants, Length: 406, dtype: int64\n",
      "-104.44939631151973\n",
      "13.84829899682117\n",
      "(72, 53, 86, 1)\n",
      "[3 1 3 0 2 3 2 2 1 1 1 1 2 2 3 0 2 0 0 3 1 1 1 2 0 2 0 2 2 0 1 1 1 2 3 1 3\n",
      " 2 3 2 1 0 1 2 3 1 2 0 1 0 0 1 2 2 0 2 3 1 1 3 2 2 3 1 0 1 1 1 1 1 1 0]\n",
      "------------------------------------------------------------------------\n",
      "Training regression model 2-7-3-12-0.3-1 with transfer learning\n",
      "dict_keys(['loss', 'mae', 'val_loss', 'val_mae'])\n",
      "3/3 [==============================] - 0s 3ms/step\n",
      "accuracy4 = 0.6805555555555556\n",
      "accuracy3 = 0.8194444444444444\n"
     ]
    },
    {
     "name": "stderr",
     "output_type": "stream",
     "text": [
      "WARNING:absl:Found untraced functions such as _jit_compiled_convolution_op, _jit_compiled_convolution_op, _jit_compiled_convolution_op, _jit_compiled_convolution_op, _jit_compiled_convolution_op while saving (showing 5 of 6). These functions will not be directly callable after loading.\n"
     ]
    },
    {
     "name": "stdout",
     "output_type": "stream",
     "text": [
      "INFO:tensorflow:Assets written to: models/experiment_regression_test_12_71/fraction_3/n_epoch_200/2-7-3-12-0.3-1/fold_1\\assets\n"
     ]
    },
    {
     "name": "stderr",
     "output_type": "stream",
     "text": [
      "INFO:tensorflow:Assets written to: models/experiment_regression_test_12_71/fraction_3/n_epoch_200/2-7-3-12-0.3-1/fold_1\\assets\n"
     ]
    },
    {
     "name": "stdout",
     "output_type": "stream",
     "text": [
      "----------------------------------------------------------------------------\n",
      "RND STATE NUMBER = 29\n",
      "----------------------------------------------------------------------------\n",
      "-104.8048788186047\n",
      "14.410136454494005\n",
      "(406, 53, 86, 1)\n",
      "0.2438423645320197\n",
      "0.4187192118226601\n",
      "0.21428571428571427\n",
      "0.12315270935960591\n",
      "165    0\n",
      "56     1\n",
      "419    0\n",
      "283    0\n",
      "255    0\n",
      "      ..\n",
      "296    0\n",
      "34     3\n",
      "236    1\n",
      "371    1\n",
      "469    1\n",
      "Name: occupants, Length: 406, dtype: int64\n",
      "-107.92297090735401\n",
      "13.276449240378252\n",
      "(72, 53, 86, 1)\n",
      "[0 0 1 1 1 1 3 1 0 0 0 0 0 2 3 2 2 2 0 2 2 1 1 3 0 0 1 2 1 1 1 0 0 0 0 2 2\n",
      " 0 3 0 1 2 1 0 2 1 1 0 1 2 2 2 2 0 1 1 2 0 2 0 2 1 1 1 0 0 0 0 1 1 1 2]\n",
      "------------------------------------------------------------------------\n",
      "Training regression model 2-7-3-12-0.3-1 with transfer learning\n",
      "dict_keys(['loss', 'mae', 'val_loss', 'val_mae'])\n",
      "3/3 [==============================] - 0s 4ms/step\n",
      "accuracy4 = 0.7638888888888888\n",
      "accuracy3 = 0.8333333333333334\n"
     ]
    },
    {
     "name": "stderr",
     "output_type": "stream",
     "text": [
      "WARNING:absl:Found untraced functions such as _jit_compiled_convolution_op, _jit_compiled_convolution_op, _jit_compiled_convolution_op, _jit_compiled_convolution_op, _jit_compiled_convolution_op while saving (showing 5 of 6). These functions will not be directly callable after loading.\n"
     ]
    },
    {
     "name": "stdout",
     "output_type": "stream",
     "text": [
      "INFO:tensorflow:Assets written to: models/experiment_regression_test_12_71/fraction_3/n_epoch_200/2-7-3-12-0.3-1/fold_1\\assets\n"
     ]
    },
    {
     "name": "stderr",
     "output_type": "stream",
     "text": [
      "INFO:tensorflow:Assets written to: models/experiment_regression_test_12_71/fraction_3/n_epoch_200/2-7-3-12-0.3-1/fold_1\\assets\n"
     ]
    },
    {
     "name": "stdout",
     "output_type": "stream",
     "text": [
      "----------------------------------------------------------------------------\n",
      "RND STATE NUMBER = 30\n",
      "----------------------------------------------------------------------------\n",
      "-105.24072259693203\n",
      "14.317095468028816\n",
      "(406, 53, 86, 1)\n",
      "0.2512315270935961\n",
      "0.41379310344827586\n",
      "0.22413793103448276\n",
      "0.11083743842364532\n",
      "180    0\n",
      "276    1\n",
      "378    2\n",
      "132    3\n",
      "154    1\n",
      "      ..\n",
      "140    3\n",
      "301    2\n",
      "429    1\n",
      "421    1\n",
      "293    1\n",
      "Name: occupants, Length: 406, dtype: int64\n",
      "-105.46529626845368\n",
      "14.126251020315769\n",
      "(72, 53, 86, 1)\n",
      "[0 2 1 2 0 1 3 2 3 0 0 1 1 0 3 1 0 3 2 0 0 2 1 1 0 1 1 0 0 1 1 2 0 0 0 1 0\n",
      " 3 0 1 1 3 3 2 1 0 2 1 1 1 0 1 1 1 2 2 0 1 2 2 1 2 3 0 2 0 1 3 2 1 0 1]\n",
      "------------------------------------------------------------------------\n",
      "Training regression model 2-7-3-12-0.3-1 with transfer learning\n",
      "dict_keys(['loss', 'mae', 'val_loss', 'val_mae'])\n",
      "3/3 [==============================] - 0s 3ms/step\n",
      "accuracy4 = 0.7361111111111112\n",
      "accuracy3 = 0.8333333333333334\n"
     ]
    },
    {
     "name": "stderr",
     "output_type": "stream",
     "text": [
      "WARNING:absl:Found untraced functions such as _jit_compiled_convolution_op, _jit_compiled_convolution_op, _jit_compiled_convolution_op, _jit_compiled_convolution_op, _jit_compiled_convolution_op while saving (showing 5 of 6). These functions will not be directly callable after loading.\n"
     ]
    },
    {
     "name": "stdout",
     "output_type": "stream",
     "text": [
      "INFO:tensorflow:Assets written to: models/experiment_regression_test_12_71/fraction_3/n_epoch_200/2-7-3-12-0.3-1/fold_1\\assets\n"
     ]
    },
    {
     "name": "stderr",
     "output_type": "stream",
     "text": [
      "INFO:tensorflow:Assets written to: models/experiment_regression_test_12_71/fraction_3/n_epoch_200/2-7-3-12-0.3-1/fold_1\\assets\n"
     ]
    },
    {
     "name": "stdout",
     "output_type": "stream",
     "text": [
      "----------------------------------------------------------------------------\n",
      "RND STATE NUMBER = 31\n",
      "----------------------------------------------------------------------------\n",
      "-105.1933162460467\n",
      "14.426411055881916\n",
      "(406, 53, 86, 1)\n",
      "0.2512315270935961\n",
      "0.41133004926108374\n",
      "0.22167487684729065\n",
      "0.11576354679802955\n",
      "69     3\n",
      "429    1\n",
      "390    1\n",
      "126    3\n",
      "34     3\n",
      "      ..\n",
      "98     1\n",
      "382    0\n",
      "16     1\n",
      "87     2\n",
      "210    1\n",
      "Name: occupants, Length: 406, dtype: int64\n",
      "-105.73261541372344\n",
      "13.476970809805007\n",
      "(72, 53, 86, 1)\n",
      "[2 1 3 1 1 1 1 0 3 0 2 1 0 2 1 2 2 1 2 0 3 0 3 2 0 2 1 3 2 0 0 0 2 1 0 0 0\n",
      " 0 2 1 1 1 1 2 2 1 1 1 2 0 0 0 2 1 3 0 1 1 0 3 1 1 0 1 0 1 1 1 0 1 0 2]\n",
      "------------------------------------------------------------------------\n",
      "Training regression model 2-7-3-12-0.3-1 with transfer learning\n",
      "dict_keys(['loss', 'mae', 'val_loss', 'val_mae'])\n",
      "3/3 [==============================] - 0s 4ms/step\n",
      "accuracy4 = 0.75\n",
      "accuracy3 = 0.8055555555555556\n"
     ]
    },
    {
     "name": "stderr",
     "output_type": "stream",
     "text": [
      "WARNING:absl:Found untraced functions such as _jit_compiled_convolution_op, _jit_compiled_convolution_op, _jit_compiled_convolution_op, _jit_compiled_convolution_op, _jit_compiled_convolution_op while saving (showing 5 of 6). These functions will not be directly callable after loading.\n"
     ]
    },
    {
     "name": "stdout",
     "output_type": "stream",
     "text": [
      "INFO:tensorflow:Assets written to: models/experiment_regression_test_12_71/fraction_3/n_epoch_200/2-7-3-12-0.3-1/fold_1\\assets\n"
     ]
    },
    {
     "name": "stderr",
     "output_type": "stream",
     "text": [
      "INFO:tensorflow:Assets written to: models/experiment_regression_test_12_71/fraction_3/n_epoch_200/2-7-3-12-0.3-1/fold_1\\assets\n"
     ]
    },
    {
     "name": "stdout",
     "output_type": "stream",
     "text": [
      "----------------------------------------------------------------------------\n",
      "RND STATE NUMBER = 32\n",
      "----------------------------------------------------------------------------\n",
      "-105.1841504525818\n",
      "14.338829963588298\n",
      "(406, 53, 86, 1)\n",
      "0.26108374384236455\n",
      "0.4014778325123153\n",
      "0.229064039408867\n",
      "0.10837438423645321\n",
      "339    1\n",
      "170    1\n",
      "70     2\n",
      "107    2\n",
      "113    2\n",
      "      ..\n",
      "380    1\n",
      "310    0\n",
      "389    0\n",
      "43     3\n",
      "215    1\n",
      "Name: occupants, Length: 406, dtype: int64\n",
      "-105.78430030465076\n",
      "13.991992468076804\n",
      "(72, 53, 86, 1)\n",
      "[0 0 3 1 1 0 0 0 1 2 1 0 1 3 1 2 3 3 0 3 1 3 0 1 2 2 1 1 0 2 0 1 3 1 1 3 1\n",
      " 0 0 1 1 1 2 1 2 1 1 1 1 1 0 0 2 3 1 2 0 0 1 2 3 0 1 1 2 1 2 1 2 0 1 1]\n",
      "------------------------------------------------------------------------\n",
      "Training regression model 2-7-3-12-0.3-1 with transfer learning\n",
      "dict_keys(['loss', 'mae', 'val_loss', 'val_mae'])\n",
      "3/3 [==============================] - 0s 4ms/step\n",
      "accuracy4 = 0.7361111111111112\n",
      "accuracy3 = 0.8055555555555556\n"
     ]
    },
    {
     "name": "stderr",
     "output_type": "stream",
     "text": [
      "WARNING:absl:Found untraced functions such as _jit_compiled_convolution_op, _jit_compiled_convolution_op, _jit_compiled_convolution_op, _jit_compiled_convolution_op, _jit_compiled_convolution_op while saving (showing 5 of 6). These functions will not be directly callable after loading.\n"
     ]
    },
    {
     "name": "stdout",
     "output_type": "stream",
     "text": [
      "INFO:tensorflow:Assets written to: models/experiment_regression_test_12_71/fraction_3/n_epoch_200/2-7-3-12-0.3-1/fold_1\\assets\n"
     ]
    },
    {
     "name": "stderr",
     "output_type": "stream",
     "text": [
      "INFO:tensorflow:Assets written to: models/experiment_regression_test_12_71/fraction_3/n_epoch_200/2-7-3-12-0.3-1/fold_1\\assets\n"
     ]
    },
    {
     "name": "stdout",
     "output_type": "stream",
     "text": [
      "----------------------------------------------------------------------------\n",
      "RND STATE NUMBER = 33\n",
      "----------------------------------------------------------------------------\n",
      "-105.08819752461844\n",
      "14.25165461552857\n",
      "(406, 53, 86, 1)\n",
      "0.2512315270935961\n",
      "0.39901477832512317\n",
      "0.23645320197044334\n",
      "0.11330049261083744\n",
      "110    1\n",
      "258    0\n",
      "140    3\n",
      "297    0\n",
      "367    1\n",
      "      ..\n",
      "146    1\n",
      "66     3\n",
      "216    1\n",
      "391    1\n",
      "20     2\n",
      "Name: occupants, Length: 406, dtype: int64\n",
      "-106.32536820399952\n",
      "14.451159906923843\n",
      "(72, 53, 86, 1)\n",
      "[1 0 0 0 1 1 2 1 3 1 0 0 1 1 1 0 0 0 1 0 1 2 3 3 1 0 3 0 3 0 2 1 1 2 1 1 1\n",
      " 0 1 1 0 0 3 3 0 1 1 0 1 1 2 1 2 0 1 1 0 1 0 2 1 0 2 1 3 1 2 1 0 1 1 2]\n",
      "------------------------------------------------------------------------\n",
      "Training regression model 2-7-3-12-0.3-1 with transfer learning\n",
      "dict_keys(['loss', 'mae', 'val_loss', 'val_mae'])\n",
      "3/3 [==============================] - 0s 4ms/step\n",
      "accuracy4 = 0.7638888888888888\n",
      "accuracy3 = 0.8611111111111112\n"
     ]
    },
    {
     "name": "stderr",
     "output_type": "stream",
     "text": [
      "WARNING:absl:Found untraced functions such as _jit_compiled_convolution_op, _jit_compiled_convolution_op, _jit_compiled_convolution_op, _jit_compiled_convolution_op, _jit_compiled_convolution_op while saving (showing 5 of 6). These functions will not be directly callable after loading.\n"
     ]
    },
    {
     "name": "stdout",
     "output_type": "stream",
     "text": [
      "INFO:tensorflow:Assets written to: models/experiment_regression_test_12_71/fraction_3/n_epoch_200/2-7-3-12-0.3-1/fold_1\\assets\n"
     ]
    },
    {
     "name": "stderr",
     "output_type": "stream",
     "text": [
      "INFO:tensorflow:Assets written to: models/experiment_regression_test_12_71/fraction_3/n_epoch_200/2-7-3-12-0.3-1/fold_1\\assets\n"
     ]
    },
    {
     "name": "stdout",
     "output_type": "stream",
     "text": [
      "----------------------------------------------------------------------------\n",
      "RND STATE NUMBER = 34\n",
      "----------------------------------------------------------------------------\n",
      "-105.09668243269917\n",
      "14.334864216201066\n",
      "(406, 53, 86, 1)\n",
      "0.2660098522167488\n",
      "0.39655172413793105\n",
      "0.22660098522167488\n",
      "0.11083743842364532\n",
      "414    2\n",
      "401    1\n",
      "403    1\n",
      "159    1\n",
      "251    0\n",
      "      ..\n",
      "85     2\n",
      "246    2\n",
      "361    2\n",
      "122    1\n",
      "417    0\n",
      "Name: occupants, Length: 406, dtype: int64\n",
      "-106.27752275009954\n",
      "13.983513212826866\n",
      "(72, 53, 86, 1)\n",
      "[2 0 1 0 0 0 3 0 1 2 1 1 1 1 2 1 0 0 3 1 0 0 0 1 2 2 1 1 1 1 2 3 3 0 1 1 3\n",
      " 2 2 1 1 3 0 1 2 1 1 0 1 1 1 1 1 1 2 1 1 1 3 2 2 1 2 0 3 0 1 0 3 1 1 2]\n",
      "------------------------------------------------------------------------\n",
      "Training regression model 2-7-3-12-0.3-1 with transfer learning\n",
      "dict_keys(['loss', 'mae', 'val_loss', 'val_mae'])\n",
      "3/3 [==============================] - 0s 3ms/step\n",
      "accuracy4 = 0.75\n",
      "accuracy3 = 0.8333333333333334\n"
     ]
    },
    {
     "name": "stderr",
     "output_type": "stream",
     "text": [
      "WARNING:absl:Found untraced functions such as _jit_compiled_convolution_op, _jit_compiled_convolution_op, _jit_compiled_convolution_op, _jit_compiled_convolution_op, _jit_compiled_convolution_op while saving (showing 5 of 6). These functions will not be directly callable after loading.\n"
     ]
    },
    {
     "name": "stdout",
     "output_type": "stream",
     "text": [
      "INFO:tensorflow:Assets written to: models/experiment_regression_test_12_71/fraction_3/n_epoch_200/2-7-3-12-0.3-1/fold_1\\assets\n"
     ]
    },
    {
     "name": "stderr",
     "output_type": "stream",
     "text": [
      "INFO:tensorflow:Assets written to: models/experiment_regression_test_12_71/fraction_3/n_epoch_200/2-7-3-12-0.3-1/fold_1\\assets\n"
     ]
    },
    {
     "name": "stdout",
     "output_type": "stream",
     "text": [
      "----------------------------------------------------------------------------\n",
      "RND STATE NUMBER = 35\n",
      "----------------------------------------------------------------------------\n",
      "-105.08830592040451\n",
      "14.345927257890233\n",
      "(406, 53, 86, 1)\n",
      "0.2561576354679803\n",
      "0.4064039408866995\n",
      "0.21921182266009853\n",
      "0.11822660098522167\n",
      "212    1\n",
      "10     2\n",
      "36     1\n",
      "127    2\n",
      "87     2\n",
      "      ..\n",
      "447    2\n",
      "33     2\n",
      "439    1\n",
      "271    1\n",
      "201    1\n",
      "Name: occupants, Length: 406, dtype: int64\n",
      "-106.32475697220586\n",
      "13.915288769636094\n",
      "(72, 53, 86, 1)\n",
      "[1 2 1 2 1 1 0 0 2 2 0 1 0 1 1 3 1 1 1 2 0 3 2 1 3 0 1 0 2 1 1 1 1 1 1 1 1\n",
      " 2 2 0 1 2 1 1 2 0 0 0 0 2 0 1 0 1 3 3 2 0 1 3 1 2 2 0 0 0 1 2 2 1 0 0]\n",
      "------------------------------------------------------------------------\n",
      "Training regression model 2-7-3-12-0.3-1 with transfer learning\n",
      "dict_keys(['loss', 'mae', 'val_loss', 'val_mae'])\n",
      "3/3 [==============================] - 0s 4ms/step\n",
      "accuracy4 = 0.8194444444444444\n",
      "accuracy3 = 0.875\n"
     ]
    },
    {
     "name": "stderr",
     "output_type": "stream",
     "text": [
      "WARNING:absl:Found untraced functions such as _jit_compiled_convolution_op, _jit_compiled_convolution_op, _jit_compiled_convolution_op, _jit_compiled_convolution_op, _jit_compiled_convolution_op while saving (showing 5 of 6). These functions will not be directly callable after loading.\n"
     ]
    },
    {
     "name": "stdout",
     "output_type": "stream",
     "text": [
      "INFO:tensorflow:Assets written to: models/experiment_regression_test_12_71/fraction_3/n_epoch_200/2-7-3-12-0.3-1/fold_1\\assets\n"
     ]
    },
    {
     "name": "stderr",
     "output_type": "stream",
     "text": [
      "INFO:tensorflow:Assets written to: models/experiment_regression_test_12_71/fraction_3/n_epoch_200/2-7-3-12-0.3-1/fold_1\\assets\n"
     ]
    },
    {
     "name": "stdout",
     "output_type": "stream",
     "text": [
      "----------------------------------------------------------------------------\n",
      "RND STATE NUMBER = 36\n",
      "----------------------------------------------------------------------------\n",
      "-105.31093204329933\n",
      "14.262385537597158\n",
      "(406, 53, 86, 1)\n",
      "0.2536945812807882\n",
      "0.42857142857142855\n",
      "0.21182266009852216\n",
      "0.10591133004926108\n",
      "209    0\n",
      "55     2\n",
      "379    0\n",
      "66     3\n",
      "178    2\n",
      "      ..\n",
      "161    0\n",
      "424    0\n",
      "414    2\n",
      "98     1\n",
      "133    3\n",
      "Name: occupants, Length: 406, dtype: int64\n",
      "-105.06939300143765\n",
      "14.434719017908012\n",
      "(72, 53, 86, 1)\n",
      "[1 1 0 1 2 2 2 0 2 2 0 1 0 0 1 3 3 2 2 2 1 0 3 3 2 1 0 2 1 1 3 3 1 1 2 1 0\n",
      " 1 1 0 2 0 1 0 0 0 2 0 3 1 3 0 1 0 1 3 0 0 2 2 1 0 1 0 0 3 2 2 2 2 2 3]\n",
      "------------------------------------------------------------------------\n",
      "Training regression model 2-7-3-12-0.3-1 with transfer learning\n",
      "dict_keys(['loss', 'mae', 'val_loss', 'val_mae'])\n",
      "3/3 [==============================] - 0s 3ms/step\n",
      "accuracy4 = 0.7222222222222222\n",
      "accuracy3 = 0.8472222222222222\n"
     ]
    },
    {
     "name": "stderr",
     "output_type": "stream",
     "text": [
      "WARNING:absl:Found untraced functions such as _jit_compiled_convolution_op, _jit_compiled_convolution_op, _jit_compiled_convolution_op, _jit_compiled_convolution_op, _jit_compiled_convolution_op while saving (showing 5 of 6). These functions will not be directly callable after loading.\n"
     ]
    },
    {
     "name": "stdout",
     "output_type": "stream",
     "text": [
      "INFO:tensorflow:Assets written to: models/experiment_regression_test_12_71/fraction_3/n_epoch_200/2-7-3-12-0.3-1/fold_1\\assets\n"
     ]
    },
    {
     "name": "stderr",
     "output_type": "stream",
     "text": [
      "INFO:tensorflow:Assets written to: models/experiment_regression_test_12_71/fraction_3/n_epoch_200/2-7-3-12-0.3-1/fold_1\\assets\n"
     ]
    },
    {
     "name": "stdout",
     "output_type": "stream",
     "text": [
      "----------------------------------------------------------------------------\n",
      "RND STATE NUMBER = 37\n",
      "----------------------------------------------------------------------------\n",
      "-105.18144500857873\n",
      "14.383091641949148\n",
      "(406, 53, 86, 1)\n",
      "0.2536945812807882\n",
      "0.4088669950738916\n",
      "0.21921182266009853\n",
      "0.11822660098522167\n",
      "257    2\n",
      "324    2\n",
      "272    1\n",
      "229    0\n",
      "237    2\n",
      "      ..\n",
      "437    2\n",
      "251    0\n",
      "332    1\n",
      "363    1\n",
      "399    1\n",
      "Name: occupants, Length: 406, dtype: int64\n",
      "-105.79955600277907\n",
      "13.732758592830137\n",
      "(72, 53, 86, 1)\n",
      "[2 1 1 1 2 0 1 1 1 1 1 1 0 3 2 2 1 0 0 2 0 0 1 1 2 2 0 0 1 0 1 1 1 1 1 3 2\n",
      " 1 2 2 2 0 0 0 3 2 1 2 3 3 0 1 2 3 0 0 2 0 1 0 0 2 1 2 1 1 1 1 0 0 0 1]\n",
      "------------------------------------------------------------------------\n",
      "Training regression model 2-7-3-12-0.3-1 with transfer learning\n",
      "dict_keys(['loss', 'mae', 'val_loss', 'val_mae'])\n",
      "3/3 [==============================] - 0s 3ms/step\n",
      "accuracy4 = 0.8333333333333334\n",
      "accuracy3 = 0.9027777777777778\n"
     ]
    },
    {
     "name": "stderr",
     "output_type": "stream",
     "text": [
      "WARNING:absl:Found untraced functions such as _jit_compiled_convolution_op, _jit_compiled_convolution_op, _jit_compiled_convolution_op, _jit_compiled_convolution_op, _jit_compiled_convolution_op while saving (showing 5 of 6). These functions will not be directly callable after loading.\n"
     ]
    },
    {
     "name": "stdout",
     "output_type": "stream",
     "text": [
      "INFO:tensorflow:Assets written to: models/experiment_regression_test_12_71/fraction_3/n_epoch_200/2-7-3-12-0.3-1/fold_1\\assets\n"
     ]
    },
    {
     "name": "stderr",
     "output_type": "stream",
     "text": [
      "INFO:tensorflow:Assets written to: models/experiment_regression_test_12_71/fraction_3/n_epoch_200/2-7-3-12-0.3-1/fold_1\\assets\n"
     ]
    },
    {
     "name": "stdout",
     "output_type": "stream",
     "text": [
      "----------------------------------------------------------------------------\n",
      "RND STATE NUMBER = 38\n",
      "----------------------------------------------------------------------------\n",
      "-105.28396895665342\n",
      "14.253697615178199\n",
      "(406, 53, 86, 1)\n",
      "0.2660098522167488\n",
      "0.39901477832512317\n",
      "0.22413793103448276\n",
      "0.11083743842364532\n",
      "47     2\n",
      "35     3\n",
      "334    1\n",
      "9      3\n",
      "178    2\n",
      "      ..\n",
      "316    1\n",
      "467    0\n",
      "53     1\n",
      "331    1\n",
      "417    0\n",
      "Name: occupants, Length: 406, dtype: int64\n",
      "-105.22143485113551\n",
      "14.484624759349025\n",
      "(72, 53, 86, 1)\n",
      "[3 1 2 1 3 0 1 1 1 3 0 1 2 0 2 2 1 2 2 1 0 1 3 1 1 1 1 3 1 2 2 1 1 1 1 1 2\n",
      " 1 1 3 1 1 1 0 3 1 1 1 0 0 3 0 2 0 0 0 3 0 2 2 1 0 2 1 0 2 1 2 1 1 0 0]\n",
      "------------------------------------------------------------------------\n",
      "Training regression model 2-7-3-12-0.3-1 with transfer learning\n",
      "dict_keys(['loss', 'mae', 'val_loss', 'val_mae'])\n",
      "3/3 [==============================] - 0s 4ms/step\n",
      "accuracy4 = 0.75\n",
      "accuracy3 = 0.8611111111111112\n"
     ]
    },
    {
     "name": "stderr",
     "output_type": "stream",
     "text": [
      "WARNING:absl:Found untraced functions such as _jit_compiled_convolution_op, _jit_compiled_convolution_op, _jit_compiled_convolution_op, _jit_compiled_convolution_op, _jit_compiled_convolution_op while saving (showing 5 of 6). These functions will not be directly callable after loading.\n"
     ]
    },
    {
     "name": "stdout",
     "output_type": "stream",
     "text": [
      "INFO:tensorflow:Assets written to: models/experiment_regression_test_12_71/fraction_3/n_epoch_200/2-7-3-12-0.3-1/fold_1\\assets\n"
     ]
    },
    {
     "name": "stderr",
     "output_type": "stream",
     "text": [
      "INFO:tensorflow:Assets written to: models/experiment_regression_test_12_71/fraction_3/n_epoch_200/2-7-3-12-0.3-1/fold_1\\assets\n"
     ]
    },
    {
     "name": "stdout",
     "output_type": "stream",
     "text": [
      "----------------------------------------------------------------------------\n",
      "RND STATE NUMBER = 39\n",
      "----------------------------------------------------------------------------\n",
      "-105.61050803857393\n",
      "14.160289104620443\n",
      "(406, 53, 86, 1)\n",
      "0.2536945812807882\n",
      "0.41625615763546797\n",
      "0.21674876847290642\n",
      "0.11330049261083744\n",
      "3      1\n",
      "228    1\n",
      "389    0\n",
      "449    1\n",
      "347    2\n",
      "      ..\n",
      "404    0\n",
      "64     3\n",
      "41     2\n",
      "105    2\n",
      "393    0\n",
      "Name: occupants, Length: 406, dtype: int64\n",
      "-103.38011725030628\n",
      "14.850877838448387\n",
      "(72, 53, 86, 1)\n",
      "[1 1 2 0 1 1 3 2 1 0 2 1 2 3 1 2 1 0 1 3 3 2 1 0 0 1 0 2 1 0 1 1 2 2 1 0 0\n",
      " 1 0 0 2 0 1 0 1 2 3 0 3 0 2 3 1 3 0 2 1 1 1 1 2 0 0 2 1 2 0 1 0 0 2 2]\n",
      "------------------------------------------------------------------------\n",
      "Training regression model 2-7-3-12-0.3-1 with transfer learning\n",
      "dict_keys(['loss', 'mae', 'val_loss', 'val_mae'])\n",
      "3/3 [==============================] - 0s 4ms/step\n",
      "accuracy4 = 0.6388888888888888\n",
      "accuracy3 = 0.6944444444444444\n"
     ]
    },
    {
     "name": "stderr",
     "output_type": "stream",
     "text": [
      "WARNING:absl:Found untraced functions such as _jit_compiled_convolution_op, _jit_compiled_convolution_op, _jit_compiled_convolution_op, _jit_compiled_convolution_op, _jit_compiled_convolution_op while saving (showing 5 of 6). These functions will not be directly callable after loading.\n"
     ]
    },
    {
     "name": "stdout",
     "output_type": "stream",
     "text": [
      "INFO:tensorflow:Assets written to: models/experiment_regression_test_12_71/fraction_3/n_epoch_200/2-7-3-12-0.3-1/fold_1\\assets\n"
     ]
    },
    {
     "name": "stderr",
     "output_type": "stream",
     "text": [
      "INFO:tensorflow:Assets written to: models/experiment_regression_test_12_71/fraction_3/n_epoch_200/2-7-3-12-0.3-1/fold_1\\assets\n"
     ]
    }
   ],
   "source": [
    "train_random_states(40)"
   ]
  },
  {
   "cell_type": "markdown",
   "metadata": {},
   "source": [
    "## Training with the full dataset (n_epoch 50)"
   ]
  },
  {
   "cell_type": "code",
   "execution_count": 34,
   "metadata": {},
   "outputs": [],
   "source": [
    "accuracies4=[]\n",
    "accuracies3=[]\n",
    "def train_random_states(amount):\n",
    "    for i in range(amount):\n",
    "        print('----------------------------------------------------------------------------')\n",
    "        print(f'RND STATE NUMBER = {i}')\n",
    "        print('----------------------------------------------------------------------------')\n",
    "        \"\"\"SPLIT THE DATASET\"\"\"\n",
    "        from sklearn.model_selection import train_test_split\n",
    "\n",
    "        train_df, test_df = train_test_split(df, test_size=0.15, random_state = i)\n",
    "        \n",
    "        \"\"\"DATA PREPROCESSING\"\"\"\n",
    "        working_df = train_df\n",
    "        #TRAINING WILL BE DONE WITH THE FFTDATA COLUMN\n",
    "        train_list = working_df.fftData\n",
    "        train_list = np.array(train_list)\n",
    "        train_x = []\n",
    "\n",
    "        \"\"\" Here is performed the frequency selection part of the preprocessing. \n",
    "            Since the fft spectrum is divided in two spectrum of 128 bits each, for performing frequency selection \n",
    "            we need to select from both the first part and the second one.\n",
    "            only one/fraction of the frequencies are selected.\n",
    "        \"\"\"\n",
    "\n",
    "        #Select only first third of both images\n",
    "        fraction = 3 \n",
    "        fraction_data = int(round(128/fraction)) #fraction_data=43 in this case\n",
    "\n",
    "        for i in range(len(train_list)):\n",
    "            #print(len(train_list[i]))\n",
    "            #print(len(train_list[i][0]))\n",
    "\n",
    "            a = np.array(train_list[i])[:, 0 : fraction_data]\n",
    "            b = np.array(train_list[i])[:, 128 : 128 + fraction_data]\n",
    "            c = np.concatenate((a, b), axis=1)\n",
    "            train_x.append(c)\n",
    "        train_arr = []\n",
    "        for x in range(len(train_x)):\n",
    "            train_arr.append(np.array(train_x[x]))\n",
    "        train_list = train_arr \n",
    "\n",
    "        \"\"\"\n",
    "        zscore normalization part of the preprocessing. correcting the dimension of the network.\n",
    "        \"\"\"\n",
    "\n",
    "        print(np.mean(train_list))\n",
    "        print(np.std(train_list))\n",
    "        train_list = scipy.stats.zscore(train_list, axis=None)\n",
    "\n",
    "        #max = np.max(train_list)\n",
    "        #min = np.min(train_list)\n",
    "        #train_list = np.array([[[(x - min) / (max - min) for x in y] for y in z] for z in train_list])\n",
    "\n",
    "\n",
    "        train_tensor = tf.convert_to_tensor(train_list)\n",
    "\n",
    "        #Third dimension value is 1\n",
    "        train_tensor = tf.expand_dims(train_tensor, -1)\n",
    "\n",
    "        print(train_tensor.shape)\n",
    "\n",
    "        \"\"\"\n",
    "        assigning label \n",
    "        \"\"\"\n",
    "\n",
    "        train_label = working_df[\"occupants\"]\n",
    "\n",
    "        #PROPORTIONS OF THE DATASET\n",
    "        passengers0 = 0\n",
    "        passengers1 = 0\n",
    "        passengers2 = 0\n",
    "        passengers3 = 0\n",
    "        for occupants in working_df[\"occupants\"]:\n",
    "            if occupants == 0:\n",
    "                passengers0+=1\n",
    "            if occupants == 1:\n",
    "                passengers1+=1\n",
    "            if occupants == 2:\n",
    "                passengers2+=1\n",
    "            if occupants == 3:\n",
    "                passengers3+=1\n",
    "        balancing0 = passengers0/len(train_df)\n",
    "        balancing1 = passengers1/len(train_df)\n",
    "        balancing2 = passengers2/len(train_df)\n",
    "        balancing3 = passengers3/len(train_df)\n",
    "\n",
    "        print(balancing0)\n",
    "        print(balancing1)\n",
    "        print(balancing2)\n",
    "        print(balancing3)\n",
    "\n",
    "        #train_label = tf.keras.utils.to_categorical(train_label, 3)\n",
    "\n",
    "        \"\"\"Dimensions of the inputs\"\"\"\n",
    "        #53*86 images\n",
    "        img_h, img_w = 53, fraction_data*2\n",
    "        num_classes=3\n",
    "\n",
    "        print(train_label)\n",
    "        \n",
    "        \"\"\"\n",
    "        Perform the same preprocessing steps of the training set to the test set too.\n",
    "        \"\"\"\n",
    "        test_labels = np.array(test_df[\"occupants\"])\n",
    "\n",
    "        #test_labels = tf.keras.utils.to_categorical(test_labels, 3)\n",
    "\n",
    "        test_list = test_df[\"fftData\"]\n",
    "        test_list = np.array(test_list)\n",
    "        test_x = []\n",
    "\n",
    "        fraction = 3 \n",
    "        fraction_data = int(round(128/fraction))\n",
    "\n",
    "        for i in range(len(test_list)):\n",
    "\n",
    "            a = np.array(test_list[i])[:, 0 : fraction_data]\n",
    "            b = np.array(test_list[i])[:, 128 : 128 + fraction_data]\n",
    "            c = np.concatenate((a, b), axis=1)\n",
    "            test_x.append(c)\n",
    "        test_arr = []\n",
    "        for x in range(len(test_x)):\n",
    "            test_arr.append(np.array(test_x[x]))\n",
    "        test_list = test_arr \n",
    "\n",
    "\n",
    "        print(np.mean(test_list))\n",
    "        print(np.std(test_list))\n",
    "        test_list = scipy.stats.zscore(test_list, axis=None)\n",
    "\n",
    "        #max = np.max(train_list)\n",
    "        #min = np.min(train_list)\n",
    "        #train_list = np.array([[[(x - min) / (max - min) for x in y] for y in z] for z in train_list])\n",
    "        test_tensor = tf.convert_to_tensor(test_list)\n",
    "        test_tensor = tf.expand_dims(test_tensor, -1)\n",
    "        print(test_tensor.shape)\n",
    "        test_images = test_tensor\n",
    "        print(test_labels)\n",
    "        \n",
    "        \"\"\"NETWORK DESIGN\"\"\"\n",
    "        folder='4_classes_test_2'\n",
    "        model_name='2-7-3-12-0.3-1'\n",
    "        fraction=3\n",
    "\n",
    "        mypath=f'models_full_train/experiment_{folder}/{model_name}/model'\n",
    "        filenames = next(walk(mypath), (None, None, []))[2]\n",
    "\n",
    "        imported_model = load_model(mypath)\n",
    "        model = tf.keras.Sequential()\n",
    "\n",
    "        for layer in imported_model.layers[:-1]: # go through until last layer\n",
    "            model.add(layer)\n",
    "        model.add(tf.keras.layers.Dense(units=1, activation='linear'))\n",
    "        for layer in model.layers[:-1]:\n",
    "            layer.trainable = False\n",
    "\n",
    "        model.compile(loss='mse', metrics=['mae'])\n",
    "        \n",
    "        print('------------------------------------------------------------------------')\n",
    "        print(f'Training regression model {model_name} with transfer learning')\n",
    "        experiment = f\"regression_test_12_{i}\" #¡¡¡¡¡CHANGE FOLDER!!!!!!\n",
    "\n",
    "        inputs = np.array(train_tensor)\n",
    "        targets = train_label\n",
    "\n",
    "        mae_per_fold = []\n",
    "        loss_per_fold = []\n",
    "        train_mae_per_fold = []\n",
    "\n",
    "        acc_per_fold_quant = []\n",
    "        train_acc_per_fold_quant = []\n",
    "\n",
    "        fold_no = 1\n",
    "        Y_pred_list = []\n",
    "        Y_true_list = []\n",
    "\n",
    "        #--------------------------------STATIC PARAMETERS------------------------------------------\n",
    "\n",
    "        # Optimization params\n",
    "        # -------------------\n",
    "\n",
    "        # Loss\n",
    "        loss = 'mean_squared_error'\n",
    "\n",
    "        # learning rate\n",
    "        lr = 0.3e-4\n",
    "\n",
    "        optimizer = tf.keras.optimizers.Adam(learning_rate=lr)\n",
    "        # -------------------\n",
    "\n",
    "        # Validation metrics\n",
    "        # ------------------\n",
    "\n",
    "        metrics = ['mae','accuracy']\n",
    "\n",
    "        batch_size = 32\n",
    "\n",
    "        n_epoch = 50\n",
    "\n",
    "\n",
    "        #------------------------------------CALLBACKS----------------------------------------\n",
    "        callbacks = []\n",
    "\n",
    "        # Early Stopping\n",
    "        # --------------\n",
    "        early_stop = False\n",
    "        if early_stop:\n",
    "            es_callback = tf.keras.callbacks.EarlyStopping(monitor='val_loss', patience=100, restore_best_weights=False,)\n",
    "            callbacks.append(es_callback)\n",
    "\n",
    "\n",
    "        class_weights={0: balancing0, 1: balancing1, 2: balancing2, 3: balancing3}\n",
    "        history = model.fit(inputs, targets,\n",
    "                    class_weight=class_weights,\n",
    "                    batch_size=batch_size,\n",
    "                    epochs=n_epoch,\n",
    "                    validation_data=(test_images, test_labels),\n",
    "                    callbacks = callbacks,\n",
    "                    verbose=False)\n",
    "        print(history.history.keys())\n",
    "        mae_per_fold.append(history.history['val_mae'])\n",
    "        loss_per_fold.append(history.history['val_loss'])\n",
    "        train_mae_per_fold.append(history.history['mae'])\n",
    "\n",
    "        Y_prediction = model.predict(test_images)\n",
    "        Y_prediction_int=[]\n",
    "        for item in Y_prediction:\n",
    "            a = round(item[0])\n",
    "            Y_prediction_int.append(a)\n",
    "\n",
    "        accuracy4 = 0.0\n",
    "        for i in range(len(Y_prediction_int)):\n",
    "            if Y_prediction_int[i]==test_labels[i]:\n",
    "                accuracy4 += 1\n",
    "        accuracy4 = accuracy4 / len(Y_prediction)\n",
    "        \n",
    "        Y_true = test_labels\n",
    "        for i in range(len(Y_true)):\n",
    "            if Y_true[i] == 3:\n",
    "                Y_true[i] = 2\n",
    "        for i in range(len(Y_prediction_int)):\n",
    "            if Y_prediction_int[i] == 3:\n",
    "                Y_prediction_int[i] = 2\n",
    "                \n",
    "        accuracy3 = 0.0\n",
    "        for i in range(len(Y_prediction_int)):\n",
    "            if Y_prediction_int[i]==Y_true[i]:\n",
    "                accuracy3 += 1\n",
    "        accuracy3 = accuracy3 / len(Y_prediction)\n",
    "        print(f\"accuracy4 = {accuracy4}\")\n",
    "        print(f\"accuracy3 = {accuracy3}\")\n",
    "        #-------------------------------SAVE MODEL-----------------------------------------\n",
    "\n",
    "        MODELS_DIR = f'models/experiment_{experiment}/fraction_{fraction}/n_epoch_{n_epoch}/{model_name}/'\n",
    "        try:\n",
    "            if not os.path.exists(MODELS_DIR):\n",
    "                os.makedirs(MODELS_DIR)\n",
    "        except e:\n",
    "            if e.errno != errno.EEXIST:\n",
    "                raise   \n",
    "            # time.sleep might help here\n",
    "            pass\n",
    "\n",
    "        MODEL_TF = MODELS_DIR + f'fold_{fold_no}'\n",
    "        model.save(MODEL_TF)\n",
    "        \n",
    "        accuracies4.append(accuracy4)\n",
    "        accuracies3.append(accuracy3)\n",
    "        \n",
    "    row = {'accuracies4' : accuracies4,\n",
    "          'accuracies3' : accuracies3}\n",
    "    JSON_DIR = f'json_child/experiment_regression_BEST/fraction_{fraction}/n_epoch_{n_epoch}'\n",
    "    if not os.path.exists(JSON_DIR):\n",
    "        os.makedirs(JSON_DIR)\n",
    "    try:\n",
    "        with open(f'{JSON_DIR}/accuracies.json', 'w') as f:\n",
    "            json.dump(row, f)\n",
    "    except Exception as e:\n",
    "        print(e)"
   ]
  },
  {
   "cell_type": "code",
   "execution_count": 35,
   "metadata": {},
   "outputs": [
    {
     "name": "stdout",
     "output_type": "stream",
     "text": [
      "----------------------------------------------------------------------------\n",
      "RND STATE NUMBER = 0\n",
      "----------------------------------------------------------------------------\n",
      "-105.18000980291477\n",
      "14.2873404928517\n",
      "(406, 53, 86, 1)\n",
      "0.2660098522167488\n",
      "0.4039408866995074\n",
      "0.21428571428571427\n",
      "0.11576354679802955\n",
      "440    2\n",
      "230    1\n",
      "245    1\n",
      "160    2\n",
      "402    2\n",
      "      ..\n",
      "323    1\n",
      "192    1\n",
      "117    2\n",
      "47     2\n",
      "172    0\n",
      "Name: occupants, Length: 406, dtype: int64\n",
      "-105.80764896805057\n",
      "14.284908322435399\n",
      "(72, 53, 86, 1)\n",
      "[3 2 0 0 2 1 1 2 2 3 1 2 0 2 1 0 2 3 0 1 1 2 2 2 1 0 1 1 1 2 1 2 0 2 1 3 1\n",
      " 0 0 2 2 3 1 1 1 3 0 1 0 1 1 0 1 3 1 1 0 1 1 0 2 1 2 1 1 1 1 2 0 1 0 2]\n",
      "------------------------------------------------------------------------\n",
      "Training regression model 2-7-3-12-0.3-1 with transfer learning\n",
      "dict_keys(['loss', 'mae', 'val_loss', 'val_mae'])\n",
      "3/3 [==============================] - 0s 3ms/step\n",
      "accuracy4 = 0.7777777777777778\n",
      "accuracy3 = 0.7916666666666666\n"
     ]
    },
    {
     "name": "stderr",
     "output_type": "stream",
     "text": [
      "WARNING:absl:Found untraced functions such as _jit_compiled_convolution_op, _jit_compiled_convolution_op, _jit_compiled_convolution_op, _jit_compiled_convolution_op, _jit_compiled_convolution_op while saving (showing 5 of 6). These functions will not be directly callable after loading.\n"
     ]
    },
    {
     "name": "stdout",
     "output_type": "stream",
     "text": [
      "INFO:tensorflow:Assets written to: models/experiment_regression_test_12_71/fraction_3/n_epoch_50/2-7-3-12-0.3-1/fold_1\\assets\n"
     ]
    },
    {
     "name": "stderr",
     "output_type": "stream",
     "text": [
      "INFO:tensorflow:Assets written to: models/experiment_regression_test_12_71/fraction_3/n_epoch_50/2-7-3-12-0.3-1/fold_1\\assets\n"
     ]
    },
    {
     "name": "stdout",
     "output_type": "stream",
     "text": [
      "----------------------------------------------------------------------------\n",
      "RND STATE NUMBER = 1\n",
      "----------------------------------------------------------------------------\n",
      "-105.30627770275844\n",
      "14.19675883911384\n",
      "(406, 53, 86, 1)\n",
      "0.2561576354679803\n",
      "0.39408866995073893\n",
      "0.2315270935960591\n",
      "0.11822660098522167\n",
      "403    1\n",
      "466    1\n",
      "132    3\n",
      "270    1\n",
      "146    1\n",
      "      ..\n",
      "255    0\n",
      "72     3\n",
      "396    2\n",
      "235    0\n",
      "37     2\n",
      "Name: occupants, Length: 406, dtype: int64\n",
      "-105.09563831059897\n",
      "14.795425608084532\n",
      "(72, 53, 86, 1)\n",
      "[1 0 3 0 1 1 2 3 1 3 1 1 1 1 1 0 1 0 2 0 2 0 1 1 2 1 0 1 2 3 1 1 1 0 1 1 0\n",
      " 0 1 0 1 1 3 3 2 1 1 0 2 0 0 0 2 0 0 1 1 1 1 2 1 0 1 1 1 2 1 2 0 2 0 1]\n",
      "------------------------------------------------------------------------\n",
      "Training regression model 2-7-3-12-0.3-1 with transfer learning\n",
      "dict_keys(['loss', 'mae', 'val_loss', 'val_mae'])\n",
      "3/3 [==============================] - 0s 4ms/step\n",
      "accuracy4 = 0.7777777777777778\n",
      "accuracy3 = 0.8333333333333334\n"
     ]
    },
    {
     "name": "stderr",
     "output_type": "stream",
     "text": [
      "WARNING:absl:Found untraced functions such as _jit_compiled_convolution_op, _jit_compiled_convolution_op, _jit_compiled_convolution_op, _jit_compiled_convolution_op, _jit_compiled_convolution_op while saving (showing 5 of 6). These functions will not be directly callable after loading.\n"
     ]
    },
    {
     "name": "stdout",
     "output_type": "stream",
     "text": [
      "INFO:tensorflow:Assets written to: models/experiment_regression_test_12_71/fraction_3/n_epoch_50/2-7-3-12-0.3-1/fold_1\\assets\n"
     ]
    },
    {
     "name": "stderr",
     "output_type": "stream",
     "text": [
      "INFO:tensorflow:Assets written to: models/experiment_regression_test_12_71/fraction_3/n_epoch_50/2-7-3-12-0.3-1/fold_1\\assets\n"
     ]
    },
    {
     "name": "stdout",
     "output_type": "stream",
     "text": [
      "----------------------------------------------------------------------------\n",
      "RND STATE NUMBER = 2\n",
      "----------------------------------------------------------------------------\n",
      "-105.33041514606805\n",
      "14.218898681508648\n",
      "(406, 53, 86, 1)\n",
      "0.24630541871921183\n",
      "0.4088669950738916\n",
      "0.2315270935960591\n",
      "0.11330049261083744\n",
      "14     2\n",
      "301    2\n",
      "369    1\n",
      "203    0\n",
      "12     2\n",
      "      ..\n",
      "299    0\n",
      "22     3\n",
      "72     3\n",
      "15     3\n",
      "168    1\n",
      "Name: occupants, Length: 406, dtype: int64\n",
      "-104.9595299497142\n",
      "14.672352948867985\n",
      "(72, 53, 86, 1)\n",
      "[1 1 0 1 1 0 0 0 2 0 0 3 0 0 1 1 1 0 0 1 1 3 0 0 0 2 1 2 1 1 1 1 2 1 2 3 1\n",
      " 2 1 0 1 1 2 1 0 0 0 0 1 0 0 3 1 3 0 0 1 1 1 1 3 0 2 1 2 3 2 1 0 2 2 3]\n",
      "------------------------------------------------------------------------\n",
      "Training regression model 2-7-3-12-0.3-1 with transfer learning\n",
      "dict_keys(['loss', 'mae', 'val_loss', 'val_mae'])\n",
      "3/3 [==============================] - 0s 4ms/step\n",
      "accuracy4 = 0.7916666666666666\n",
      "accuracy3 = 0.8888888888888888\n"
     ]
    },
    {
     "name": "stderr",
     "output_type": "stream",
     "text": [
      "WARNING:absl:Found untraced functions such as _jit_compiled_convolution_op, _jit_compiled_convolution_op, _jit_compiled_convolution_op, _jit_compiled_convolution_op, _jit_compiled_convolution_op while saving (showing 5 of 6). These functions will not be directly callable after loading.\n"
     ]
    },
    {
     "name": "stdout",
     "output_type": "stream",
     "text": [
      "INFO:tensorflow:Assets written to: models/experiment_regression_test_12_71/fraction_3/n_epoch_50/2-7-3-12-0.3-1/fold_1\\assets\n"
     ]
    },
    {
     "name": "stderr",
     "output_type": "stream",
     "text": [
      "INFO:tensorflow:Assets written to: models/experiment_regression_test_12_71/fraction_3/n_epoch_50/2-7-3-12-0.3-1/fold_1\\assets\n"
     ]
    },
    {
     "name": "stdout",
     "output_type": "stream",
     "text": [
      "----------------------------------------------------------------------------\n",
      "RND STATE NUMBER = 3\n",
      "----------------------------------------------------------------------------\n",
      "-105.3595316285224\n",
      "14.368294204123693\n",
      "(406, 53, 86, 1)\n",
      "0.2536945812807882\n",
      "0.4211822660098522\n",
      "0.20689655172413793\n",
      "0.11822660098522167\n",
      "159    1\n",
      "177    0\n",
      "170    1\n",
      "189    0\n",
      "370    1\n",
      "      ..\n",
      "440    2\n",
      "131    0\n",
      "249    0\n",
      "152    1\n",
      "362    1\n",
      "Name: occupants, Length: 406, dtype: int64\n",
      "-104.79534534031882\n",
      "13.821789240821177\n",
      "(72, 53, 86, 1)\n",
      "[2 2 3 0 0 2 1 0 0 2 1 2 0 0 2 0 0 2 1 2 2 2 1 1 0 1 1 2 2 1 2 2 1 2 0 2 2\n",
      " 1 1 1 2 0 1 0 1 1 0 0 1 3 0 3 2 3 3 0 0 1 1 3 1 1 2 0 0 0 2 1 1 0 1 2]\n",
      "------------------------------------------------------------------------\n",
      "Training regression model 2-7-3-12-0.3-1 with transfer learning\n",
      "dict_keys(['loss', 'mae', 'val_loss', 'val_mae'])\n",
      "3/3 [==============================] - 0s 3ms/step\n",
      "accuracy4 = 0.7361111111111112\n",
      "accuracy3 = 0.8472222222222222\n"
     ]
    },
    {
     "name": "stderr",
     "output_type": "stream",
     "text": [
      "WARNING:absl:Found untraced functions such as _jit_compiled_convolution_op, _jit_compiled_convolution_op, _jit_compiled_convolution_op, _jit_compiled_convolution_op, _jit_compiled_convolution_op while saving (showing 5 of 6). These functions will not be directly callable after loading.\n"
     ]
    },
    {
     "name": "stdout",
     "output_type": "stream",
     "text": [
      "INFO:tensorflow:Assets written to: models/experiment_regression_test_12_71/fraction_3/n_epoch_50/2-7-3-12-0.3-1/fold_1\\assets\n"
     ]
    },
    {
     "name": "stderr",
     "output_type": "stream",
     "text": [
      "INFO:tensorflow:Assets written to: models/experiment_regression_test_12_71/fraction_3/n_epoch_50/2-7-3-12-0.3-1/fold_1\\assets\n"
     ]
    },
    {
     "name": "stdout",
     "output_type": "stream",
     "text": [
      "----------------------------------------------------------------------------\n",
      "RND STATE NUMBER = 4\n",
      "----------------------------------------------------------------------------\n",
      "-105.16175265051322\n",
      "14.307559188477946\n",
      "(406, 53, 86, 1)\n",
      "0.26108374384236455\n",
      "0.4039408866995074\n",
      "0.22660098522167488\n",
      "0.10837438423645321\n",
      "419    0\n",
      "203    0\n",
      "228    1\n",
      "61     2\n",
      "285    0\n",
      "      ..\n",
      "385    2\n",
      "197    0\n",
      "439    1\n",
      "174    1\n",
      "122    1\n",
      "Name: occupants, Length: 406, dtype: int64\n",
      "-105.91059902187042\n",
      "14.165336707560495\n",
      "(72, 53, 86, 1)\n",
      "[0 1 2 3 1 1 3 2 1 3 1 3 2 0 1 1 1 1 0 0 3 1 0 2 2 1 3 1 1 3 0 1 2 0 0 2 1\n",
      " 3 1 1 2 1 1 1 0 0 1 0 1 0 1 1 1 0 2 2 1 0 1 0 0 3 2 0 2 1 2 1 3 2 1 0]\n",
      "------------------------------------------------------------------------\n",
      "Training regression model 2-7-3-12-0.3-1 with transfer learning\n",
      "dict_keys(['loss', 'mae', 'val_loss', 'val_mae'])\n",
      "3/3 [==============================] - 0s 4ms/step\n",
      "accuracy4 = 0.7222222222222222\n",
      "accuracy3 = 0.8333333333333334\n"
     ]
    },
    {
     "name": "stderr",
     "output_type": "stream",
     "text": [
      "WARNING:absl:Found untraced functions such as _jit_compiled_convolution_op, _jit_compiled_convolution_op, _jit_compiled_convolution_op, _jit_compiled_convolution_op, _jit_compiled_convolution_op while saving (showing 5 of 6). These functions will not be directly callable after loading.\n"
     ]
    },
    {
     "name": "stdout",
     "output_type": "stream",
     "text": [
      "INFO:tensorflow:Assets written to: models/experiment_regression_test_12_71/fraction_3/n_epoch_50/2-7-3-12-0.3-1/fold_1\\assets\n"
     ]
    },
    {
     "name": "stderr",
     "output_type": "stream",
     "text": [
      "INFO:tensorflow:Assets written to: models/experiment_regression_test_12_71/fraction_3/n_epoch_50/2-7-3-12-0.3-1/fold_1\\assets\n"
     ]
    },
    {
     "name": "stdout",
     "output_type": "stream",
     "text": [
      "----------------------------------------------------------------------------\n",
      "RND STATE NUMBER = 5\n",
      "----------------------------------------------------------------------------\n",
      "-105.13078369910245\n",
      "14.284040640616656\n",
      "(406, 53, 86, 1)\n",
      "0.26354679802955666\n",
      "0.4014778325123153\n",
      "0.22660098522167488\n",
      "0.10837438423645321\n",
      "336    0\n",
      "376    2\n",
      "138    2\n",
      "306    1\n",
      "33     2\n",
      "      ..\n",
      "400    1\n",
      "118    2\n",
      "189    0\n",
      "206    1\n",
      "355    1\n",
      "Name: occupants, Length: 406, dtype: int64\n",
      "-106.0852294978813\n",
      "14.28814514817273\n",
      "(72, 53, 86, 1)\n",
      "[0 3 1 3 1 0 3 1 0 1 2 1 0 0 2 2 3 0 0 2 1 0 2 1 1 2 2 0 1 3 1 2 0 1 2 1 0\n",
      " 2 1 1 1 1 2 3 1 1 3 0 2 1 1 2 1 1 0 1 3 1 0 1 3 1 1 0 1 1 3 1 0 1 2 0]\n",
      "------------------------------------------------------------------------\n",
      "Training regression model 2-7-3-12-0.3-1 with transfer learning\n",
      "dict_keys(['loss', 'mae', 'val_loss', 'val_mae'])\n",
      "3/3 [==============================] - 0s 4ms/step\n",
      "accuracy4 = 0.7222222222222222\n",
      "accuracy3 = 0.8055555555555556\n"
     ]
    },
    {
     "name": "stderr",
     "output_type": "stream",
     "text": [
      "WARNING:absl:Found untraced functions such as _jit_compiled_convolution_op, _jit_compiled_convolution_op, _jit_compiled_convolution_op, _jit_compiled_convolution_op, _jit_compiled_convolution_op while saving (showing 5 of 6). These functions will not be directly callable after loading.\n"
     ]
    },
    {
     "name": "stdout",
     "output_type": "stream",
     "text": [
      "INFO:tensorflow:Assets written to: models/experiment_regression_test_12_71/fraction_3/n_epoch_50/2-7-3-12-0.3-1/fold_1\\assets\n"
     ]
    },
    {
     "name": "stderr",
     "output_type": "stream",
     "text": [
      "INFO:tensorflow:Assets written to: models/experiment_regression_test_12_71/fraction_3/n_epoch_50/2-7-3-12-0.3-1/fold_1\\assets\n"
     ]
    },
    {
     "name": "stdout",
     "output_type": "stream",
     "text": [
      "----------------------------------------------------------------------------\n",
      "RND STATE NUMBER = 6\n",
      "----------------------------------------------------------------------------\n",
      "-105.19225707627642\n",
      "14.343557626351364\n",
      "(406, 53, 86, 1)\n",
      "0.26354679802955666\n",
      "0.39408866995073893\n",
      "0.22167487684729065\n",
      "0.1206896551724138\n",
      "449    1\n",
      "434    1\n",
      "253    1\n",
      "69     3\n",
      "351    1\n",
      "      ..\n",
      "106    1\n",
      "468    0\n",
      "227    1\n",
      "201    1\n",
      "394    0\n",
      "Name: occupants, Length: 406, dtype: int64\n",
      "-105.73858795437299\n",
      "13.966517981384024\n",
      "(72, 53, 86, 1)\n",
      "[1 1 0 2 1 0 0 0 1 1 3 3 0 2 2 1 1 1 1 1 0 2 1 2 1 0 2 1 2 1 3 2 2 1 1 0 1\n",
      " 2 1 1 1 2 1 0 0 1 0 3 1 1 0 2 1 1 0 3 1 0 2 0 2 2 1 1 1 1 1 1 1 0 0 2]\n",
      "------------------------------------------------------------------------\n",
      "Training regression model 2-7-3-12-0.3-1 with transfer learning\n",
      "dict_keys(['loss', 'mae', 'val_loss', 'val_mae'])\n",
      "3/3 [==============================] - 0s 3ms/step\n",
      "accuracy4 = 0.7916666666666666\n",
      "accuracy3 = 0.8333333333333334\n"
     ]
    },
    {
     "name": "stderr",
     "output_type": "stream",
     "text": [
      "WARNING:absl:Found untraced functions such as _jit_compiled_convolution_op, _jit_compiled_convolution_op, _jit_compiled_convolution_op, _jit_compiled_convolution_op, _jit_compiled_convolution_op while saving (showing 5 of 6). These functions will not be directly callable after loading.\n"
     ]
    },
    {
     "name": "stdout",
     "output_type": "stream",
     "text": [
      "INFO:tensorflow:Assets written to: models/experiment_regression_test_12_71/fraction_3/n_epoch_50/2-7-3-12-0.3-1/fold_1\\assets\n"
     ]
    },
    {
     "name": "stderr",
     "output_type": "stream",
     "text": [
      "INFO:tensorflow:Assets written to: models/experiment_regression_test_12_71/fraction_3/n_epoch_50/2-7-3-12-0.3-1/fold_1\\assets\n"
     ]
    },
    {
     "name": "stdout",
     "output_type": "stream",
     "text": [
      "----------------------------------------------------------------------------\n",
      "RND STATE NUMBER = 7\n",
      "----------------------------------------------------------------------------\n",
      "-105.25358477457378\n",
      "14.282063946559974\n",
      "(406, 53, 86, 1)\n",
      "0.2660098522167488\n",
      "0.39655172413793105\n",
      "0.22167487684729065\n",
      "0.11576354679802955\n",
      "253    1\n",
      "443    0\n",
      "213    0\n",
      "440    2\n",
      "347    2\n",
      "      ..\n",
      "211    1\n",
      "67     3\n",
      "25     2\n",
      "196    1\n",
      "175    0\n",
      "Name: occupants, Length: 406, dtype: int64\n",
      "-105.39276787786295\n",
      "14.325738928559357\n",
      "(72, 53, 86, 1)\n",
      "[2 1 2 1 3 2 1 2 1 0 3 1 2 1 2 2 3 0 0 1 1 1 1 2 0 1 0 1 0 1 1 1 0 1 1 1 3\n",
      " 0 0 1 2 1 1 3 1 1 1 2 0 1 0 1 2 2 3 1 0 1 2 0 0 1 1 2 3 0 2 1 0 1 1 2]\n",
      "------------------------------------------------------------------------\n",
      "Training regression model 2-7-3-12-0.3-1 with transfer learning\n",
      "dict_keys(['loss', 'mae', 'val_loss', 'val_mae'])\n",
      "3/3 [==============================] - 0s 4ms/step\n",
      "accuracy4 = 0.7361111111111112\n",
      "accuracy3 = 0.8194444444444444\n"
     ]
    },
    {
     "name": "stderr",
     "output_type": "stream",
     "text": [
      "WARNING:absl:Found untraced functions such as _jit_compiled_convolution_op, _jit_compiled_convolution_op, _jit_compiled_convolution_op, _jit_compiled_convolution_op, _jit_compiled_convolution_op while saving (showing 5 of 6). These functions will not be directly callable after loading.\n"
     ]
    },
    {
     "name": "stdout",
     "output_type": "stream",
     "text": [
      "INFO:tensorflow:Assets written to: models/experiment_regression_test_12_71/fraction_3/n_epoch_50/2-7-3-12-0.3-1/fold_1\\assets\n"
     ]
    },
    {
     "name": "stderr",
     "output_type": "stream",
     "text": [
      "INFO:tensorflow:Assets written to: models/experiment_regression_test_12_71/fraction_3/n_epoch_50/2-7-3-12-0.3-1/fold_1\\assets\n"
     ]
    },
    {
     "name": "stdout",
     "output_type": "stream",
     "text": [
      "----------------------------------------------------------------------------\n",
      "RND STATE NUMBER = 8\n",
      "----------------------------------------------------------------------------\n",
      "-105.14495844460083\n",
      "14.393334521122636\n",
      "(406, 53, 86, 1)\n",
      "0.2660098522167488\n",
      "0.4014778325123153\n",
      "0.229064039408867\n",
      "0.10344827586206896\n",
      "59     3\n",
      "350    1\n",
      "185    1\n",
      "295    2\n",
      "4      2\n",
      "      ..\n",
      "136    2\n",
      "133    3\n",
      "361    2\n",
      "340    2\n",
      "451    1\n",
      "Name: occupants, Length: 406, dtype: int64\n",
      "-106.00529968298801\n",
      "13.660980725273314\n",
      "(72, 53, 86, 1)\n",
      "[1 1 3 1 0 2 3 1 1 0 1 1 1 1 0 3 2 0 0 1 0 0 3 2 1 1 1 3 0 1 2 1 0 1 1 3 3\n",
      " 2 1 2 1 2 1 3 1 2 1 1 0 0 1 2 0 2 0 1 0 2 3 3 1 1 0 2 1 3 1 0 1 1 3 2]\n",
      "------------------------------------------------------------------------\n",
      "Training regression model 2-7-3-12-0.3-1 with transfer learning\n",
      "dict_keys(['loss', 'mae', 'val_loss', 'val_mae'])\n",
      "3/3 [==============================] - 0s 4ms/step\n",
      "accuracy4 = 0.7638888888888888\n",
      "accuracy3 = 0.8611111111111112\n"
     ]
    },
    {
     "name": "stderr",
     "output_type": "stream",
     "text": [
      "WARNING:absl:Found untraced functions such as _jit_compiled_convolution_op, _jit_compiled_convolution_op, _jit_compiled_convolution_op, _jit_compiled_convolution_op, _jit_compiled_convolution_op while saving (showing 5 of 6). These functions will not be directly callable after loading.\n"
     ]
    },
    {
     "name": "stdout",
     "output_type": "stream",
     "text": [
      "INFO:tensorflow:Assets written to: models/experiment_regression_test_12_71/fraction_3/n_epoch_50/2-7-3-12-0.3-1/fold_1\\assets\n"
     ]
    },
    {
     "name": "stderr",
     "output_type": "stream",
     "text": [
      "INFO:tensorflow:Assets written to: models/experiment_regression_test_12_71/fraction_3/n_epoch_50/2-7-3-12-0.3-1/fold_1\\assets\n"
     ]
    },
    {
     "name": "stdout",
     "output_type": "stream",
     "text": [
      "----------------------------------------------------------------------------\n",
      "RND STATE NUMBER = 9\n",
      "----------------------------------------------------------------------------\n",
      "-105.0820575757803\n",
      "14.28553967373971\n",
      "(406, 53, 86, 1)\n",
      "0.2536945812807882\n",
      "0.4014778325123153\n",
      "0.21921182266009853\n",
      "0.12561576354679804\n",
      "345    1\n",
      "375    0\n",
      "80     3\n",
      "196    1\n",
      "282    2\n",
      "      ..\n",
      "56     1\n",
      "438    0\n",
      "126    3\n",
      "348    1\n",
      "382    0\n",
      "Name: occupants, Length: 406, dtype: int64\n",
      "-106.35999069328125\n",
      "14.258198533008281\n",
      "(72, 53, 86, 1)\n",
      "[1 0 0 0 0 2 2 2 1 1 3 1 1 1 2 1 1 2 1 1 1 1 2 0 0 2 1 2 2 1 1 1 0 0 0 2 1\n",
      " 1 2 1 0 1 1 1 2 1 1 2 0 2 0 2 1 0 1 0 2 1 0 1 0 0 3 1 0 2 1 0 0 1 0 3]\n",
      "------------------------------------------------------------------------\n",
      "Training regression model 2-7-3-12-0.3-1 with transfer learning\n",
      "dict_keys(['loss', 'mae', 'val_loss', 'val_mae'])\n",
      "3/3 [==============================] - 0s 4ms/step\n",
      "accuracy4 = 0.7916666666666666\n",
      "accuracy3 = 0.8055555555555556\n"
     ]
    },
    {
     "name": "stderr",
     "output_type": "stream",
     "text": [
      "WARNING:absl:Found untraced functions such as _jit_compiled_convolution_op, _jit_compiled_convolution_op, _jit_compiled_convolution_op, _jit_compiled_convolution_op, _jit_compiled_convolution_op while saving (showing 5 of 6). These functions will not be directly callable after loading.\n"
     ]
    },
    {
     "name": "stdout",
     "output_type": "stream",
     "text": [
      "INFO:tensorflow:Assets written to: models/experiment_regression_test_12_71/fraction_3/n_epoch_50/2-7-3-12-0.3-1/fold_1\\assets\n"
     ]
    },
    {
     "name": "stderr",
     "output_type": "stream",
     "text": [
      "INFO:tensorflow:Assets written to: models/experiment_regression_test_12_71/fraction_3/n_epoch_50/2-7-3-12-0.3-1/fold_1\\assets\n"
     ]
    },
    {
     "name": "stdout",
     "output_type": "stream",
     "text": [
      "----------------------------------------------------------------------------\n",
      "RND STATE NUMBER = 10\n",
      "----------------------------------------------------------------------------\n",
      "-105.1863291356315\n",
      "14.331531090911533\n",
      "(406, 53, 86, 1)\n",
      "0.2561576354679803\n",
      "0.39901477832512317\n",
      "0.2315270935960591\n",
      "0.11330049261083744\n",
      "10     2\n",
      "264    1\n",
      "151    0\n",
      "164    2\n",
      "329    1\n",
      "      ..\n",
      "369    1\n",
      "320    0\n",
      "15     3\n",
      "125    2\n",
      "265    1\n",
      "Name: occupants, Length: 406, dtype: int64\n",
      "-105.77201495300956\n",
      "14.03461516888005\n",
      "(72, 53, 86, 1)\n",
      "[2 1 0 1 3 1 2 1 2 0 1 0 1 1 1 1 1 1 1 0 2 0 1 0 2 3 1 0 3 0 1 3 1 2 2 0 2\n",
      " 0 1 0 0 1 3 1 1 2 0 1 0 0 1 3 1 0 2 1 0 2 3 0 1 1 1 1 0 1 1 1 0 3 1 2]\n",
      "------------------------------------------------------------------------\n",
      "Training regression model 2-7-3-12-0.3-1 with transfer learning\n",
      "dict_keys(['loss', 'mae', 'val_loss', 'val_mae'])\n",
      "3/3 [==============================] - 0s 3ms/step\n",
      "accuracy4 = 0.8194444444444444\n",
      "accuracy3 = 0.875\n"
     ]
    },
    {
     "name": "stderr",
     "output_type": "stream",
     "text": [
      "WARNING:absl:Found untraced functions such as _jit_compiled_convolution_op, _jit_compiled_convolution_op, _jit_compiled_convolution_op, _jit_compiled_convolution_op, _jit_compiled_convolution_op while saving (showing 5 of 6). These functions will not be directly callable after loading.\n"
     ]
    },
    {
     "name": "stdout",
     "output_type": "stream",
     "text": [
      "INFO:tensorflow:Assets written to: models/experiment_regression_test_12_71/fraction_3/n_epoch_50/2-7-3-12-0.3-1/fold_1\\assets\n"
     ]
    },
    {
     "name": "stderr",
     "output_type": "stream",
     "text": [
      "INFO:tensorflow:Assets written to: models/experiment_regression_test_12_71/fraction_3/n_epoch_50/2-7-3-12-0.3-1/fold_1\\assets\n"
     ]
    },
    {
     "name": "stdout",
     "output_type": "stream",
     "text": [
      "----------------------------------------------------------------------------\n",
      "RND STATE NUMBER = 11\n",
      "----------------------------------------------------------------------------\n",
      "-105.26588475216813\n",
      "14.321195134888676\n",
      "(406, 53, 86, 1)\n",
      "0.25862068965517243\n",
      "0.39655172413793105\n",
      "0.22167487684729065\n",
      "0.12315270935960591\n",
      "218    0\n",
      "351    1\n",
      "398    0\n",
      "403    1\n",
      "369    1\n",
      "      ..\n",
      "337    1\n",
      "91     1\n",
      "80     3\n",
      "191    1\n",
      "409    1\n",
      "Name: occupants, Length: 406, dtype: int64\n",
      "-105.32340967087217\n",
      "14.10421732418096\n",
      "(72, 53, 86, 1)\n",
      "[2 1 0 0 1 0 2 1 0 1 3 1 2 1 1 1 0 1 1 1 3 1 0 2 1 1 0 0 1 3 1 1 2 3 1 1 1\n",
      " 2 0 0 1 0 2 1 0 1 2 1 2 0 1 1 2 0 0 1 1 1 2 2 0 0 2 0 1 2 2 1 0 1 2 1]\n",
      "------------------------------------------------------------------------\n",
      "Training regression model 2-7-3-12-0.3-1 with transfer learning\n",
      "dict_keys(['loss', 'mae', 'val_loss', 'val_mae'])\n",
      "3/3 [==============================] - 0s 4ms/step\n",
      "accuracy4 = 0.8472222222222222\n",
      "accuracy3 = 0.8888888888888888\n"
     ]
    },
    {
     "name": "stderr",
     "output_type": "stream",
     "text": [
      "WARNING:absl:Found untraced functions such as _jit_compiled_convolution_op, _jit_compiled_convolution_op, _jit_compiled_convolution_op, _jit_compiled_convolution_op, _jit_compiled_convolution_op while saving (showing 5 of 6). These functions will not be directly callable after loading.\n"
     ]
    },
    {
     "name": "stdout",
     "output_type": "stream",
     "text": [
      "INFO:tensorflow:Assets written to: models/experiment_regression_test_12_71/fraction_3/n_epoch_50/2-7-3-12-0.3-1/fold_1\\assets\n"
     ]
    },
    {
     "name": "stderr",
     "output_type": "stream",
     "text": [
      "INFO:tensorflow:Assets written to: models/experiment_regression_test_12_71/fraction_3/n_epoch_50/2-7-3-12-0.3-1/fold_1\\assets\n"
     ]
    },
    {
     "name": "stdout",
     "output_type": "stream",
     "text": [
      "----------------------------------------------------------------------------\n",
      "RND STATE NUMBER = 12\n",
      "----------------------------------------------------------------------------\n",
      "-105.11584779449103\n",
      "14.317767523848572\n",
      "(406, 53, 86, 1)\n",
      "0.270935960591133\n",
      "0.3916256157635468\n",
      "0.22413793103448276\n",
      "0.11330049261083744\n",
      "385    2\n",
      "255    0\n",
      "314    2\n",
      "268    0\n",
      "470    3\n",
      "      ..\n",
      "241    1\n",
      "253    1\n",
      "390    1\n",
      "155    0\n",
      "331    1\n",
      "Name: occupants, Length: 406, dtype: int64\n",
      "-106.16945140444018\n",
      "14.09050803688582\n",
      "(72, 53, 86, 1)\n",
      "[2 1 1 2 1 1 0 1 1 1 0 0 1 1 2 0 3 1 3 2 3 0 2 1 0 1 1 1 2 1 1 2 3 1 3 2 1\n",
      " 1 1 0 1 1 1 1 1 0 1 1 2 2 1 0 1 1 2 3 3 0 0 1 2 1 2 2 0 2 0 1 3 1 0 1]\n",
      "------------------------------------------------------------------------\n",
      "Training regression model 2-7-3-12-0.3-1 with transfer learning\n",
      "dict_keys(['loss', 'mae', 'val_loss', 'val_mae'])\n",
      "3/3 [==============================] - 0s 3ms/step\n",
      "accuracy4 = 0.75\n",
      "accuracy3 = 0.8055555555555556\n"
     ]
    },
    {
     "name": "stderr",
     "output_type": "stream",
     "text": [
      "WARNING:absl:Found untraced functions such as _jit_compiled_convolution_op, _jit_compiled_convolution_op, _jit_compiled_convolution_op, _jit_compiled_convolution_op, _jit_compiled_convolution_op while saving (showing 5 of 6). These functions will not be directly callable after loading.\n"
     ]
    },
    {
     "name": "stdout",
     "output_type": "stream",
     "text": [
      "INFO:tensorflow:Assets written to: models/experiment_regression_test_12_71/fraction_3/n_epoch_50/2-7-3-12-0.3-1/fold_1\\assets\n"
     ]
    },
    {
     "name": "stderr",
     "output_type": "stream",
     "text": [
      "INFO:tensorflow:Assets written to: models/experiment_regression_test_12_71/fraction_3/n_epoch_50/2-7-3-12-0.3-1/fold_1\\assets\n"
     ]
    },
    {
     "name": "stdout",
     "output_type": "stream",
     "text": [
      "----------------------------------------------------------------------------\n",
      "RND STATE NUMBER = 13\n",
      "----------------------------------------------------------------------------\n",
      "-105.11066118975579\n",
      "14.351076738000412\n",
      "(406, 53, 86, 1)\n",
      "0.2684729064039409\n",
      "0.3916256157635468\n",
      "0.229064039408867\n",
      "0.11083743842364532\n",
      "157    1\n",
      "30     2\n",
      "69     3\n",
      "408    1\n",
      "336    0\n",
      "      ..\n",
      "230    1\n",
      "16     1\n",
      "74     2\n",
      "176    1\n",
      "338    2\n",
      "Name: occupants, Length: 406, dtype: int64\n",
      "-106.19869809225328\n",
      "13.895862659478029\n",
      "(72, 53, 86, 1)\n",
      "[1 2 1 3 0 1 1 0 3 1 1 0 1 1 2 3 2 1 3 3 1 1 1 3 1 0 2 1 0 2 1 2 1 1 0 3 2\n",
      " 1 2 2 1 1 2 1 0 2 1 2 1 1 1 1 0 1 0 0 1 0 0 1 1 0 0 1 0 1 1 3 3 1 2 1]\n",
      "------------------------------------------------------------------------\n",
      "Training regression model 2-7-3-12-0.3-1 with transfer learning\n",
      "dict_keys(['loss', 'mae', 'val_loss', 'val_mae'])\n",
      "3/3 [==============================] - 0s 3ms/step\n",
      "accuracy4 = 0.75\n",
      "accuracy3 = 0.8333333333333334\n"
     ]
    },
    {
     "name": "stderr",
     "output_type": "stream",
     "text": [
      "WARNING:absl:Found untraced functions such as _jit_compiled_convolution_op, _jit_compiled_convolution_op, _jit_compiled_convolution_op, _jit_compiled_convolution_op, _jit_compiled_convolution_op while saving (showing 5 of 6). These functions will not be directly callable after loading.\n"
     ]
    },
    {
     "name": "stdout",
     "output_type": "stream",
     "text": [
      "INFO:tensorflow:Assets written to: models/experiment_regression_test_12_71/fraction_3/n_epoch_50/2-7-3-12-0.3-1/fold_1\\assets\n"
     ]
    },
    {
     "name": "stderr",
     "output_type": "stream",
     "text": [
      "INFO:tensorflow:Assets written to: models/experiment_regression_test_12_71/fraction_3/n_epoch_50/2-7-3-12-0.3-1/fold_1\\assets\n"
     ]
    },
    {
     "name": "stdout",
     "output_type": "stream",
     "text": [
      "----------------------------------------------------------------------------\n",
      "RND STATE NUMBER = 14\n",
      "----------------------------------------------------------------------------\n",
      "-105.3749139659847\n",
      "14.344321980236723\n",
      "(406, 53, 86, 1)\n",
      "0.26108374384236455\n",
      "0.41625615763546797\n",
      "0.20689655172413793\n",
      "0.11576354679802955\n",
      "347    2\n",
      "189    0\n",
      "287    1\n",
      "117    2\n",
      "160    2\n",
      "      ..\n",
      "327    0\n",
      "406    0\n",
      "268    0\n",
      "344    1\n",
      "107    2\n",
      "Name: occupants, Length: 406, dtype: int64\n",
      "-104.70860604851794\n",
      "13.95766465152831\n",
      "(72, 53, 86, 1)\n",
      "[2 2 0 3 2 2 2 1 0 1 0 1 1 1 1 0 2 2 1 0 0 1 1 1 0 2 1 2 0 1 0 1 2 0 0 0 1\n",
      " 0 3 2 3 1 1 3 1 0 1 0 1 2 2 3 2 2 1 2 0 2 2 2 0 1 3 3 2 2 0 1 1 1 1 2]\n",
      "------------------------------------------------------------------------\n",
      "Training regression model 2-7-3-12-0.3-1 with transfer learning\n",
      "dict_keys(['loss', 'mae', 'val_loss', 'val_mae'])\n",
      "3/3 [==============================] - 0s 3ms/step\n",
      "accuracy4 = 0.6527777777777778\n",
      "accuracy3 = 0.7361111111111112\n"
     ]
    },
    {
     "name": "stderr",
     "output_type": "stream",
     "text": [
      "WARNING:absl:Found untraced functions such as _jit_compiled_convolution_op, _jit_compiled_convolution_op, _jit_compiled_convolution_op, _jit_compiled_convolution_op, _jit_compiled_convolution_op while saving (showing 5 of 6). These functions will not be directly callable after loading.\n"
     ]
    },
    {
     "name": "stdout",
     "output_type": "stream",
     "text": [
      "INFO:tensorflow:Assets written to: models/experiment_regression_test_12_71/fraction_3/n_epoch_50/2-7-3-12-0.3-1/fold_1\\assets\n"
     ]
    },
    {
     "name": "stderr",
     "output_type": "stream",
     "text": [
      "INFO:tensorflow:Assets written to: models/experiment_regression_test_12_71/fraction_3/n_epoch_50/2-7-3-12-0.3-1/fold_1\\assets\n"
     ]
    },
    {
     "name": "stdout",
     "output_type": "stream",
     "text": [
      "----------------------------------------------------------------------------\n",
      "RND STATE NUMBER = 15\n",
      "----------------------------------------------------------------------------\n",
      "-105.15936934591352\n",
      "14.314608105159294\n",
      "(406, 53, 86, 1)\n",
      "0.2512315270935961\n",
      "0.4187192118226601\n",
      "0.21428571428571427\n",
      "0.11576354679802955\n",
      "477    0\n",
      "73     3\n",
      "341    1\n",
      "428    1\n",
      "149    0\n",
      "      ..\n",
      "375    0\n",
      "133    3\n",
      "396    2\n",
      "245    1\n",
      "456    1\n",
      "Name: occupants, Length: 406, dtype: int64\n",
      "-105.92403821169668\n",
      "14.12440257340646\n",
      "(72, 53, 86, 1)\n",
      "[1 1 1 1 0 2 1 0 2 0 0 1 3 0 1 0 0 1 0 2 3 2 0 2 1 1 1 2 2 3 3 3 0 0 0 1 1\n",
      " 2 2 3 2 2 0 2 1 0 1 1 1 2 2 0 0 1 1 1 0 2 0 1 3 2 0 1 0 2 2 0 2 0 1 1]\n",
      "------------------------------------------------------------------------\n",
      "Training regression model 2-7-3-12-0.3-1 with transfer learning\n",
      "dict_keys(['loss', 'mae', 'val_loss', 'val_mae'])\n",
      "3/3 [==============================] - 0s 4ms/step\n",
      "accuracy4 = 0.7916666666666666\n",
      "accuracy3 = 0.8333333333333334\n"
     ]
    },
    {
     "name": "stderr",
     "output_type": "stream",
     "text": [
      "WARNING:absl:Found untraced functions such as _jit_compiled_convolution_op, _jit_compiled_convolution_op, _jit_compiled_convolution_op, _jit_compiled_convolution_op, _jit_compiled_convolution_op while saving (showing 5 of 6). These functions will not be directly callable after loading.\n"
     ]
    },
    {
     "name": "stdout",
     "output_type": "stream",
     "text": [
      "INFO:tensorflow:Assets written to: models/experiment_regression_test_12_71/fraction_3/n_epoch_50/2-7-3-12-0.3-1/fold_1\\assets\n"
     ]
    },
    {
     "name": "stderr",
     "output_type": "stream",
     "text": [
      "INFO:tensorflow:Assets written to: models/experiment_regression_test_12_71/fraction_3/n_epoch_50/2-7-3-12-0.3-1/fold_1\\assets\n"
     ]
    },
    {
     "name": "stdout",
     "output_type": "stream",
     "text": [
      "----------------------------------------------------------------------------\n",
      "RND STATE NUMBER = 16\n",
      "----------------------------------------------------------------------------\n",
      "-105.17522725826238\n",
      "14.400600706852792\n",
      "(406, 53, 86, 1)\n",
      "0.26108374384236455\n",
      "0.4187192118226601\n",
      "0.2019704433497537\n",
      "0.11822660098522167\n",
      "434    1\n",
      "426    2\n",
      "304    0\n",
      "70     2\n",
      "374    1\n",
      "      ..\n",
      "321    1\n",
      "69     3\n",
      "121    2\n",
      "238    1\n",
      "169    1\n",
      "Name: occupants, Length: 406, dtype: int64\n",
      "-105.8346172059519\n",
      "13.627252319898634\n",
      "(72, 53, 86, 1)\n",
      "[2 0 1 1 3 3 2 1 0 0 1 1 0 2 3 2 2 1 2 1 1 0 0 1 1 0 0 2 0 1 1 1 2 1 1 2 2\n",
      " 2 1 1 0 1 2 2 2 1 3 0 0 1 2 0 2 2 0 2 0 2 3 1 2 0 0 2 3 1 1 2 1 0 2 2]\n",
      "------------------------------------------------------------------------\n",
      "Training regression model 2-7-3-12-0.3-1 with transfer learning\n",
      "dict_keys(['loss', 'mae', 'val_loss', 'val_mae'])\n",
      "3/3 [==============================] - 0s 3ms/step\n",
      "accuracy4 = 0.75\n",
      "accuracy3 = 0.8472222222222222\n"
     ]
    },
    {
     "name": "stderr",
     "output_type": "stream",
     "text": [
      "WARNING:absl:Found untraced functions such as _jit_compiled_convolution_op, _jit_compiled_convolution_op, _jit_compiled_convolution_op, _jit_compiled_convolution_op, _jit_compiled_convolution_op while saving (showing 5 of 6). These functions will not be directly callable after loading.\n"
     ]
    },
    {
     "name": "stdout",
     "output_type": "stream",
     "text": [
      "INFO:tensorflow:Assets written to: models/experiment_regression_test_12_71/fraction_3/n_epoch_50/2-7-3-12-0.3-1/fold_1\\assets\n"
     ]
    },
    {
     "name": "stderr",
     "output_type": "stream",
     "text": [
      "INFO:tensorflow:Assets written to: models/experiment_regression_test_12_71/fraction_3/n_epoch_50/2-7-3-12-0.3-1/fold_1\\assets\n"
     ]
    },
    {
     "name": "stdout",
     "output_type": "stream",
     "text": [
      "----------------------------------------------------------------------------\n",
      "RND STATE NUMBER = 17\n",
      "----------------------------------------------------------------------------\n",
      "-105.18605412194394\n",
      "14.237257155227946\n",
      "(406, 53, 86, 1)\n",
      "0.2561576354679803\n",
      "0.4088669950738916\n",
      "0.22167487684729065\n",
      "0.11330049261083744\n",
      "287    1\n",
      "453    1\n",
      "333    2\n",
      "412    1\n",
      "435    1\n",
      "      ..\n",
      "406    0\n",
      "390    1\n",
      "143    1\n",
      "241    1\n",
      "111    2\n",
      "Name: occupants, Length: 406, dtype: int64\n",
      "-105.77356572463617\n",
      "14.565568252097401\n",
      "(72, 53, 86, 1)\n",
      "[2 1 2 3 3 0 2 1 0 1 0 1 0 0 1 1 0 1 3 1 0 1 1 2 1 0 1 3 0 0 1 0 1 1 2 0 2\n",
      " 3 0 0 2 0 1 2 0 1 2 3 1 1 1 2 3 2 1 1 2 1 0 0 1 1 3 1 2 0 2 2 1 1 0 2]\n",
      "------------------------------------------------------------------------\n",
      "Training regression model 2-7-3-12-0.3-1 with transfer learning\n",
      "dict_keys(['loss', 'mae', 'val_loss', 'val_mae'])\n",
      "3/3 [==============================] - 0s 4ms/step\n",
      "accuracy4 = 0.7638888888888888\n",
      "accuracy3 = 0.875\n"
     ]
    },
    {
     "name": "stderr",
     "output_type": "stream",
     "text": [
      "WARNING:absl:Found untraced functions such as _jit_compiled_convolution_op, _jit_compiled_convolution_op, _jit_compiled_convolution_op, _jit_compiled_convolution_op, _jit_compiled_convolution_op while saving (showing 5 of 6). These functions will not be directly callable after loading.\n"
     ]
    },
    {
     "name": "stdout",
     "output_type": "stream",
     "text": [
      "INFO:tensorflow:Assets written to: models/experiment_regression_test_12_71/fraction_3/n_epoch_50/2-7-3-12-0.3-1/fold_1\\assets\n"
     ]
    },
    {
     "name": "stderr",
     "output_type": "stream",
     "text": [
      "INFO:tensorflow:Assets written to: models/experiment_regression_test_12_71/fraction_3/n_epoch_50/2-7-3-12-0.3-1/fold_1\\assets\n"
     ]
    },
    {
     "name": "stdout",
     "output_type": "stream",
     "text": [
      "----------------------------------------------------------------------------\n",
      "RND STATE NUMBER = 18\n",
      "----------------------------------------------------------------------------\n",
      "-105.27383607453983\n",
      "14.324610307624866\n",
      "(406, 53, 86, 1)\n",
      "0.2512315270935961\n",
      "0.41379310344827586\n",
      "0.21182266009852216\n",
      "0.12315270935960591\n",
      "148    0\n",
      "69     3\n",
      "441    1\n",
      "332    1\n",
      "468    0\n",
      "      ..\n",
      "190    1\n",
      "325    1\n",
      "120    3\n",
      "275    1\n",
      "298    0\n",
      "Name: occupants, Length: 406, dtype: int64\n",
      "-105.27857304749809\n",
      "14.084746477418694\n",
      "(72, 53, 86, 1)\n",
      "[0 1 0 0 1 0 0 2 1 1 1 1 2 1 2 1 0 3 2 0 2 1 1 0 1 2 1 3 0 0 2 2 0 2 1 1 2\n",
      " 0 2 1 0 3 0 0 2 1 1 1 1 1 1 1 0 3 2 1 1 0 2 0 1 2 2 0 0 0 2 0 2 2 2 1]\n",
      "------------------------------------------------------------------------\n",
      "Training regression model 2-7-3-12-0.3-1 with transfer learning\n",
      "dict_keys(['loss', 'mae', 'val_loss', 'val_mae'])\n",
      "3/3 [==============================] - 0s 4ms/step\n",
      "accuracy4 = 0.8472222222222222\n",
      "accuracy3 = 0.9166666666666666\n"
     ]
    },
    {
     "name": "stderr",
     "output_type": "stream",
     "text": [
      "WARNING:absl:Found untraced functions such as _jit_compiled_convolution_op, _jit_compiled_convolution_op, _jit_compiled_convolution_op, _jit_compiled_convolution_op, _jit_compiled_convolution_op while saving (showing 5 of 6). These functions will not be directly callable after loading.\n"
     ]
    },
    {
     "name": "stdout",
     "output_type": "stream",
     "text": [
      "INFO:tensorflow:Assets written to: models/experiment_regression_test_12_71/fraction_3/n_epoch_50/2-7-3-12-0.3-1/fold_1\\assets\n"
     ]
    },
    {
     "name": "stderr",
     "output_type": "stream",
     "text": [
      "INFO:tensorflow:Assets written to: models/experiment_regression_test_12_71/fraction_3/n_epoch_50/2-7-3-12-0.3-1/fold_1\\assets\n"
     ]
    },
    {
     "name": "stdout",
     "output_type": "stream",
     "text": [
      "----------------------------------------------------------------------------\n",
      "RND STATE NUMBER = 19\n",
      "----------------------------------------------------------------------------\n",
      "-105.25873196004304\n",
      "14.312064462006092\n",
      "(406, 53, 86, 1)\n",
      "0.25862068965517243\n",
      "0.4187192118226601\n",
      "0.20935960591133004\n",
      "0.11330049261083744\n",
      "79     3\n",
      "417    0\n",
      "252    1\n",
      "41     2\n",
      "96     1\n",
      "      ..\n",
      "424    0\n",
      "354    1\n",
      "245    1\n",
      "110    1\n",
      "93     3\n",
      "Name: occupants, Length: 406, dtype: int64\n",
      "-105.36374347091105\n",
      "14.1561515587361\n",
      "(72, 53, 86, 1)\n",
      "[1 0 1 0 0 0 2 1 2 1 0 0 1 0 2 2 1 0 3 0 1 0 2 2 3 2 1 3 1 0 1 1 3 2 2 2 0\n",
      " 3 1 1 2 2 2 0 1 1 3 2 1 1 0 2 1 1 0 2 2 0 0 3 1 1 1 0 2 1 3 2 1 0 2 2]\n",
      "------------------------------------------------------------------------\n",
      "Training regression model 2-7-3-12-0.3-1 with transfer learning\n",
      "dict_keys(['loss', 'mae', 'val_loss', 'val_mae'])\n",
      "3/3 [==============================] - 0s 3ms/step\n",
      "accuracy4 = 0.7083333333333334\n",
      "accuracy3 = 0.8194444444444444\n"
     ]
    },
    {
     "name": "stderr",
     "output_type": "stream",
     "text": [
      "WARNING:absl:Found untraced functions such as _jit_compiled_convolution_op, _jit_compiled_convolution_op, _jit_compiled_convolution_op, _jit_compiled_convolution_op, _jit_compiled_convolution_op while saving (showing 5 of 6). These functions will not be directly callable after loading.\n"
     ]
    },
    {
     "name": "stdout",
     "output_type": "stream",
     "text": [
      "INFO:tensorflow:Assets written to: models/experiment_regression_test_12_71/fraction_3/n_epoch_50/2-7-3-12-0.3-1/fold_1\\assets\n"
     ]
    },
    {
     "name": "stderr",
     "output_type": "stream",
     "text": [
      "INFO:tensorflow:Assets written to: models/experiment_regression_test_12_71/fraction_3/n_epoch_50/2-7-3-12-0.3-1/fold_1\\assets\n"
     ]
    },
    {
     "name": "stdout",
     "output_type": "stream",
     "text": [
      "----------------------------------------------------------------------------\n",
      "RND STATE NUMBER = 20\n",
      "----------------------------------------------------------------------------\n",
      "-105.5600291722606\n",
      "14.225293296095959\n",
      "(406, 53, 86, 1)\n",
      "0.25862068965517243\n",
      "0.4211822660098522\n",
      "0.21182266009852216\n",
      "0.10837438423645321\n",
      "306    1\n",
      "169    1\n",
      "91     1\n",
      "9      3\n",
      "341    1\n",
      "      ..\n",
      "412    1\n",
      "223    1\n",
      "271    1\n",
      "474    1\n",
      "355    1\n",
      "Name: occupants, Length: 406, dtype: int64\n",
      "-103.66476196868429\n",
      "14.536785889278022\n",
      "(72, 53, 86, 1)\n",
      "[2 2 0 1 2 1 2 0 1 1 0 0 2 2 1 0 2 2 2 0 1 2 2 2 1 1 2 0 0 0 2 2 1 1 2 0 0\n",
      " 1 3 1 3 1 2 3 2 3 0 1 1 3 0 0 1 2 3 0 3 1 0 0 2 0 3 1 3 1 1 1 1 0 1 3]\n",
      "------------------------------------------------------------------------\n",
      "Training regression model 2-7-3-12-0.3-1 with transfer learning\n",
      "dict_keys(['loss', 'mae', 'val_loss', 'val_mae'])\n",
      "3/3 [==============================] - 0s 4ms/step\n",
      "accuracy4 = 0.6805555555555556\n",
      "accuracy3 = 0.7638888888888888\n"
     ]
    },
    {
     "name": "stderr",
     "output_type": "stream",
     "text": [
      "WARNING:absl:Found untraced functions such as _jit_compiled_convolution_op, _jit_compiled_convolution_op, _jit_compiled_convolution_op, _jit_compiled_convolution_op, _jit_compiled_convolution_op while saving (showing 5 of 6). These functions will not be directly callable after loading.\n"
     ]
    },
    {
     "name": "stdout",
     "output_type": "stream",
     "text": [
      "INFO:tensorflow:Assets written to: models/experiment_regression_test_12_71/fraction_3/n_epoch_50/2-7-3-12-0.3-1/fold_1\\assets\n"
     ]
    },
    {
     "name": "stderr",
     "output_type": "stream",
     "text": [
      "INFO:tensorflow:Assets written to: models/experiment_regression_test_12_71/fraction_3/n_epoch_50/2-7-3-12-0.3-1/fold_1\\assets\n"
     ]
    },
    {
     "name": "stdout",
     "output_type": "stream",
     "text": [
      "----------------------------------------------------------------------------\n",
      "RND STATE NUMBER = 21\n",
      "----------------------------------------------------------------------------\n",
      "-105.33095425761144\n",
      "14.233973478190203\n",
      "(406, 53, 86, 1)\n",
      "0.2733990147783251\n",
      "0.41133004926108374\n",
      "0.19950738916256158\n",
      "0.11576354679802955\n",
      "392    0\n",
      "464    1\n",
      "140    3\n",
      "96     1\n",
      "311    1\n",
      "      ..\n",
      "48     3\n",
      "260    1\n",
      "312    1\n",
      "207    0\n",
      "457    0\n",
      "Name: occupants, Length: 406, dtype: int64\n",
      "-104.95648995962277\n",
      "14.58962082639537\n",
      "(72, 53, 86, 1)\n",
      "[1 0 2 3 1 0 2 1 3 2 2 2 1 1 2 1 1 1 0 2 2 1 0 1 2 1 2 2 1 0 1 1 2 2 1 1 1\n",
      " 0 2 0 0 2 1 2 2 0 2 2 3 1 2 0 2 3 1 2 3 2 0 1 1 3 2 2 1 0 1 0 3 1 1 1]\n",
      "------------------------------------------------------------------------\n",
      "Training regression model 2-7-3-12-0.3-1 with transfer learning\n",
      "dict_keys(['loss', 'mae', 'val_loss', 'val_mae'])\n",
      "3/3 [==============================] - 0s 4ms/step\n",
      "accuracy4 = 0.7777777777777778\n",
      "accuracy3 = 0.8611111111111112\n"
     ]
    },
    {
     "name": "stderr",
     "output_type": "stream",
     "text": [
      "WARNING:absl:Found untraced functions such as _jit_compiled_convolution_op, _jit_compiled_convolution_op, _jit_compiled_convolution_op, _jit_compiled_convolution_op, _jit_compiled_convolution_op while saving (showing 5 of 6). These functions will not be directly callable after loading.\n"
     ]
    },
    {
     "name": "stdout",
     "output_type": "stream",
     "text": [
      "INFO:tensorflow:Assets written to: models/experiment_regression_test_12_71/fraction_3/n_epoch_50/2-7-3-12-0.3-1/fold_1\\assets\n"
     ]
    },
    {
     "name": "stderr",
     "output_type": "stream",
     "text": [
      "INFO:tensorflow:Assets written to: models/experiment_regression_test_12_71/fraction_3/n_epoch_50/2-7-3-12-0.3-1/fold_1\\assets\n"
     ]
    },
    {
     "name": "stdout",
     "output_type": "stream",
     "text": [
      "----------------------------------------------------------------------------\n",
      "RND STATE NUMBER = 22\n",
      "----------------------------------------------------------------------------\n",
      "-105.08542989659516\n",
      "14.245841612748105\n",
      "(406, 53, 86, 1)\n",
      "0.2561576354679803\n",
      "0.4064039408866995\n",
      "0.22660098522167488\n",
      "0.11083743842364532\n",
      "442    0\n",
      "157    1\n",
      "370    1\n",
      "453    1\n",
      "101    2\n",
      "      ..\n",
      "356    0\n",
      "448    0\n",
      "300    0\n",
      "132    3\n",
      "373    1\n",
      "Name: occupants, Length: 406, dtype: int64\n",
      "-106.34097455090884\n",
      "14.48210055181652\n",
      "(72, 53, 86, 1)\n",
      "[1 1 2 0 1 2 0 0 1 2 1 0 1 1 1 0 2 1 0 2 1 3 3 0 1 1 0 0 3 1 1 2 1 1 1 1 0\n",
      " 2 2 1 2 0 0 2 2 0 1 1 0 3 2 1 1 0 3 0 3 1 3 0 2 0 1 3 0 0 1 1 1 3 1 2]\n",
      "------------------------------------------------------------------------\n",
      "Training regression model 2-7-3-12-0.3-1 with transfer learning\n",
      "dict_keys(['loss', 'mae', 'val_loss', 'val_mae'])\n",
      "3/3 [==============================] - 0s 3ms/step\n",
      "accuracy4 = 0.7777777777777778\n",
      "accuracy3 = 0.875\n"
     ]
    },
    {
     "name": "stderr",
     "output_type": "stream",
     "text": [
      "WARNING:absl:Found untraced functions such as _jit_compiled_convolution_op, _jit_compiled_convolution_op, _jit_compiled_convolution_op, _jit_compiled_convolution_op, _jit_compiled_convolution_op while saving (showing 5 of 6). These functions will not be directly callable after loading.\n"
     ]
    },
    {
     "name": "stdout",
     "output_type": "stream",
     "text": [
      "INFO:tensorflow:Assets written to: models/experiment_regression_test_12_71/fraction_3/n_epoch_50/2-7-3-12-0.3-1/fold_1\\assets\n"
     ]
    },
    {
     "name": "stderr",
     "output_type": "stream",
     "text": [
      "INFO:tensorflow:Assets written to: models/experiment_regression_test_12_71/fraction_3/n_epoch_50/2-7-3-12-0.3-1/fold_1\\assets\n"
     ]
    },
    {
     "name": "stdout",
     "output_type": "stream",
     "text": [
      "----------------------------------------------------------------------------\n",
      "RND STATE NUMBER = 23\n",
      "----------------------------------------------------------------------------\n",
      "-105.03558962132763\n",
      "14.294893012489409\n",
      "(406, 53, 86, 1)\n",
      "0.24630541871921183\n",
      "0.4039408866995074\n",
      "0.2315270935960591\n",
      "0.11822660098522167\n",
      "115    2\n",
      "139    3\n",
      "425    1\n",
      "18     2\n",
      "222    0\n",
      "      ..\n",
      "438    0\n",
      "457    0\n",
      "40     2\n",
      "230    1\n",
      "83     2\n",
      "Name: occupants, Length: 406, dtype: int64\n",
      "-106.62201832533411\n",
      "14.178796908190703\n",
      "(72, 53, 86, 1)\n",
      "[1 1 1 1 1 1 1 1 2 3 2 1 3 2 0 2 1 0 0 2 1 0 3 0 1 1 1 2 0 1 0 1 1 1 2 0 1\n",
      " 1 1 2 0 0 0 3 0 2 0 1 0 1 3 1 1 0 1 1 0 0 1 2 0 0 0 0 2 0 1 0 2 0 3 1]\n",
      "------------------------------------------------------------------------\n",
      "Training regression model 2-7-3-12-0.3-1 with transfer learning\n",
      "dict_keys(['loss', 'mae', 'val_loss', 'val_mae'])\n",
      "3/3 [==============================] - 0s 3ms/step\n",
      "accuracy4 = 0.7777777777777778\n",
      "accuracy3 = 0.8472222222222222\n"
     ]
    },
    {
     "name": "stderr",
     "output_type": "stream",
     "text": [
      "WARNING:absl:Found untraced functions such as _jit_compiled_convolution_op, _jit_compiled_convolution_op, _jit_compiled_convolution_op, _jit_compiled_convolution_op, _jit_compiled_convolution_op while saving (showing 5 of 6). These functions will not be directly callable after loading.\n"
     ]
    },
    {
     "name": "stdout",
     "output_type": "stream",
     "text": [
      "INFO:tensorflow:Assets written to: models/experiment_regression_test_12_71/fraction_3/n_epoch_50/2-7-3-12-0.3-1/fold_1\\assets\n"
     ]
    },
    {
     "name": "stderr",
     "output_type": "stream",
     "text": [
      "INFO:tensorflow:Assets written to: models/experiment_regression_test_12_71/fraction_3/n_epoch_50/2-7-3-12-0.3-1/fold_1\\assets\n"
     ]
    },
    {
     "name": "stdout",
     "output_type": "stream",
     "text": [
      "----------------------------------------------------------------------------\n",
      "RND STATE NUMBER = 24\n",
      "----------------------------------------------------------------------------\n",
      "-105.45914260780621\n",
      "14.282079355486399\n",
      "(406, 53, 86, 1)\n",
      "0.2561576354679803\n",
      "0.41379310344827586\n",
      "0.21428571428571427\n",
      "0.11576354679802955\n",
      "285    0\n",
      "135    3\n",
      "251    0\n",
      "104    3\n",
      "152    1\n",
      "      ..\n",
      "401    1\n",
      "343    1\n",
      "192    1\n",
      "387    1\n",
      "418    0\n",
      "Name: occupants, Length: 406, dtype: int64\n",
      "-104.23365009602429\n",
      "14.281636929324044\n",
      "(72, 53, 86, 1)\n",
      "[2 1 1 1 1 1 0 2 0 0 3 2 0 0 1 3 2 0 1 0 2 2 0 3 3 1 2 2 1 2 1 1 1 0 1 1 1\n",
      " 0 2 1 1 3 2 1 0 3 0 0 2 1 1 2 2 2 0 0 2 2 0 1 1 0 1 1 1 1 0 0 2 2 3 0]\n",
      "------------------------------------------------------------------------\n",
      "Training regression model 2-7-3-12-0.3-1 with transfer learning\n",
      "dict_keys(['loss', 'mae', 'val_loss', 'val_mae'])\n",
      "3/3 [==============================] - 0s 3ms/step\n",
      "accuracy4 = 0.75\n",
      "accuracy3 = 0.8194444444444444\n"
     ]
    },
    {
     "name": "stderr",
     "output_type": "stream",
     "text": [
      "WARNING:absl:Found untraced functions such as _jit_compiled_convolution_op, _jit_compiled_convolution_op, _jit_compiled_convolution_op, _jit_compiled_convolution_op, _jit_compiled_convolution_op while saving (showing 5 of 6). These functions will not be directly callable after loading.\n"
     ]
    },
    {
     "name": "stdout",
     "output_type": "stream",
     "text": [
      "INFO:tensorflow:Assets written to: models/experiment_regression_test_12_71/fraction_3/n_epoch_50/2-7-3-12-0.3-1/fold_1\\assets\n"
     ]
    },
    {
     "name": "stderr",
     "output_type": "stream",
     "text": [
      "INFO:tensorflow:Assets written to: models/experiment_regression_test_12_71/fraction_3/n_epoch_50/2-7-3-12-0.3-1/fold_1\\assets\n"
     ]
    },
    {
     "name": "stdout",
     "output_type": "stream",
     "text": [
      "----------------------------------------------------------------------------\n",
      "RND STATE NUMBER = 25\n",
      "----------------------------------------------------------------------------\n",
      "-105.22354152291268\n",
      "14.267237556597392\n",
      "(406, 53, 86, 1)\n",
      "0.24876847290640394\n",
      "0.4211822660098522\n",
      "0.2044334975369458\n",
      "0.12561576354679804\n",
      "155    0\n",
      "278    1\n",
      "104    3\n",
      "368    0\n",
      "3      1\n",
      "      ..\n",
      "317    0\n",
      "143    1\n",
      "474    1\n",
      "318    1\n",
      "132    3\n",
      "Name: occupants, Length: 406, dtype: int64\n",
      "-105.56217843584022\n",
      "14.405995083117773\n",
      "(72, 53, 86, 1)\n",
      "[2 1 1 1 0 0 1 0 0 2 1 2 2 2 1 2 2 2 2 2 0 1 0 1 2 1 2 0 0 0 2 1 0 3 1 1 2\n",
      " 0 0 1 2 2 0 0 2 2 2 0 1 3 2 3 1 1 0 0 0 2 0 0 2 1 0 0 1 1 1 2 0 1 1 1]\n",
      "------------------------------------------------------------------------\n",
      "Training regression model 2-7-3-12-0.3-1 with transfer learning\n",
      "dict_keys(['loss', 'mae', 'val_loss', 'val_mae'])\n",
      "3/3 [==============================] - 0s 3ms/step\n",
      "accuracy4 = 0.7361111111111112\n",
      "accuracy3 = 0.7638888888888888\n"
     ]
    },
    {
     "name": "stderr",
     "output_type": "stream",
     "text": [
      "WARNING:absl:Found untraced functions such as _jit_compiled_convolution_op, _jit_compiled_convolution_op, _jit_compiled_convolution_op, _jit_compiled_convolution_op, _jit_compiled_convolution_op while saving (showing 5 of 6). These functions will not be directly callable after loading.\n"
     ]
    },
    {
     "name": "stdout",
     "output_type": "stream",
     "text": [
      "INFO:tensorflow:Assets written to: models/experiment_regression_test_12_71/fraction_3/n_epoch_50/2-7-3-12-0.3-1/fold_1\\assets\n"
     ]
    },
    {
     "name": "stderr",
     "output_type": "stream",
     "text": [
      "INFO:tensorflow:Assets written to: models/experiment_regression_test_12_71/fraction_3/n_epoch_50/2-7-3-12-0.3-1/fold_1\\assets\n"
     ]
    },
    {
     "name": "stdout",
     "output_type": "stream",
     "text": [
      "----------------------------------------------------------------------------\n",
      "RND STATE NUMBER = 26\n",
      "----------------------------------------------------------------------------\n",
      "-105.43896383709665\n",
      "14.366211284667195\n",
      "(406, 53, 86, 1)\n",
      "0.25862068965517243\n",
      "0.41625615763546797\n",
      "0.21674876847290642\n",
      "0.10837438423645321\n",
      "59     3\n",
      "455    1\n",
      "438    0\n",
      "372    0\n",
      "153    1\n",
      "      ..\n",
      "449    1\n",
      "432    0\n",
      "262    1\n",
      "318    1\n",
      "309    1\n",
      "Name: occupants, Length: 406, dtype: int64\n",
      "-104.34743594196976\n",
      "13.807162805503326\n",
      "(72, 53, 86, 1)\n",
      "[1 0 1 0 0 2 1 1 1 0 1 1 3 0 0 2 2 1 1 2 0 2 0 1 2 0 3 0 1 1 2 2 2 0 2 3 2\n",
      " 1 0 0 1 1 1 3 0 3 1 2 3 0 2 2 1 3 1 2 2 1 2 3 1 1 0 3 2 1 3 0 1 1 0 0]\n",
      "------------------------------------------------------------------------\n",
      "Training regression model 2-7-3-12-0.3-1 with transfer learning\n",
      "dict_keys(['loss', 'mae', 'val_loss', 'val_mae'])\n",
      "3/3 [==============================] - 0s 4ms/step\n",
      "accuracy4 = 0.7916666666666666\n",
      "accuracy3 = 0.875\n"
     ]
    },
    {
     "name": "stderr",
     "output_type": "stream",
     "text": [
      "WARNING:absl:Found untraced functions such as _jit_compiled_convolution_op, _jit_compiled_convolution_op, _jit_compiled_convolution_op, _jit_compiled_convolution_op, _jit_compiled_convolution_op while saving (showing 5 of 6). These functions will not be directly callable after loading.\n"
     ]
    },
    {
     "name": "stdout",
     "output_type": "stream",
     "text": [
      "INFO:tensorflow:Assets written to: models/experiment_regression_test_12_71/fraction_3/n_epoch_50/2-7-3-12-0.3-1/fold_1\\assets\n"
     ]
    },
    {
     "name": "stderr",
     "output_type": "stream",
     "text": [
      "INFO:tensorflow:Assets written to: models/experiment_regression_test_12_71/fraction_3/n_epoch_50/2-7-3-12-0.3-1/fold_1\\assets\n"
     ]
    },
    {
     "name": "stdout",
     "output_type": "stream",
     "text": [
      "----------------------------------------------------------------------------\n",
      "RND STATE NUMBER = 27\n",
      "----------------------------------------------------------------------------\n",
      "-105.40346936631377\n",
      "14.217134308166495\n",
      "(406, 53, 86, 1)\n",
      "0.26108374384236455\n",
      "0.39901477832512317\n",
      "0.22660098522167488\n",
      "0.11330049261083744\n",
      "228    1\n",
      "247    1\n",
      "231    1\n",
      "393    0\n",
      "183    1\n",
      "      ..\n",
      "312    1\n",
      "31     3\n",
      "328    0\n",
      "184    2\n",
      "19     3\n",
      "Name: occupants, Length: 406, dtype: int64\n",
      "-104.54758531888424\n",
      "14.664770476812464\n",
      "(72, 53, 86, 1)\n",
      "[1 1 3 1 1 1 2 1 0 2 0 0 0 1 2 1 1 1 2 0 1 0 2 2 1 1 0 1 0 0 1 1 1 1 2 0 2\n",
      " 0 2 2 1 3 3 2 3 0 0 0 0 1 3 1 3 0 3 2 1 3 1 1 1 2 1 0 1 1 1 1 1 2 0 1]\n",
      "------------------------------------------------------------------------\n",
      "Training regression model 2-7-3-12-0.3-1 with transfer learning\n",
      "dict_keys(['loss', 'mae', 'val_loss', 'val_mae'])\n",
      "3/3 [==============================] - 0s 3ms/step\n",
      "accuracy4 = 0.7638888888888888\n",
      "accuracy3 = 0.8333333333333334\n"
     ]
    },
    {
     "name": "stderr",
     "output_type": "stream",
     "text": [
      "WARNING:absl:Found untraced functions such as _jit_compiled_convolution_op, _jit_compiled_convolution_op, _jit_compiled_convolution_op, _jit_compiled_convolution_op, _jit_compiled_convolution_op while saving (showing 5 of 6). These functions will not be directly callable after loading.\n"
     ]
    },
    {
     "name": "stdout",
     "output_type": "stream",
     "text": [
      "INFO:tensorflow:Assets written to: models/experiment_regression_test_12_71/fraction_3/n_epoch_50/2-7-3-12-0.3-1/fold_1\\assets\n"
     ]
    },
    {
     "name": "stderr",
     "output_type": "stream",
     "text": [
      "INFO:tensorflow:Assets written to: models/experiment_regression_test_12_71/fraction_3/n_epoch_50/2-7-3-12-0.3-1/fold_1\\assets\n"
     ]
    },
    {
     "name": "stdout",
     "output_type": "stream",
     "text": [
      "----------------------------------------------------------------------------\n",
      "RND STATE NUMBER = 28\n",
      "----------------------------------------------------------------------------\n",
      "-105.42088219520595\n",
      "14.360486771740744\n",
      "(406, 53, 86, 1)\n",
      "0.270935960591133\n",
      "0.41379310344827586\n",
      "0.21182266009852216\n",
      "0.10344827586206896\n",
      "6      2\n",
      "127    2\n",
      "86     3\n",
      "158    1\n",
      "267    1\n",
      "      ..\n",
      "259    1\n",
      "32     2\n",
      "278    1\n",
      "5      3\n",
      "257    2\n",
      "Name: occupants, Length: 406, dtype: int64\n",
      "-104.44939631151973\n",
      "13.84829899682117\n",
      "(72, 53, 86, 1)\n",
      "[3 1 3 0 2 3 2 2 1 1 1 1 2 2 3 0 2 0 0 3 1 1 1 2 0 2 0 2 2 0 1 1 1 2 3 1 3\n",
      " 2 3 2 1 0 1 2 3 1 2 0 1 0 0 1 2 2 0 2 3 1 1 3 2 2 3 1 0 1 1 1 1 1 1 0]\n",
      "------------------------------------------------------------------------\n",
      "Training regression model 2-7-3-12-0.3-1 with transfer learning\n",
      "dict_keys(['loss', 'mae', 'val_loss', 'val_mae'])\n",
      "3/3 [==============================] - 0s 3ms/step\n",
      "accuracy4 = 0.7361111111111112\n",
      "accuracy3 = 0.8611111111111112\n"
     ]
    },
    {
     "name": "stderr",
     "output_type": "stream",
     "text": [
      "WARNING:absl:Found untraced functions such as _jit_compiled_convolution_op, _jit_compiled_convolution_op, _jit_compiled_convolution_op, _jit_compiled_convolution_op, _jit_compiled_convolution_op while saving (showing 5 of 6). These functions will not be directly callable after loading.\n"
     ]
    },
    {
     "name": "stdout",
     "output_type": "stream",
     "text": [
      "INFO:tensorflow:Assets written to: models/experiment_regression_test_12_71/fraction_3/n_epoch_50/2-7-3-12-0.3-1/fold_1\\assets\n"
     ]
    },
    {
     "name": "stderr",
     "output_type": "stream",
     "text": [
      "INFO:tensorflow:Assets written to: models/experiment_regression_test_12_71/fraction_3/n_epoch_50/2-7-3-12-0.3-1/fold_1\\assets\n"
     ]
    },
    {
     "name": "stdout",
     "output_type": "stream",
     "text": [
      "----------------------------------------------------------------------------\n",
      "RND STATE NUMBER = 29\n",
      "----------------------------------------------------------------------------\n",
      "-104.8048788186047\n",
      "14.410136454494005\n",
      "(406, 53, 86, 1)\n",
      "0.2438423645320197\n",
      "0.4187192118226601\n",
      "0.21428571428571427\n",
      "0.12315270935960591\n",
      "165    0\n",
      "56     1\n",
      "419    0\n",
      "283    0\n",
      "255    0\n",
      "      ..\n",
      "296    0\n",
      "34     3\n",
      "236    1\n",
      "371    1\n",
      "469    1\n",
      "Name: occupants, Length: 406, dtype: int64\n",
      "-107.92297090735401\n",
      "13.276449240378252\n",
      "(72, 53, 86, 1)\n",
      "[0 0 1 1 1 1 3 1 0 0 0 0 0 2 3 2 2 2 0 2 2 1 1 3 0 0 1 2 1 1 1 0 0 0 0 2 2\n",
      " 0 3 0 1 2 1 0 2 1 1 0 1 2 2 2 2 0 1 1 2 0 2 0 2 1 1 1 0 0 0 0 1 1 1 2]\n",
      "------------------------------------------------------------------------\n",
      "Training regression model 2-7-3-12-0.3-1 with transfer learning\n",
      "dict_keys(['loss', 'mae', 'val_loss', 'val_mae'])\n",
      "3/3 [==============================] - 0s 4ms/step\n",
      "accuracy4 = 0.7222222222222222\n",
      "accuracy3 = 0.8194444444444444\n"
     ]
    },
    {
     "name": "stderr",
     "output_type": "stream",
     "text": [
      "WARNING:absl:Found untraced functions such as _jit_compiled_convolution_op, _jit_compiled_convolution_op, _jit_compiled_convolution_op, _jit_compiled_convolution_op, _jit_compiled_convolution_op while saving (showing 5 of 6). These functions will not be directly callable after loading.\n"
     ]
    },
    {
     "name": "stdout",
     "output_type": "stream",
     "text": [
      "INFO:tensorflow:Assets written to: models/experiment_regression_test_12_71/fraction_3/n_epoch_50/2-7-3-12-0.3-1/fold_1\\assets\n"
     ]
    },
    {
     "name": "stderr",
     "output_type": "stream",
     "text": [
      "INFO:tensorflow:Assets written to: models/experiment_regression_test_12_71/fraction_3/n_epoch_50/2-7-3-12-0.3-1/fold_1\\assets\n"
     ]
    },
    {
     "name": "stdout",
     "output_type": "stream",
     "text": [
      "----------------------------------------------------------------------------\n",
      "RND STATE NUMBER = 30\n",
      "----------------------------------------------------------------------------\n",
      "-105.24072259693203\n",
      "14.317095468028816\n",
      "(406, 53, 86, 1)\n",
      "0.2512315270935961\n",
      "0.41379310344827586\n",
      "0.22413793103448276\n",
      "0.11083743842364532\n",
      "180    0\n",
      "276    1\n",
      "378    2\n",
      "132    3\n",
      "154    1\n",
      "      ..\n",
      "140    3\n",
      "301    2\n",
      "429    1\n",
      "421    1\n",
      "293    1\n",
      "Name: occupants, Length: 406, dtype: int64\n",
      "-105.46529626845368\n",
      "14.126251020315769\n",
      "(72, 53, 86, 1)\n",
      "[0 2 1 2 0 1 3 2 3 0 0 1 1 0 3 1 0 3 2 0 0 2 1 1 0 1 1 0 0 1 1 2 0 0 0 1 0\n",
      " 3 0 1 1 3 3 2 1 0 2 1 1 1 0 1 1 1 2 2 0 1 2 2 1 2 3 0 2 0 1 3 2 1 0 1]\n",
      "------------------------------------------------------------------------\n",
      "Training regression model 2-7-3-12-0.3-1 with transfer learning\n",
      "dict_keys(['loss', 'mae', 'val_loss', 'val_mae'])\n",
      "3/3 [==============================] - 0s 4ms/step\n",
      "accuracy4 = 0.6944444444444444\n",
      "accuracy3 = 0.8055555555555556\n"
     ]
    },
    {
     "name": "stderr",
     "output_type": "stream",
     "text": [
      "WARNING:absl:Found untraced functions such as _jit_compiled_convolution_op, _jit_compiled_convolution_op, _jit_compiled_convolution_op, _jit_compiled_convolution_op, _jit_compiled_convolution_op while saving (showing 5 of 6). These functions will not be directly callable after loading.\n"
     ]
    },
    {
     "name": "stdout",
     "output_type": "stream",
     "text": [
      "INFO:tensorflow:Assets written to: models/experiment_regression_test_12_71/fraction_3/n_epoch_50/2-7-3-12-0.3-1/fold_1\\assets\n"
     ]
    },
    {
     "name": "stderr",
     "output_type": "stream",
     "text": [
      "INFO:tensorflow:Assets written to: models/experiment_regression_test_12_71/fraction_3/n_epoch_50/2-7-3-12-0.3-1/fold_1\\assets\n"
     ]
    },
    {
     "name": "stdout",
     "output_type": "stream",
     "text": [
      "----------------------------------------------------------------------------\n",
      "RND STATE NUMBER = 31\n",
      "----------------------------------------------------------------------------\n",
      "-105.1933162460467\n",
      "14.426411055881916\n",
      "(406, 53, 86, 1)\n",
      "0.2512315270935961\n",
      "0.41133004926108374\n",
      "0.22167487684729065\n",
      "0.11576354679802955\n",
      "69     3\n",
      "429    1\n",
      "390    1\n",
      "126    3\n",
      "34     3\n",
      "      ..\n",
      "98     1\n",
      "382    0\n",
      "16     1\n",
      "87     2\n",
      "210    1\n",
      "Name: occupants, Length: 406, dtype: int64\n",
      "-105.73261541372344\n",
      "13.476970809805007\n",
      "(72, 53, 86, 1)\n",
      "[2 1 3 1 1 1 1 0 3 0 2 1 0 2 1 2 2 1 2 0 3 0 3 2 0 2 1 3 2 0 0 0 2 1 0 0 0\n",
      " 0 2 1 1 1 1 2 2 1 1 1 2 0 0 0 2 1 3 0 1 1 0 3 1 1 0 1 0 1 1 1 0 1 0 2]\n",
      "------------------------------------------------------------------------\n",
      "Training regression model 2-7-3-12-0.3-1 with transfer learning\n",
      "dict_keys(['loss', 'mae', 'val_loss', 'val_mae'])\n",
      "3/3 [==============================] - 0s 3ms/step\n",
      "accuracy4 = 0.7222222222222222\n",
      "accuracy3 = 0.7777777777777778\n"
     ]
    },
    {
     "name": "stderr",
     "output_type": "stream",
     "text": [
      "WARNING:absl:Found untraced functions such as _jit_compiled_convolution_op, _jit_compiled_convolution_op, _jit_compiled_convolution_op, _jit_compiled_convolution_op, _jit_compiled_convolution_op while saving (showing 5 of 6). These functions will not be directly callable after loading.\n"
     ]
    },
    {
     "name": "stdout",
     "output_type": "stream",
     "text": [
      "INFO:tensorflow:Assets written to: models/experiment_regression_test_12_71/fraction_3/n_epoch_50/2-7-3-12-0.3-1/fold_1\\assets\n"
     ]
    },
    {
     "name": "stderr",
     "output_type": "stream",
     "text": [
      "INFO:tensorflow:Assets written to: models/experiment_regression_test_12_71/fraction_3/n_epoch_50/2-7-3-12-0.3-1/fold_1\\assets\n"
     ]
    },
    {
     "name": "stdout",
     "output_type": "stream",
     "text": [
      "----------------------------------------------------------------------------\n",
      "RND STATE NUMBER = 32\n",
      "----------------------------------------------------------------------------\n",
      "-105.1841504525818\n",
      "14.338829963588298\n",
      "(406, 53, 86, 1)\n",
      "0.26108374384236455\n",
      "0.4014778325123153\n",
      "0.229064039408867\n",
      "0.10837438423645321\n",
      "339    1\n",
      "170    1\n",
      "70     2\n",
      "107    2\n",
      "113    2\n",
      "      ..\n",
      "380    1\n",
      "310    0\n",
      "389    0\n",
      "43     3\n",
      "215    1\n",
      "Name: occupants, Length: 406, dtype: int64\n",
      "-105.78430030465076\n",
      "13.991992468076804\n",
      "(72, 53, 86, 1)\n",
      "[0 0 3 1 1 0 0 0 1 2 1 0 1 3 1 2 3 3 0 3 1 3 0 1 2 2 1 1 0 2 0 1 3 1 1 3 1\n",
      " 0 0 1 1 1 2 1 2 1 1 1 1 1 0 0 2 3 1 2 0 0 1 2 3 0 1 1 2 1 2 1 2 0 1 1]\n",
      "------------------------------------------------------------------------\n",
      "Training regression model 2-7-3-12-0.3-1 with transfer learning\n",
      "dict_keys(['loss', 'mae', 'val_loss', 'val_mae'])\n",
      "3/3 [==============================] - 0s 4ms/step\n",
      "accuracy4 = 0.8194444444444444\n",
      "accuracy3 = 0.8888888888888888\n"
     ]
    },
    {
     "name": "stderr",
     "output_type": "stream",
     "text": [
      "WARNING:absl:Found untraced functions such as _jit_compiled_convolution_op, _jit_compiled_convolution_op, _jit_compiled_convolution_op, _jit_compiled_convolution_op, _jit_compiled_convolution_op while saving (showing 5 of 6). These functions will not be directly callable after loading.\n"
     ]
    },
    {
     "name": "stdout",
     "output_type": "stream",
     "text": [
      "INFO:tensorflow:Assets written to: models/experiment_regression_test_12_71/fraction_3/n_epoch_50/2-7-3-12-0.3-1/fold_1\\assets\n"
     ]
    },
    {
     "name": "stderr",
     "output_type": "stream",
     "text": [
      "INFO:tensorflow:Assets written to: models/experiment_regression_test_12_71/fraction_3/n_epoch_50/2-7-3-12-0.3-1/fold_1\\assets\n"
     ]
    },
    {
     "name": "stdout",
     "output_type": "stream",
     "text": [
      "----------------------------------------------------------------------------\n",
      "RND STATE NUMBER = 33\n",
      "----------------------------------------------------------------------------\n",
      "-105.08819752461844\n",
      "14.25165461552857\n",
      "(406, 53, 86, 1)\n",
      "0.2512315270935961\n",
      "0.39901477832512317\n",
      "0.23645320197044334\n",
      "0.11330049261083744\n",
      "110    1\n",
      "258    0\n",
      "140    3\n",
      "297    0\n",
      "367    1\n",
      "      ..\n",
      "146    1\n",
      "66     3\n",
      "216    1\n",
      "391    1\n",
      "20     2\n",
      "Name: occupants, Length: 406, dtype: int64\n",
      "-106.32536820399952\n",
      "14.451159906923843\n",
      "(72, 53, 86, 1)\n",
      "[1 0 0 0 1 1 2 1 3 1 0 0 1 1 1 0 0 0 1 0 1 2 3 3 1 0 3 0 3 0 2 1 1 2 1 1 1\n",
      " 0 1 1 0 0 3 3 0 1 1 0 1 1 2 1 2 0 1 1 0 1 0 2 1 0 2 1 3 1 2 1 0 1 1 2]\n",
      "------------------------------------------------------------------------\n",
      "Training regression model 2-7-3-12-0.3-1 with transfer learning\n",
      "dict_keys(['loss', 'mae', 'val_loss', 'val_mae'])\n",
      "3/3 [==============================] - 0s 4ms/step\n",
      "accuracy4 = 0.7777777777777778\n",
      "accuracy3 = 0.8611111111111112\n"
     ]
    },
    {
     "name": "stderr",
     "output_type": "stream",
     "text": [
      "WARNING:absl:Found untraced functions such as _jit_compiled_convolution_op, _jit_compiled_convolution_op, _jit_compiled_convolution_op, _jit_compiled_convolution_op, _jit_compiled_convolution_op while saving (showing 5 of 6). These functions will not be directly callable after loading.\n"
     ]
    },
    {
     "name": "stdout",
     "output_type": "stream",
     "text": [
      "INFO:tensorflow:Assets written to: models/experiment_regression_test_12_71/fraction_3/n_epoch_50/2-7-3-12-0.3-1/fold_1\\assets\n"
     ]
    },
    {
     "name": "stderr",
     "output_type": "stream",
     "text": [
      "INFO:tensorflow:Assets written to: models/experiment_regression_test_12_71/fraction_3/n_epoch_50/2-7-3-12-0.3-1/fold_1\\assets\n"
     ]
    },
    {
     "name": "stdout",
     "output_type": "stream",
     "text": [
      "----------------------------------------------------------------------------\n",
      "RND STATE NUMBER = 34\n",
      "----------------------------------------------------------------------------\n",
      "-105.09668243269917\n",
      "14.334864216201066\n",
      "(406, 53, 86, 1)\n",
      "0.2660098522167488\n",
      "0.39655172413793105\n",
      "0.22660098522167488\n",
      "0.11083743842364532\n",
      "414    2\n",
      "401    1\n",
      "403    1\n",
      "159    1\n",
      "251    0\n",
      "      ..\n",
      "85     2\n",
      "246    2\n",
      "361    2\n",
      "122    1\n",
      "417    0\n",
      "Name: occupants, Length: 406, dtype: int64\n",
      "-106.27752275009954\n",
      "13.983513212826866\n",
      "(72, 53, 86, 1)\n",
      "[2 0 1 0 0 0 3 0 1 2 1 1 1 1 2 1 0 0 3 1 0 0 0 1 2 2 1 1 1 1 2 3 3 0 1 1 3\n",
      " 2 2 1 1 3 0 1 2 1 1 0 1 1 1 1 1 1 2 1 1 1 3 2 2 1 2 0 3 0 1 0 3 1 1 2]\n",
      "------------------------------------------------------------------------\n",
      "Training regression model 2-7-3-12-0.3-1 with transfer learning\n",
      "dict_keys(['loss', 'mae', 'val_loss', 'val_mae'])\n",
      "3/3 [==============================] - 0s 3ms/step\n",
      "accuracy4 = 0.6805555555555556\n",
      "accuracy3 = 0.7638888888888888\n"
     ]
    },
    {
     "name": "stderr",
     "output_type": "stream",
     "text": [
      "WARNING:absl:Found untraced functions such as _jit_compiled_convolution_op, _jit_compiled_convolution_op, _jit_compiled_convolution_op, _jit_compiled_convolution_op, _jit_compiled_convolution_op while saving (showing 5 of 6). These functions will not be directly callable after loading.\n"
     ]
    },
    {
     "name": "stdout",
     "output_type": "stream",
     "text": [
      "INFO:tensorflow:Assets written to: models/experiment_regression_test_12_71/fraction_3/n_epoch_50/2-7-3-12-0.3-1/fold_1\\assets\n"
     ]
    },
    {
     "name": "stderr",
     "output_type": "stream",
     "text": [
      "INFO:tensorflow:Assets written to: models/experiment_regression_test_12_71/fraction_3/n_epoch_50/2-7-3-12-0.3-1/fold_1\\assets\n"
     ]
    },
    {
     "name": "stdout",
     "output_type": "stream",
     "text": [
      "----------------------------------------------------------------------------\n",
      "RND STATE NUMBER = 35\n",
      "----------------------------------------------------------------------------\n",
      "-105.08830592040451\n",
      "14.345927257890233\n",
      "(406, 53, 86, 1)\n",
      "0.2561576354679803\n",
      "0.4064039408866995\n",
      "0.21921182266009853\n",
      "0.11822660098522167\n",
      "212    1\n",
      "10     2\n",
      "36     1\n",
      "127    2\n",
      "87     2\n",
      "      ..\n",
      "447    2\n",
      "33     2\n",
      "439    1\n",
      "271    1\n",
      "201    1\n",
      "Name: occupants, Length: 406, dtype: int64\n",
      "-106.32475697220586\n",
      "13.915288769636094\n",
      "(72, 53, 86, 1)\n",
      "[1 2 1 2 1 1 0 0 2 2 0 1 0 1 1 3 1 1 1 2 0 3 2 1 3 0 1 0 2 1 1 1 1 1 1 1 1\n",
      " 2 2 0 1 2 1 1 2 0 0 0 0 2 0 1 0 1 3 3 2 0 1 3 1 2 2 0 0 0 1 2 2 1 0 0]\n",
      "------------------------------------------------------------------------\n",
      "Training regression model 2-7-3-12-0.3-1 with transfer learning\n",
      "dict_keys(['loss', 'mae', 'val_loss', 'val_mae'])\n",
      "3/3 [==============================] - 0s 4ms/step\n",
      "accuracy4 = 0.7777777777777778\n",
      "accuracy3 = 0.875\n"
     ]
    },
    {
     "name": "stderr",
     "output_type": "stream",
     "text": [
      "WARNING:absl:Found untraced functions such as _jit_compiled_convolution_op, _jit_compiled_convolution_op, _jit_compiled_convolution_op, _jit_compiled_convolution_op, _jit_compiled_convolution_op while saving (showing 5 of 6). These functions will not be directly callable after loading.\n"
     ]
    },
    {
     "name": "stdout",
     "output_type": "stream",
     "text": [
      "INFO:tensorflow:Assets written to: models/experiment_regression_test_12_71/fraction_3/n_epoch_50/2-7-3-12-0.3-1/fold_1\\assets\n"
     ]
    },
    {
     "name": "stderr",
     "output_type": "stream",
     "text": [
      "INFO:tensorflow:Assets written to: models/experiment_regression_test_12_71/fraction_3/n_epoch_50/2-7-3-12-0.3-1/fold_1\\assets\n"
     ]
    },
    {
     "name": "stdout",
     "output_type": "stream",
     "text": [
      "----------------------------------------------------------------------------\n",
      "RND STATE NUMBER = 36\n",
      "----------------------------------------------------------------------------\n",
      "-105.31093204329933\n",
      "14.262385537597158\n",
      "(406, 53, 86, 1)\n",
      "0.2536945812807882\n",
      "0.42857142857142855\n",
      "0.21182266009852216\n",
      "0.10591133004926108\n",
      "209    0\n",
      "55     2\n",
      "379    0\n",
      "66     3\n",
      "178    2\n",
      "      ..\n",
      "161    0\n",
      "424    0\n",
      "414    2\n",
      "98     1\n",
      "133    3\n",
      "Name: occupants, Length: 406, dtype: int64\n",
      "-105.06939300143765\n",
      "14.434719017908012\n",
      "(72, 53, 86, 1)\n",
      "[1 1 0 1 2 2 2 0 2 2 0 1 0 0 1 3 3 2 2 2 1 0 3 3 2 1 0 2 1 1 3 3 1 1 2 1 0\n",
      " 1 1 0 2 0 1 0 0 0 2 0 3 1 3 0 1 0 1 3 0 0 2 2 1 0 1 0 0 3 2 2 2 2 2 3]\n",
      "------------------------------------------------------------------------\n",
      "Training regression model 2-7-3-12-0.3-1 with transfer learning\n",
      "dict_keys(['loss', 'mae', 'val_loss', 'val_mae'])\n",
      "3/3 [==============================] - 0s 4ms/step\n",
      "accuracy4 = 0.7222222222222222\n",
      "accuracy3 = 0.8333333333333334\n"
     ]
    },
    {
     "name": "stderr",
     "output_type": "stream",
     "text": [
      "WARNING:absl:Found untraced functions such as _jit_compiled_convolution_op, _jit_compiled_convolution_op, _jit_compiled_convolution_op, _jit_compiled_convolution_op, _jit_compiled_convolution_op while saving (showing 5 of 6). These functions will not be directly callable after loading.\n"
     ]
    },
    {
     "name": "stdout",
     "output_type": "stream",
     "text": [
      "INFO:tensorflow:Assets written to: models/experiment_regression_test_12_71/fraction_3/n_epoch_50/2-7-3-12-0.3-1/fold_1\\assets\n"
     ]
    },
    {
     "name": "stderr",
     "output_type": "stream",
     "text": [
      "INFO:tensorflow:Assets written to: models/experiment_regression_test_12_71/fraction_3/n_epoch_50/2-7-3-12-0.3-1/fold_1\\assets\n"
     ]
    },
    {
     "name": "stdout",
     "output_type": "stream",
     "text": [
      "----------------------------------------------------------------------------\n",
      "RND STATE NUMBER = 37\n",
      "----------------------------------------------------------------------------\n",
      "-105.18144500857873\n",
      "14.383091641949148\n",
      "(406, 53, 86, 1)\n",
      "0.2536945812807882\n",
      "0.4088669950738916\n",
      "0.21921182266009853\n",
      "0.11822660098522167\n",
      "257    2\n",
      "324    2\n",
      "272    1\n",
      "229    0\n",
      "237    2\n",
      "      ..\n",
      "437    2\n",
      "251    0\n",
      "332    1\n",
      "363    1\n",
      "399    1\n",
      "Name: occupants, Length: 406, dtype: int64\n",
      "-105.79955600277907\n",
      "13.732758592830137\n",
      "(72, 53, 86, 1)\n",
      "[2 1 1 1 2 0 1 1 1 1 1 1 0 3 2 2 1 0 0 2 0 0 1 1 2 2 0 0 1 0 1 1 1 1 1 3 2\n",
      " 1 2 2 2 0 0 0 3 2 1 2 3 3 0 1 2 3 0 0 2 0 1 0 0 2 1 2 1 1 1 1 0 0 0 1]\n",
      "------------------------------------------------------------------------\n",
      "Training regression model 2-7-3-12-0.3-1 with transfer learning\n",
      "dict_keys(['loss', 'mae', 'val_loss', 'val_mae'])\n",
      "3/3 [==============================] - 0s 3ms/step\n",
      "accuracy4 = 0.7916666666666666\n",
      "accuracy3 = 0.875\n"
     ]
    },
    {
     "name": "stderr",
     "output_type": "stream",
     "text": [
      "WARNING:absl:Found untraced functions such as _jit_compiled_convolution_op, _jit_compiled_convolution_op, _jit_compiled_convolution_op, _jit_compiled_convolution_op, _jit_compiled_convolution_op while saving (showing 5 of 6). These functions will not be directly callable after loading.\n"
     ]
    },
    {
     "name": "stdout",
     "output_type": "stream",
     "text": [
      "INFO:tensorflow:Assets written to: models/experiment_regression_test_12_71/fraction_3/n_epoch_50/2-7-3-12-0.3-1/fold_1\\assets\n"
     ]
    },
    {
     "name": "stderr",
     "output_type": "stream",
     "text": [
      "INFO:tensorflow:Assets written to: models/experiment_regression_test_12_71/fraction_3/n_epoch_50/2-7-3-12-0.3-1/fold_1\\assets\n"
     ]
    },
    {
     "name": "stdout",
     "output_type": "stream",
     "text": [
      "----------------------------------------------------------------------------\n",
      "RND STATE NUMBER = 38\n",
      "----------------------------------------------------------------------------\n",
      "-105.28396895665342\n",
      "14.253697615178199\n",
      "(406, 53, 86, 1)\n",
      "0.2660098522167488\n",
      "0.39901477832512317\n",
      "0.22413793103448276\n",
      "0.11083743842364532\n",
      "47     2\n",
      "35     3\n",
      "334    1\n",
      "9      3\n",
      "178    2\n",
      "      ..\n",
      "316    1\n",
      "467    0\n",
      "53     1\n",
      "331    1\n",
      "417    0\n",
      "Name: occupants, Length: 406, dtype: int64\n",
      "-105.22143485113551\n",
      "14.484624759349025\n",
      "(72, 53, 86, 1)\n",
      "[3 1 2 1 3 0 1 1 1 3 0 1 2 0 2 2 1 2 2 1 0 1 3 1 1 1 1 3 1 2 2 1 1 1 1 1 2\n",
      " 1 1 3 1 1 1 0 3 1 1 1 0 0 3 0 2 0 0 0 3 0 2 2 1 0 2 1 0 2 1 2 1 1 0 0]\n",
      "------------------------------------------------------------------------\n",
      "Training regression model 2-7-3-12-0.3-1 with transfer learning\n",
      "dict_keys(['loss', 'mae', 'val_loss', 'val_mae'])\n",
      "3/3 [==============================] - 0s 3ms/step\n",
      "accuracy4 = 0.7083333333333334\n",
      "accuracy3 = 0.8333333333333334\n"
     ]
    },
    {
     "name": "stderr",
     "output_type": "stream",
     "text": [
      "WARNING:absl:Found untraced functions such as _jit_compiled_convolution_op, _jit_compiled_convolution_op, _jit_compiled_convolution_op, _jit_compiled_convolution_op, _jit_compiled_convolution_op while saving (showing 5 of 6). These functions will not be directly callable after loading.\n"
     ]
    },
    {
     "name": "stdout",
     "output_type": "stream",
     "text": [
      "INFO:tensorflow:Assets written to: models/experiment_regression_test_12_71/fraction_3/n_epoch_50/2-7-3-12-0.3-1/fold_1\\assets\n"
     ]
    },
    {
     "name": "stderr",
     "output_type": "stream",
     "text": [
      "INFO:tensorflow:Assets written to: models/experiment_regression_test_12_71/fraction_3/n_epoch_50/2-7-3-12-0.3-1/fold_1\\assets\n"
     ]
    },
    {
     "name": "stdout",
     "output_type": "stream",
     "text": [
      "----------------------------------------------------------------------------\n",
      "RND STATE NUMBER = 39\n",
      "----------------------------------------------------------------------------\n",
      "-105.61050803857393\n",
      "14.160289104620443\n",
      "(406, 53, 86, 1)\n",
      "0.2536945812807882\n",
      "0.41625615763546797\n",
      "0.21674876847290642\n",
      "0.11330049261083744\n",
      "3      1\n",
      "228    1\n",
      "389    0\n",
      "449    1\n",
      "347    2\n",
      "      ..\n",
      "404    0\n",
      "64     3\n",
      "41     2\n",
      "105    2\n",
      "393    0\n",
      "Name: occupants, Length: 406, dtype: int64\n",
      "-103.38011725030628\n",
      "14.850877838448387\n",
      "(72, 53, 86, 1)\n",
      "[1 1 2 0 1 1 3 2 1 0 2 1 2 3 1 2 1 0 1 3 3 2 1 0 0 1 0 2 1 0 1 1 2 2 1 0 0\n",
      " 1 0 0 2 0 1 0 1 2 3 0 3 0 2 3 1 3 0 2 1 1 1 1 2 0 0 2 1 2 0 1 0 0 2 2]\n",
      "------------------------------------------------------------------------\n",
      "Training regression model 2-7-3-12-0.3-1 with transfer learning\n",
      "dict_keys(['loss', 'mae', 'val_loss', 'val_mae'])\n",
      "3/3 [==============================] - 0s 4ms/step\n",
      "accuracy4 = 0.6666666666666666\n",
      "accuracy3 = 0.7222222222222222\n"
     ]
    },
    {
     "name": "stderr",
     "output_type": "stream",
     "text": [
      "WARNING:absl:Found untraced functions such as _jit_compiled_convolution_op, _jit_compiled_convolution_op, _jit_compiled_convolution_op, _jit_compiled_convolution_op, _jit_compiled_convolution_op while saving (showing 5 of 6). These functions will not be directly callable after loading.\n"
     ]
    },
    {
     "name": "stdout",
     "output_type": "stream",
     "text": [
      "INFO:tensorflow:Assets written to: models/experiment_regression_test_12_71/fraction_3/n_epoch_50/2-7-3-12-0.3-1/fold_1\\assets\n"
     ]
    },
    {
     "name": "stderr",
     "output_type": "stream",
     "text": [
      "INFO:tensorflow:Assets written to: models/experiment_regression_test_12_71/fraction_3/n_epoch_50/2-7-3-12-0.3-1/fold_1\\assets\n"
     ]
    }
   ],
   "source": [
    "train_random_states(40)"
   ]
  },
  {
   "cell_type": "markdown",
   "metadata": {},
   "source": [
    "## Training with the full dataset (n_epoch 300)"
   ]
  },
  {
   "cell_type": "code",
   "execution_count": 36,
   "metadata": {},
   "outputs": [],
   "source": [
    "accuracies4=[]\n",
    "accuracies3=[]\n",
    "def train_random_states(amount):\n",
    "    for i in range(amount):\n",
    "        print('----------------------------------------------------------------------------')\n",
    "        print(f'RND STATE NUMBER = {i}')\n",
    "        print('----------------------------------------------------------------------------')\n",
    "        \"\"\"SPLIT THE DATASET\"\"\"\n",
    "        from sklearn.model_selection import train_test_split\n",
    "\n",
    "        train_df, test_df = train_test_split(df, test_size=0.15, random_state = i)\n",
    "        \n",
    "        \"\"\"DATA PREPROCESSING\"\"\"\n",
    "        working_df = train_df\n",
    "        #TRAINING WILL BE DONE WITH THE FFTDATA COLUMN\n",
    "        train_list = working_df.fftData\n",
    "        train_list = np.array(train_list)\n",
    "        train_x = []\n",
    "\n",
    "        \"\"\" Here is performed the frequency selection part of the preprocessing. \n",
    "            Since the fft spectrum is divided in two spectrum of 128 bits each, for performing frequency selection \n",
    "            we need to select from both the first part and the second one.\n",
    "            only one/fraction of the frequencies are selected.\n",
    "        \"\"\"\n",
    "\n",
    "        #Select only first third of both images\n",
    "        fraction = 3 \n",
    "        fraction_data = int(round(128/fraction)) #fraction_data=43 in this case\n",
    "\n",
    "        for i in range(len(train_list)):\n",
    "            #print(len(train_list[i]))\n",
    "            #print(len(train_list[i][0]))\n",
    "\n",
    "            a = np.array(train_list[i])[:, 0 : fraction_data]\n",
    "            b = np.array(train_list[i])[:, 128 : 128 + fraction_data]\n",
    "            c = np.concatenate((a, b), axis=1)\n",
    "            train_x.append(c)\n",
    "        train_arr = []\n",
    "        for x in range(len(train_x)):\n",
    "            train_arr.append(np.array(train_x[x]))\n",
    "        train_list = train_arr \n",
    "\n",
    "        \"\"\"\n",
    "        zscore normalization part of the preprocessing. correcting the dimension of the network.\n",
    "        \"\"\"\n",
    "\n",
    "        print(np.mean(train_list))\n",
    "        print(np.std(train_list))\n",
    "        train_list = scipy.stats.zscore(train_list, axis=None)\n",
    "\n",
    "        #max = np.max(train_list)\n",
    "        #min = np.min(train_list)\n",
    "        #train_list = np.array([[[(x - min) / (max - min) for x in y] for y in z] for z in train_list])\n",
    "\n",
    "\n",
    "        train_tensor = tf.convert_to_tensor(train_list)\n",
    "\n",
    "        #Third dimension value is 1\n",
    "        train_tensor = tf.expand_dims(train_tensor, -1)\n",
    "\n",
    "        print(train_tensor.shape)\n",
    "\n",
    "        \"\"\"\n",
    "        assigning label \n",
    "        \"\"\"\n",
    "\n",
    "        train_label = working_df[\"occupants\"]\n",
    "\n",
    "        #PROPORTIONS OF THE DATASET\n",
    "        passengers0 = 0\n",
    "        passengers1 = 0\n",
    "        passengers2 = 0\n",
    "        passengers3 = 0\n",
    "        for occupants in working_df[\"occupants\"]:\n",
    "            if occupants == 0:\n",
    "                passengers0+=1\n",
    "            if occupants == 1:\n",
    "                passengers1+=1\n",
    "            if occupants == 2:\n",
    "                passengers2+=1\n",
    "            if occupants == 3:\n",
    "                passengers3+=1\n",
    "        balancing0 = passengers0/len(train_df)\n",
    "        balancing1 = passengers1/len(train_df)\n",
    "        balancing2 = passengers2/len(train_df)\n",
    "        balancing3 = passengers3/len(train_df)\n",
    "\n",
    "        print(balancing0)\n",
    "        print(balancing1)\n",
    "        print(balancing2)\n",
    "        print(balancing3)\n",
    "\n",
    "        #train_label = tf.keras.utils.to_categorical(train_label, 3)\n",
    "\n",
    "        \"\"\"Dimensions of the inputs\"\"\"\n",
    "        #53*86 images\n",
    "        img_h, img_w = 53, fraction_data*2\n",
    "        num_classes=3\n",
    "\n",
    "        print(train_label)\n",
    "        \n",
    "        \"\"\"\n",
    "        Perform the same preprocessing steps of the training set to the test set too.\n",
    "        \"\"\"\n",
    "        test_labels = np.array(test_df[\"occupants\"])\n",
    "\n",
    "        #test_labels = tf.keras.utils.to_categorical(test_labels, 3)\n",
    "\n",
    "        test_list = test_df[\"fftData\"]\n",
    "        test_list = np.array(test_list)\n",
    "        test_x = []\n",
    "\n",
    "        fraction = 3 \n",
    "        fraction_data = int(round(128/fraction))\n",
    "\n",
    "        for i in range(len(test_list)):\n",
    "\n",
    "            a = np.array(test_list[i])[:, 0 : fraction_data]\n",
    "            b = np.array(test_list[i])[:, 128 : 128 + fraction_data]\n",
    "            c = np.concatenate((a, b), axis=1)\n",
    "            test_x.append(c)\n",
    "        test_arr = []\n",
    "        for x in range(len(test_x)):\n",
    "            test_arr.append(np.array(test_x[x]))\n",
    "        test_list = test_arr \n",
    "\n",
    "\n",
    "        print(np.mean(test_list))\n",
    "        print(np.std(test_list))\n",
    "        test_list = scipy.stats.zscore(test_list, axis=None)\n",
    "\n",
    "        #max = np.max(train_list)\n",
    "        #min = np.min(train_list)\n",
    "        #train_list = np.array([[[(x - min) / (max - min) for x in y] for y in z] for z in train_list])\n",
    "        test_tensor = tf.convert_to_tensor(test_list)\n",
    "        test_tensor = tf.expand_dims(test_tensor, -1)\n",
    "        print(test_tensor.shape)\n",
    "        test_images = test_tensor\n",
    "        print(test_labels)\n",
    "        \n",
    "        \"\"\"NETWORK DESIGN\"\"\"\n",
    "        folder='4_classes_test_2'\n",
    "        model_name='2-7-3-12-0.3-1'\n",
    "        fraction=3\n",
    "\n",
    "        mypath=f'models_full_train/experiment_{folder}/{model_name}/model'\n",
    "        filenames = next(walk(mypath), (None, None, []))[2]\n",
    "\n",
    "        imported_model = load_model(mypath)\n",
    "        model = tf.keras.Sequential()\n",
    "\n",
    "        for layer in imported_model.layers[:-1]: # go through until last layer\n",
    "            model.add(layer)\n",
    "        model.add(tf.keras.layers.Dense(units=1, activation='linear'))\n",
    "        for layer in model.layers[:-1]:\n",
    "            layer.trainable = False\n",
    "\n",
    "        model.compile(loss='mse', metrics=['mae'])\n",
    "        \n",
    "        print('------------------------------------------------------------------------')\n",
    "        print(f'Training regression model {model_name} with transfer learning')\n",
    "        experiment = f\"regression_test_12_{i}\" #¡¡¡¡¡CHANGE FOLDER!!!!!!\n",
    "\n",
    "        inputs = np.array(train_tensor)\n",
    "        targets = train_label\n",
    "\n",
    "        mae_per_fold = []\n",
    "        loss_per_fold = []\n",
    "        train_mae_per_fold = []\n",
    "\n",
    "        acc_per_fold_quant = []\n",
    "        train_acc_per_fold_quant = []\n",
    "\n",
    "        fold_no = 1\n",
    "        Y_pred_list = []\n",
    "        Y_true_list = []\n",
    "\n",
    "        #--------------------------------STATIC PARAMETERS------------------------------------------\n",
    "\n",
    "        # Optimization params\n",
    "        # -------------------\n",
    "\n",
    "        # Loss\n",
    "        loss = 'mean_squared_error'\n",
    "\n",
    "        # learning rate\n",
    "        lr = 0.3e-4\n",
    "\n",
    "        optimizer = tf.keras.optimizers.Adam(learning_rate=lr)\n",
    "        # -------------------\n",
    "\n",
    "        # Validation metrics\n",
    "        # ------------------\n",
    "\n",
    "        metrics = ['mae','accuracy']\n",
    "\n",
    "        batch_size = 32\n",
    "\n",
    "        n_epoch = 300\n",
    "\n",
    "\n",
    "        #------------------------------------CALLBACKS----------------------------------------\n",
    "        callbacks = []\n",
    "\n",
    "        # Early Stopping\n",
    "        # --------------\n",
    "        early_stop = False\n",
    "        if early_stop:\n",
    "            es_callback = tf.keras.callbacks.EarlyStopping(monitor='val_loss', patience=100, restore_best_weights=False,)\n",
    "            callbacks.append(es_callback)\n",
    "\n",
    "\n",
    "        class_weights={0: balancing0, 1: balancing1, 2: balancing2, 3: balancing3}\n",
    "        history = model.fit(inputs, targets,\n",
    "                    class_weight=class_weights,\n",
    "                    batch_size=batch_size,\n",
    "                    epochs=n_epoch,\n",
    "                    validation_data=(test_images, test_labels),\n",
    "                    callbacks = callbacks,\n",
    "                    verbose=False)\n",
    "        print(history.history.keys())\n",
    "        mae_per_fold.append(history.history['val_mae'])\n",
    "        loss_per_fold.append(history.history['val_loss'])\n",
    "        train_mae_per_fold.append(history.history['mae'])\n",
    "\n",
    "        Y_prediction = model.predict(test_images)\n",
    "        Y_prediction_int=[]\n",
    "        for item in Y_prediction:\n",
    "            a = round(item[0])\n",
    "            Y_prediction_int.append(a)\n",
    "\n",
    "        accuracy4 = 0.0\n",
    "        for i in range(len(Y_prediction_int)):\n",
    "            if Y_prediction_int[i]==test_labels[i]:\n",
    "                accuracy4 += 1\n",
    "        accuracy4 = accuracy4 / len(Y_prediction)\n",
    "        \n",
    "        Y_true = test_labels\n",
    "        for i in range(len(Y_true)):\n",
    "            if Y_true[i] == 3:\n",
    "                Y_true[i] = 2\n",
    "        for i in range(len(Y_prediction_int)):\n",
    "            if Y_prediction_int[i] == 3:\n",
    "                Y_prediction_int[i] = 2\n",
    "                \n",
    "        accuracy3 = 0.0\n",
    "        for i in range(len(Y_prediction_int)):\n",
    "            if Y_prediction_int[i]==Y_true[i]:\n",
    "                accuracy3 += 1\n",
    "        accuracy3 = accuracy3 / len(Y_prediction)\n",
    "        print(f\"accuracy4 = {accuracy4}\")\n",
    "        print(f\"accuracy3 = {accuracy3}\")\n",
    "        #-------------------------------SAVE MODEL-----------------------------------------\n",
    "\n",
    "        MODELS_DIR = f'models/experiment_{experiment}/fraction_{fraction}/n_epoch_{n_epoch}/{model_name}/'\n",
    "        try:\n",
    "            if not os.path.exists(MODELS_DIR):\n",
    "                os.makedirs(MODELS_DIR)\n",
    "        except e:\n",
    "            if e.errno != errno.EEXIST:\n",
    "                raise   \n",
    "            # time.sleep might help here\n",
    "            pass\n",
    "\n",
    "        MODEL_TF = MODELS_DIR + f'fold_{fold_no}'\n",
    "        model.save(MODEL_TF)\n",
    "        \n",
    "        accuracies4.append(accuracy4)\n",
    "        accuracies3.append(accuracy3)\n",
    "        \n",
    "    row = {'accuracies4' : accuracies4,\n",
    "          'accuracies3' : accuracies3}\n",
    "    JSON_DIR = f'json_child/experiment_regression_BEST/fraction_{fraction}/n_epoch_{n_epoch}'\n",
    "    if not os.path.exists(JSON_DIR):\n",
    "        os.makedirs(JSON_DIR)\n",
    "    try:\n",
    "        with open(f'{JSON_DIR}/accuracies.json', 'w') as f:\n",
    "            json.dump(row, f)\n",
    "    except Exception as e:\n",
    "        print(e)"
   ]
  },
  {
   "cell_type": "code",
   "execution_count": 37,
   "metadata": {},
   "outputs": [
    {
     "name": "stdout",
     "output_type": "stream",
     "text": [
      "----------------------------------------------------------------------------\n",
      "RND STATE NUMBER = 0\n",
      "----------------------------------------------------------------------------\n",
      "-105.18000980291477\n",
      "14.2873404928517\n",
      "(406, 53, 86, 1)\n",
      "0.2660098522167488\n",
      "0.4039408866995074\n",
      "0.21428571428571427\n",
      "0.11576354679802955\n",
      "440    2\n",
      "230    1\n",
      "245    1\n",
      "160    2\n",
      "402    2\n",
      "      ..\n",
      "323    1\n",
      "192    1\n",
      "117    2\n",
      "47     2\n",
      "172    0\n",
      "Name: occupants, Length: 406, dtype: int64\n",
      "-105.80764896805057\n",
      "14.284908322435399\n",
      "(72, 53, 86, 1)\n",
      "[3 2 0 0 2 1 1 2 2 3 1 2 0 2 1 0 2 3 0 1 1 2 2 2 1 0 1 1 1 2 1 2 0 2 1 3 1\n",
      " 0 0 2 2 3 1 1 1 3 0 1 0 1 1 0 1 3 1 1 0 1 1 0 2 1 2 1 1 1 1 2 0 1 0 2]\n",
      "------------------------------------------------------------------------\n",
      "Training regression model 2-7-3-12-0.3-1 with transfer learning\n",
      "dict_keys(['loss', 'mae', 'val_loss', 'val_mae'])\n",
      "3/3 [==============================] - 0s 3ms/step\n",
      "accuracy4 = 0.8333333333333334\n",
      "accuracy3 = 0.8472222222222222\n"
     ]
    },
    {
     "name": "stderr",
     "output_type": "stream",
     "text": [
      "WARNING:absl:Found untraced functions such as _jit_compiled_convolution_op, _jit_compiled_convolution_op, _jit_compiled_convolution_op, _jit_compiled_convolution_op, _jit_compiled_convolution_op while saving (showing 5 of 6). These functions will not be directly callable after loading.\n"
     ]
    },
    {
     "name": "stdout",
     "output_type": "stream",
     "text": [
      "INFO:tensorflow:Assets written to: models/experiment_regression_test_12_71/fraction_3/n_epoch_300/2-7-3-12-0.3-1/fold_1\\assets\n"
     ]
    },
    {
     "name": "stderr",
     "output_type": "stream",
     "text": [
      "INFO:tensorflow:Assets written to: models/experiment_regression_test_12_71/fraction_3/n_epoch_300/2-7-3-12-0.3-1/fold_1\\assets\n"
     ]
    },
    {
     "name": "stdout",
     "output_type": "stream",
     "text": [
      "----------------------------------------------------------------------------\n",
      "RND STATE NUMBER = 1\n",
      "----------------------------------------------------------------------------\n",
      "-105.30627770275844\n",
      "14.19675883911384\n",
      "(406, 53, 86, 1)\n",
      "0.2561576354679803\n",
      "0.39408866995073893\n",
      "0.2315270935960591\n",
      "0.11822660098522167\n",
      "403    1\n",
      "466    1\n",
      "132    3\n",
      "270    1\n",
      "146    1\n",
      "      ..\n",
      "255    0\n",
      "72     3\n",
      "396    2\n",
      "235    0\n",
      "37     2\n",
      "Name: occupants, Length: 406, dtype: int64\n",
      "-105.09563831059897\n",
      "14.795425608084532\n",
      "(72, 53, 86, 1)\n",
      "[1 0 3 0 1 1 2 3 1 3 1 1 1 1 1 0 1 0 2 0 2 0 1 1 2 1 0 1 2 3 1 1 1 0 1 1 0\n",
      " 0 1 0 1 1 3 3 2 1 1 0 2 0 0 0 2 0 0 1 1 1 1 2 1 0 1 1 1 2 1 2 0 2 0 1]\n",
      "------------------------------------------------------------------------\n",
      "Training regression model 2-7-3-12-0.3-1 with transfer learning\n",
      "dict_keys(['loss', 'mae', 'val_loss', 'val_mae'])\n",
      "3/3 [==============================] - 0s 3ms/step\n",
      "accuracy4 = 0.8194444444444444\n",
      "accuracy3 = 0.9027777777777778\n"
     ]
    },
    {
     "name": "stderr",
     "output_type": "stream",
     "text": [
      "WARNING:absl:Found untraced functions such as _jit_compiled_convolution_op, _jit_compiled_convolution_op, _jit_compiled_convolution_op, _jit_compiled_convolution_op, _jit_compiled_convolution_op while saving (showing 5 of 6). These functions will not be directly callable after loading.\n"
     ]
    },
    {
     "name": "stdout",
     "output_type": "stream",
     "text": [
      "INFO:tensorflow:Assets written to: models/experiment_regression_test_12_71/fraction_3/n_epoch_300/2-7-3-12-0.3-1/fold_1\\assets\n"
     ]
    },
    {
     "name": "stderr",
     "output_type": "stream",
     "text": [
      "INFO:tensorflow:Assets written to: models/experiment_regression_test_12_71/fraction_3/n_epoch_300/2-7-3-12-0.3-1/fold_1\\assets\n"
     ]
    },
    {
     "name": "stdout",
     "output_type": "stream",
     "text": [
      "----------------------------------------------------------------------------\n",
      "RND STATE NUMBER = 2\n",
      "----------------------------------------------------------------------------\n",
      "-105.33041514606805\n",
      "14.218898681508648\n",
      "(406, 53, 86, 1)\n",
      "0.24630541871921183\n",
      "0.4088669950738916\n",
      "0.2315270935960591\n",
      "0.11330049261083744\n",
      "14     2\n",
      "301    2\n",
      "369    1\n",
      "203    0\n",
      "12     2\n",
      "      ..\n",
      "299    0\n",
      "22     3\n",
      "72     3\n",
      "15     3\n",
      "168    1\n",
      "Name: occupants, Length: 406, dtype: int64\n",
      "-104.9595299497142\n",
      "14.672352948867985\n",
      "(72, 53, 86, 1)\n",
      "[1 1 0 1 1 0 0 0 2 0 0 3 0 0 1 1 1 0 0 1 1 3 0 0 0 2 1 2 1 1 1 1 2 1 2 3 1\n",
      " 2 1 0 1 1 2 1 0 0 0 0 1 0 0 3 1 3 0 0 1 1 1 1 3 0 2 1 2 3 2 1 0 2 2 3]\n",
      "------------------------------------------------------------------------\n",
      "Training regression model 2-7-3-12-0.3-1 with transfer learning\n",
      "dict_keys(['loss', 'mae', 'val_loss', 'val_mae'])\n",
      "3/3 [==============================] - 0s 4ms/step\n",
      "accuracy4 = 0.8055555555555556\n",
      "accuracy3 = 0.875\n"
     ]
    },
    {
     "name": "stderr",
     "output_type": "stream",
     "text": [
      "WARNING:absl:Found untraced functions such as _jit_compiled_convolution_op, _jit_compiled_convolution_op, _jit_compiled_convolution_op, _jit_compiled_convolution_op, _jit_compiled_convolution_op while saving (showing 5 of 6). These functions will not be directly callable after loading.\n"
     ]
    },
    {
     "name": "stdout",
     "output_type": "stream",
     "text": [
      "INFO:tensorflow:Assets written to: models/experiment_regression_test_12_71/fraction_3/n_epoch_300/2-7-3-12-0.3-1/fold_1\\assets\n"
     ]
    },
    {
     "name": "stderr",
     "output_type": "stream",
     "text": [
      "INFO:tensorflow:Assets written to: models/experiment_regression_test_12_71/fraction_3/n_epoch_300/2-7-3-12-0.3-1/fold_1\\assets\n"
     ]
    },
    {
     "name": "stdout",
     "output_type": "stream",
     "text": [
      "----------------------------------------------------------------------------\n",
      "RND STATE NUMBER = 3\n",
      "----------------------------------------------------------------------------\n",
      "-105.3595316285224\n",
      "14.368294204123693\n",
      "(406, 53, 86, 1)\n",
      "0.2536945812807882\n",
      "0.4211822660098522\n",
      "0.20689655172413793\n",
      "0.11822660098522167\n",
      "159    1\n",
      "177    0\n",
      "170    1\n",
      "189    0\n",
      "370    1\n",
      "      ..\n",
      "440    2\n",
      "131    0\n",
      "249    0\n",
      "152    1\n",
      "362    1\n",
      "Name: occupants, Length: 406, dtype: int64\n",
      "-104.79534534031882\n",
      "13.821789240821177\n",
      "(72, 53, 86, 1)\n",
      "[2 2 3 0 0 2 1 0 0 2 1 2 0 0 2 0 0 2 1 2 2 2 1 1 0 1 1 2 2 1 2 2 1 2 0 2 2\n",
      " 1 1 1 2 0 1 0 1 1 0 0 1 3 0 3 2 3 3 0 0 1 1 3 1 1 2 0 0 0 2 1 1 0 1 2]\n",
      "------------------------------------------------------------------------\n",
      "Training regression model 2-7-3-12-0.3-1 with transfer learning\n",
      "dict_keys(['loss', 'mae', 'val_loss', 'val_mae'])\n",
      "3/3 [==============================] - 0s 4ms/step\n",
      "accuracy4 = 0.8333333333333334\n",
      "accuracy3 = 0.875\n"
     ]
    },
    {
     "name": "stderr",
     "output_type": "stream",
     "text": [
      "WARNING:absl:Found untraced functions such as _jit_compiled_convolution_op, _jit_compiled_convolution_op, _jit_compiled_convolution_op, _jit_compiled_convolution_op, _jit_compiled_convolution_op while saving (showing 5 of 6). These functions will not be directly callable after loading.\n"
     ]
    },
    {
     "name": "stdout",
     "output_type": "stream",
     "text": [
      "INFO:tensorflow:Assets written to: models/experiment_regression_test_12_71/fraction_3/n_epoch_300/2-7-3-12-0.3-1/fold_1\\assets\n"
     ]
    },
    {
     "name": "stderr",
     "output_type": "stream",
     "text": [
      "INFO:tensorflow:Assets written to: models/experiment_regression_test_12_71/fraction_3/n_epoch_300/2-7-3-12-0.3-1/fold_1\\assets\n"
     ]
    },
    {
     "name": "stdout",
     "output_type": "stream",
     "text": [
      "----------------------------------------------------------------------------\n",
      "RND STATE NUMBER = 4\n",
      "----------------------------------------------------------------------------\n",
      "-105.16175265051322\n",
      "14.307559188477946\n",
      "(406, 53, 86, 1)\n",
      "0.26108374384236455\n",
      "0.4039408866995074\n",
      "0.22660098522167488\n",
      "0.10837438423645321\n",
      "419    0\n",
      "203    0\n",
      "228    1\n",
      "61     2\n",
      "285    0\n",
      "      ..\n",
      "385    2\n",
      "197    0\n",
      "439    1\n",
      "174    1\n",
      "122    1\n",
      "Name: occupants, Length: 406, dtype: int64\n",
      "-105.91059902187042\n",
      "14.165336707560495\n",
      "(72, 53, 86, 1)\n",
      "[0 1 2 3 1 1 3 2 1 3 1 3 2 0 1 1 1 1 0 0 3 1 0 2 2 1 3 1 1 3 0 1 2 0 0 2 1\n",
      " 3 1 1 2 1 1 1 0 0 1 0 1 0 1 1 1 0 2 2 1 0 1 0 0 3 2 0 2 1 2 1 3 2 1 0]\n",
      "------------------------------------------------------------------------\n",
      "Training regression model 2-7-3-12-0.3-1 with transfer learning\n",
      "dict_keys(['loss', 'mae', 'val_loss', 'val_mae'])\n",
      "3/3 [==============================] - 0s 3ms/step\n",
      "accuracy4 = 0.7361111111111112\n",
      "accuracy3 = 0.8472222222222222\n"
     ]
    },
    {
     "name": "stderr",
     "output_type": "stream",
     "text": [
      "WARNING:absl:Found untraced functions such as _jit_compiled_convolution_op, _jit_compiled_convolution_op, _jit_compiled_convolution_op, _jit_compiled_convolution_op, _jit_compiled_convolution_op while saving (showing 5 of 6). These functions will not be directly callable after loading.\n"
     ]
    },
    {
     "name": "stdout",
     "output_type": "stream",
     "text": [
      "INFO:tensorflow:Assets written to: models/experiment_regression_test_12_71/fraction_3/n_epoch_300/2-7-3-12-0.3-1/fold_1\\assets\n"
     ]
    },
    {
     "name": "stderr",
     "output_type": "stream",
     "text": [
      "INFO:tensorflow:Assets written to: models/experiment_regression_test_12_71/fraction_3/n_epoch_300/2-7-3-12-0.3-1/fold_1\\assets\n"
     ]
    },
    {
     "name": "stdout",
     "output_type": "stream",
     "text": [
      "----------------------------------------------------------------------------\n",
      "RND STATE NUMBER = 5\n",
      "----------------------------------------------------------------------------\n",
      "-105.13078369910245\n",
      "14.284040640616656\n",
      "(406, 53, 86, 1)\n",
      "0.26354679802955666\n",
      "0.4014778325123153\n",
      "0.22660098522167488\n",
      "0.10837438423645321\n",
      "336    0\n",
      "376    2\n",
      "138    2\n",
      "306    1\n",
      "33     2\n",
      "      ..\n",
      "400    1\n",
      "118    2\n",
      "189    0\n",
      "206    1\n",
      "355    1\n",
      "Name: occupants, Length: 406, dtype: int64\n",
      "-106.0852294978813\n",
      "14.28814514817273\n",
      "(72, 53, 86, 1)\n",
      "[0 3 1 3 1 0 3 1 0 1 2 1 0 0 2 2 3 0 0 2 1 0 2 1 1 2 2 0 1 3 1 2 0 1 2 1 0\n",
      " 2 1 1 1 1 2 3 1 1 3 0 2 1 1 2 1 1 0 1 3 1 0 1 3 1 1 0 1 1 3 1 0 1 2 0]\n",
      "------------------------------------------------------------------------\n",
      "Training regression model 2-7-3-12-0.3-1 with transfer learning\n",
      "dict_keys(['loss', 'mae', 'val_loss', 'val_mae'])\n",
      "3/3 [==============================] - 0s 3ms/step\n",
      "accuracy4 = 0.6944444444444444\n",
      "accuracy3 = 0.7638888888888888\n"
     ]
    },
    {
     "name": "stderr",
     "output_type": "stream",
     "text": [
      "WARNING:absl:Found untraced functions such as _jit_compiled_convolution_op, _jit_compiled_convolution_op, _jit_compiled_convolution_op, _jit_compiled_convolution_op, _jit_compiled_convolution_op while saving (showing 5 of 6). These functions will not be directly callable after loading.\n"
     ]
    },
    {
     "name": "stdout",
     "output_type": "stream",
     "text": [
      "INFO:tensorflow:Assets written to: models/experiment_regression_test_12_71/fraction_3/n_epoch_300/2-7-3-12-0.3-1/fold_1\\assets\n"
     ]
    },
    {
     "name": "stderr",
     "output_type": "stream",
     "text": [
      "INFO:tensorflow:Assets written to: models/experiment_regression_test_12_71/fraction_3/n_epoch_300/2-7-3-12-0.3-1/fold_1\\assets\n"
     ]
    },
    {
     "name": "stdout",
     "output_type": "stream",
     "text": [
      "----------------------------------------------------------------------------\n",
      "RND STATE NUMBER = 6\n",
      "----------------------------------------------------------------------------\n",
      "-105.19225707627642\n",
      "14.343557626351364\n",
      "(406, 53, 86, 1)\n",
      "0.26354679802955666\n",
      "0.39408866995073893\n",
      "0.22167487684729065\n",
      "0.1206896551724138\n",
      "449    1\n",
      "434    1\n",
      "253    1\n",
      "69     3\n",
      "351    1\n",
      "      ..\n",
      "106    1\n",
      "468    0\n",
      "227    1\n",
      "201    1\n",
      "394    0\n",
      "Name: occupants, Length: 406, dtype: int64\n",
      "-105.73858795437299\n",
      "13.966517981384024\n",
      "(72, 53, 86, 1)\n",
      "[1 1 0 2 1 0 0 0 1 1 3 3 0 2 2 1 1 1 1 1 0 2 1 2 1 0 2 1 2 1 3 2 2 1 1 0 1\n",
      " 2 1 1 1 2 1 0 0 1 0 3 1 1 0 2 1 1 0 3 1 0 2 0 2 2 1 1 1 1 1 1 1 0 0 2]\n",
      "------------------------------------------------------------------------\n",
      "Training regression model 2-7-3-12-0.3-1 with transfer learning\n",
      "dict_keys(['loss', 'mae', 'val_loss', 'val_mae'])\n",
      "3/3 [==============================] - 0s 3ms/step\n",
      "accuracy4 = 0.8472222222222222\n",
      "accuracy3 = 0.875\n"
     ]
    },
    {
     "name": "stderr",
     "output_type": "stream",
     "text": [
      "WARNING:absl:Found untraced functions such as _jit_compiled_convolution_op, _jit_compiled_convolution_op, _jit_compiled_convolution_op, _jit_compiled_convolution_op, _jit_compiled_convolution_op while saving (showing 5 of 6). These functions will not be directly callable after loading.\n"
     ]
    },
    {
     "name": "stdout",
     "output_type": "stream",
     "text": [
      "INFO:tensorflow:Assets written to: models/experiment_regression_test_12_71/fraction_3/n_epoch_300/2-7-3-12-0.3-1/fold_1\\assets\n"
     ]
    },
    {
     "name": "stderr",
     "output_type": "stream",
     "text": [
      "INFO:tensorflow:Assets written to: models/experiment_regression_test_12_71/fraction_3/n_epoch_300/2-7-3-12-0.3-1/fold_1\\assets\n"
     ]
    },
    {
     "name": "stdout",
     "output_type": "stream",
     "text": [
      "----------------------------------------------------------------------------\n",
      "RND STATE NUMBER = 7\n",
      "----------------------------------------------------------------------------\n",
      "-105.25358477457378\n",
      "14.282063946559974\n",
      "(406, 53, 86, 1)\n",
      "0.2660098522167488\n",
      "0.39655172413793105\n",
      "0.22167487684729065\n",
      "0.11576354679802955\n",
      "253    1\n",
      "443    0\n",
      "213    0\n",
      "440    2\n",
      "347    2\n",
      "      ..\n",
      "211    1\n",
      "67     3\n",
      "25     2\n",
      "196    1\n",
      "175    0\n",
      "Name: occupants, Length: 406, dtype: int64\n",
      "-105.39276787786295\n",
      "14.325738928559357\n",
      "(72, 53, 86, 1)\n",
      "[2 1 2 1 3 2 1 2 1 0 3 1 2 1 2 2 3 0 0 1 1 1 1 2 0 1 0 1 0 1 1 1 0 1 1 1 3\n",
      " 0 0 1 2 1 1 3 1 1 1 2 0 1 0 1 2 2 3 1 0 1 2 0 0 1 1 2 3 0 2 1 0 1 1 2]\n",
      "------------------------------------------------------------------------\n",
      "Training regression model 2-7-3-12-0.3-1 with transfer learning\n",
      "dict_keys(['loss', 'mae', 'val_loss', 'val_mae'])\n",
      "3/3 [==============================] - 0s 4ms/step\n",
      "accuracy4 = 0.7638888888888888\n",
      "accuracy3 = 0.8472222222222222\n"
     ]
    },
    {
     "name": "stderr",
     "output_type": "stream",
     "text": [
      "WARNING:absl:Found untraced functions such as _jit_compiled_convolution_op, _jit_compiled_convolution_op, _jit_compiled_convolution_op, _jit_compiled_convolution_op, _jit_compiled_convolution_op while saving (showing 5 of 6). These functions will not be directly callable after loading.\n"
     ]
    },
    {
     "name": "stdout",
     "output_type": "stream",
     "text": [
      "INFO:tensorflow:Assets written to: models/experiment_regression_test_12_71/fraction_3/n_epoch_300/2-7-3-12-0.3-1/fold_1\\assets\n"
     ]
    },
    {
     "name": "stderr",
     "output_type": "stream",
     "text": [
      "INFO:tensorflow:Assets written to: models/experiment_regression_test_12_71/fraction_3/n_epoch_300/2-7-3-12-0.3-1/fold_1\\assets\n"
     ]
    },
    {
     "name": "stdout",
     "output_type": "stream",
     "text": [
      "----------------------------------------------------------------------------\n",
      "RND STATE NUMBER = 8\n",
      "----------------------------------------------------------------------------\n",
      "-105.14495844460083\n",
      "14.393334521122636\n",
      "(406, 53, 86, 1)\n",
      "0.2660098522167488\n",
      "0.4014778325123153\n",
      "0.229064039408867\n",
      "0.10344827586206896\n",
      "59     3\n",
      "350    1\n",
      "185    1\n",
      "295    2\n",
      "4      2\n",
      "      ..\n",
      "136    2\n",
      "133    3\n",
      "361    2\n",
      "340    2\n",
      "451    1\n",
      "Name: occupants, Length: 406, dtype: int64\n",
      "-106.00529968298801\n",
      "13.660980725273314\n",
      "(72, 53, 86, 1)\n",
      "[1 1 3 1 0 2 3 1 1 0 1 1 1 1 0 3 2 0 0 1 0 0 3 2 1 1 1 3 0 1 2 1 0 1 1 3 3\n",
      " 2 1 2 1 2 1 3 1 2 1 1 0 0 1 2 0 2 0 1 0 2 3 3 1 1 0 2 1 3 1 0 1 1 3 2]\n",
      "------------------------------------------------------------------------\n",
      "Training regression model 2-7-3-12-0.3-1 with transfer learning\n",
      "dict_keys(['loss', 'mae', 'val_loss', 'val_mae'])\n",
      "3/3 [==============================] - 0s 4ms/step\n",
      "accuracy4 = 0.7916666666666666\n",
      "accuracy3 = 0.875\n"
     ]
    },
    {
     "name": "stderr",
     "output_type": "stream",
     "text": [
      "WARNING:absl:Found untraced functions such as _jit_compiled_convolution_op, _jit_compiled_convolution_op, _jit_compiled_convolution_op, _jit_compiled_convolution_op, _jit_compiled_convolution_op while saving (showing 5 of 6). These functions will not be directly callable after loading.\n"
     ]
    },
    {
     "name": "stdout",
     "output_type": "stream",
     "text": [
      "INFO:tensorflow:Assets written to: models/experiment_regression_test_12_71/fraction_3/n_epoch_300/2-7-3-12-0.3-1/fold_1\\assets\n"
     ]
    },
    {
     "name": "stderr",
     "output_type": "stream",
     "text": [
      "INFO:tensorflow:Assets written to: models/experiment_regression_test_12_71/fraction_3/n_epoch_300/2-7-3-12-0.3-1/fold_1\\assets\n"
     ]
    },
    {
     "name": "stdout",
     "output_type": "stream",
     "text": [
      "----------------------------------------------------------------------------\n",
      "RND STATE NUMBER = 9\n",
      "----------------------------------------------------------------------------\n",
      "-105.0820575757803\n",
      "14.28553967373971\n",
      "(406, 53, 86, 1)\n",
      "0.2536945812807882\n",
      "0.4014778325123153\n",
      "0.21921182266009853\n",
      "0.12561576354679804\n",
      "345    1\n",
      "375    0\n",
      "80     3\n",
      "196    1\n",
      "282    2\n",
      "      ..\n",
      "56     1\n",
      "438    0\n",
      "126    3\n",
      "348    1\n",
      "382    0\n",
      "Name: occupants, Length: 406, dtype: int64\n",
      "-106.35999069328125\n",
      "14.258198533008281\n",
      "(72, 53, 86, 1)\n",
      "[1 0 0 0 0 2 2 2 1 1 3 1 1 1 2 1 1 2 1 1 1 1 2 0 0 2 1 2 2 1 1 1 0 0 0 2 1\n",
      " 1 2 1 0 1 1 1 2 1 1 2 0 2 0 2 1 0 1 0 2 1 0 1 0 0 3 1 0 2 1 0 0 1 0 3]\n",
      "------------------------------------------------------------------------\n",
      "Training regression model 2-7-3-12-0.3-1 with transfer learning\n",
      "dict_keys(['loss', 'mae', 'val_loss', 'val_mae'])\n",
      "3/3 [==============================] - 0s 4ms/step\n",
      "accuracy4 = 0.7777777777777778\n",
      "accuracy3 = 0.8055555555555556\n"
     ]
    },
    {
     "name": "stderr",
     "output_type": "stream",
     "text": [
      "WARNING:absl:Found untraced functions such as _jit_compiled_convolution_op, _jit_compiled_convolution_op, _jit_compiled_convolution_op, _jit_compiled_convolution_op, _jit_compiled_convolution_op while saving (showing 5 of 6). These functions will not be directly callable after loading.\n"
     ]
    },
    {
     "name": "stdout",
     "output_type": "stream",
     "text": [
      "INFO:tensorflow:Assets written to: models/experiment_regression_test_12_71/fraction_3/n_epoch_300/2-7-3-12-0.3-1/fold_1\\assets\n"
     ]
    },
    {
     "name": "stderr",
     "output_type": "stream",
     "text": [
      "INFO:tensorflow:Assets written to: models/experiment_regression_test_12_71/fraction_3/n_epoch_300/2-7-3-12-0.3-1/fold_1\\assets\n"
     ]
    },
    {
     "name": "stdout",
     "output_type": "stream",
     "text": [
      "----------------------------------------------------------------------------\n",
      "RND STATE NUMBER = 10\n",
      "----------------------------------------------------------------------------\n",
      "-105.1863291356315\n",
      "14.331531090911533\n",
      "(406, 53, 86, 1)\n",
      "0.2561576354679803\n",
      "0.39901477832512317\n",
      "0.2315270935960591\n",
      "0.11330049261083744\n",
      "10     2\n",
      "264    1\n",
      "151    0\n",
      "164    2\n",
      "329    1\n",
      "      ..\n",
      "369    1\n",
      "320    0\n",
      "15     3\n",
      "125    2\n",
      "265    1\n",
      "Name: occupants, Length: 406, dtype: int64\n",
      "-105.77201495300956\n",
      "14.03461516888005\n",
      "(72, 53, 86, 1)\n",
      "[2 1 0 1 3 1 2 1 2 0 1 0 1 1 1 1 1 1 1 0 2 0 1 0 2 3 1 0 3 0 1 3 1 2 2 0 2\n",
      " 0 1 0 0 1 3 1 1 2 0 1 0 0 1 3 1 0 2 1 0 2 3 0 1 1 1 1 0 1 1 1 0 3 1 2]\n",
      "------------------------------------------------------------------------\n",
      "Training regression model 2-7-3-12-0.3-1 with transfer learning\n",
      "dict_keys(['loss', 'mae', 'val_loss', 'val_mae'])\n",
      "3/3 [==============================] - 0s 3ms/step\n",
      "accuracy4 = 0.8055555555555556\n",
      "accuracy3 = 0.875\n"
     ]
    },
    {
     "name": "stderr",
     "output_type": "stream",
     "text": [
      "WARNING:absl:Found untraced functions such as _jit_compiled_convolution_op, _jit_compiled_convolution_op, _jit_compiled_convolution_op, _jit_compiled_convolution_op, _jit_compiled_convolution_op while saving (showing 5 of 6). These functions will not be directly callable after loading.\n"
     ]
    },
    {
     "name": "stdout",
     "output_type": "stream",
     "text": [
      "INFO:tensorflow:Assets written to: models/experiment_regression_test_12_71/fraction_3/n_epoch_300/2-7-3-12-0.3-1/fold_1\\assets\n"
     ]
    },
    {
     "name": "stderr",
     "output_type": "stream",
     "text": [
      "INFO:tensorflow:Assets written to: models/experiment_regression_test_12_71/fraction_3/n_epoch_300/2-7-3-12-0.3-1/fold_1\\assets\n"
     ]
    },
    {
     "name": "stdout",
     "output_type": "stream",
     "text": [
      "----------------------------------------------------------------------------\n",
      "RND STATE NUMBER = 11\n",
      "----------------------------------------------------------------------------\n",
      "-105.26588475216813\n",
      "14.321195134888676\n",
      "(406, 53, 86, 1)\n",
      "0.25862068965517243\n",
      "0.39655172413793105\n",
      "0.22167487684729065\n",
      "0.12315270935960591\n",
      "218    0\n",
      "351    1\n",
      "398    0\n",
      "403    1\n",
      "369    1\n",
      "      ..\n",
      "337    1\n",
      "91     1\n",
      "80     3\n",
      "191    1\n",
      "409    1\n",
      "Name: occupants, Length: 406, dtype: int64\n",
      "-105.32340967087217\n",
      "14.10421732418096\n",
      "(72, 53, 86, 1)\n",
      "[2 1 0 0 1 0 2 1 0 1 3 1 2 1 1 1 0 1 1 1 3 1 0 2 1 1 0 0 1 3 1 1 2 3 1 1 1\n",
      " 2 0 0 1 0 2 1 0 1 2 1 2 0 1 1 2 0 0 1 1 1 2 2 0 0 2 0 1 2 2 1 0 1 2 1]\n",
      "------------------------------------------------------------------------\n",
      "Training regression model 2-7-3-12-0.3-1 with transfer learning\n",
      "dict_keys(['loss', 'mae', 'val_loss', 'val_mae'])\n",
      "3/3 [==============================] - 0s 4ms/step\n",
      "accuracy4 = 0.8333333333333334\n",
      "accuracy3 = 0.875\n"
     ]
    },
    {
     "name": "stderr",
     "output_type": "stream",
     "text": [
      "WARNING:absl:Found untraced functions such as _jit_compiled_convolution_op, _jit_compiled_convolution_op, _jit_compiled_convolution_op, _jit_compiled_convolution_op, _jit_compiled_convolution_op while saving (showing 5 of 6). These functions will not be directly callable after loading.\n"
     ]
    },
    {
     "name": "stdout",
     "output_type": "stream",
     "text": [
      "INFO:tensorflow:Assets written to: models/experiment_regression_test_12_71/fraction_3/n_epoch_300/2-7-3-12-0.3-1/fold_1\\assets\n"
     ]
    },
    {
     "name": "stderr",
     "output_type": "stream",
     "text": [
      "INFO:tensorflow:Assets written to: models/experiment_regression_test_12_71/fraction_3/n_epoch_300/2-7-3-12-0.3-1/fold_1\\assets\n"
     ]
    },
    {
     "name": "stdout",
     "output_type": "stream",
     "text": [
      "----------------------------------------------------------------------------\n",
      "RND STATE NUMBER = 12\n",
      "----------------------------------------------------------------------------\n",
      "-105.11584779449103\n",
      "14.317767523848572\n",
      "(406, 53, 86, 1)\n",
      "0.270935960591133\n",
      "0.3916256157635468\n",
      "0.22413793103448276\n",
      "0.11330049261083744\n",
      "385    2\n",
      "255    0\n",
      "314    2\n",
      "268    0\n",
      "470    3\n",
      "      ..\n",
      "241    1\n",
      "253    1\n",
      "390    1\n",
      "155    0\n",
      "331    1\n",
      "Name: occupants, Length: 406, dtype: int64\n",
      "-106.16945140444018\n",
      "14.09050803688582\n",
      "(72, 53, 86, 1)\n",
      "[2 1 1 2 1 1 0 1 1 1 0 0 1 1 2 0 3 1 3 2 3 0 2 1 0 1 1 1 2 1 1 2 3 1 3 2 1\n",
      " 1 1 0 1 1 1 1 1 0 1 1 2 2 1 0 1 1 2 3 3 0 0 1 2 1 2 2 0 2 0 1 3 1 0 1]\n",
      "------------------------------------------------------------------------\n",
      "Training regression model 2-7-3-12-0.3-1 with transfer learning\n",
      "dict_keys(['loss', 'mae', 'val_loss', 'val_mae'])\n",
      "3/3 [==============================] - 0s 4ms/step\n",
      "accuracy4 = 0.75\n",
      "accuracy3 = 0.8055555555555556\n"
     ]
    },
    {
     "name": "stderr",
     "output_type": "stream",
     "text": [
      "WARNING:absl:Found untraced functions such as _jit_compiled_convolution_op, _jit_compiled_convolution_op, _jit_compiled_convolution_op, _jit_compiled_convolution_op, _jit_compiled_convolution_op while saving (showing 5 of 6). These functions will not be directly callable after loading.\n"
     ]
    },
    {
     "name": "stdout",
     "output_type": "stream",
     "text": [
      "INFO:tensorflow:Assets written to: models/experiment_regression_test_12_71/fraction_3/n_epoch_300/2-7-3-12-0.3-1/fold_1\\assets\n"
     ]
    },
    {
     "name": "stderr",
     "output_type": "stream",
     "text": [
      "INFO:tensorflow:Assets written to: models/experiment_regression_test_12_71/fraction_3/n_epoch_300/2-7-3-12-0.3-1/fold_1\\assets\n"
     ]
    },
    {
     "name": "stdout",
     "output_type": "stream",
     "text": [
      "----------------------------------------------------------------------------\n",
      "RND STATE NUMBER = 13\n",
      "----------------------------------------------------------------------------\n",
      "-105.11066118975579\n",
      "14.351076738000412\n",
      "(406, 53, 86, 1)\n",
      "0.2684729064039409\n",
      "0.3916256157635468\n",
      "0.229064039408867\n",
      "0.11083743842364532\n",
      "157    1\n",
      "30     2\n",
      "69     3\n",
      "408    1\n",
      "336    0\n",
      "      ..\n",
      "230    1\n",
      "16     1\n",
      "74     2\n",
      "176    1\n",
      "338    2\n",
      "Name: occupants, Length: 406, dtype: int64\n",
      "-106.19869809225328\n",
      "13.895862659478029\n",
      "(72, 53, 86, 1)\n",
      "[1 2 1 3 0 1 1 0 3 1 1 0 1 1 2 3 2 1 3 3 1 1 1 3 1 0 2 1 0 2 1 2 1 1 0 3 2\n",
      " 1 2 2 1 1 2 1 0 2 1 2 1 1 1 1 0 1 0 0 1 0 0 1 1 0 0 1 0 1 1 3 3 1 2 1]\n",
      "------------------------------------------------------------------------\n",
      "Training regression model 2-7-3-12-0.3-1 with transfer learning\n",
      "dict_keys(['loss', 'mae', 'val_loss', 'val_mae'])\n",
      "3/3 [==============================] - 0s 4ms/step\n",
      "accuracy4 = 0.75\n",
      "accuracy3 = 0.8472222222222222\n"
     ]
    },
    {
     "name": "stderr",
     "output_type": "stream",
     "text": [
      "WARNING:absl:Found untraced functions such as _jit_compiled_convolution_op, _jit_compiled_convolution_op, _jit_compiled_convolution_op, _jit_compiled_convolution_op, _jit_compiled_convolution_op while saving (showing 5 of 6). These functions will not be directly callable after loading.\n"
     ]
    },
    {
     "name": "stdout",
     "output_type": "stream",
     "text": [
      "INFO:tensorflow:Assets written to: models/experiment_regression_test_12_71/fraction_3/n_epoch_300/2-7-3-12-0.3-1/fold_1\\assets\n"
     ]
    },
    {
     "name": "stderr",
     "output_type": "stream",
     "text": [
      "INFO:tensorflow:Assets written to: models/experiment_regression_test_12_71/fraction_3/n_epoch_300/2-7-3-12-0.3-1/fold_1\\assets\n"
     ]
    },
    {
     "name": "stdout",
     "output_type": "stream",
     "text": [
      "----------------------------------------------------------------------------\n",
      "RND STATE NUMBER = 14\n",
      "----------------------------------------------------------------------------\n",
      "-105.3749139659847\n",
      "14.344321980236723\n",
      "(406, 53, 86, 1)\n",
      "0.26108374384236455\n",
      "0.41625615763546797\n",
      "0.20689655172413793\n",
      "0.11576354679802955\n",
      "347    2\n",
      "189    0\n",
      "287    1\n",
      "117    2\n",
      "160    2\n",
      "      ..\n",
      "327    0\n",
      "406    0\n",
      "268    0\n",
      "344    1\n",
      "107    2\n",
      "Name: occupants, Length: 406, dtype: int64\n",
      "-104.70860604851794\n",
      "13.95766465152831\n",
      "(72, 53, 86, 1)\n",
      "[2 2 0 3 2 2 2 1 0 1 0 1 1 1 1 0 2 2 1 0 0 1 1 1 0 2 1 2 0 1 0 1 2 0 0 0 1\n",
      " 0 3 2 3 1 1 3 1 0 1 0 1 2 2 3 2 2 1 2 0 2 2 2 0 1 3 3 2 2 0 1 1 1 1 2]\n",
      "------------------------------------------------------------------------\n",
      "Training regression model 2-7-3-12-0.3-1 with transfer learning\n",
      "dict_keys(['loss', 'mae', 'val_loss', 'val_mae'])\n",
      "3/3 [==============================] - 0s 4ms/step\n",
      "accuracy4 = 0.75\n",
      "accuracy3 = 0.8333333333333334\n"
     ]
    },
    {
     "name": "stderr",
     "output_type": "stream",
     "text": [
      "WARNING:absl:Found untraced functions such as _jit_compiled_convolution_op, _jit_compiled_convolution_op, _jit_compiled_convolution_op, _jit_compiled_convolution_op, _jit_compiled_convolution_op while saving (showing 5 of 6). These functions will not be directly callable after loading.\n"
     ]
    },
    {
     "name": "stdout",
     "output_type": "stream",
     "text": [
      "INFO:tensorflow:Assets written to: models/experiment_regression_test_12_71/fraction_3/n_epoch_300/2-7-3-12-0.3-1/fold_1\\assets\n"
     ]
    },
    {
     "name": "stderr",
     "output_type": "stream",
     "text": [
      "INFO:tensorflow:Assets written to: models/experiment_regression_test_12_71/fraction_3/n_epoch_300/2-7-3-12-0.3-1/fold_1\\assets\n"
     ]
    },
    {
     "name": "stdout",
     "output_type": "stream",
     "text": [
      "----------------------------------------------------------------------------\n",
      "RND STATE NUMBER = 15\n",
      "----------------------------------------------------------------------------\n",
      "-105.15936934591352\n",
      "14.314608105159294\n",
      "(406, 53, 86, 1)\n",
      "0.2512315270935961\n",
      "0.4187192118226601\n",
      "0.21428571428571427\n",
      "0.11576354679802955\n",
      "477    0\n",
      "73     3\n",
      "341    1\n",
      "428    1\n",
      "149    0\n",
      "      ..\n",
      "375    0\n",
      "133    3\n",
      "396    2\n",
      "245    1\n",
      "456    1\n",
      "Name: occupants, Length: 406, dtype: int64\n",
      "-105.92403821169668\n",
      "14.12440257340646\n",
      "(72, 53, 86, 1)\n",
      "[1 1 1 1 0 2 1 0 2 0 0 1 3 0 1 0 0 1 0 2 3 2 0 2 1 1 1 2 2 3 3 3 0 0 0 1 1\n",
      " 2 2 3 2 2 0 2 1 0 1 1 1 2 2 0 0 1 1 1 0 2 0 1 3 2 0 1 0 2 2 0 2 0 1 1]\n",
      "------------------------------------------------------------------------\n",
      "Training regression model 2-7-3-12-0.3-1 with transfer learning\n",
      "dict_keys(['loss', 'mae', 'val_loss', 'val_mae'])\n",
      "3/3 [==============================] - 0s 4ms/step\n",
      "accuracy4 = 0.8055555555555556\n",
      "accuracy3 = 0.8611111111111112\n"
     ]
    },
    {
     "name": "stderr",
     "output_type": "stream",
     "text": [
      "WARNING:absl:Found untraced functions such as _jit_compiled_convolution_op, _jit_compiled_convolution_op, _jit_compiled_convolution_op, _jit_compiled_convolution_op, _jit_compiled_convolution_op while saving (showing 5 of 6). These functions will not be directly callable after loading.\n"
     ]
    },
    {
     "name": "stdout",
     "output_type": "stream",
     "text": [
      "INFO:tensorflow:Assets written to: models/experiment_regression_test_12_71/fraction_3/n_epoch_300/2-7-3-12-0.3-1/fold_1\\assets\n"
     ]
    },
    {
     "name": "stderr",
     "output_type": "stream",
     "text": [
      "INFO:tensorflow:Assets written to: models/experiment_regression_test_12_71/fraction_3/n_epoch_300/2-7-3-12-0.3-1/fold_1\\assets\n"
     ]
    },
    {
     "name": "stdout",
     "output_type": "stream",
     "text": [
      "----------------------------------------------------------------------------\n",
      "RND STATE NUMBER = 16\n",
      "----------------------------------------------------------------------------\n",
      "-105.17522725826238\n",
      "14.400600706852792\n",
      "(406, 53, 86, 1)\n",
      "0.26108374384236455\n",
      "0.4187192118226601\n",
      "0.2019704433497537\n",
      "0.11822660098522167\n",
      "434    1\n",
      "426    2\n",
      "304    0\n",
      "70     2\n",
      "374    1\n",
      "      ..\n",
      "321    1\n",
      "69     3\n",
      "121    2\n",
      "238    1\n",
      "169    1\n",
      "Name: occupants, Length: 406, dtype: int64\n",
      "-105.8346172059519\n",
      "13.627252319898634\n",
      "(72, 53, 86, 1)\n",
      "[2 0 1 1 3 3 2 1 0 0 1 1 0 2 3 2 2 1 2 1 1 0 0 1 1 0 0 2 0 1 1 1 2 1 1 2 2\n",
      " 2 1 1 0 1 2 2 2 1 3 0 0 1 2 0 2 2 0 2 0 2 3 1 2 0 0 2 3 1 1 2 1 0 2 2]\n",
      "------------------------------------------------------------------------\n",
      "Training regression model 2-7-3-12-0.3-1 with transfer learning\n",
      "dict_keys(['loss', 'mae', 'val_loss', 'val_mae'])\n",
      "3/3 [==============================] - 0s 4ms/step\n",
      "accuracy4 = 0.7916666666666666\n",
      "accuracy3 = 0.875\n"
     ]
    },
    {
     "name": "stderr",
     "output_type": "stream",
     "text": [
      "WARNING:absl:Found untraced functions such as _jit_compiled_convolution_op, _jit_compiled_convolution_op, _jit_compiled_convolution_op, _jit_compiled_convolution_op, _jit_compiled_convolution_op while saving (showing 5 of 6). These functions will not be directly callable after loading.\n"
     ]
    },
    {
     "name": "stdout",
     "output_type": "stream",
     "text": [
      "INFO:tensorflow:Assets written to: models/experiment_regression_test_12_71/fraction_3/n_epoch_300/2-7-3-12-0.3-1/fold_1\\assets\n"
     ]
    },
    {
     "name": "stderr",
     "output_type": "stream",
     "text": [
      "INFO:tensorflow:Assets written to: models/experiment_regression_test_12_71/fraction_3/n_epoch_300/2-7-3-12-0.3-1/fold_1\\assets\n"
     ]
    },
    {
     "name": "stdout",
     "output_type": "stream",
     "text": [
      "----------------------------------------------------------------------------\n",
      "RND STATE NUMBER = 17\n",
      "----------------------------------------------------------------------------\n",
      "-105.18605412194394\n",
      "14.237257155227946\n",
      "(406, 53, 86, 1)\n",
      "0.2561576354679803\n",
      "0.4088669950738916\n",
      "0.22167487684729065\n",
      "0.11330049261083744\n",
      "287    1\n",
      "453    1\n",
      "333    2\n",
      "412    1\n",
      "435    1\n",
      "      ..\n",
      "406    0\n",
      "390    1\n",
      "143    1\n",
      "241    1\n",
      "111    2\n",
      "Name: occupants, Length: 406, dtype: int64\n",
      "-105.77356572463617\n",
      "14.565568252097401\n",
      "(72, 53, 86, 1)\n",
      "[2 1 2 3 3 0 2 1 0 1 0 1 0 0 1 1 0 1 3 1 0 1 1 2 1 0 1 3 0 0 1 0 1 1 2 0 2\n",
      " 3 0 0 2 0 1 2 0 1 2 3 1 1 1 2 3 2 1 1 2 1 0 0 1 1 3 1 2 0 2 2 1 1 0 2]\n",
      "------------------------------------------------------------------------\n",
      "Training regression model 2-7-3-12-0.3-1 with transfer learning\n",
      "dict_keys(['loss', 'mae', 'val_loss', 'val_mae'])\n",
      "3/3 [==============================] - 0s 4ms/step\n",
      "accuracy4 = 0.7916666666666666\n",
      "accuracy3 = 0.875\n"
     ]
    },
    {
     "name": "stderr",
     "output_type": "stream",
     "text": [
      "WARNING:absl:Found untraced functions such as _jit_compiled_convolution_op, _jit_compiled_convolution_op, _jit_compiled_convolution_op, _jit_compiled_convolution_op, _jit_compiled_convolution_op while saving (showing 5 of 6). These functions will not be directly callable after loading.\n"
     ]
    },
    {
     "name": "stdout",
     "output_type": "stream",
     "text": [
      "INFO:tensorflow:Assets written to: models/experiment_regression_test_12_71/fraction_3/n_epoch_300/2-7-3-12-0.3-1/fold_1\\assets\n"
     ]
    },
    {
     "name": "stderr",
     "output_type": "stream",
     "text": [
      "INFO:tensorflow:Assets written to: models/experiment_regression_test_12_71/fraction_3/n_epoch_300/2-7-3-12-0.3-1/fold_1\\assets\n"
     ]
    },
    {
     "name": "stdout",
     "output_type": "stream",
     "text": [
      "----------------------------------------------------------------------------\n",
      "RND STATE NUMBER = 18\n",
      "----------------------------------------------------------------------------\n",
      "-105.27383607453983\n",
      "14.324610307624866\n",
      "(406, 53, 86, 1)\n",
      "0.2512315270935961\n",
      "0.41379310344827586\n",
      "0.21182266009852216\n",
      "0.12315270935960591\n",
      "148    0\n",
      "69     3\n",
      "441    1\n",
      "332    1\n",
      "468    0\n",
      "      ..\n",
      "190    1\n",
      "325    1\n",
      "120    3\n",
      "275    1\n",
      "298    0\n",
      "Name: occupants, Length: 406, dtype: int64\n",
      "-105.27857304749809\n",
      "14.084746477418694\n",
      "(72, 53, 86, 1)\n",
      "[0 1 0 0 1 0 0 2 1 1 1 1 2 1 2 1 0 3 2 0 2 1 1 0 1 2 1 3 0 0 2 2 0 2 1 1 2\n",
      " 0 2 1 0 3 0 0 2 1 1 1 1 1 1 1 0 3 2 1 1 0 2 0 1 2 2 0 0 0 2 0 2 2 2 1]\n",
      "------------------------------------------------------------------------\n",
      "Training regression model 2-7-3-12-0.3-1 with transfer learning\n",
      "dict_keys(['loss', 'mae', 'val_loss', 'val_mae'])\n",
      "3/3 [==============================] - 0s 4ms/step\n",
      "accuracy4 = 0.8472222222222222\n",
      "accuracy3 = 0.9027777777777778\n"
     ]
    },
    {
     "name": "stderr",
     "output_type": "stream",
     "text": [
      "WARNING:absl:Found untraced functions such as _jit_compiled_convolution_op, _jit_compiled_convolution_op, _jit_compiled_convolution_op, _jit_compiled_convolution_op, _jit_compiled_convolution_op while saving (showing 5 of 6). These functions will not be directly callable after loading.\n"
     ]
    },
    {
     "name": "stdout",
     "output_type": "stream",
     "text": [
      "INFO:tensorflow:Assets written to: models/experiment_regression_test_12_71/fraction_3/n_epoch_300/2-7-3-12-0.3-1/fold_1\\assets\n"
     ]
    },
    {
     "name": "stderr",
     "output_type": "stream",
     "text": [
      "INFO:tensorflow:Assets written to: models/experiment_regression_test_12_71/fraction_3/n_epoch_300/2-7-3-12-0.3-1/fold_1\\assets\n"
     ]
    },
    {
     "name": "stdout",
     "output_type": "stream",
     "text": [
      "----------------------------------------------------------------------------\n",
      "RND STATE NUMBER = 19\n",
      "----------------------------------------------------------------------------\n",
      "-105.25873196004304\n",
      "14.312064462006092\n",
      "(406, 53, 86, 1)\n",
      "0.25862068965517243\n",
      "0.4187192118226601\n",
      "0.20935960591133004\n",
      "0.11330049261083744\n",
      "79     3\n",
      "417    0\n",
      "252    1\n",
      "41     2\n",
      "96     1\n",
      "      ..\n",
      "424    0\n",
      "354    1\n",
      "245    1\n",
      "110    1\n",
      "93     3\n",
      "Name: occupants, Length: 406, dtype: int64\n",
      "-105.36374347091105\n",
      "14.1561515587361\n",
      "(72, 53, 86, 1)\n",
      "[1 0 1 0 0 0 2 1 2 1 0 0 1 0 2 2 1 0 3 0 1 0 2 2 3 2 1 3 1 0 1 1 3 2 2 2 0\n",
      " 3 1 1 2 2 2 0 1 1 3 2 1 1 0 2 1 1 0 2 2 0 0 3 1 1 1 0 2 1 3 2 1 0 2 2]\n",
      "------------------------------------------------------------------------\n",
      "Training regression model 2-7-3-12-0.3-1 with transfer learning\n",
      "dict_keys(['loss', 'mae', 'val_loss', 'val_mae'])\n",
      "3/3 [==============================] - 0s 3ms/step\n",
      "accuracy4 = 0.75\n",
      "accuracy3 = 0.8333333333333334\n"
     ]
    },
    {
     "name": "stderr",
     "output_type": "stream",
     "text": [
      "WARNING:absl:Found untraced functions such as _jit_compiled_convolution_op, _jit_compiled_convolution_op, _jit_compiled_convolution_op, _jit_compiled_convolution_op, _jit_compiled_convolution_op while saving (showing 5 of 6). These functions will not be directly callable after loading.\n"
     ]
    },
    {
     "name": "stdout",
     "output_type": "stream",
     "text": [
      "INFO:tensorflow:Assets written to: models/experiment_regression_test_12_71/fraction_3/n_epoch_300/2-7-3-12-0.3-1/fold_1\\assets\n"
     ]
    },
    {
     "name": "stderr",
     "output_type": "stream",
     "text": [
      "INFO:tensorflow:Assets written to: models/experiment_regression_test_12_71/fraction_3/n_epoch_300/2-7-3-12-0.3-1/fold_1\\assets\n"
     ]
    },
    {
     "name": "stdout",
     "output_type": "stream",
     "text": [
      "----------------------------------------------------------------------------\n",
      "RND STATE NUMBER = 20\n",
      "----------------------------------------------------------------------------\n",
      "-105.5600291722606\n",
      "14.225293296095959\n",
      "(406, 53, 86, 1)\n",
      "0.25862068965517243\n",
      "0.4211822660098522\n",
      "0.21182266009852216\n",
      "0.10837438423645321\n",
      "306    1\n",
      "169    1\n",
      "91     1\n",
      "9      3\n",
      "341    1\n",
      "      ..\n",
      "412    1\n",
      "223    1\n",
      "271    1\n",
      "474    1\n",
      "355    1\n",
      "Name: occupants, Length: 406, dtype: int64\n",
      "-103.66476196868429\n",
      "14.536785889278022\n",
      "(72, 53, 86, 1)\n",
      "[2 2 0 1 2 1 2 0 1 1 0 0 2 2 1 0 2 2 2 0 1 2 2 2 1 1 2 0 0 0 2 2 1 1 2 0 0\n",
      " 1 3 1 3 1 2 3 2 3 0 1 1 3 0 0 1 2 3 0 3 1 0 0 2 0 3 1 3 1 1 1 1 0 1 3]\n",
      "------------------------------------------------------------------------\n",
      "Training regression model 2-7-3-12-0.3-1 with transfer learning\n",
      "dict_keys(['loss', 'mae', 'val_loss', 'val_mae'])\n",
      "3/3 [==============================] - 0s 4ms/step\n",
      "accuracy4 = 0.6805555555555556\n",
      "accuracy3 = 0.7638888888888888\n"
     ]
    },
    {
     "name": "stderr",
     "output_type": "stream",
     "text": [
      "WARNING:absl:Found untraced functions such as _jit_compiled_convolution_op, _jit_compiled_convolution_op, _jit_compiled_convolution_op, _jit_compiled_convolution_op, _jit_compiled_convolution_op while saving (showing 5 of 6). These functions will not be directly callable after loading.\n"
     ]
    },
    {
     "name": "stdout",
     "output_type": "stream",
     "text": [
      "INFO:tensorflow:Assets written to: models/experiment_regression_test_12_71/fraction_3/n_epoch_300/2-7-3-12-0.3-1/fold_1\\assets\n"
     ]
    },
    {
     "name": "stderr",
     "output_type": "stream",
     "text": [
      "INFO:tensorflow:Assets written to: models/experiment_regression_test_12_71/fraction_3/n_epoch_300/2-7-3-12-0.3-1/fold_1\\assets\n"
     ]
    },
    {
     "name": "stdout",
     "output_type": "stream",
     "text": [
      "----------------------------------------------------------------------------\n",
      "RND STATE NUMBER = 21\n",
      "----------------------------------------------------------------------------\n",
      "-105.33095425761144\n",
      "14.233973478190203\n",
      "(406, 53, 86, 1)\n",
      "0.2733990147783251\n",
      "0.41133004926108374\n",
      "0.19950738916256158\n",
      "0.11576354679802955\n",
      "392    0\n",
      "464    1\n",
      "140    3\n",
      "96     1\n",
      "311    1\n",
      "      ..\n",
      "48     3\n",
      "260    1\n",
      "312    1\n",
      "207    0\n",
      "457    0\n",
      "Name: occupants, Length: 406, dtype: int64\n",
      "-104.95648995962277\n",
      "14.58962082639537\n",
      "(72, 53, 86, 1)\n",
      "[1 0 2 3 1 0 2 1 3 2 2 2 1 1 2 1 1 1 0 2 2 1 0 1 2 1 2 2 1 0 1 1 2 2 1 1 1\n",
      " 0 2 0 0 2 1 2 2 0 2 2 3 1 2 0 2 3 1 2 3 2 0 1 1 3 2 2 1 0 1 0 3 1 1 1]\n",
      "------------------------------------------------------------------------\n",
      "Training regression model 2-7-3-12-0.3-1 with transfer learning\n",
      "dict_keys(['loss', 'mae', 'val_loss', 'val_mae'])\n",
      "3/3 [==============================] - 0s 4ms/step\n",
      "accuracy4 = 0.8194444444444444\n",
      "accuracy3 = 0.8888888888888888\n"
     ]
    },
    {
     "name": "stderr",
     "output_type": "stream",
     "text": [
      "WARNING:absl:Found untraced functions such as _jit_compiled_convolution_op, _jit_compiled_convolution_op, _jit_compiled_convolution_op, _jit_compiled_convolution_op, _jit_compiled_convolution_op while saving (showing 5 of 6). These functions will not be directly callable after loading.\n"
     ]
    },
    {
     "name": "stdout",
     "output_type": "stream",
     "text": [
      "INFO:tensorflow:Assets written to: models/experiment_regression_test_12_71/fraction_3/n_epoch_300/2-7-3-12-0.3-1/fold_1\\assets\n"
     ]
    },
    {
     "name": "stderr",
     "output_type": "stream",
     "text": [
      "INFO:tensorflow:Assets written to: models/experiment_regression_test_12_71/fraction_3/n_epoch_300/2-7-3-12-0.3-1/fold_1\\assets\n"
     ]
    },
    {
     "name": "stdout",
     "output_type": "stream",
     "text": [
      "----------------------------------------------------------------------------\n",
      "RND STATE NUMBER = 22\n",
      "----------------------------------------------------------------------------\n",
      "-105.08542989659516\n",
      "14.245841612748105\n",
      "(406, 53, 86, 1)\n",
      "0.2561576354679803\n",
      "0.4064039408866995\n",
      "0.22660098522167488\n",
      "0.11083743842364532\n",
      "442    0\n",
      "157    1\n",
      "370    1\n",
      "453    1\n",
      "101    2\n",
      "      ..\n",
      "356    0\n",
      "448    0\n",
      "300    0\n",
      "132    3\n",
      "373    1\n",
      "Name: occupants, Length: 406, dtype: int64\n",
      "-106.34097455090884\n",
      "14.48210055181652\n",
      "(72, 53, 86, 1)\n",
      "[1 1 2 0 1 2 0 0 1 2 1 0 1 1 1 0 2 1 0 2 1 3 3 0 1 1 0 0 3 1 1 2 1 1 1 1 0\n",
      " 2 2 1 2 0 0 2 2 0 1 1 0 3 2 1 1 0 3 0 3 1 3 0 2 0 1 3 0 0 1 1 1 3 1 2]\n",
      "------------------------------------------------------------------------\n",
      "Training regression model 2-7-3-12-0.3-1 with transfer learning\n",
      "dict_keys(['loss', 'mae', 'val_loss', 'val_mae'])\n",
      "3/3 [==============================] - 0s 3ms/step\n",
      "accuracy4 = 0.7361111111111112\n",
      "accuracy3 = 0.8472222222222222\n"
     ]
    },
    {
     "name": "stderr",
     "output_type": "stream",
     "text": [
      "WARNING:absl:Found untraced functions such as _jit_compiled_convolution_op, _jit_compiled_convolution_op, _jit_compiled_convolution_op, _jit_compiled_convolution_op, _jit_compiled_convolution_op while saving (showing 5 of 6). These functions will not be directly callable after loading.\n"
     ]
    },
    {
     "name": "stdout",
     "output_type": "stream",
     "text": [
      "INFO:tensorflow:Assets written to: models/experiment_regression_test_12_71/fraction_3/n_epoch_300/2-7-3-12-0.3-1/fold_1\\assets\n"
     ]
    },
    {
     "name": "stderr",
     "output_type": "stream",
     "text": [
      "INFO:tensorflow:Assets written to: models/experiment_regression_test_12_71/fraction_3/n_epoch_300/2-7-3-12-0.3-1/fold_1\\assets\n"
     ]
    },
    {
     "name": "stdout",
     "output_type": "stream",
     "text": [
      "----------------------------------------------------------------------------\n",
      "RND STATE NUMBER = 23\n",
      "----------------------------------------------------------------------------\n",
      "-105.03558962132763\n",
      "14.294893012489409\n",
      "(406, 53, 86, 1)\n",
      "0.24630541871921183\n",
      "0.4039408866995074\n",
      "0.2315270935960591\n",
      "0.11822660098522167\n",
      "115    2\n",
      "139    3\n",
      "425    1\n",
      "18     2\n",
      "222    0\n",
      "      ..\n",
      "438    0\n",
      "457    0\n",
      "40     2\n",
      "230    1\n",
      "83     2\n",
      "Name: occupants, Length: 406, dtype: int64\n",
      "-106.62201832533411\n",
      "14.178796908190703\n",
      "(72, 53, 86, 1)\n",
      "[1 1 1 1 1 1 1 1 2 3 2 1 3 2 0 2 1 0 0 2 1 0 3 0 1 1 1 2 0 1 0 1 1 1 2 0 1\n",
      " 1 1 2 0 0 0 3 0 2 0 1 0 1 3 1 1 0 1 1 0 0 1 2 0 0 0 0 2 0 1 0 2 0 3 1]\n",
      "------------------------------------------------------------------------\n",
      "Training regression model 2-7-3-12-0.3-1 with transfer learning\n",
      "dict_keys(['loss', 'mae', 'val_loss', 'val_mae'])\n",
      "3/3 [==============================] - 0s 3ms/step\n",
      "accuracy4 = 0.7083333333333334\n",
      "accuracy3 = 0.7638888888888888\n"
     ]
    },
    {
     "name": "stderr",
     "output_type": "stream",
     "text": [
      "WARNING:absl:Found untraced functions such as _jit_compiled_convolution_op, _jit_compiled_convolution_op, _jit_compiled_convolution_op, _jit_compiled_convolution_op, _jit_compiled_convolution_op while saving (showing 5 of 6). These functions will not be directly callable after loading.\n"
     ]
    },
    {
     "name": "stdout",
     "output_type": "stream",
     "text": [
      "INFO:tensorflow:Assets written to: models/experiment_regression_test_12_71/fraction_3/n_epoch_300/2-7-3-12-0.3-1/fold_1\\assets\n"
     ]
    },
    {
     "name": "stderr",
     "output_type": "stream",
     "text": [
      "INFO:tensorflow:Assets written to: models/experiment_regression_test_12_71/fraction_3/n_epoch_300/2-7-3-12-0.3-1/fold_1\\assets\n"
     ]
    },
    {
     "name": "stdout",
     "output_type": "stream",
     "text": [
      "----------------------------------------------------------------------------\n",
      "RND STATE NUMBER = 24\n",
      "----------------------------------------------------------------------------\n",
      "-105.45914260780621\n",
      "14.282079355486399\n",
      "(406, 53, 86, 1)\n",
      "0.2561576354679803\n",
      "0.41379310344827586\n",
      "0.21428571428571427\n",
      "0.11576354679802955\n",
      "285    0\n",
      "135    3\n",
      "251    0\n",
      "104    3\n",
      "152    1\n",
      "      ..\n",
      "401    1\n",
      "343    1\n",
      "192    1\n",
      "387    1\n",
      "418    0\n",
      "Name: occupants, Length: 406, dtype: int64\n",
      "-104.23365009602429\n",
      "14.281636929324044\n",
      "(72, 53, 86, 1)\n",
      "[2 1 1 1 1 1 0 2 0 0 3 2 0 0 1 3 2 0 1 0 2 2 0 3 3 1 2 2 1 2 1 1 1 0 1 1 1\n",
      " 0 2 1 1 3 2 1 0 3 0 0 2 1 1 2 2 2 0 0 2 2 0 1 1 0 1 1 1 1 0 0 2 2 3 0]\n",
      "------------------------------------------------------------------------\n",
      "Training regression model 2-7-3-12-0.3-1 with transfer learning\n",
      "dict_keys(['loss', 'mae', 'val_loss', 'val_mae'])\n",
      "3/3 [==============================] - 0s 4ms/step\n",
      "accuracy4 = 0.7361111111111112\n",
      "accuracy3 = 0.8333333333333334\n"
     ]
    },
    {
     "name": "stderr",
     "output_type": "stream",
     "text": [
      "WARNING:absl:Found untraced functions such as _jit_compiled_convolution_op, _jit_compiled_convolution_op, _jit_compiled_convolution_op, _jit_compiled_convolution_op, _jit_compiled_convolution_op while saving (showing 5 of 6). These functions will not be directly callable after loading.\n"
     ]
    },
    {
     "name": "stdout",
     "output_type": "stream",
     "text": [
      "INFO:tensorflow:Assets written to: models/experiment_regression_test_12_71/fraction_3/n_epoch_300/2-7-3-12-0.3-1/fold_1\\assets\n"
     ]
    },
    {
     "name": "stderr",
     "output_type": "stream",
     "text": [
      "INFO:tensorflow:Assets written to: models/experiment_regression_test_12_71/fraction_3/n_epoch_300/2-7-3-12-0.3-1/fold_1\\assets\n"
     ]
    },
    {
     "name": "stdout",
     "output_type": "stream",
     "text": [
      "----------------------------------------------------------------------------\n",
      "RND STATE NUMBER = 25\n",
      "----------------------------------------------------------------------------\n",
      "-105.22354152291268\n",
      "14.267237556597392\n",
      "(406, 53, 86, 1)\n",
      "0.24876847290640394\n",
      "0.4211822660098522\n",
      "0.2044334975369458\n",
      "0.12561576354679804\n",
      "155    0\n",
      "278    1\n",
      "104    3\n",
      "368    0\n",
      "3      1\n",
      "      ..\n",
      "317    0\n",
      "143    1\n",
      "474    1\n",
      "318    1\n",
      "132    3\n",
      "Name: occupants, Length: 406, dtype: int64\n",
      "-105.56217843584022\n",
      "14.405995083117773\n",
      "(72, 53, 86, 1)\n",
      "[2 1 1 1 0 0 1 0 0 2 1 2 2 2 1 2 2 2 2 2 0 1 0 1 2 1 2 0 0 0 2 1 0 3 1 1 2\n",
      " 0 0 1 2 2 0 0 2 2 2 0 1 3 2 3 1 1 0 0 0 2 0 0 2 1 0 0 1 1 1 2 0 1 1 1]\n",
      "------------------------------------------------------------------------\n",
      "Training regression model 2-7-3-12-0.3-1 with transfer learning\n",
      "dict_keys(['loss', 'mae', 'val_loss', 'val_mae'])\n",
      "3/3 [==============================] - 0s 3ms/step\n",
      "accuracy4 = 0.8055555555555556\n",
      "accuracy3 = 0.8194444444444444\n"
     ]
    },
    {
     "name": "stderr",
     "output_type": "stream",
     "text": [
      "WARNING:absl:Found untraced functions such as _jit_compiled_convolution_op, _jit_compiled_convolution_op, _jit_compiled_convolution_op, _jit_compiled_convolution_op, _jit_compiled_convolution_op while saving (showing 5 of 6). These functions will not be directly callable after loading.\n"
     ]
    },
    {
     "name": "stdout",
     "output_type": "stream",
     "text": [
      "INFO:tensorflow:Assets written to: models/experiment_regression_test_12_71/fraction_3/n_epoch_300/2-7-3-12-0.3-1/fold_1\\assets\n"
     ]
    },
    {
     "name": "stderr",
     "output_type": "stream",
     "text": [
      "INFO:tensorflow:Assets written to: models/experiment_regression_test_12_71/fraction_3/n_epoch_300/2-7-3-12-0.3-1/fold_1\\assets\n"
     ]
    },
    {
     "name": "stdout",
     "output_type": "stream",
     "text": [
      "----------------------------------------------------------------------------\n",
      "RND STATE NUMBER = 26\n",
      "----------------------------------------------------------------------------\n",
      "-105.43896383709665\n",
      "14.366211284667195\n",
      "(406, 53, 86, 1)\n",
      "0.25862068965517243\n",
      "0.41625615763546797\n",
      "0.21674876847290642\n",
      "0.10837438423645321\n",
      "59     3\n",
      "455    1\n",
      "438    0\n",
      "372    0\n",
      "153    1\n",
      "      ..\n",
      "449    1\n",
      "432    0\n",
      "262    1\n",
      "318    1\n",
      "309    1\n",
      "Name: occupants, Length: 406, dtype: int64\n",
      "-104.34743594196976\n",
      "13.807162805503326\n",
      "(72, 53, 86, 1)\n",
      "[1 0 1 0 0 2 1 1 1 0 1 1 3 0 0 2 2 1 1 2 0 2 0 1 2 0 3 0 1 1 2 2 2 0 2 3 2\n",
      " 1 0 0 1 1 1 3 0 3 1 2 3 0 2 2 1 3 1 2 2 1 2 3 1 1 0 3 2 1 3 0 1 1 0 0]\n",
      "------------------------------------------------------------------------\n",
      "Training regression model 2-7-3-12-0.3-1 with transfer learning\n",
      "dict_keys(['loss', 'mae', 'val_loss', 'val_mae'])\n",
      "3/3 [==============================] - 0s 4ms/step\n",
      "accuracy4 = 0.8194444444444444\n",
      "accuracy3 = 0.9027777777777778\n"
     ]
    },
    {
     "name": "stderr",
     "output_type": "stream",
     "text": [
      "WARNING:absl:Found untraced functions such as _jit_compiled_convolution_op, _jit_compiled_convolution_op, _jit_compiled_convolution_op, _jit_compiled_convolution_op, _jit_compiled_convolution_op while saving (showing 5 of 6). These functions will not be directly callable after loading.\n"
     ]
    },
    {
     "name": "stdout",
     "output_type": "stream",
     "text": [
      "INFO:tensorflow:Assets written to: models/experiment_regression_test_12_71/fraction_3/n_epoch_300/2-7-3-12-0.3-1/fold_1\\assets\n"
     ]
    },
    {
     "name": "stderr",
     "output_type": "stream",
     "text": [
      "INFO:tensorflow:Assets written to: models/experiment_regression_test_12_71/fraction_3/n_epoch_300/2-7-3-12-0.3-1/fold_1\\assets\n"
     ]
    },
    {
     "name": "stdout",
     "output_type": "stream",
     "text": [
      "----------------------------------------------------------------------------\n",
      "RND STATE NUMBER = 27\n",
      "----------------------------------------------------------------------------\n",
      "-105.40346936631377\n",
      "14.217134308166495\n",
      "(406, 53, 86, 1)\n",
      "0.26108374384236455\n",
      "0.39901477832512317\n",
      "0.22660098522167488\n",
      "0.11330049261083744\n",
      "228    1\n",
      "247    1\n",
      "231    1\n",
      "393    0\n",
      "183    1\n",
      "      ..\n",
      "312    1\n",
      "31     3\n",
      "328    0\n",
      "184    2\n",
      "19     3\n",
      "Name: occupants, Length: 406, dtype: int64\n",
      "-104.54758531888424\n",
      "14.664770476812464\n",
      "(72, 53, 86, 1)\n",
      "[1 1 3 1 1 1 2 1 0 2 0 0 0 1 2 1 1 1 2 0 1 0 2 2 1 1 0 1 0 0 1 1 1 1 2 0 2\n",
      " 0 2 2 1 3 3 2 3 0 0 0 0 1 3 1 3 0 3 2 1 3 1 1 1 2 1 0 1 1 1 1 1 2 0 1]\n",
      "------------------------------------------------------------------------\n",
      "Training regression model 2-7-3-12-0.3-1 with transfer learning\n",
      "dict_keys(['loss', 'mae', 'val_loss', 'val_mae'])\n",
      "3/3 [==============================] - 0s 4ms/step\n",
      "accuracy4 = 0.7777777777777778\n",
      "accuracy3 = 0.8611111111111112\n"
     ]
    },
    {
     "name": "stderr",
     "output_type": "stream",
     "text": [
      "WARNING:absl:Found untraced functions such as _jit_compiled_convolution_op, _jit_compiled_convolution_op, _jit_compiled_convolution_op, _jit_compiled_convolution_op, _jit_compiled_convolution_op while saving (showing 5 of 6). These functions will not be directly callable after loading.\n"
     ]
    },
    {
     "name": "stdout",
     "output_type": "stream",
     "text": [
      "INFO:tensorflow:Assets written to: models/experiment_regression_test_12_71/fraction_3/n_epoch_300/2-7-3-12-0.3-1/fold_1\\assets\n"
     ]
    },
    {
     "name": "stderr",
     "output_type": "stream",
     "text": [
      "INFO:tensorflow:Assets written to: models/experiment_regression_test_12_71/fraction_3/n_epoch_300/2-7-3-12-0.3-1/fold_1\\assets\n"
     ]
    },
    {
     "name": "stdout",
     "output_type": "stream",
     "text": [
      "----------------------------------------------------------------------------\n",
      "RND STATE NUMBER = 28\n",
      "----------------------------------------------------------------------------\n",
      "-105.42088219520595\n",
      "14.360486771740744\n",
      "(406, 53, 86, 1)\n",
      "0.270935960591133\n",
      "0.41379310344827586\n",
      "0.21182266009852216\n",
      "0.10344827586206896\n",
      "6      2\n",
      "127    2\n",
      "86     3\n",
      "158    1\n",
      "267    1\n",
      "      ..\n",
      "259    1\n",
      "32     2\n",
      "278    1\n",
      "5      3\n",
      "257    2\n",
      "Name: occupants, Length: 406, dtype: int64\n",
      "-104.44939631151973\n",
      "13.84829899682117\n",
      "(72, 53, 86, 1)\n",
      "[3 1 3 0 2 3 2 2 1 1 1 1 2 2 3 0 2 0 0 3 1 1 1 2 0 2 0 2 2 0 1 1 1 2 3 1 3\n",
      " 2 3 2 1 0 1 2 3 1 2 0 1 0 0 1 2 2 0 2 3 1 1 3 2 2 3 1 0 1 1 1 1 1 1 0]\n",
      "------------------------------------------------------------------------\n",
      "Training regression model 2-7-3-12-0.3-1 with transfer learning\n",
      "dict_keys(['loss', 'mae', 'val_loss', 'val_mae'])\n",
      "3/3 [==============================] - 0s 4ms/step\n",
      "accuracy4 = 0.7222222222222222\n",
      "accuracy3 = 0.8472222222222222\n"
     ]
    },
    {
     "name": "stderr",
     "output_type": "stream",
     "text": [
      "WARNING:absl:Found untraced functions such as _jit_compiled_convolution_op, _jit_compiled_convolution_op, _jit_compiled_convolution_op, _jit_compiled_convolution_op, _jit_compiled_convolution_op while saving (showing 5 of 6). These functions will not be directly callable after loading.\n"
     ]
    },
    {
     "name": "stdout",
     "output_type": "stream",
     "text": [
      "INFO:tensorflow:Assets written to: models/experiment_regression_test_12_71/fraction_3/n_epoch_300/2-7-3-12-0.3-1/fold_1\\assets\n"
     ]
    },
    {
     "name": "stderr",
     "output_type": "stream",
     "text": [
      "INFO:tensorflow:Assets written to: models/experiment_regression_test_12_71/fraction_3/n_epoch_300/2-7-3-12-0.3-1/fold_1\\assets\n"
     ]
    },
    {
     "name": "stdout",
     "output_type": "stream",
     "text": [
      "----------------------------------------------------------------------------\n",
      "RND STATE NUMBER = 29\n",
      "----------------------------------------------------------------------------\n",
      "-104.8048788186047\n",
      "14.410136454494005\n",
      "(406, 53, 86, 1)\n",
      "0.2438423645320197\n",
      "0.4187192118226601\n",
      "0.21428571428571427\n",
      "0.12315270935960591\n",
      "165    0\n",
      "56     1\n",
      "419    0\n",
      "283    0\n",
      "255    0\n",
      "      ..\n",
      "296    0\n",
      "34     3\n",
      "236    1\n",
      "371    1\n",
      "469    1\n",
      "Name: occupants, Length: 406, dtype: int64\n",
      "-107.92297090735401\n",
      "13.276449240378252\n",
      "(72, 53, 86, 1)\n",
      "[0 0 1 1 1 1 3 1 0 0 0 0 0 2 3 2 2 2 0 2 2 1 1 3 0 0 1 2 1 1 1 0 0 0 0 2 2\n",
      " 0 3 0 1 2 1 0 2 1 1 0 1 2 2 2 2 0 1 1 2 0 2 0 2 1 1 1 0 0 0 0 1 1 1 2]\n",
      "------------------------------------------------------------------------\n",
      "Training regression model 2-7-3-12-0.3-1 with transfer learning\n",
      "dict_keys(['loss', 'mae', 'val_loss', 'val_mae'])\n",
      "3/3 [==============================] - 0s 4ms/step\n",
      "accuracy4 = 0.7361111111111112\n",
      "accuracy3 = 0.8194444444444444\n"
     ]
    },
    {
     "name": "stderr",
     "output_type": "stream",
     "text": [
      "WARNING:absl:Found untraced functions such as _jit_compiled_convolution_op, _jit_compiled_convolution_op, _jit_compiled_convolution_op, _jit_compiled_convolution_op, _jit_compiled_convolution_op while saving (showing 5 of 6). These functions will not be directly callable after loading.\n"
     ]
    },
    {
     "name": "stdout",
     "output_type": "stream",
     "text": [
      "INFO:tensorflow:Assets written to: models/experiment_regression_test_12_71/fraction_3/n_epoch_300/2-7-3-12-0.3-1/fold_1\\assets\n"
     ]
    },
    {
     "name": "stderr",
     "output_type": "stream",
     "text": [
      "INFO:tensorflow:Assets written to: models/experiment_regression_test_12_71/fraction_3/n_epoch_300/2-7-3-12-0.3-1/fold_1\\assets\n"
     ]
    },
    {
     "name": "stdout",
     "output_type": "stream",
     "text": [
      "----------------------------------------------------------------------------\n",
      "RND STATE NUMBER = 30\n",
      "----------------------------------------------------------------------------\n",
      "-105.24072259693203\n",
      "14.317095468028816\n",
      "(406, 53, 86, 1)\n",
      "0.2512315270935961\n",
      "0.41379310344827586\n",
      "0.22413793103448276\n",
      "0.11083743842364532\n",
      "180    0\n",
      "276    1\n",
      "378    2\n",
      "132    3\n",
      "154    1\n",
      "      ..\n",
      "140    3\n",
      "301    2\n",
      "429    1\n",
      "421    1\n",
      "293    1\n",
      "Name: occupants, Length: 406, dtype: int64\n",
      "-105.46529626845368\n",
      "14.126251020315769\n",
      "(72, 53, 86, 1)\n",
      "[0 2 1 2 0 1 3 2 3 0 0 1 1 0 3 1 0 3 2 0 0 2 1 1 0 1 1 0 0 1 1 2 0 0 0 1 0\n",
      " 3 0 1 1 3 3 2 1 0 2 1 1 1 0 1 1 1 2 2 0 1 2 2 1 2 3 0 2 0 1 3 2 1 0 1]\n",
      "------------------------------------------------------------------------\n",
      "Training regression model 2-7-3-12-0.3-1 with transfer learning\n",
      "dict_keys(['loss', 'mae', 'val_loss', 'val_mae'])\n",
      "3/3 [==============================] - 0s 4ms/step\n",
      "accuracy4 = 0.7222222222222222\n",
      "accuracy3 = 0.8194444444444444\n"
     ]
    },
    {
     "name": "stderr",
     "output_type": "stream",
     "text": [
      "WARNING:absl:Found untraced functions such as _jit_compiled_convolution_op, _jit_compiled_convolution_op, _jit_compiled_convolution_op, _jit_compiled_convolution_op, _jit_compiled_convolution_op while saving (showing 5 of 6). These functions will not be directly callable after loading.\n"
     ]
    },
    {
     "name": "stdout",
     "output_type": "stream",
     "text": [
      "INFO:tensorflow:Assets written to: models/experiment_regression_test_12_71/fraction_3/n_epoch_300/2-7-3-12-0.3-1/fold_1\\assets\n"
     ]
    },
    {
     "name": "stderr",
     "output_type": "stream",
     "text": [
      "INFO:tensorflow:Assets written to: models/experiment_regression_test_12_71/fraction_3/n_epoch_300/2-7-3-12-0.3-1/fold_1\\assets\n"
     ]
    },
    {
     "name": "stdout",
     "output_type": "stream",
     "text": [
      "----------------------------------------------------------------------------\n",
      "RND STATE NUMBER = 31\n",
      "----------------------------------------------------------------------------\n",
      "-105.1933162460467\n",
      "14.426411055881916\n",
      "(406, 53, 86, 1)\n",
      "0.2512315270935961\n",
      "0.41133004926108374\n",
      "0.22167487684729065\n",
      "0.11576354679802955\n",
      "69     3\n",
      "429    1\n",
      "390    1\n",
      "126    3\n",
      "34     3\n",
      "      ..\n",
      "98     1\n",
      "382    0\n",
      "16     1\n",
      "87     2\n",
      "210    1\n",
      "Name: occupants, Length: 406, dtype: int64\n",
      "-105.73261541372344\n",
      "13.476970809805007\n",
      "(72, 53, 86, 1)\n",
      "[2 1 3 1 1 1 1 0 3 0 2 1 0 2 1 2 2 1 2 0 3 0 3 2 0 2 1 3 2 0 0 0 2 1 0 0 0\n",
      " 0 2 1 1 1 1 2 2 1 1 1 2 0 0 0 2 1 3 0 1 1 0 3 1 1 0 1 0 1 1 1 0 1 0 2]\n",
      "------------------------------------------------------------------------\n",
      "Training regression model 2-7-3-12-0.3-1 with transfer learning\n",
      "dict_keys(['loss', 'mae', 'val_loss', 'val_mae'])\n",
      "3/3 [==============================] - 0s 4ms/step\n",
      "accuracy4 = 0.7638888888888888\n",
      "accuracy3 = 0.8194444444444444\n"
     ]
    },
    {
     "name": "stderr",
     "output_type": "stream",
     "text": [
      "WARNING:absl:Found untraced functions such as _jit_compiled_convolution_op, _jit_compiled_convolution_op, _jit_compiled_convolution_op, _jit_compiled_convolution_op, _jit_compiled_convolution_op while saving (showing 5 of 6). These functions will not be directly callable after loading.\n"
     ]
    },
    {
     "name": "stdout",
     "output_type": "stream",
     "text": [
      "INFO:tensorflow:Assets written to: models/experiment_regression_test_12_71/fraction_3/n_epoch_300/2-7-3-12-0.3-1/fold_1\\assets\n"
     ]
    },
    {
     "name": "stderr",
     "output_type": "stream",
     "text": [
      "INFO:tensorflow:Assets written to: models/experiment_regression_test_12_71/fraction_3/n_epoch_300/2-7-3-12-0.3-1/fold_1\\assets\n"
     ]
    },
    {
     "name": "stdout",
     "output_type": "stream",
     "text": [
      "----------------------------------------------------------------------------\n",
      "RND STATE NUMBER = 32\n",
      "----------------------------------------------------------------------------\n",
      "-105.1841504525818\n",
      "14.338829963588298\n",
      "(406, 53, 86, 1)\n",
      "0.26108374384236455\n",
      "0.4014778325123153\n",
      "0.229064039408867\n",
      "0.10837438423645321\n",
      "339    1\n",
      "170    1\n",
      "70     2\n",
      "107    2\n",
      "113    2\n",
      "      ..\n",
      "380    1\n",
      "310    0\n",
      "389    0\n",
      "43     3\n",
      "215    1\n",
      "Name: occupants, Length: 406, dtype: int64\n",
      "-105.78430030465076\n",
      "13.991992468076804\n",
      "(72, 53, 86, 1)\n",
      "[0 0 3 1 1 0 0 0 1 2 1 0 1 3 1 2 3 3 0 3 1 3 0 1 2 2 1 1 0 2 0 1 3 1 1 3 1\n",
      " 0 0 1 1 1 2 1 2 1 1 1 1 1 0 0 2 3 1 2 0 0 1 2 3 0 1 1 2 1 2 1 2 0 1 1]\n",
      "------------------------------------------------------------------------\n",
      "Training regression model 2-7-3-12-0.3-1 with transfer learning\n",
      "dict_keys(['loss', 'mae', 'val_loss', 'val_mae'])\n",
      "3/3 [==============================] - 0s 4ms/step\n",
      "accuracy4 = 0.75\n",
      "accuracy3 = 0.8333333333333334\n"
     ]
    },
    {
     "name": "stderr",
     "output_type": "stream",
     "text": [
      "WARNING:absl:Found untraced functions such as _jit_compiled_convolution_op, _jit_compiled_convolution_op, _jit_compiled_convolution_op, _jit_compiled_convolution_op, _jit_compiled_convolution_op while saving (showing 5 of 6). These functions will not be directly callable after loading.\n"
     ]
    },
    {
     "name": "stdout",
     "output_type": "stream",
     "text": [
      "INFO:tensorflow:Assets written to: models/experiment_regression_test_12_71/fraction_3/n_epoch_300/2-7-3-12-0.3-1/fold_1\\assets\n"
     ]
    },
    {
     "name": "stderr",
     "output_type": "stream",
     "text": [
      "INFO:tensorflow:Assets written to: models/experiment_regression_test_12_71/fraction_3/n_epoch_300/2-7-3-12-0.3-1/fold_1\\assets\n"
     ]
    },
    {
     "name": "stdout",
     "output_type": "stream",
     "text": [
      "----------------------------------------------------------------------------\n",
      "RND STATE NUMBER = 33\n",
      "----------------------------------------------------------------------------\n",
      "-105.08819752461844\n",
      "14.25165461552857\n",
      "(406, 53, 86, 1)\n",
      "0.2512315270935961\n",
      "0.39901477832512317\n",
      "0.23645320197044334\n",
      "0.11330049261083744\n",
      "110    1\n",
      "258    0\n",
      "140    3\n",
      "297    0\n",
      "367    1\n",
      "      ..\n",
      "146    1\n",
      "66     3\n",
      "216    1\n",
      "391    1\n",
      "20     2\n",
      "Name: occupants, Length: 406, dtype: int64\n",
      "-106.32536820399952\n",
      "14.451159906923843\n",
      "(72, 53, 86, 1)\n",
      "[1 0 0 0 1 1 2 1 3 1 0 0 1 1 1 0 0 0 1 0 1 2 3 3 1 0 3 0 3 0 2 1 1 2 1 1 1\n",
      " 0 1 1 0 0 3 3 0 1 1 0 1 1 2 1 2 0 1 1 0 1 0 2 1 0 2 1 3 1 2 1 0 1 1 2]\n",
      "------------------------------------------------------------------------\n",
      "Training regression model 2-7-3-12-0.3-1 with transfer learning\n",
      "dict_keys(['loss', 'mae', 'val_loss', 'val_mae'])\n",
      "3/3 [==============================] - 0s 4ms/step\n",
      "accuracy4 = 0.7361111111111112\n",
      "accuracy3 = 0.8333333333333334\n"
     ]
    },
    {
     "name": "stderr",
     "output_type": "stream",
     "text": [
      "WARNING:absl:Found untraced functions such as _jit_compiled_convolution_op, _jit_compiled_convolution_op, _jit_compiled_convolution_op, _jit_compiled_convolution_op, _jit_compiled_convolution_op while saving (showing 5 of 6). These functions will not be directly callable after loading.\n"
     ]
    },
    {
     "name": "stdout",
     "output_type": "stream",
     "text": [
      "INFO:tensorflow:Assets written to: models/experiment_regression_test_12_71/fraction_3/n_epoch_300/2-7-3-12-0.3-1/fold_1\\assets\n"
     ]
    },
    {
     "name": "stderr",
     "output_type": "stream",
     "text": [
      "INFO:tensorflow:Assets written to: models/experiment_regression_test_12_71/fraction_3/n_epoch_300/2-7-3-12-0.3-1/fold_1\\assets\n"
     ]
    },
    {
     "name": "stdout",
     "output_type": "stream",
     "text": [
      "----------------------------------------------------------------------------\n",
      "RND STATE NUMBER = 34\n",
      "----------------------------------------------------------------------------\n",
      "-105.09668243269917\n",
      "14.334864216201066\n",
      "(406, 53, 86, 1)\n",
      "0.2660098522167488\n",
      "0.39655172413793105\n",
      "0.22660098522167488\n",
      "0.11083743842364532\n",
      "414    2\n",
      "401    1\n",
      "403    1\n",
      "159    1\n",
      "251    0\n",
      "      ..\n",
      "85     2\n",
      "246    2\n",
      "361    2\n",
      "122    1\n",
      "417    0\n",
      "Name: occupants, Length: 406, dtype: int64\n",
      "-106.27752275009954\n",
      "13.983513212826866\n",
      "(72, 53, 86, 1)\n",
      "[2 0 1 0 0 0 3 0 1 2 1 1 1 1 2 1 0 0 3 1 0 0 0 1 2 2 1 1 1 1 2 3 3 0 1 1 3\n",
      " 2 2 1 1 3 0 1 2 1 1 0 1 1 1 1 1 1 2 1 1 1 3 2 2 1 2 0 3 0 1 0 3 1 1 2]\n",
      "------------------------------------------------------------------------\n",
      "Training regression model 2-7-3-12-0.3-1 with transfer learning\n",
      "dict_keys(['loss', 'mae', 'val_loss', 'val_mae'])\n",
      "3/3 [==============================] - 0s 4ms/step\n",
      "accuracy4 = 0.7222222222222222\n",
      "accuracy3 = 0.8194444444444444\n"
     ]
    },
    {
     "name": "stderr",
     "output_type": "stream",
     "text": [
      "WARNING:absl:Found untraced functions such as _jit_compiled_convolution_op, _jit_compiled_convolution_op, _jit_compiled_convolution_op, _jit_compiled_convolution_op, _jit_compiled_convolution_op while saving (showing 5 of 6). These functions will not be directly callable after loading.\n"
     ]
    },
    {
     "name": "stdout",
     "output_type": "stream",
     "text": [
      "INFO:tensorflow:Assets written to: models/experiment_regression_test_12_71/fraction_3/n_epoch_300/2-7-3-12-0.3-1/fold_1\\assets\n"
     ]
    },
    {
     "name": "stderr",
     "output_type": "stream",
     "text": [
      "INFO:tensorflow:Assets written to: models/experiment_regression_test_12_71/fraction_3/n_epoch_300/2-7-3-12-0.3-1/fold_1\\assets\n"
     ]
    },
    {
     "name": "stdout",
     "output_type": "stream",
     "text": [
      "----------------------------------------------------------------------------\n",
      "RND STATE NUMBER = 35\n",
      "----------------------------------------------------------------------------\n",
      "-105.08830592040451\n",
      "14.345927257890233\n",
      "(406, 53, 86, 1)\n",
      "0.2561576354679803\n",
      "0.4064039408866995\n",
      "0.21921182266009853\n",
      "0.11822660098522167\n",
      "212    1\n",
      "10     2\n",
      "36     1\n",
      "127    2\n",
      "87     2\n",
      "      ..\n",
      "447    2\n",
      "33     2\n",
      "439    1\n",
      "271    1\n",
      "201    1\n",
      "Name: occupants, Length: 406, dtype: int64\n",
      "-106.32475697220586\n",
      "13.915288769636094\n",
      "(72, 53, 86, 1)\n",
      "[1 2 1 2 1 1 0 0 2 2 0 1 0 1 1 3 1 1 1 2 0 3 2 1 3 0 1 0 2 1 1 1 1 1 1 1 1\n",
      " 2 2 0 1 2 1 1 2 0 0 0 0 2 0 1 0 1 3 3 2 0 1 3 1 2 2 0 0 0 1 2 2 1 0 0]\n",
      "------------------------------------------------------------------------\n",
      "Training regression model 2-7-3-12-0.3-1 with transfer learning\n",
      "dict_keys(['loss', 'mae', 'val_loss', 'val_mae'])\n",
      "3/3 [==============================] - 0s 3ms/step\n",
      "accuracy4 = 0.75\n",
      "accuracy3 = 0.8333333333333334\n"
     ]
    },
    {
     "name": "stderr",
     "output_type": "stream",
     "text": [
      "WARNING:absl:Found untraced functions such as _jit_compiled_convolution_op, _jit_compiled_convolution_op, _jit_compiled_convolution_op, _jit_compiled_convolution_op, _jit_compiled_convolution_op while saving (showing 5 of 6). These functions will not be directly callable after loading.\n"
     ]
    },
    {
     "name": "stdout",
     "output_type": "stream",
     "text": [
      "INFO:tensorflow:Assets written to: models/experiment_regression_test_12_71/fraction_3/n_epoch_300/2-7-3-12-0.3-1/fold_1\\assets\n"
     ]
    },
    {
     "name": "stderr",
     "output_type": "stream",
     "text": [
      "INFO:tensorflow:Assets written to: models/experiment_regression_test_12_71/fraction_3/n_epoch_300/2-7-3-12-0.3-1/fold_1\\assets\n"
     ]
    },
    {
     "name": "stdout",
     "output_type": "stream",
     "text": [
      "----------------------------------------------------------------------------\n",
      "RND STATE NUMBER = 36\n",
      "----------------------------------------------------------------------------\n",
      "-105.31093204329933\n",
      "14.262385537597158\n",
      "(406, 53, 86, 1)\n",
      "0.2536945812807882\n",
      "0.42857142857142855\n",
      "0.21182266009852216\n",
      "0.10591133004926108\n",
      "209    0\n",
      "55     2\n",
      "379    0\n",
      "66     3\n",
      "178    2\n",
      "      ..\n",
      "161    0\n",
      "424    0\n",
      "414    2\n",
      "98     1\n",
      "133    3\n",
      "Name: occupants, Length: 406, dtype: int64\n",
      "-105.06939300143765\n",
      "14.434719017908012\n",
      "(72, 53, 86, 1)\n",
      "[1 1 0 1 2 2 2 0 2 2 0 1 0 0 1 3 3 2 2 2 1 0 3 3 2 1 0 2 1 1 3 3 1 1 2 1 0\n",
      " 1 1 0 2 0 1 0 0 0 2 0 3 1 3 0 1 0 1 3 0 0 2 2 1 0 1 0 0 3 2 2 2 2 2 3]\n",
      "------------------------------------------------------------------------\n",
      "Training regression model 2-7-3-12-0.3-1 with transfer learning\n",
      "dict_keys(['loss', 'mae', 'val_loss', 'val_mae'])\n",
      "3/3 [==============================] - 0s 3ms/step\n",
      "accuracy4 = 0.7222222222222222\n",
      "accuracy3 = 0.8333333333333334\n"
     ]
    },
    {
     "name": "stderr",
     "output_type": "stream",
     "text": [
      "WARNING:absl:Found untraced functions such as _jit_compiled_convolution_op, _jit_compiled_convolution_op, _jit_compiled_convolution_op, _jit_compiled_convolution_op, _jit_compiled_convolution_op while saving (showing 5 of 6). These functions will not be directly callable after loading.\n"
     ]
    },
    {
     "name": "stdout",
     "output_type": "stream",
     "text": [
      "INFO:tensorflow:Assets written to: models/experiment_regression_test_12_71/fraction_3/n_epoch_300/2-7-3-12-0.3-1/fold_1\\assets\n"
     ]
    },
    {
     "name": "stderr",
     "output_type": "stream",
     "text": [
      "INFO:tensorflow:Assets written to: models/experiment_regression_test_12_71/fraction_3/n_epoch_300/2-7-3-12-0.3-1/fold_1\\assets\n"
     ]
    },
    {
     "name": "stdout",
     "output_type": "stream",
     "text": [
      "----------------------------------------------------------------------------\n",
      "RND STATE NUMBER = 37\n",
      "----------------------------------------------------------------------------\n",
      "-105.18144500857873\n",
      "14.383091641949148\n",
      "(406, 53, 86, 1)\n",
      "0.2536945812807882\n",
      "0.4088669950738916\n",
      "0.21921182266009853\n",
      "0.11822660098522167\n",
      "257    2\n",
      "324    2\n",
      "272    1\n",
      "229    0\n",
      "237    2\n",
      "      ..\n",
      "437    2\n",
      "251    0\n",
      "332    1\n",
      "363    1\n",
      "399    1\n",
      "Name: occupants, Length: 406, dtype: int64\n",
      "-105.79955600277907\n",
      "13.732758592830137\n",
      "(72, 53, 86, 1)\n",
      "[2 1 1 1 2 0 1 1 1 1 1 1 0 3 2 2 1 0 0 2 0 0 1 1 2 2 0 0 1 0 1 1 1 1 1 3 2\n",
      " 1 2 2 2 0 0 0 3 2 1 2 3 3 0 1 2 3 0 0 2 0 1 0 0 2 1 2 1 1 1 1 0 0 0 1]\n",
      "------------------------------------------------------------------------\n",
      "Training regression model 2-7-3-12-0.3-1 with transfer learning\n",
      "dict_keys(['loss', 'mae', 'val_loss', 'val_mae'])\n",
      "3/3 [==============================] - 0s 4ms/step\n",
      "accuracy4 = 0.8194444444444444\n",
      "accuracy3 = 0.8888888888888888\n"
     ]
    },
    {
     "name": "stderr",
     "output_type": "stream",
     "text": [
      "WARNING:absl:Found untraced functions such as _jit_compiled_convolution_op, _jit_compiled_convolution_op, _jit_compiled_convolution_op, _jit_compiled_convolution_op, _jit_compiled_convolution_op while saving (showing 5 of 6). These functions will not be directly callable after loading.\n"
     ]
    },
    {
     "name": "stdout",
     "output_type": "stream",
     "text": [
      "INFO:tensorflow:Assets written to: models/experiment_regression_test_12_71/fraction_3/n_epoch_300/2-7-3-12-0.3-1/fold_1\\assets\n"
     ]
    },
    {
     "name": "stderr",
     "output_type": "stream",
     "text": [
      "INFO:tensorflow:Assets written to: models/experiment_regression_test_12_71/fraction_3/n_epoch_300/2-7-3-12-0.3-1/fold_1\\assets\n"
     ]
    },
    {
     "name": "stdout",
     "output_type": "stream",
     "text": [
      "----------------------------------------------------------------------------\n",
      "RND STATE NUMBER = 38\n",
      "----------------------------------------------------------------------------\n",
      "-105.28396895665342\n",
      "14.253697615178199\n",
      "(406, 53, 86, 1)\n",
      "0.2660098522167488\n",
      "0.39901477832512317\n",
      "0.22413793103448276\n",
      "0.11083743842364532\n",
      "47     2\n",
      "35     3\n",
      "334    1\n",
      "9      3\n",
      "178    2\n",
      "      ..\n",
      "316    1\n",
      "467    0\n",
      "53     1\n",
      "331    1\n",
      "417    0\n",
      "Name: occupants, Length: 406, dtype: int64\n",
      "-105.22143485113551\n",
      "14.484624759349025\n",
      "(72, 53, 86, 1)\n",
      "[3 1 2 1 3 0 1 1 1 3 0 1 2 0 2 2 1 2 2 1 0 1 3 1 1 1 1 3 1 2 2 1 1 1 1 1 2\n",
      " 1 1 3 1 1 1 0 3 1 1 1 0 0 3 0 2 0 0 0 3 0 2 2 1 0 2 1 0 2 1 2 1 1 0 0]\n",
      "------------------------------------------------------------------------\n",
      "Training regression model 2-7-3-12-0.3-1 with transfer learning\n",
      "dict_keys(['loss', 'mae', 'val_loss', 'val_mae'])\n",
      "3/3 [==============================] - 0s 4ms/step\n",
      "accuracy4 = 0.75\n",
      "accuracy3 = 0.8472222222222222\n"
     ]
    },
    {
     "name": "stderr",
     "output_type": "stream",
     "text": [
      "WARNING:absl:Found untraced functions such as _jit_compiled_convolution_op, _jit_compiled_convolution_op, _jit_compiled_convolution_op, _jit_compiled_convolution_op, _jit_compiled_convolution_op while saving (showing 5 of 6). These functions will not be directly callable after loading.\n"
     ]
    },
    {
     "name": "stdout",
     "output_type": "stream",
     "text": [
      "INFO:tensorflow:Assets written to: models/experiment_regression_test_12_71/fraction_3/n_epoch_300/2-7-3-12-0.3-1/fold_1\\assets\n"
     ]
    },
    {
     "name": "stderr",
     "output_type": "stream",
     "text": [
      "INFO:tensorflow:Assets written to: models/experiment_regression_test_12_71/fraction_3/n_epoch_300/2-7-3-12-0.3-1/fold_1\\assets\n"
     ]
    },
    {
     "name": "stdout",
     "output_type": "stream",
     "text": [
      "----------------------------------------------------------------------------\n",
      "RND STATE NUMBER = 39\n",
      "----------------------------------------------------------------------------\n",
      "-105.61050803857393\n",
      "14.160289104620443\n",
      "(406, 53, 86, 1)\n",
      "0.2536945812807882\n",
      "0.41625615763546797\n",
      "0.21674876847290642\n",
      "0.11330049261083744\n",
      "3      1\n",
      "228    1\n",
      "389    0\n",
      "449    1\n",
      "347    2\n",
      "      ..\n",
      "404    0\n",
      "64     3\n",
      "41     2\n",
      "105    2\n",
      "393    0\n",
      "Name: occupants, Length: 406, dtype: int64\n",
      "-103.38011725030628\n",
      "14.850877838448387\n",
      "(72, 53, 86, 1)\n",
      "[1 1 2 0 1 1 3 2 1 0 2 1 2 3 1 2 1 0 1 3 3 2 1 0 0 1 0 2 1 0 1 1 2 2 1 0 0\n",
      " 1 0 0 2 0 1 0 1 2 3 0 3 0 2 3 1 3 0 2 1 1 1 1 2 0 0 2 1 2 0 1 0 0 2 2]\n",
      "------------------------------------------------------------------------\n",
      "Training regression model 2-7-3-12-0.3-1 with transfer learning\n",
      "dict_keys(['loss', 'mae', 'val_loss', 'val_mae'])\n",
      "3/3 [==============================] - 0s 4ms/step\n",
      "accuracy4 = 0.6527777777777778\n",
      "accuracy3 = 0.7222222222222222\n"
     ]
    },
    {
     "name": "stderr",
     "output_type": "stream",
     "text": [
      "WARNING:absl:Found untraced functions such as _jit_compiled_convolution_op, _jit_compiled_convolution_op, _jit_compiled_convolution_op, _jit_compiled_convolution_op, _jit_compiled_convolution_op while saving (showing 5 of 6). These functions will not be directly callable after loading.\n"
     ]
    },
    {
     "name": "stdout",
     "output_type": "stream",
     "text": [
      "INFO:tensorflow:Assets written to: models/experiment_regression_test_12_71/fraction_3/n_epoch_300/2-7-3-12-0.3-1/fold_1\\assets\n"
     ]
    },
    {
     "name": "stderr",
     "output_type": "stream",
     "text": [
      "INFO:tensorflow:Assets written to: models/experiment_regression_test_12_71/fraction_3/n_epoch_300/2-7-3-12-0.3-1/fold_1\\assets\n"
     ]
    }
   ],
   "source": [
    "train_random_states(40)"
   ]
  },
  {
   "cell_type": "markdown",
   "metadata": {},
   "source": [
    "## Results are saved on a .json file"
   ]
  }
 ],
 "metadata": {
  "kernelspec": {
   "display_name": "Python 3 (ipykernel)",
   "language": "python",
   "name": "python3"
  },
  "language_info": {
   "codemirror_mode": {
    "name": "ipython",
    "version": 3
   },
   "file_extension": ".py",
   "mimetype": "text/x-python",
   "name": "python",
   "nbconvert_exporter": "python",
   "pygments_lexer": "ipython3",
   "version": "3.9.5"
  }
 },
 "nbformat": 4,
 "nbformat_minor": 4
}
