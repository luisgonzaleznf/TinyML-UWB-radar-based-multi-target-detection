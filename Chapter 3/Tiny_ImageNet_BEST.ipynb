{
 "cells": [
  {
   "cell_type": "code",
   "execution_count": 1,
   "metadata": {},
   "outputs": [],
   "source": [
    "import numpy as np\n",
    "import pandas as pd\n",
    "import tensorflow as tf\n",
    "\n",
    "import os\n",
    "import json\n",
    "import ast\n",
    "import scipy\n",
    "\n",
    "import matplotlib.pyplot as plt\n",
    "import matplotlib\n",
    "import seaborn as sns\n",
    "\n",
    "from sklearn.model_selection import LeaveOneOut\n",
    "from sklearn.model_selection import KFold\n",
    "\n",
    "import math\n",
    "\n",
    "gpus = tf.config.experimental.list_physical_devices('GPU')\n",
    "for gpu in gpus:\n",
    "    tf.config.experimental.set_memory_growth(gpu, True)\n",
    "\n",
    "cwd = os.getcwd()"
   ]
  },
  {
   "cell_type": "code",
   "execution_count": 2,
   "metadata": {},
   "outputs": [],
   "source": [
    "from keras.models import Sequential\n",
    "from keras.layers import Conv2D, MaxPooling2D, Dense, Flatten, Dropout\n",
    "from keras.preprocessing.image import ImageDataGenerator"
   ]
  },
  {
   "cell_type": "markdown",
   "metadata": {},
   "source": [
    "## Dataframe loading"
   ]
  },
  {
   "cell_type": "code",
   "execution_count": 3,
   "metadata": {},
   "outputs": [
    {
     "name": "stdout",
     "output_type": "stream",
     "text": [
      "Found 3000 images belonging to 3 classes.\n",
      "Found 300 images belonging to 3 classes.\n"
     ]
    }
   ],
   "source": [
    "from keras.preprocessing.image import ImageDataGenerator\n",
    "# create generator\n",
    "datagen = ImageDataGenerator()\n",
    "# prepare an iterators for each dataset\n",
    "train_it = datagen.flow_from_directory('TinyImageNet/train', class_mode='sparse',shuffle=False,batch_size=32,target_size=(64, 64))\n",
    "val_it = datagen.flow_from_directory('TinyImageNet/val', class_mode='sparse',shuffle=False,batch_size=32,target_size=(64, 64))"
   ]
  },
  {
   "cell_type": "code",
   "execution_count": 4,
   "metadata": {},
   "outputs": [
    {
     "data": {
      "text/plain": [
       "300"
      ]
     },
     "execution_count": 4,
     "metadata": {},
     "output_type": "execute_result"
    }
   ],
   "source": [
    "val_it.n"
   ]
  },
  {
   "cell_type": "code",
   "execution_count": 5,
   "metadata": {},
   "outputs": [
    {
     "data": {
      "image/png": "[encoded data removed]",
      "text/plain": [
       "<Figure size 432x288 with 1 Axes>"
      ]
     },
     "metadata": {
      "needs_background": "light"
     },
     "output_type": "display_data"
    }
   ],
   "source": [
    "# PRINT IMAGE FROM THE DATASET\n",
    "from matplotlib import pyplot\n",
    "# load image as pixel array\n",
    "image = tf.keras.utils.array_to_img(train_it[44][0][2])\n",
    "# display the array of pixels as an image\n",
    "pyplot.imshow(image)\n",
    "pyplot.show()"
   ]
  },
  {
   "cell_type": "code",
   "execution_count": 6,
   "metadata": {},
   "outputs": [],
   "source": [
    "img_h, img_w = 64, 64\n",
    "num_classes = 3"
   ]
  },
  {
   "cell_type": "markdown",
   "metadata": {},
   "source": [
    "## Defining network architecture"
   ]
  },
  {
   "cell_type": "code",
   "execution_count": 7,
   "metadata": {},
   "outputs": [],
   "source": [
    "# Helper function to run inference on a TFLite model\n",
    "def run_tflite_model(tflite_file, inputs, targets, test_image_indices):\n",
    "\n",
    "  # Initialize the interpreter\n",
    "    interpreter = tf.lite.Interpreter(model_path=str(tflite_file))\n",
    "    interpreter.allocate_tensors()\n",
    "\n",
    "    input_details = interpreter.get_input_details()[0]\n",
    "    output_details = interpreter.get_output_details()[0]\n",
    "\n",
    "    predictions = np.zeros((len(test_image_indices),), dtype=int)\n",
    "    for i, test_image_index in enumerate(test_image_indices):\n",
    "        #print(test_image_index)\n",
    "        test_image = inputs[test_image_index]\n",
    "        test_label = targets[test_image_index]\n",
    "\n",
    "        # Check if the input type is quantized, then rescale input data to uint8\n",
    "        #print(input_details['dtype'])\n",
    "        if input_details['dtype'] == np.int8:\n",
    "            #print(\"correct\")\n",
    "            input_scale, input_zero_point = input_details[\"quantization\"]\n",
    "            test_image = test_image / input_scale + input_zero_point\n",
    "\n",
    "        test_image = np.expand_dims(test_image, axis=0).astype(input_details[\"dtype\"])\n",
    "        interpreter.set_tensor(input_details[\"index\"], test_image)\n",
    "        interpreter.invoke()\n",
    "        output = interpreter.get_tensor(output_details[\"index\"])[0]\n",
    "        #print(output)\n",
    "        predictions[i] = output.argmax()\n",
    "\n",
    "    return predictions"
   ]
  },
  {
   "cell_type": "code",
   "execution_count": 8,
   "metadata": {},
   "outputs": [],
   "source": [
    "def train_network(MP_dim2, conv_kernel_w2, conv_kernel_h2, conv_block2, drop_out_rate2, start_f2, regularizer, inputs, targets, dilation_rate, fraction, average_pooling):\n",
    "    # Generate a print\n",
    "    print('------------------------------------------------------------------------')\n",
    "    print(f'Training model with MP {MP_dim2}, conv kernel{[conv_kernel_w2, conv_kernel_h2]}, {conv_block2} blocks, {start_f2} filters, average pooling layer {average_pooling}, {drop_out_rate2} do...')\n",
    "    experiment = \"Tiny_ImageNet_test_4\"\n",
    "    \n",
    "    #fold_no = 1\n",
    "    \n",
    "    #--------------------------------STATIC PARAMETERS------------------------------------------\n",
    "    # Define the K-fold Cross Validator\n",
    "    #kfold = KFold(n_splits=10, shuffle=True)\n",
    "    #loo = LeaveOneOut()\n",
    "    \n",
    "    \n",
    "    # Optimization params\n",
    "    # -------------------\n",
    "\n",
    "    # Loss\n",
    "    loss = tf.keras.losses.SparseCategoricalCrossentropy()\n",
    "\n",
    "    # learning rate\n",
    "    lr = 0.3e-4\n",
    "    \n",
    "    optimizer = tf.keras.optimizers.Adam(learning_rate=lr)\n",
    "    # -------------------\n",
    "\n",
    "    # Validation metrics\n",
    "    # ------------------\n",
    "\n",
    "    metrics = ['accuracy']\n",
    "\n",
    "    batch_size = 32\n",
    "    \n",
    "    n_epoch = 400\n",
    "    \n",
    "    \n",
    "    #------------------------------------CALLBACKS----------------------------------------\n",
    "    callbacks = []\n",
    "    \n",
    "    # Early Stopping\n",
    "    # --------------\n",
    "    early_stop = False\n",
    "    if early_stop:\n",
    "        es_callback = tf.keras.callbacks.EarlyStopping(monitor='val_loss', patience=100, restore_best_weights=False,)\n",
    "        callbacks.append(es_callback)\n",
    "    \n",
    "    # ----------------------------------CROSSVALIDATION----------------------------------- \n",
    "    # Define the model architecture\n",
    "    print(f'{MP_dim2}, {[conv_kernel_w2, conv_kernel_h2]}, {conv_block2}, {start_f2}, {drop_out_rate2}...')\n",
    "    model = tf.keras.Sequential()\n",
    "\n",
    "    input_shape = [img_h, img_w, 3]\n",
    "\n",
    "    model.add(tf.keras.layers.MaxPool2D(pool_size=(MP_dim2, MP_dim2), input_shape=input_shape))\n",
    "\n",
    "    n_filters = start_f2\n",
    "\n",
    "    for i in range(conv_block2):\n",
    "        # Conv block: Conv2D -> Conv2D -> Activation -> Pooling\n",
    "        model.add(tf.keras.layers.Conv2D(filters=n_filters, \n",
    "                                         kernel_size=(conv_kernel_w2, conv_kernel_h2),\n",
    "                                         strides=(1, 1),\n",
    "                                         dilation_rate = dilation_rate,\n",
    "                                         padding='same'))\n",
    "        model.add(tf.keras.layers.Conv2D(filters=n_filters, \n",
    "                                         kernel_size=(conv_kernel_h2, conv_kernel_w2),\n",
    "                                         strides=(1, 1),\n",
    "                                         dilation_rate = dilation_rate,\n",
    "                                         padding='same',\n",
    "                                         activation = 'relu'))  \n",
    "        model.add(tf.keras.layers.MaxPool2D(pool_size=(2, 2)))\n",
    "\n",
    "    # AVERAGE POOLING\n",
    "    if average_pooling:\n",
    "        sizew = math.floor(64/4)\n",
    "        sizeh = math.floor(64/4)\n",
    "        for i in range (1, conv_block2):\n",
    "            sizew = math.floor(sizew/2)\n",
    "            sizeh = math.floor(sizeh/2)\n",
    "        model.add(tf.keras.layers.AveragePooling2D(pool_size=(sizew, sizeh)))\n",
    "\n",
    "\n",
    "    # Classifier\n",
    "\n",
    "    model.add(tf.keras.layers.Flatten())\n",
    "    model.add(tf.keras.layers.Dropout(drop_out_rate2))\n",
    "    model.add(tf.keras.layers.Dense(units=num_classes, activation='softmax', kernel_regularizer=regularizer))\n",
    "\n",
    "    # Compile the model\n",
    "    model.compile(loss=loss,\n",
    "                optimizer=optimizer,\n",
    "                metrics=['accuracy'])\n",
    "    # Fit data to model\n",
    "    #class_weights={0: balancing0, 1: balancing1, 2: balancing2}\n",
    "    history = model.fit(inputs,\n",
    "                batch_size=batch_size,\n",
    "                epochs=n_epoch,\n",
    "                validation_data=(val_it),\n",
    "                steps_per_epoch = inputs.n//inputs.batch_size,\n",
    "                validation_steps = val_it.n//val_it.batch_size,\n",
    "                callbacks = callbacks,\n",
    "                verbose=True\n",
    "                )\n",
    "    \n",
    "    accuracy = history.history['val_accuracy']\n",
    "    loss = history.history['val_loss']\n",
    "    train_accuracy = history.history['accuracy']\n",
    "\n",
    "    #-------------------------------SAVE MODEL-----------------------------------------\n",
    "\n",
    "    MODELS_DIR = f'models/experiment_{experiment}/fraction_{fraction}/n_epoch_{n_epoch}/{MP_dim2}-{conv_kernel_w2}-{conv_kernel_h2}-{conv_block2}-{start_f2}-{drop_out_rate2}-{dilation_rate}--{average_pooling}/'\n",
    "    try:\n",
    "        if not os.path.exists(MODELS_DIR):\n",
    "            os.makedirs(MODELS_DIR)\n",
    "    except e:\n",
    "        if e.errno != errno.EEXIST:\n",
    "            raise   \n",
    "        # time.sleep might help here\n",
    "        pass\n",
    "\n",
    "    MODEL_TF = MODELS_DIR\n",
    "    model.save(MODEL_TF)\n",
    "    # Increase fold number\n",
    "\n",
    "\n",
    "        #--------------------------QUANTIZE THE MODEL ----------------------------------\n",
    "\n",
    "    #print(f\"accuracy: {np.array(acc_per_fold)[:, -1]}\")\n",
    "    #print(train_acc_per_fold_quant)\"\"\"\n",
    "        \n",
    "    print(model.summary())\n",
    "    \n",
    "    #---------------------------SAVE RESULTS TO JSON---------------------------------------\n",
    "    row = {'MaxPoolDim' : MP_dim2, \n",
    "           'conv_kernel_dim' : [conv_kernel_w2, conv_kernel_h2], \n",
    "           'n_conv' : conv_block2, \n",
    "           'n_filters' : start_f2, \n",
    "           'dropout' : drop_out_rate2, \n",
    "           'n_epochs' : n_epoch,\n",
    "           'dilation_rate' : dilation_rate,\n",
    "           'average_pooling' : average_pooling,\n",
    "           'train_accuracy' : accuracy,\n",
    "           'valid_accuracy' : accuracy\n",
    "          }\n",
    "    JSON_DIR = f'json_child/experiment_{experiment}/fraction_{fraction}/n_epoch_{n_epoch}'\n",
    "    if not os.path.exists(JSON_DIR):\n",
    "        os.makedirs(JSON_DIR)\n",
    "    try:\n",
    "        with open(f'{JSON_DIR}/{MP_dim2}-{conv_kernel_w2}-{conv_kernel_h2}-{conv_block2}-{start_f2}-{drop_out_rate2}-{dilation_rate}--{average_pooling}.json', 'w') as f:\n",
    "            json.dump(row, f)\n",
    "    except Exception as e:\n",
    "        print(e)\n",
    "        \n",
    "    \n",
    "    #--------------------------PLOT ACCURACIES CURVES ------------------------------\n",
    "    plt.clf()\n",
    "    plt.plot(np.mean(train_accuracy, axis=0))\n",
    "    plt.plot(np.mean(accuracy, axis=0))\n",
    "    plt.savefig(f'{JSON_DIR}/{MP_dim2}-{conv_kernel_w2}-{conv_kernel_h2}-{conv_block2}-{start_f2}-{drop_out_rate2}-{dilation_rate}--{average_pooling}.png')\n",
    "    plt.close()\n",
    "    \n",
    "    \n",
    "    return 1"
   ]
  },
  {
   "cell_type": "markdown",
   "metadata": {},
   "source": [
    "## Perform grid search"
   ]
  },
  {
   "cell_type": "code",
   "execution_count": 9,
   "metadata": {},
   "outputs": [
    {
     "name": "stdout",
     "output_type": "stream",
     "text": [
      "24 will be trained\n"
     ]
    }
   ],
   "source": [
    "train = train_it\n",
    "validation = val_it\n",
    "#targets = train_label\n",
    "\n",
    "#-----------------------------------GRID SEARCH PARAMETERS ---------------------------\n",
    "\n",
    "#firts MaxPool dimension, to reduce the input size.\n",
    "MP_dims = [2]\n",
    "\n",
    "#kernel dimension of filters. \n",
    "conv_kernels = [[3, 3],[5,5]]\n",
    "\n",
    "#number of convolution blocks\n",
    "conv_blocks = [1, 2, 3, 4] #TRY 2 AND 3\n",
    "\n",
    "#Dropout rate\n",
    "drop_out_rates = [0.3]\n",
    "\n",
    "#number of filters in each convolutional layer\n",
    "start_fs =  [12, 16, 20]\n",
    "\n",
    "#regularizers to use in the network\n",
    "regularizers = [None]#, regularizers.l2(1e-4), regularizers.l2(1e-5), regularizers.l2(1e-3)]\n",
    "\n",
    "#dilation rates of the convolutional layers\n",
    "dilation_rates = [1]\n",
    "\n",
    "#include average pooling layer\n",
    "average_pooling = [False] #True, False like [True, False]\n",
    "\n",
    "n_models = len(MP_dims) * len(conv_kernels) * len(conv_blocks) * len(start_fs) * len(drop_out_rates) * len(dilation_rates) * len(average_pooling)\n",
    "\n",
    "print(f\"{n_models} will be trained\")"
   ]
  },
  {
   "cell_type": "code",
   "execution_count": null,
   "metadata": {},
   "outputs": [],
   "source": [
    "fraction=3\n",
    "\n",
    "def train_one(arg):\n",
    "    train_network(arg[0], arg[1], arg[2],arg[3],arg[4], arg[5], arg[6], arg[7], arg[8], arg[9], arg[10], arg[11])\n",
    "\n",
    "def train_all(args):\n",
    "    execution = 0;\n",
    "    for elem in args:\n",
    "        execution +=1\n",
    "        print(f\"Execution nº {execution}\")\n",
    "        train_one(elem)\n",
    "    return 0\n",
    "\n",
    "\n",
    "if __name__ == \"__main__\":\n",
    "    args = []\n",
    "    for MP_dim in MP_dims:\n",
    "        for conv_kernel in conv_kernels:\n",
    "            for conv_block in conv_blocks:\n",
    "                for drop_out_rate in drop_out_rates:\n",
    "                    for start_f in start_fs:\n",
    "                        for regularizer in regularizers:\n",
    "                            for dilation_rate in dilation_rates:\n",
    "                                for avg_pooling in average_pooling:\n",
    "                                    args.append([MP_dim, conv_kernel[0], conv_kernel[1], conv_block, drop_out_rate, start_f, regularizer, train, validation, dilation_rate, fraction, avg_pooling])\n",
    "\n",
    "    results = train_all(args)"
   ]
  },
  {
   "cell_type": "markdown",
   "metadata": {},
   "source": [
    "## Results are saved on a .json file"
   ]
  }
 ],
 "metadata": {
  "kernelspec": {
   "display_name": "Python 3 (ipykernel)",
   "language": "python",
   "name": "python3"
  },
  "language_info": {
   "codemirror_mode": {
    "name": "ipython",
    "version": 3
   },
   "file_extension": ".py",
   "mimetype": "text/x-python",
   "name": "python",
   "nbconvert_exporter": "python",
   "pygments_lexer": "ipython3",
   "version": "3.9.5"
  }
 },
 "nbformat": 4,
 "nbformat_minor": 4
}
